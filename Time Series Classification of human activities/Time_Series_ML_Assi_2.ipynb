{
 "cells": [
  {
   "cell_type": "code",
   "execution_count": 1,
   "metadata": {},
   "outputs": [
    {
     "name": "stderr",
     "output_type": "stream",
     "text": [
      "c:\\python27\\lib\\site-packages\\statsmodels\\compat\\pandas.py:56: FutureWarning: The pandas.core.datetools module is deprecated and will be removed in a future version. Please use the pandas.tseries module instead.\n",
      "  from pandas.core import datetools\n",
      "c:\\python27\\lib\\site-packages\\sklearn\\cross_validation.py:41: DeprecationWarning: This module was deprecated in version 0.18 in favor of the model_selection module into which all the refactored classes and functions are moved. Also note that the interface of the new CV iterators are different from that of this module. This module will be removed in 0.20.\n",
      "  \"This module will be removed in 0.20.\", DeprecationWarning)\n",
      "c:\\python27\\lib\\site-packages\\ggplot\\utils.py:81: FutureWarning: pandas.tslib is deprecated and will be removed in a future version.\n",
      "You can access Timestamp as pandas.Timestamp\n",
      "  pd.tslib.Timestamp,\n",
      "c:\\python27\\lib\\site-packages\\ggplot\\stats\\smoothers.py:4: FutureWarning: The pandas.lib module is deprecated and will be removed in a future version. These are private functions and can be accessed from pandas._libs.lib instead\n",
      "  from pandas.lib import Timestamp\n"
     ]
    }
   ],
   "source": [
    "import pandas as pd\n",
    "import numpy as np\n",
    "import matplotlib.pylab as plt\n",
    "import scipy  \n",
    "import scikits.bootstrap as bootstrap\n",
    "import statsmodels.stats.api as sms\n",
    "from sklearn import preprocessing\n",
    "from sklearn.linear_model import LogisticRegression\n",
    "from sklearn.cross_validation import train_test_split\n",
    "from sklearn.metrics import roc_auc_score\n",
    "from sklearn.metrics import roc_curve\n",
    "from sklearn import metrics\n",
    "import pandas as pd\n",
    "from ggplot import *\n",
    "from scipy import stats\n",
    "import statsmodels.api as sm\n",
    "from sklearn import model_selection\n",
    "from sklearn.model_selection import cross_val_score\n",
    "from sklearn.utils import shuffle\n",
    "\n",
    "\n",
    "%matplotlib inline\n",
    "from matplotlib.pylab import rcParams\n",
    "rcParams['figure.figsize'] = 15, 6"
   ]
  },
  {
   "cell_type": "code",
   "execution_count": 2,
   "metadata": {},
   "outputs": [],
   "source": [
    "data_bend1_test1 = pd.read_csv('G:/MASTERS-Prashanth/1ST SEM/ML/homework_2/AReM/bending1/test_data/dataset1.csv',skiprows=4,error_bad_lines=False)\n",
    "data_bend1_test2 = pd.read_csv('G:/MASTERS-Prashanth/1ST SEM/ML/homework_2/AReM/bending1/test_data/dataset2.csv',skiprows=4,error_bad_lines=False)\n",
    "\n",
    "data_bend2_test1 = pd.read_csv('G:/MASTERS-Prashanth/1ST SEM/ML/homework_2/AReM/bending2/test_data/dataset1.csv',skiprows=4,error_bad_lines=False)\n",
    "data_bend2_test2 = pd.read_csv('G:/MASTERS-Prashanth/1ST SEM/ML/homework_2/AReM/bending2/test_data/dataset2.csv',skiprows=4,error_bad_lines=False)\n",
    "\n",
    "data_cycling_test1 = pd.read_csv('G:/MASTERS-Prashanth/1ST SEM/ML/homework_2/AReM/cycling/test_data/dataset1.csv',skiprows=4,error_bad_lines=False)\n",
    "data_cycling_test2 = pd.read_csv('G:/MASTERS-Prashanth/1ST SEM/ML/homework_2/AReM/cycling/test_data/dataset2.csv',skiprows=4,error_bad_lines=False)\n",
    "data_cycling_test3 = pd.read_csv('G:/MASTERS-Prashanth/1ST SEM/ML/homework_2/AReM/cycling/test_data/dataset3.csv',skiprows=4,error_bad_lines=False)\n",
    "\n",
    "data_lying_test1 = pd.read_csv('G:/MASTERS-Prashanth/1ST SEM/ML/homework_2/AReM/lying/test_data/dataset1.csv',skiprows=4,error_bad_lines=False)\n",
    "data_lying_test2 = pd.read_csv('G:/MASTERS-Prashanth/1ST SEM/ML/homework_2/AReM/lying/test_data/dataset2.csv',skiprows=4,error_bad_lines=False)\n",
    "data_lying_test3 = pd.read_csv('G:/MASTERS-Prashanth/1ST SEM/ML/homework_2/AReM/lying/test_data/dataset3.csv',skiprows=4,error_bad_lines=False)\n",
    "\n",
    "data_sitting_test1 = pd.read_csv('G:/MASTERS-Prashanth/1ST SEM/ML/homework_2/AReM/sitting/test_data/dataset1.csv',skiprows=4,error_bad_lines=False)\n",
    "data_sitting_test2 = pd.read_csv('G:/MASTERS-Prashanth/1ST SEM/ML/homework_2/AReM/sitting/test_data/dataset2.csv',skiprows=4,error_bad_lines=False)\n",
    "data_sitting_test3 = pd.read_csv('G:/MASTERS-Prashanth/1ST SEM/ML/homework_2/AReM/sitting/test_data/dataset3.csv',skiprows=4,error_bad_lines=False)\n",
    "\n",
    "data_standing_test1 = pd.read_csv('G:/MASTERS-Prashanth/1ST SEM/ML/homework_2/AReM/standing/test_data/dataset1.csv',skiprows=4,error_bad_lines=False)\n",
    "data_standing_test2 = pd.read_csv('G:/MASTERS-Prashanth/1ST SEM/ML/homework_2/AReM/standing/test_data/dataset2.csv',skiprows=4,error_bad_lines=False)\n",
    "data_standing_test3 = pd.read_csv('G:/MASTERS-Prashanth/1ST SEM/ML/homework_2/AReM/standing/test_data/dataset3.csv',skiprows=4,error_bad_lines=False)\n",
    "\n",
    "data_walking_test1 = pd.read_csv('G:/MASTERS-Prashanth/1ST SEM/ML/homework_2/AReM/walking/test_data/dataset1.csv',skiprows=4,error_bad_lines=False)\n",
    "data_walking_test2 = pd.read_csv('G:/MASTERS-Prashanth/1ST SEM/ML/homework_2/AReM/walking/test_data/dataset2.csv',skiprows=4,error_bad_lines=False)\n",
    "data_walking_test3 = pd.read_csv('G:/MASTERS-Prashanth/1ST SEM/ML/homework_2/AReM/walking/test_data/dataset3.csv',skiprows=4,error_bad_lines=False)\n"
   ]
  },
  {
   "cell_type": "code",
   "execution_count": 3,
   "metadata": {},
   "outputs": [],
   "source": [
    "data_bend1_train1 = pd.read_csv('G:/MASTERS-Prashanth/1ST SEM/ML/homework_2/AReM/bending1/train_data/dataset3.csv',skiprows=4,error_bad_lines=False)\n",
    "data_bend1_train2 = pd.read_csv('G:/MASTERS-Prashanth/1ST SEM/ML/homework_2/AReM/bending1/train_data/dataset4.csv',skiprows=4,error_bad_lines=False)\n",
    "data_bend1_train3 = pd.read_csv('G:/MASTERS-Prashanth/1ST SEM/ML/homework_2/AReM/bending1/train_data/dataset5.csv',skiprows=4,error_bad_lines=False)\n",
    "data_bend1_train4 = pd.read_csv('G:/MASTERS-Prashanth/1ST SEM/ML/homework_2/AReM/bending1/train_data/dataset6.csv',skiprows=4,error_bad_lines=False)\n",
    "data_bend1_train5 = pd.read_csv('G:/MASTERS-Prashanth/1ST SEM/ML/homework_2/AReM/bending1/train_data/dataset7.csv',skiprows=4,error_bad_lines=False)\n",
    "\n",
    "\n",
    "data_bend2_train6 = pd.read_csv('G:/MASTERS-Prashanth/1ST SEM/ML/homework_2/AReM/bending2/train_data/dataset3.csv',skiprows=4,error_bad_lines=False)\n",
    "data_bend2_train7 = pd.read_csv('G:/MASTERS-Prashanth/1ST SEM/ML/homework_2/AReM/bending2/train_data/dataset4.csv',skiprows=4,error_bad_lines=False)\n",
    "data_bend2_train8 = pd.read_csv('G:/MASTERS-Prashanth/1ST SEM/ML/homework_2/AReM/bending2/train_data/dataset5.csv',skiprows=4,error_bad_lines=False)\n",
    "data_bend2_train9 = pd.read_csv('G:/MASTERS-Prashanth/1ST SEM/ML/homework_2/AReM/bending2/train_data/dataset6.csv',skiprows=4,error_bad_lines=False)\n",
    "\n"
   ]
  },
  {
   "cell_type": "code",
   "execution_count": 4,
   "metadata": {},
   "outputs": [
    {
     "name": "stderr",
     "output_type": "stream",
     "text": [
      "Skipping line 485: expected 7 fields, saw 8\n",
      "\n",
      "Skipping line 485: expected 7 fields, saw 8\n",
      "\n"
     ]
    }
   ],
   "source": [
    "data_cycling_train10 = pd.read_csv('G:/MASTERS-Prashanth/1ST SEM/ML/homework_2/AReM/cycling/train_data/dataset4.csv',skiprows=4,error_bad_lines=False)\n",
    "data_cycling_train11 = pd.read_csv('G:/MASTERS-Prashanth/1ST SEM/ML/homework_2/AReM/cycling/train_data/dataset5.csv',skiprows=4,error_bad_lines=False)\n",
    "data_cycling_train12 = pd.read_csv('G:/MASTERS-Prashanth/1ST SEM/ML/homework_2/AReM/cycling/train_data/dataset6.csv',skiprows=4,error_bad_lines=False)\n",
    "data_cycling_train15 = pd.read_csv('G:/MASTERS-Prashanth/1ST SEM/ML/homework_2/AReM/cycling/train_data/dataset9.csv',skiprows=4,error_bad_lines=False)\n",
    "\n",
    "data_cycling_train13 = pd.read_csv('G:/MASTERS-Prashanth/1ST SEM/ML/homework_2/AReM/cycling/train_data/dataset7.csv',skiprows=4,error_bad_lines=False)\n",
    "data_cycling_train14 = pd.read_csv('G:/MASTERS-Prashanth/1ST SEM/ML/homework_2/AReM/cycling/train_data/dataset8.csv',skiprows=4,error_bad_lines=False)\n",
    "\n",
    "data_cycling_train16 = pd.read_csv('G:/MASTERS-Prashanth/1ST SEM/ML/homework_2/AReM/cycling/train_data/dataset10.csv',skiprows=4,error_bad_lines=False)\n",
    "data_cycling_train17 = pd.read_csv('G:/MASTERS-Prashanth/1ST SEM/ML/homework_2/AReM/cycling/train_data/dataset11.csv',skiprows=4,error_bad_lines=False)\n",
    "data_cycling_train18 = pd.read_csv('G:/MASTERS-Prashanth/1ST SEM/ML/homework_2/AReM/cycling/train_data/dataset12.csv',skiprows=4,error_bad_lines=False)\n",
    "data_cycling_train19 = pd.read_csv('G:/MASTERS-Prashanth/1ST SEM/ML/homework_2/AReM/cycling/train_data/dataset13.csv',skiprows=4,error_bad_lines=False)\n",
    "data_cycling_train20 = pd.read_csv('G:/MASTERS-Prashanth/1ST SEM/ML/homework_2/AReM/cycling/train_data/dataset14.csv',skiprows=4,error_bad_lines=False)\n",
    "data_cycling_train21 = pd.read_csv('G:/MASTERS-Prashanth/1ST SEM/ML/homework_2/AReM/cycling/train_data/dataset15.csv',skiprows=4,error_bad_lines=False)"
   ]
  },
  {
   "cell_type": "code",
   "execution_count": 5,
   "metadata": {},
   "outputs": [],
   "source": [
    "data_lying_train22 = pd.read_csv('G:/MASTERS-Prashanth/1ST SEM/ML/homework_2/AReM/lying/train_data/dataset4.csv',skiprows=4,error_bad_lines=False)\n",
    "data_lying_train23 = pd.read_csv('G:/MASTERS-Prashanth/1ST SEM/ML/homework_2/AReM/lying/train_data/dataset5.csv',skiprows=4,error_bad_lines=False)\n",
    "data_lying_train24 = pd.read_csv('G:/MASTERS-Prashanth/1ST SEM/ML/homework_2/AReM/lying/train_data/dataset6.csv',skiprows=4,error_bad_lines=False)\n",
    "data_lying_train25 = pd.read_csv('G:/MASTERS-Prashanth/1ST SEM/ML/homework_2/AReM/lying/train_data/dataset7.csv',skiprows=4,error_bad_lines=False)\n",
    "data_lying_train26 = pd.read_csv('G:/MASTERS-Prashanth/1ST SEM/ML/homework_2/AReM/lying/train_data/dataset8.csv',skiprows=4,error_bad_lines=False)\n",
    "data_lying_train27 = pd.read_csv('G:/MASTERS-Prashanth/1ST SEM/ML/homework_2/AReM/lying/train_data/dataset9.csv',skiprows=4,error_bad_lines=False)\n",
    "data_lying_train28 = pd.read_csv('G:/MASTERS-Prashanth/1ST SEM/ML/homework_2/AReM/lying/train_data/dataset10.csv',skiprows=4,error_bad_lines=False)\n",
    "data_lying_train29 = pd.read_csv('G:/MASTERS-Prashanth/1ST SEM/ML/homework_2/AReM/lying/train_data/dataset11.csv',skiprows=4,error_bad_lines=False)\n",
    "data_lying_train30 = pd.read_csv('G:/MASTERS-Prashanth/1ST SEM/ML/homework_2/AReM/lying/train_data/dataset12.csv',skiprows=4,error_bad_lines=False)\n",
    "data_lying_train31 = pd.read_csv('G:/MASTERS-Prashanth/1ST SEM/ML/homework_2/AReM/lying/train_data/dataset13.csv',skiprows=4,error_bad_lines=False)\n",
    "data_lying_train32 = pd.read_csv('G:/MASTERS-Prashanth/1ST SEM/ML/homework_2/AReM/lying/train_data/dataset14.csv',skiprows=4,error_bad_lines=False)\n",
    "data_lying_train33 = pd.read_csv('G:/MASTERS-Prashanth/1ST SEM/ML/homework_2/AReM/lying/train_data/dataset15.csv',skiprows=4,error_bad_lines=False)\n",
    "\n",
    "\n",
    "data_sitting_train34 = pd.read_csv('G:/MASTERS-Prashanth/1ST SEM/ML/homework_2/AReM/sitting/train_data/dataset4.csv',skiprows=4,error_bad_lines=False)\n",
    "data_sitting_train35 = pd.read_csv('G:/MASTERS-Prashanth/1ST SEM/ML/homework_2/AReM/sitting/train_data/dataset5.csv',skiprows=4,error_bad_lines=False)\n",
    "data_sitting_train36 = pd.read_csv('G:/MASTERS-Prashanth/1ST SEM/ML/homework_2/AReM/sitting/train_data/dataset6.csv',skiprows=4,error_bad_lines=False)\n",
    "data_sitting_train37 = pd.read_csv('G:/MASTERS-Prashanth/1ST SEM/ML/homework_2/AReM/sitting/train_data/dataset7.csv',skiprows=4,error_bad_lines=False)\n",
    "data_sitting_train38 = pd.read_csv('G:/MASTERS-Prashanth/1ST SEM/ML/homework_2/AReM/sitting/train_data/dataset8.csv',skiprows=4,error_bad_lines=False)\n",
    "data_sitting_train39 = pd.read_csv('G:/MASTERS-Prashanth/1ST SEM/ML/homework_2/AReM/sitting/train_data/dataset9.csv',skiprows=4,error_bad_lines=False)\n",
    "data_sitting_train40 = pd.read_csv('G:/MASTERS-Prashanth/1ST SEM/ML/homework_2/AReM/sitting/train_data/dataset10.csv',skiprows=4,error_bad_lines=False)\n",
    "data_sitting_train41 = pd.read_csv('G:/MASTERS-Prashanth/1ST SEM/ML/homework_2/AReM/sitting/train_data/dataset11.csv',skiprows=4,error_bad_lines=False)\n",
    "data_sitting_train42 = pd.read_csv('G:/MASTERS-Prashanth/1ST SEM/ML/homework_2/AReM/sitting/train_data/dataset12.csv',skiprows=4,error_bad_lines=False)\n",
    "data_sitting_train43 = pd.read_csv('G:/MASTERS-Prashanth/1ST SEM/ML/homework_2/AReM/sitting/train_data/dataset13.csv',skiprows=4,error_bad_lines=False)\n",
    "data_sitting_train44 = pd.read_csv('G:/MASTERS-Prashanth/1ST SEM/ML/homework_2/AReM/sitting/train_data/dataset14.csv',skiprows=4,error_bad_lines=False)\n",
    "data_sitting_train45 = pd.read_csv('G:/MASTERS-Prashanth/1ST SEM/ML/homework_2/AReM/sitting/train_data/dataset15.csv',skiprows=4,error_bad_lines=False)\n",
    "\n",
    "data_standing_train46 = pd.read_csv('G:/MASTERS-Prashanth/1ST SEM/ML/homework_2/AReM/standing/train_data/dataset4.csv',skiprows=4,error_bad_lines=False)\n",
    "data_standing_train47 = pd.read_csv('G:/MASTERS-Prashanth/1ST SEM/ML/homework_2/AReM/standing/train_data/dataset5.csv',skiprows=4,error_bad_lines=False)\n",
    "data_standing_train48 = pd.read_csv('G:/MASTERS-Prashanth/1ST SEM/ML/homework_2/AReM/standing/train_data/dataset6.csv',skiprows=4,error_bad_lines=False)\n",
    "data_standing_train49 = pd.read_csv('G:/MASTERS-Prashanth/1ST SEM/ML/homework_2/AReM/standing/train_data/dataset7.csv',skiprows=4,error_bad_lines=False)\n",
    "data_standing_train50 = pd.read_csv('G:/MASTERS-Prashanth/1ST SEM/ML/homework_2/AReM/standing/train_data/dataset8.csv',skiprows=4,error_bad_lines=False)\n",
    "data_standing_train51 = pd.read_csv('G:/MASTERS-Prashanth/1ST SEM/ML/homework_2/AReM/standing/train_data/dataset9.csv',skiprows=4,error_bad_lines=False)\n",
    "data_standing_train52 = pd.read_csv('G:/MASTERS-Prashanth/1ST SEM/ML/homework_2/AReM/standing/train_data/dataset10.csv',skiprows=4,error_bad_lines=False)\n",
    "data_standing_train53 = pd.read_csv('G:/MASTERS-Prashanth/1ST SEM/ML/homework_2/AReM/standing/train_data/dataset11.csv',skiprows=4,error_bad_lines=False)\n",
    "data_standing_train54 = pd.read_csv('G:/MASTERS-Prashanth/1ST SEM/ML/homework_2/AReM/standing/train_data/dataset12.csv',skiprows=4,error_bad_lines=False)\n",
    "data_standing_train55 = pd.read_csv('G:/MASTERS-Prashanth/1ST SEM/ML/homework_2/AReM/standing/train_data/dataset13.csv',skiprows=4,error_bad_lines=False)\n",
    "data_standing_train56 = pd.read_csv('G:/MASTERS-Prashanth/1ST SEM/ML/homework_2/AReM/standing/train_data/dataset14.csv',skiprows=4,error_bad_lines=False)\n",
    "data_standing_train57 = pd.read_csv('G:/MASTERS-Prashanth/1ST SEM/ML/homework_2/AReM/standing/train_data/dataset15.csv',skiprows=4,error_bad_lines=False)\n",
    "\n",
    "data_walking_train58 = pd.read_csv('G:/MASTERS-Prashanth/1ST SEM/ML/homework_2/AReM/walking/train_data/dataset4.csv',skiprows=4,error_bad_lines=False)\n",
    "data_walking_train59 = pd.read_csv('G:/MASTERS-Prashanth/1ST SEM/ML/homework_2/AReM/walking/train_data/dataset5.csv',skiprows=4,error_bad_lines=False)\n",
    "data_walking_train60 = pd.read_csv('G:/MASTERS-Prashanth/1ST SEM/ML/homework_2/AReM/walking/train_data/dataset6.csv',skiprows=4,error_bad_lines=False)\n",
    "data_walking_train61 = pd.read_csv('G:/MASTERS-Prashanth/1ST SEM/ML/homework_2/AReM/walking/train_data/dataset7.csv',skiprows=4,error_bad_lines=False)\n",
    "data_walking_train62 = pd.read_csv('G:/MASTERS-Prashanth/1ST SEM/ML/homework_2/AReM/walking/train_data/dataset8.csv',skiprows=4,error_bad_lines=False)\n",
    "data_walking_train63 = pd.read_csv('G:/MASTERS-Prashanth/1ST SEM/ML/homework_2/AReM/walking/train_data/dataset9.csv',skiprows=4,error_bad_lines=False)\n",
    "data_walking_train64 = pd.read_csv('G:/MASTERS-Prashanth/1ST SEM/ML/homework_2/AReM/walking/train_data/dataset10.csv',skiprows=4,error_bad_lines=False)\n",
    "data_walking_train65 = pd.read_csv('G:/MASTERS-Prashanth/1ST SEM/ML/homework_2/AReM/walking/train_data/dataset11.csv',skiprows=4,error_bad_lines=False)\n",
    "data_walking_train66 = pd.read_csv('G:/MASTERS-Prashanth/1ST SEM/ML/homework_2/AReM/walking/train_data/dataset12.csv',skiprows=4,error_bad_lines=False)\n",
    "data_walking_train67 = pd.read_csv('G:/MASTERS-Prashanth/1ST SEM/ML/homework_2/AReM/walking/train_data/dataset13.csv',skiprows=4,error_bad_lines=False)\n",
    "data_walking_train68 = pd.read_csv('G:/MASTERS-Prashanth/1ST SEM/ML/homework_2/AReM/walking/train_data/dataset14.csv',skiprows=4,error_bad_lines=False)\n",
    "data_walking_train69 = pd.read_csv('G:/MASTERS-Prashanth/1ST SEM/ML/homework_2/AReM/walking/train_data/dataset15.csv',skiprows=4,error_bad_lines=False)\n"
   ]
  },
  {
   "cell_type": "code",
   "execution_count": 6,
   "metadata": {},
   "outputs": [
    {
     "name": "stdout",
     "output_type": "stream",
     "text": [
      "# Columns: time     0.00\n",
      "avg_rss12          37.25\n",
      "var_rss12           0.00\n",
      "avg_rss13           4.00\n",
      "var_rss13           0.00\n",
      "avg_rss23          27.25\n",
      "var_rss23           0.00\n",
      "dtype: float64\n",
      "7\n",
      "37.25\n"
     ]
    }
   ],
   "source": [
    "d_min_1 = data_bend1_test1.min()\n",
    "d_min_2 = data_bend1_test2.min()\n",
    "d_min_3 = data_bend2_test1.min()\n",
    "d_min_4 = data_bend2_test2.min()\n",
    "d_min_5 = data_cycling_test1.min()\n",
    "d_min_6 = data_cycling_test2.min()\n",
    "d_min_7 = data_cycling_test3.min()\n",
    "d_min_8 = data_lying_test1.min()\n",
    "d_min_9 = data_lying_test2.min()\n",
    "d_min_10 = data_lying_test3.min()\n",
    "d_min_11 = data_sitting_test1.min()\n",
    "d_min_12 = data_sitting_test2.min()\n",
    "d_min_13 = data_sitting_test3.min()\n",
    "d_min_14 = data_standing_test1.min()\n",
    "d_min_15 = data_standing_test2.min()\n",
    "d_min_16 = data_standing_test3.min()\n",
    "d_min_17 = data_walking_test1.min()\n",
    "d_min_18 = data_walking_test2.min()\n",
    "d_min_19 = data_walking_test3.min()\n",
    "print d_min_1\n",
    "print len(d_min_1)\n",
    "print d_min_1[1]\n"
   ]
  },
  {
   "cell_type": "code",
   "execution_count": 7,
   "metadata": {},
   "outputs": [
    {
     "name": "stdout",
     "output_type": "stream",
     "text": [
      "# Columns: time    119750.00\n",
      "avg_rss12              45.00\n",
      "var_rss12               1.30\n",
      "avg_rss13              29.50\n",
      "var_rss13               7.23\n",
      "avg_rss23              38.25\n",
      "var_rss23               1.92\n",
      "dtype: float64\n"
     ]
    }
   ],
   "source": [
    "d_max_1 = data_bend1_test1.max()\n",
    "d_max_2 = data_bend1_test2.max()\n",
    "d_max_3 = data_bend2_test1.max()\n",
    "d_max_4 = data_bend2_test2.max()\n",
    "d_max_5 = data_cycling_test1.max()\n",
    "d_max_6 = data_cycling_test2.max()\n",
    "d_max_7 = data_cycling_test3.max()\n",
    "d_max_8 = data_lying_test1.max()\n",
    "d_max_9 = data_lying_test2.max()\n",
    "d_max_10 = data_lying_test3.max()\n",
    "d_max_11 = data_sitting_test1.max()\n",
    "d_max_12 = data_sitting_test2.max()\n",
    "d_max_13 = data_sitting_test3.max()\n",
    "d_max_14 = data_standing_test1.max()\n",
    "d_max_15 = data_standing_test2.max()\n",
    "d_max_16 = data_standing_test3.max()\n",
    "d_max_17 = data_walking_test1.max()\n",
    "d_max_18 = data_walking_test2.max()\n",
    "d_max_19 = data_walking_test3.max()\n",
    "print d_max_1"
   ]
  },
  {
   "cell_type": "code",
   "execution_count": 8,
   "metadata": {},
   "outputs": [
    {
     "name": "stdout",
     "output_type": "stream",
     "text": [
      "<class 'pandas.core.series.Series'>\n",
      "# Columns: time    59875.000000\n",
      "avg_rss12             40.624792\n",
      "var_rss12              0.358604\n",
      "avg_rss13             19.040937\n",
      "var_rss13              0.832542\n",
      "avg_rss23             34.311292\n",
      "var_rss23              0.570583\n",
      "dtype: float64\n"
     ]
    }
   ],
   "source": [
    "d_mean_1 = data_bend1_test1.mean()\n",
    "d_mean_2 = data_bend1_test2.mean()\n",
    "d_mean_3 = data_bend2_test1.mean()\n",
    "d_mean_4 = data_bend2_test2.mean()\n",
    "d_mean_5 = data_cycling_test1.mean()\n",
    "d_mean_6 = data_cycling_test2.mean()\n",
    "d_mean_7 = data_cycling_test3.mean()\n",
    "d_mean_8 = data_lying_test1.mean()\n",
    "d_mean_9 = data_lying_test2.mean()\n",
    "d_mean_10 = data_lying_test3.mean()\n",
    "d_mean_11 = data_sitting_test1.mean()\n",
    "d_mean_12 = data_sitting_test2.mean()\n",
    "d_mean_13 = data_sitting_test3.mean()\n",
    "d_mean_14 = data_standing_test1.mean()\n",
    "d_mean_15 = data_standing_test2.mean()\n",
    "d_mean_16 = data_standing_test3.mean()\n",
    "d_mean_17 = data_walking_test1.mean()\n",
    "d_mean_18 = data_walking_test2.mean()\n",
    "d_mean_19 = data_walking_test3.mean()\n",
    "print type(d_mean_19)\n",
    "print d_mean_1\n",
    "\n",
    "  \n"
   ]
  },
  {
   "cell_type": "code",
   "execution_count": 9,
   "metadata": {},
   "outputs": [],
   "source": [
    "rows =[]\n",
    "total_columns =['min_avg_rss12','min_var_rss12','min_avg_rss13','min_var_rss13','min_avg_rss23','min_var_rss23','max_avg_rss12','max_var_rss12','max_avg_rss13','max_var_rss13','max_avg_rss23','max_var_rss23','mean_avg_rss12','mean_var_rss12','mean_avg_rss13','mean_var_rss13','mean_avg_rss23','mean_var_rss23']\n"
   ]
  },
  {
   "cell_type": "code",
   "execution_count": 10,
   "metadata": {},
   "outputs": [
    {
     "name": "stdout",
     "output_type": "stream",
     "text": [
      "37.25\n",
      "0.0\n",
      "4.0\n",
      "0.0\n",
      "27.25\n",
      "0.0\n",
      "6\n"
     ]
    }
   ],
   "source": [
    "\n",
    "for i in range(1,7):\n",
    "    r=d_min_1[i]\n",
    "    print r\n",
    "    rows.append(r)\n",
    "#print rows\n",
    "print len(rows)   \n"
   ]
  },
  {
   "cell_type": "code",
   "execution_count": 11,
   "metadata": {},
   "outputs": [
    {
     "name": "stdout",
     "output_type": "stream",
     "text": [
      "45.0\n",
      "1.3\n",
      "29.5\n",
      "7.23\n",
      "38.25\n",
      "1.92\n",
      "[37.25, 0.0, 4.0, 0.0, 27.25, 0.0, 45.0, 1.3, 29.5, 7.23, 38.25, 1.92]\n"
     ]
    }
   ],
   "source": [
    "for i in range(1,7):\n",
    "    r=d_max_1[i]\n",
    "    print r\n",
    "    rows.append(r)   \n",
    "print rows\n"
   ]
  },
  {
   "cell_type": "code",
   "execution_count": 12,
   "metadata": {},
   "outputs": [
    {
     "name": "stdout",
     "output_type": "stream",
     "text": [
      "40.62479166666665\n",
      "0.35860416666666745\n",
      "19.0409375\n",
      "0.8325416666666676\n",
      "34.31129166666666\n",
      "0.5705833333333344\n",
      "[37.25, 0.0, 4.0, 0.0, 27.25, 0.0, 45.0, 1.3, 29.5, 7.23, 38.25, 1.92, 40.62479166666665, 0.35860416666666745, 19.0409375, 0.8325416666666676, 34.31129166666666, 0.5705833333333344]\n"
     ]
    }
   ],
   "source": [
    "for i in range(1,7):\n",
    "    r=d_mean_1[i]\n",
    "    print r\n",
    "    rows.append(r) \n",
    "\n",
    "print rows"
   ]
  },
  {
   "cell_type": "code",
   "execution_count": 13,
   "metadata": {},
   "outputs": [
    {
     "data": {
      "text/plain": [
       "(0, 18)"
      ]
     },
     "execution_count": 13,
     "metadata": {},
     "output_type": "execute_result"
    }
   ],
   "source": [
    "dataframe_test = pd.DataFrame(columns=total_columns)\n",
    "#print (dataframe_test)\n",
    "dataframe_test.shape\n"
   ]
  },
  {
   "cell_type": "code",
   "execution_count": 14,
   "metadata": {},
   "outputs": [
    {
     "data": {
      "text/html": [
       "<div>\n",
       "<style scoped>\n",
       "    .dataframe tbody tr th:only-of-type {\n",
       "        vertical-align: middle;\n",
       "    }\n",
       "\n",
       "    .dataframe tbody tr th {\n",
       "        vertical-align: top;\n",
       "    }\n",
       "\n",
       "    .dataframe thead th {\n",
       "        text-align: right;\n",
       "    }\n",
       "</style>\n",
       "<table border=\"1\" class=\"dataframe\">\n",
       "  <thead>\n",
       "    <tr style=\"text-align: right;\">\n",
       "      <th></th>\n",
       "      <th>min_avg_rss12</th>\n",
       "      <th>min_var_rss12</th>\n",
       "      <th>min_avg_rss13</th>\n",
       "      <th>min_var_rss13</th>\n",
       "      <th>min_avg_rss23</th>\n",
       "      <th>min_var_rss23</th>\n",
       "      <th>max_avg_rss12</th>\n",
       "      <th>max_var_rss12</th>\n",
       "      <th>max_avg_rss13</th>\n",
       "      <th>max_var_rss13</th>\n",
       "      <th>max_avg_rss23</th>\n",
       "      <th>max_var_rss23</th>\n",
       "      <th>mean_avg_rss12</th>\n",
       "      <th>mean_var_rss12</th>\n",
       "      <th>mean_avg_rss13</th>\n",
       "      <th>mean_var_rss13</th>\n",
       "      <th>mean_avg_rss23</th>\n",
       "      <th>mean_var_rss23</th>\n",
       "    </tr>\n",
       "  </thead>\n",
       "  <tbody>\n",
       "    <tr>\n",
       "      <th>0</th>\n",
       "      <td>37.25</td>\n",
       "      <td>0.0</td>\n",
       "      <td>4.0</td>\n",
       "      <td>0.0</td>\n",
       "      <td>27.25</td>\n",
       "      <td>0.0</td>\n",
       "      <td>45.0</td>\n",
       "      <td>1.3</td>\n",
       "      <td>29.5</td>\n",
       "      <td>7.23</td>\n",
       "      <td>38.25</td>\n",
       "      <td>1.92</td>\n",
       "      <td>40.624792</td>\n",
       "      <td>0.358604</td>\n",
       "      <td>19.040937</td>\n",
       "      <td>0.832542</td>\n",
       "      <td>34.311292</td>\n",
       "      <td>0.570583</td>\n",
       "    </tr>\n",
       "  </tbody>\n",
       "</table>\n",
       "</div>"
      ],
      "text/plain": [
       "   min_avg_rss12  min_var_rss12  min_avg_rss13  min_var_rss13  min_avg_rss23  \\\n",
       "0          37.25            0.0            4.0            0.0          27.25   \n",
       "\n",
       "   min_var_rss23  max_avg_rss12  max_var_rss12  max_avg_rss13  max_var_rss13  \\\n",
       "0            0.0           45.0            1.3           29.5           7.23   \n",
       "\n",
       "   max_avg_rss23  max_var_rss23  mean_avg_rss12  mean_var_rss12  \\\n",
       "0          38.25           1.92       40.624792        0.358604   \n",
       "\n",
       "   mean_avg_rss13  mean_var_rss13  mean_avg_rss23  mean_var_rss23  \n",
       "0       19.040937        0.832542       34.311292        0.570583  "
      ]
     },
     "metadata": {},
     "output_type": "display_data"
    }
   ],
   "source": [
    "dataframe_test.loc[0] = rows\n",
    "display(dataframe_test) "
   ]
  },
  {
   "cell_type": "code",
   "execution_count": 15,
   "metadata": {},
   "outputs": [
    {
     "name": "stdout",
     "output_type": "stream",
     "text": [
      "3\n"
     ]
    }
   ],
   "source": [
    "\n",
    "array1 = [[(eval('d_min_'+str(x)))[1:],eval('d_max_'+str(x))[1:],eval('d_mean_'+str(x))[1:]] for x in range(1,20)]\n",
    "#print array1[0]\n",
    "#print eval('d_min_'+str(1))\n",
    "#print array1[0]\n",
    "print len(array1[0])\n",
    "\n",
    "#print type(array1)\n"
   ]
  },
  {
   "cell_type": "code",
   "execution_count": 16,
   "metadata": {},
   "outputs": [
    {
     "name": "stdout",
     "output_type": "stream",
     "text": [
      "3\n",
      "<type 'list'>\n"
     ]
    }
   ],
   "source": [
    "\n",
    "array1 = [[(eval('d_min_'+str(x)))[1:],eval('d_max_'+str(x))[1:],eval('d_mean_'+str(x))[1:]] for x in range(1,20)]\n",
    "#print array1[0]\n",
    "#print eval('d_min_'+str(1))\n",
    "#print array1[0]\n",
    "print len(array1[0])\n",
    "print type(array1[0])\n",
    "#print type(array1)\n"
   ]
  },
  {
   "cell_type": "code",
   "execution_count": 17,
   "metadata": {},
   "outputs": [
    {
     "name": "stdout",
     "output_type": "stream",
     "text": [
      "Empty DataFrame\n",
      "Columns: [min_avg_rss12, min_var_rss12, min_avg_rss13, min_var_rss13, min_avg_rss23, min_var_rss23, max_avg_rss12, max_var_rss12, max_avg_rss13, max_var_rss13, max_avg_rss23, max_var_rss23, mean_avg_rss12, mean_var_rss12, mean_avg_rss13, mean_var_rss13, mean_avg_rss23, mean_var_rss23]\n",
      "Index: []\n"
     ]
    },
    {
     "data": {
      "text/plain": [
       "(0, 18)"
      ]
     },
     "execution_count": 17,
     "metadata": {},
     "output_type": "execute_result"
    }
   ],
   "source": [
    "dataframe_test = pd.DataFrame(columns=total_columns)\n",
    "print (dataframe_test)\n",
    "dataframe_test.shape"
   ]
  },
  {
   "cell_type": "code",
   "execution_count": 18,
   "metadata": {},
   "outputs": [
    {
     "data": {
      "text/plain": [
       "(19, 18)"
      ]
     },
     "execution_count": 18,
     "metadata": {},
     "output_type": "execute_result"
    }
   ],
   "source": [
    "import itertools\n",
    "from IPython.display import display, HTML\n",
    "for i in range(0,19):\n",
    "    #print i\n",
    "    dataframe_test.loc[i] = list(itertools.chain.from_iterable(array1[i]))\n",
    "#display(dataframe_test) \n",
    "#dataframe_test.head()\n",
    "dataframe_test.shape"
   ]
  },
  {
   "cell_type": "code",
   "execution_count": 19,
   "metadata": {},
   "outputs": [],
   "source": [
    "d_min_train_1 = data_bend1_train1.min()\n",
    "d_min_train_2 = data_bend1_train2.min()\n",
    "d_min_train_3 = data_bend1_train3.min()\n",
    "d_min_train_4 = data_bend1_train4.min()\n",
    "d_min_train_5 = data_bend1_train5.min()\n",
    "\n",
    "d_min_train_6 = data_bend2_train6.min()\n",
    "d_min_train_7 = data_bend2_train7.min()\n",
    "d_min_train_8 = data_bend2_train8.min()\n",
    "d_min_train_9 = data_bend2_train9.min()\n",
    "\n",
    "d_min_train_10 = data_cycling_train10.min()\n",
    "d_min_train_11 = data_cycling_train11.min()\n",
    "d_min_train_12 = data_cycling_train12.min()\n",
    "d_min_train_13 = data_cycling_train13.min()\n",
    "d_min_train_14 = data_cycling_train14.min()\n",
    "d_min_train_15 = data_cycling_train15.min()\n",
    "d_min_train_16 = data_cycling_train16.min()\n",
    "d_min_train_17 = data_cycling_train17.min()\n",
    "d_min_train_18 = data_cycling_train18.min()\n",
    "d_min_train_19 = data_cycling_train19.min()\n",
    "d_min_train_20 = data_cycling_train20.min()\n",
    "d_min_train_21 = data_cycling_train21.min()\n",
    "\n",
    "\n",
    "d_min_train_22 = data_lying_train22.min()\n",
    "d_min_train_23 = data_lying_train23.min()\n",
    "d_min_train_24 = data_lying_train24.min()\n",
    "d_min_train_25 = data_lying_train25.min()\n",
    "d_min_train_26 = data_lying_train26.min()\n",
    "d_min_train_27 = data_lying_train27.min()\n",
    "d_min_train_28 = data_lying_train28.min()\n",
    "d_min_train_29 = data_lying_train29.min()\n",
    "d_min_train_30 = data_lying_train30.min()\n",
    "d_min_train_31 = data_lying_train31.min()\n",
    "d_min_train_32 = data_lying_train32.min()\n",
    "d_min_train_33 = data_lying_train33.min()\n",
    "\n",
    "\n",
    "d_min_train_34 = data_sitting_train34.min()\n",
    "d_min_train_35 = data_sitting_train35.min()\n",
    "d_min_train_36 = data_sitting_train36.min()\n",
    "d_min_train_37 = data_sitting_train37.min()\n",
    "d_min_train_38 = data_sitting_train38.min()\n",
    "d_min_train_39 = data_sitting_train39.min()\n",
    "d_min_train_40 = data_sitting_train40.min()\n",
    "d_min_train_41 = data_sitting_train41.min()\n",
    "d_min_train_42 = data_sitting_train42.min()\n",
    "d_min_train_43 = data_sitting_train43.min()\n",
    "d_min_train_44 = data_sitting_train44.min()\n",
    "d_min_train_45 = data_sitting_train45.min()\n",
    "\n",
    "d_min_train_46 = data_standing_train46.min()\n",
    "d_min_train_47 = data_standing_train47.min()\n",
    "d_min_train_48 = data_standing_train48.min()\n",
    "d_min_train_49 = data_standing_train49.min()\n",
    "d_min_train_50 = data_standing_train50.min()\n",
    "d_min_train_51 = data_standing_train51.min()\n",
    "d_min_train_52 = data_standing_train52.min()\n",
    "d_min_train_53 = data_standing_train53.min()\n",
    "d_min_train_54 = data_standing_train54.min()\n",
    "d_min_train_55 = data_standing_train55.min()\n",
    "d_min_train_56 = data_standing_train56.min()\n",
    "d_min_train_57 = data_standing_train57.min()\n",
    "\n",
    "d_min_train_58 = data_walking_train58.min()\n",
    "d_min_train_59 = data_walking_train59.min()\n",
    "d_min_train_60 = data_walking_train60.min()\n",
    "d_min_train_61 = data_walking_train61.min()\n",
    "d_min_train_62 = data_walking_train62.min()\n",
    "d_min_train_63 = data_walking_train63.min()\n",
    "d_min_train_64 = data_walking_train64.min()\n",
    "d_min_train_65 = data_walking_train65.min()\n",
    "d_min_train_66 = data_walking_train66.min()\n",
    "d_min_train_67 = data_walking_train67.min()\n",
    "d_min_train_68 = data_walking_train68.min()\n",
    "d_min_train_69 = data_walking_train69.min()\n"
   ]
  },
  {
   "cell_type": "code",
   "execution_count": 20,
   "metadata": {},
   "outputs": [],
   "source": [
    "d_max_train_1 = data_bend1_train1.max()\n",
    "d_max_train_2 = data_bend1_train2.max()\n",
    "d_max_train_3 = data_bend1_train3.max()\n",
    "d_max_train_4 = data_bend1_train4.max()\n",
    "d_max_train_5 = data_bend1_train5.max()\n",
    "\n",
    "d_max_train_6 = data_bend2_train6.max()\n",
    "d_max_train_7 = data_bend2_train7.max()\n",
    "d_max_train_8 = data_bend2_train8.max()\n",
    "d_max_train_9 = data_bend2_train9.max()\n",
    "\n",
    "d_max_train_10 = data_cycling_train10.max()\n",
    "d_max_train_11 = data_cycling_train11.max()\n",
    "d_max_train_12 = data_cycling_train12.max()\n",
    "d_max_train_13 = data_cycling_train13.max()\n",
    "d_max_train_14 = data_cycling_train14.max()\n",
    "d_max_train_15 = data_cycling_train15.max()\n",
    "d_max_train_16 = data_cycling_train16.max()\n",
    "d_max_train_17 = data_cycling_train17.max()\n",
    "d_max_train_18 = data_cycling_train18.max()\n",
    "d_max_train_19 = data_cycling_train19.max()\n",
    "d_max_train_20 = data_cycling_train20.max()\n",
    "d_max_train_21 = data_cycling_train21.max()\n",
    "\n",
    "\n",
    "d_max_train_22 = data_lying_train22.max()\n",
    "d_max_train_23 = data_lying_train23.max()\n",
    "d_max_train_24 = data_lying_train24.max()\n",
    "d_max_train_25 = data_lying_train25.max()\n",
    "d_max_train_26 = data_lying_train26.max()\n",
    "d_max_train_27 = data_lying_train27.max()\n",
    "d_max_train_28 = data_lying_train28.max()\n",
    "d_max_train_29 = data_lying_train29.max()\n",
    "d_max_train_30 = data_lying_train30.max()\n",
    "d_max_train_31 = data_lying_train31.max()\n",
    "d_max_train_32 = data_lying_train32.max()\n",
    "d_max_train_33 = data_lying_train33.max()\n",
    "\n",
    "\n",
    "d_max_train_34 = data_sitting_train34.max()\n",
    "d_max_train_35 = data_sitting_train35.max()\n",
    "d_max_train_36 = data_sitting_train36.max()\n",
    "d_max_train_37 = data_sitting_train37.max()\n",
    "d_max_train_38 = data_sitting_train38.max()\n",
    "d_max_train_39 = data_sitting_train39.max()\n",
    "d_max_train_40 = data_sitting_train40.max()\n",
    "d_max_train_41 = data_sitting_train41.max()\n",
    "d_max_train_42 = data_sitting_train42.max()\n",
    "d_max_train_43 = data_sitting_train43.max()\n",
    "d_max_train_44 = data_sitting_train44.max()\n",
    "d_max_train_45 = data_sitting_train45.max()\n",
    "\n",
    "d_max_train_46 = data_standing_train46.max()\n",
    "d_max_train_47 = data_standing_train47.max()\n",
    "d_max_train_48 = data_standing_train48.max()\n",
    "d_max_train_49 = data_standing_train49.max()\n",
    "d_max_train_50 = data_standing_train50.max()\n",
    "d_max_train_51 = data_standing_train51.max()\n",
    "d_max_train_52 = data_standing_train52.max()\n",
    "d_max_train_53 = data_standing_train53.max()\n",
    "d_max_train_54 = data_standing_train54.max()\n",
    "d_max_train_55 = data_standing_train55.max()\n",
    "d_max_train_56 = data_standing_train56.max()\n",
    "d_max_train_57 = data_standing_train57.max()\n",
    "\n",
    "d_max_train_58 = data_walking_train58.max()\n",
    "d_max_train_59 = data_walking_train59.max()\n",
    "d_max_train_60 = data_walking_train60.max()\n",
    "d_max_train_61 = data_walking_train61.max()\n",
    "d_max_train_62 = data_walking_train62.max()\n",
    "d_max_train_63 = data_walking_train63.max()\n",
    "d_max_train_64 = data_walking_train64.max()\n",
    "d_max_train_65 = data_walking_train65.max()\n",
    "d_max_train_66 = data_walking_train66.max()\n",
    "d_max_train_67 = data_walking_train67.max()\n",
    "d_max_train_68 = data_walking_train68.max()\n",
    "d_max_train_69 = data_walking_train69.max()\n"
   ]
  },
  {
   "cell_type": "code",
   "execution_count": 21,
   "metadata": {},
   "outputs": [],
   "source": [
    "d_mean_train_1 = data_bend1_train1.mean()\n",
    "d_mean_train_2 = data_bend1_train2.mean()\n",
    "d_mean_train_3 = data_bend1_train3.mean()\n",
    "d_mean_train_4 = data_bend1_train4.mean()\n",
    "d_mean_train_5 = data_bend1_train5.mean()\n",
    "\n",
    "d_mean_train_6 = data_bend2_train6.mean()\n",
    "d_mean_train_7 = data_bend2_train7.mean()\n",
    "d_mean_train_8 = data_bend2_train8.mean()\n",
    "d_mean_train_9 = data_bend2_train9.mean()\n",
    "\n",
    "d_mean_train_10 = data_cycling_train10.mean()\n",
    "d_mean_train_11 = data_cycling_train11.mean()\n",
    "d_mean_train_12 = data_cycling_train12.mean()\n",
    "d_mean_train_13 = data_cycling_train13.mean()\n",
    "d_mean_train_14 = data_cycling_train14.mean()\n",
    "d_mean_train_15 = data_cycling_train15.mean()\n",
    "d_mean_train_16 = data_cycling_train16.mean()\n",
    "d_mean_train_17 = data_cycling_train17.mean()\n",
    "d_mean_train_18 = data_cycling_train18.mean()\n",
    "d_mean_train_19 = data_cycling_train19.mean()\n",
    "d_mean_train_20 = data_cycling_train20.mean()\n",
    "d_mean_train_21 = data_cycling_train21.mean()\n",
    "\n",
    "\n",
    "d_mean_train_22 = data_lying_train22.mean()\n",
    "d_mean_train_23 = data_lying_train23.mean()\n",
    "d_mean_train_24 = data_lying_train24.mean()\n",
    "d_mean_train_25 = data_lying_train25.mean()\n",
    "d_mean_train_26 = data_lying_train26.mean()\n",
    "d_mean_train_27 = data_lying_train27.mean()\n",
    "d_mean_train_28 = data_lying_train28.mean()\n",
    "d_mean_train_29 = data_lying_train29.mean()\n",
    "d_mean_train_30 = data_lying_train30.mean()\n",
    "d_mean_train_31 = data_lying_train31.mean()\n",
    "d_mean_train_32 = data_lying_train32.mean()\n",
    "d_mean_train_33 = data_lying_train33.mean()\n",
    "\n",
    "\n",
    "d_mean_train_34 = data_sitting_train34.mean()\n",
    "d_mean_train_35 = data_sitting_train35.mean()\n",
    "d_mean_train_36 = data_sitting_train36.mean()\n",
    "d_mean_train_37 = data_sitting_train37.mean()\n",
    "d_mean_train_38 = data_sitting_train38.mean()\n",
    "d_mean_train_39 = data_sitting_train39.mean()\n",
    "d_mean_train_40 = data_sitting_train40.mean()\n",
    "d_mean_train_41 = data_sitting_train41.mean()\n",
    "d_mean_train_42 = data_sitting_train42.mean()\n",
    "d_mean_train_43 = data_sitting_train43.mean()\n",
    "d_mean_train_44 = data_sitting_train44.mean()\n",
    "d_mean_train_45 = data_sitting_train45.mean()\n",
    "\n",
    "d_mean_train_46 = data_standing_train46.mean()\n",
    "d_mean_train_47 = data_standing_train47.mean()\n",
    "d_mean_train_48 = data_standing_train48.mean()\n",
    "d_mean_train_49 = data_standing_train49.mean()\n",
    "d_mean_train_50 = data_standing_train50.mean()\n",
    "d_mean_train_51 = data_standing_train51.mean()\n",
    "d_mean_train_52 = data_standing_train52.mean()\n",
    "d_mean_train_53 = data_standing_train53.mean()\n",
    "d_mean_train_54 = data_standing_train54.mean()\n",
    "d_mean_train_55 = data_standing_train55.mean()\n",
    "d_mean_train_56 = data_standing_train56.mean()\n",
    "d_mean_train_57 = data_standing_train57.mean()\n",
    "\n",
    "d_mean_train_58 = data_walking_train58.mean()\n",
    "d_mean_train_59 = data_walking_train59.mean()\n",
    "d_mean_train_60 = data_walking_train60.mean()\n",
    "d_mean_train_61 = data_walking_train61.mean()\n",
    "d_mean_train_62 = data_walking_train62.mean()\n",
    "d_mean_train_63 = data_walking_train63.mean()\n",
    "d_mean_train_64 = data_walking_train64.mean()\n",
    "d_mean_train_65 = data_walking_train65.mean()\n",
    "d_mean_train_66 = data_walking_train66.mean()\n",
    "d_mean_train_67 = data_walking_train67.mean()\n",
    "d_mean_train_68 = data_walking_train68.mean()\n",
    "d_mean_train_69 = data_walking_train69.mean()\n"
   ]
  },
  {
   "cell_type": "code",
   "execution_count": 22,
   "metadata": {},
   "outputs": [
    {
     "name": "stdout",
     "output_type": "stream",
     "text": [
      "# Columns: time    59875.000000\n",
      "avg_rss12             32.586208\n",
      "var_rss12              0.516125\n",
      "avg_rss13             13.941625\n",
      "var_rss13              0.868896\n",
      "avg_rss23             20.345708\n",
      "var_rss23              1.162042\n",
      "dtype: float64\n",
      "69\n",
      "<type 'list'>\n"
     ]
    }
   ],
   "source": [
    "array2 = [[(eval('d_min_train_'+str(x)))[1:],eval('d_max_train_'+str(x))[1:],eval('d_mean_train_'+str(x))[1:]] for x in range(1,70)]\n",
    "#print array1[0]\n",
    "#print eval('d_min_'+str(1))\n",
    "print d_mean_train_6\n",
    "#print \"hello\"\n",
    "#print array2[0]\n",
    "#print (array2[6])\n",
    "print len(array2)\n",
    "print type(array2[6])\n",
    "#print type(array1)\n",
    "#print (list(itertools.chain.from_iterable(array2[7])))"
   ]
  },
  {
   "cell_type": "code",
   "execution_count": 23,
   "metadata": {},
   "outputs": [
    {
     "name": "stdout",
     "output_type": "stream",
     "text": [
      "Empty DataFrame\n",
      "Columns: [min_avg_rss12, min_var_rss12, min_avg_rss13, min_var_rss13, min_avg_rss23, min_var_rss23, max_avg_rss12, max_var_rss12, max_avg_rss13, max_var_rss13, max_avg_rss23, max_var_rss23, mean_avg_rss12, mean_var_rss12, mean_avg_rss13, mean_var_rss13, mean_avg_rss23, mean_var_rss23]\n",
      "Index: []\n"
     ]
    },
    {
     "data": {
      "text/plain": [
       "(0, 18)"
      ]
     },
     "execution_count": 23,
     "metadata": {},
     "output_type": "execute_result"
    }
   ],
   "source": [
    "dataframe_train = pd.DataFrame(columns=total_columns)\n",
    "print (dataframe_train)\n",
    "dataframe_train.shape"
   ]
  },
  {
   "cell_type": "code",
   "execution_count": 24,
   "metadata": {},
   "outputs": [
    {
     "data": {
      "text/plain": [
       "(69, 18)"
      ]
     },
     "execution_count": 24,
     "metadata": {},
     "output_type": "execute_result"
    }
   ],
   "source": [
    "import itertools\n",
    "from IPython.display import display, HTML\n",
    "for i in range(0,69):\n",
    "    #print i\n",
    "    dataframe_train.loc[i] = list(itertools.chain.from_iterable(array2[i]))\n",
    "#display(dataframe_train) \n",
    "dataframe_train.shape\n"
   ]
  },
  {
   "cell_type": "code",
   "execution_count": 25,
   "metadata": {},
   "outputs": [
    {
     "data": {
      "text/html": [
       "<div>\n",
       "<style scoped>\n",
       "    .dataframe tbody tr th:only-of-type {\n",
       "        vertical-align: middle;\n",
       "    }\n",
       "\n",
       "    .dataframe tbody tr th {\n",
       "        vertical-align: top;\n",
       "    }\n",
       "\n",
       "    .dataframe thead th {\n",
       "        text-align: right;\n",
       "    }\n",
       "</style>\n",
       "<table border=\"1\" class=\"dataframe\">\n",
       "  <thead>\n",
       "    <tr style=\"text-align: right;\">\n",
       "      <th></th>\n",
       "      <th>min_avg_rss12</th>\n",
       "      <th>min_var_rss12</th>\n",
       "      <th>min_avg_rss13</th>\n",
       "      <th>min_var_rss13</th>\n",
       "      <th>min_avg_rss23</th>\n",
       "      <th>min_var_rss23</th>\n",
       "      <th>max_avg_rss12</th>\n",
       "      <th>max_var_rss12</th>\n",
       "      <th>max_avg_rss13</th>\n",
       "      <th>max_var_rss13</th>\n",
       "      <th>max_avg_rss23</th>\n",
       "      <th>max_var_rss23</th>\n",
       "      <th>mean_avg_rss12</th>\n",
       "      <th>mean_var_rss12</th>\n",
       "      <th>mean_avg_rss13</th>\n",
       "      <th>mean_var_rss13</th>\n",
       "      <th>mean_avg_rss23</th>\n",
       "      <th>mean_var_rss23</th>\n",
       "    </tr>\n",
       "  </thead>\n",
       "  <tbody>\n",
       "    <tr>\n",
       "      <th>0</th>\n",
       "      <td>35.00</td>\n",
       "      <td>0.0</td>\n",
       "      <td>6.50</td>\n",
       "      <td>0.0</td>\n",
       "      <td>29.00</td>\n",
       "      <td>0.0</td>\n",
       "      <td>47.40</td>\n",
       "      <td>1.70</td>\n",
       "      <td>29.75</td>\n",
       "      <td>4.44</td>\n",
       "      <td>38.50</td>\n",
       "      <td>1.79</td>\n",
       "      <td>43.954500</td>\n",
       "      <td>0.426250</td>\n",
       "      <td>22.122354</td>\n",
       "      <td>0.497313</td>\n",
       "      <td>35.588458</td>\n",
       "      <td>0.493292</td>\n",
       "    </tr>\n",
       "    <tr>\n",
       "      <th>1</th>\n",
       "      <td>33.00</td>\n",
       "      <td>0.0</td>\n",
       "      <td>8.50</td>\n",
       "      <td>0.0</td>\n",
       "      <td>20.00</td>\n",
       "      <td>0.0</td>\n",
       "      <td>47.75</td>\n",
       "      <td>3.00</td>\n",
       "      <td>30.00</td>\n",
       "      <td>5.15</td>\n",
       "      <td>38.67</td>\n",
       "      <td>2.18</td>\n",
       "      <td>42.179813</td>\n",
       "      <td>0.696042</td>\n",
       "      <td>22.183625</td>\n",
       "      <td>0.989917</td>\n",
       "      <td>33.493917</td>\n",
       "      <td>0.613521</td>\n",
       "    </tr>\n",
       "    <tr>\n",
       "      <th>2</th>\n",
       "      <td>33.00</td>\n",
       "      <td>0.0</td>\n",
       "      <td>3.00</td>\n",
       "      <td>0.0</td>\n",
       "      <td>23.67</td>\n",
       "      <td>0.0</td>\n",
       "      <td>45.75</td>\n",
       "      <td>2.83</td>\n",
       "      <td>28.25</td>\n",
       "      <td>6.42</td>\n",
       "      <td>37.50</td>\n",
       "      <td>1.79</td>\n",
       "      <td>41.678063</td>\n",
       "      <td>0.535979</td>\n",
       "      <td>19.006562</td>\n",
       "      <td>0.841875</td>\n",
       "      <td>29.857083</td>\n",
       "      <td>0.383292</td>\n",
       "    </tr>\n",
       "    <tr>\n",
       "      <th>3</th>\n",
       "      <td>37.00</td>\n",
       "      <td>0.0</td>\n",
       "      <td>5.75</td>\n",
       "      <td>0.0</td>\n",
       "      <td>8.00</td>\n",
       "      <td>0.0</td>\n",
       "      <td>48.00</td>\n",
       "      <td>1.58</td>\n",
       "      <td>27.00</td>\n",
       "      <td>10.03</td>\n",
       "      <td>33.50</td>\n",
       "      <td>5.26</td>\n",
       "      <td>43.454958</td>\n",
       "      <td>0.378083</td>\n",
       "      <td>15.793333</td>\n",
       "      <td>0.849354</td>\n",
       "      <td>23.034792</td>\n",
       "      <td>0.679646</td>\n",
       "    </tr>\n",
       "    <tr>\n",
       "      <th>4</th>\n",
       "      <td>36.25</td>\n",
       "      <td>0.0</td>\n",
       "      <td>1.50</td>\n",
       "      <td>0.0</td>\n",
       "      <td>11.33</td>\n",
       "      <td>0.0</td>\n",
       "      <td>48.00</td>\n",
       "      <td>1.50</td>\n",
       "      <td>26.33</td>\n",
       "      <td>5.17</td>\n",
       "      <td>30.75</td>\n",
       "      <td>2.96</td>\n",
       "      <td>43.969125</td>\n",
       "      <td>0.413125</td>\n",
       "      <td>15.868021</td>\n",
       "      <td>0.666354</td>\n",
       "      <td>22.103750</td>\n",
       "      <td>0.555313</td>\n",
       "    </tr>\n",
       "  </tbody>\n",
       "</table>\n",
       "</div>"
      ],
      "text/plain": [
       "   min_avg_rss12  min_var_rss12  min_avg_rss13  min_var_rss13  min_avg_rss23  \\\n",
       "0          35.00            0.0           6.50            0.0          29.00   \n",
       "1          33.00            0.0           8.50            0.0          20.00   \n",
       "2          33.00            0.0           3.00            0.0          23.67   \n",
       "3          37.00            0.0           5.75            0.0           8.00   \n",
       "4          36.25            0.0           1.50            0.0          11.33   \n",
       "\n",
       "   min_var_rss23  max_avg_rss12  max_var_rss12  max_avg_rss13  max_var_rss13  \\\n",
       "0            0.0          47.40           1.70          29.75           4.44   \n",
       "1            0.0          47.75           3.00          30.00           5.15   \n",
       "2            0.0          45.75           2.83          28.25           6.42   \n",
       "3            0.0          48.00           1.58          27.00          10.03   \n",
       "4            0.0          48.00           1.50          26.33           5.17   \n",
       "\n",
       "   max_avg_rss23  max_var_rss23  mean_avg_rss12  mean_var_rss12  \\\n",
       "0          38.50           1.79       43.954500        0.426250   \n",
       "1          38.67           2.18       42.179813        0.696042   \n",
       "2          37.50           1.79       41.678063        0.535979   \n",
       "3          33.50           5.26       43.454958        0.378083   \n",
       "4          30.75           2.96       43.969125        0.413125   \n",
       "\n",
       "   mean_avg_rss13  mean_var_rss13  mean_avg_rss23  mean_var_rss23  \n",
       "0       22.122354        0.497313       35.588458        0.493292  \n",
       "1       22.183625        0.989917       33.493917        0.613521  \n",
       "2       19.006562        0.841875       29.857083        0.383292  \n",
       "3       15.793333        0.849354       23.034792        0.679646  \n",
       "4       15.868021        0.666354       22.103750        0.555313  "
      ]
     },
     "execution_count": 25,
     "metadata": {},
     "output_type": "execute_result"
    }
   ],
   "source": [
    "#finally---dataframes of train and test data:\n",
    "\n",
    "dataframe_test.head()\n",
    "dataframe_train.head()"
   ]
  },
  {
   "cell_type": "code",
   "execution_count": 26,
   "metadata": {
    "scrolled": true
   },
   "outputs": [
    {
     "data": {
      "text/html": [
       "<div>\n",
       "<style scoped>\n",
       "    .dataframe tbody tr th:only-of-type {\n",
       "        vertical-align: middle;\n",
       "    }\n",
       "\n",
       "    .dataframe tbody tr th {\n",
       "        vertical-align: top;\n",
       "    }\n",
       "\n",
       "    .dataframe thead th {\n",
       "        text-align: right;\n",
       "    }\n",
       "</style>\n",
       "<table border=\"1\" class=\"dataframe\">\n",
       "  <thead>\n",
       "    <tr style=\"text-align: right;\">\n",
       "      <th></th>\n",
       "      <th>min_avg_rss12</th>\n",
       "      <th>min_var_rss12</th>\n",
       "      <th>min_avg_rss13</th>\n",
       "      <th>min_var_rss13</th>\n",
       "      <th>min_avg_rss23</th>\n",
       "      <th>min_var_rss23</th>\n",
       "      <th>max_avg_rss12</th>\n",
       "      <th>max_var_rss12</th>\n",
       "      <th>max_avg_rss13</th>\n",
       "      <th>max_var_rss13</th>\n",
       "      <th>max_avg_rss23</th>\n",
       "      <th>max_var_rss23</th>\n",
       "      <th>mean_avg_rss12</th>\n",
       "      <th>mean_var_rss12</th>\n",
       "      <th>mean_avg_rss13</th>\n",
       "      <th>mean_var_rss13</th>\n",
       "      <th>mean_avg_rss23</th>\n",
       "      <th>mean_var_rss23</th>\n",
       "    </tr>\n",
       "  </thead>\n",
       "  <tbody>\n",
       "    <tr>\n",
       "      <th>count</th>\n",
       "      <td>19.000000</td>\n",
       "      <td>19.0</td>\n",
       "      <td>19.000000</td>\n",
       "      <td>19.0</td>\n",
       "      <td>19.000000</td>\n",
       "      <td>19.0</td>\n",
       "      <td>19.000000</td>\n",
       "      <td>19.000000</td>\n",
       "      <td>19.000000</td>\n",
       "      <td>19.000000</td>\n",
       "      <td>19.000000</td>\n",
       "      <td>19.000000</td>\n",
       "      <td>19.000000</td>\n",
       "      <td>19.000000</td>\n",
       "      <td>19.000000</td>\n",
       "      <td>19.000000</td>\n",
       "      <td>19.000000</td>\n",
       "      <td>19.000000</td>\n",
       "    </tr>\n",
       "    <tr>\n",
       "      <th>mean</th>\n",
       "      <td>27.495263</td>\n",
       "      <td>0.0</td>\n",
       "      <td>2.977895</td>\n",
       "      <td>0.0</td>\n",
       "      <td>6.456316</td>\n",
       "      <td>0.0</td>\n",
       "      <td>45.653684</td>\n",
       "      <td>6.094737</td>\n",
       "      <td>23.193158</td>\n",
       "      <td>6.861579</td>\n",
       "      <td>25.232105</td>\n",
       "      <td>6.356842</td>\n",
       "      <td>38.597621</td>\n",
       "      <td>1.273712</td>\n",
       "      <td>14.684201</td>\n",
       "      <td>1.491305</td>\n",
       "      <td>17.362443</td>\n",
       "      <td>1.535987</td>\n",
       "    </tr>\n",
       "    <tr>\n",
       "      <th>std</th>\n",
       "      <td>12.136206</td>\n",
       "      <td>0.0</td>\n",
       "      <td>2.644618</td>\n",
       "      <td>0.0</td>\n",
       "      <td>8.252947</td>\n",
       "      <td>0.0</td>\n",
       "      <td>4.379342</td>\n",
       "      <td>4.870395</td>\n",
       "      <td>5.393220</td>\n",
       "      <td>1.733937</td>\n",
       "      <td>6.782153</td>\n",
       "      <td>2.505306</td>\n",
       "      <td>6.790086</td>\n",
       "      <td>1.500529</td>\n",
       "      <td>4.588252</td>\n",
       "      <td>1.146338</td>\n",
       "      <td>7.366781</td>\n",
       "      <td>1.119410</td>\n",
       "    </tr>\n",
       "    <tr>\n",
       "      <th>min</th>\n",
       "      <td>0.000000</td>\n",
       "      <td>0.0</td>\n",
       "      <td>0.000000</td>\n",
       "      <td>0.0</td>\n",
       "      <td>0.000000</td>\n",
       "      <td>0.0</td>\n",
       "      <td>30.000000</td>\n",
       "      <td>0.430000</td>\n",
       "      <td>13.000000</td>\n",
       "      <td>2.860000</td>\n",
       "      <td>12.000000</td>\n",
       "      <td>1.920000</td>\n",
       "      <td>24.562958</td>\n",
       "      <td>0.007167</td>\n",
       "      <td>4.900563</td>\n",
       "      <td>0.397313</td>\n",
       "      <td>4.376292</td>\n",
       "      <td>0.570583</td>\n",
       "    </tr>\n",
       "    <tr>\n",
       "      <th>25%</th>\n",
       "      <td>20.665000</td>\n",
       "      <td>0.0</td>\n",
       "      <td>0.500000</td>\n",
       "      <td>0.0</td>\n",
       "      <td>0.500000</td>\n",
       "      <td>0.0</td>\n",
       "      <td>44.875000</td>\n",
       "      <td>1.955000</td>\n",
       "      <td>20.835000</td>\n",
       "      <td>5.775000</td>\n",
       "      <td>22.165000</td>\n",
       "      <td>4.735000</td>\n",
       "      <td>34.444177</td>\n",
       "      <td>0.361146</td>\n",
       "      <td>12.792323</td>\n",
       "      <td>0.691531</td>\n",
       "      <td>13.864604</td>\n",
       "      <td>0.717229</td>\n",
       "    </tr>\n",
       "    <tr>\n",
       "      <th>50%</th>\n",
       "      <td>28.750000</td>\n",
       "      <td>0.0</td>\n",
       "      <td>2.000000</td>\n",
       "      <td>0.0</td>\n",
       "      <td>4.750000</td>\n",
       "      <td>0.0</td>\n",
       "      <td>46.250000</td>\n",
       "      <td>4.440000</td>\n",
       "      <td>23.750000</td>\n",
       "      <td>6.560000</td>\n",
       "      <td>24.500000</td>\n",
       "      <td>6.020000</td>\n",
       "      <td>40.624792</td>\n",
       "      <td>0.486167</td>\n",
       "      <td>15.713083</td>\n",
       "      <td>0.843063</td>\n",
       "      <td>16.621167</td>\n",
       "      <td>0.911979</td>\n",
       "    </tr>\n",
       "    <tr>\n",
       "      <th>75%</th>\n",
       "      <td>36.250000</td>\n",
       "      <td>0.0</td>\n",
       "      <td>5.500000</td>\n",
       "      <td>0.0</td>\n",
       "      <td>7.375000</td>\n",
       "      <td>0.0</td>\n",
       "      <td>48.000000</td>\n",
       "      <td>9.245000</td>\n",
       "      <td>25.290000</td>\n",
       "      <td>8.410000</td>\n",
       "      <td>27.375000</td>\n",
       "      <td>8.755000</td>\n",
       "      <td>43.678938</td>\n",
       "      <td>2.227448</td>\n",
       "      <td>16.995417</td>\n",
       "      <td>2.945646</td>\n",
       "      <td>19.424781</td>\n",
       "      <td>2.843812</td>\n",
       "    </tr>\n",
       "    <tr>\n",
       "      <th>max</th>\n",
       "      <td>48.000000</td>\n",
       "      <td>0.0</td>\n",
       "      <td>7.500000</td>\n",
       "      <td>0.0</td>\n",
       "      <td>27.670000</td>\n",
       "      <td>0.0</td>\n",
       "      <td>51.000000</td>\n",
       "      <td>14.500000</td>\n",
       "      <td>35.000000</td>\n",
       "      <td>9.740000</td>\n",
       "      <td>38.500000</td>\n",
       "      <td>9.740000</td>\n",
       "      <td>48.004167</td>\n",
       "      <td>4.450771</td>\n",
       "      <td>20.842542</td>\n",
       "      <td>3.350854</td>\n",
       "      <td>34.311292</td>\n",
       "      <td>3.394125</td>\n",
       "    </tr>\n",
       "  </tbody>\n",
       "</table>\n",
       "</div>"
      ],
      "text/plain": [
       "       min_avg_rss12  min_var_rss12  min_avg_rss13  min_var_rss13  \\\n",
       "count      19.000000           19.0      19.000000           19.0   \n",
       "mean       27.495263            0.0       2.977895            0.0   \n",
       "std        12.136206            0.0       2.644618            0.0   \n",
       "min         0.000000            0.0       0.000000            0.0   \n",
       "25%        20.665000            0.0       0.500000            0.0   \n",
       "50%        28.750000            0.0       2.000000            0.0   \n",
       "75%        36.250000            0.0       5.500000            0.0   \n",
       "max        48.000000            0.0       7.500000            0.0   \n",
       "\n",
       "       min_avg_rss23  min_var_rss23  max_avg_rss12  max_var_rss12  \\\n",
       "count      19.000000           19.0      19.000000      19.000000   \n",
       "mean        6.456316            0.0      45.653684       6.094737   \n",
       "std         8.252947            0.0       4.379342       4.870395   \n",
       "min         0.000000            0.0      30.000000       0.430000   \n",
       "25%         0.500000            0.0      44.875000       1.955000   \n",
       "50%         4.750000            0.0      46.250000       4.440000   \n",
       "75%         7.375000            0.0      48.000000       9.245000   \n",
       "max        27.670000            0.0      51.000000      14.500000   \n",
       "\n",
       "       max_avg_rss13  max_var_rss13  max_avg_rss23  max_var_rss23  \\\n",
       "count      19.000000      19.000000      19.000000      19.000000   \n",
       "mean       23.193158       6.861579      25.232105       6.356842   \n",
       "std         5.393220       1.733937       6.782153       2.505306   \n",
       "min        13.000000       2.860000      12.000000       1.920000   \n",
       "25%        20.835000       5.775000      22.165000       4.735000   \n",
       "50%        23.750000       6.560000      24.500000       6.020000   \n",
       "75%        25.290000       8.410000      27.375000       8.755000   \n",
       "max        35.000000       9.740000      38.500000       9.740000   \n",
       "\n",
       "       mean_avg_rss12  mean_var_rss12  mean_avg_rss13  mean_var_rss13  \\\n",
       "count       19.000000       19.000000       19.000000       19.000000   \n",
       "mean        38.597621        1.273712       14.684201        1.491305   \n",
       "std          6.790086        1.500529        4.588252        1.146338   \n",
       "min         24.562958        0.007167        4.900563        0.397313   \n",
       "25%         34.444177        0.361146       12.792323        0.691531   \n",
       "50%         40.624792        0.486167       15.713083        0.843063   \n",
       "75%         43.678938        2.227448       16.995417        2.945646   \n",
       "max         48.004167        4.450771       20.842542        3.350854   \n",
       "\n",
       "       mean_avg_rss23  mean_var_rss23  \n",
       "count       19.000000       19.000000  \n",
       "mean        17.362443        1.535987  \n",
       "std          7.366781        1.119410  \n",
       "min          4.376292        0.570583  \n",
       "25%         13.864604        0.717229  \n",
       "50%         16.621167        0.911979  \n",
       "75%         19.424781        2.843812  \n",
       "max         34.311292        3.394125  "
      ]
     },
     "metadata": {},
     "output_type": "display_data"
    }
   ],
   "source": [
    "#describes of both train and test dataframes\n",
    "#A.\n",
    "test_data_described = dataframe_test.describe()\n",
    "display(test_data_described)\n"
   ]
  },
  {
   "cell_type": "code",
   "execution_count": 27,
   "metadata": {},
   "outputs": [
    {
     "data": {
      "text/html": [
       "<div>\n",
       "<style scoped>\n",
       "    .dataframe tbody tr th:only-of-type {\n",
       "        vertical-align: middle;\n",
       "    }\n",
       "\n",
       "    .dataframe tbody tr th {\n",
       "        vertical-align: top;\n",
       "    }\n",
       "\n",
       "    .dataframe thead th {\n",
       "        text-align: right;\n",
       "    }\n",
       "</style>\n",
       "<table border=\"1\" class=\"dataframe\">\n",
       "  <thead>\n",
       "    <tr style=\"text-align: right;\">\n",
       "      <th></th>\n",
       "      <th>min_avg_rss12</th>\n",
       "      <th>min_var_rss12</th>\n",
       "      <th>min_avg_rss13</th>\n",
       "      <th>min_var_rss13</th>\n",
       "      <th>min_avg_rss23</th>\n",
       "      <th>min_var_rss23</th>\n",
       "      <th>max_avg_rss12</th>\n",
       "      <th>max_var_rss12</th>\n",
       "      <th>max_avg_rss13</th>\n",
       "      <th>max_var_rss13</th>\n",
       "      <th>max_avg_rss23</th>\n",
       "      <th>max_var_rss23</th>\n",
       "      <th>mean_avg_rss12</th>\n",
       "      <th>mean_var_rss12</th>\n",
       "      <th>mean_avg_rss13</th>\n",
       "      <th>mean_var_rss13</th>\n",
       "      <th>mean_avg_rss23</th>\n",
       "      <th>mean_var_rss23</th>\n",
       "    </tr>\n",
       "  </thead>\n",
       "  <tbody>\n",
       "    <tr>\n",
       "      <th>count</th>\n",
       "      <td>69.000000</td>\n",
       "      <td>69.0</td>\n",
       "      <td>69.000000</td>\n",
       "      <td>69.0</td>\n",
       "      <td>69.000000</td>\n",
       "      <td>69.000000</td>\n",
       "      <td>69.000000</td>\n",
       "      <td>69.000000</td>\n",
       "      <td>69.000000</td>\n",
       "      <td>69.000000</td>\n",
       "      <td>69.000000</td>\n",
       "      <td>69.000000</td>\n",
       "      <td>69.000000</td>\n",
       "      <td>69.000000</td>\n",
       "      <td>69.000000</td>\n",
       "      <td>69.000000</td>\n",
       "      <td>69.000000</td>\n",
       "      <td>69.000000</td>\n",
       "    </tr>\n",
       "    <tr>\n",
       "      <th>mean</th>\n",
       "      <td>29.461159</td>\n",
       "      <td>0.0</td>\n",
       "      <td>3.135507</td>\n",
       "      <td>0.0</td>\n",
       "      <td>4.186232</td>\n",
       "      <td>0.006232</td>\n",
       "      <td>45.423333</td>\n",
       "      <td>6.343913</td>\n",
       "      <td>22.705652</td>\n",
       "      <td>6.733623</td>\n",
       "      <td>24.068986</td>\n",
       "      <td>6.490870</td>\n",
       "      <td>39.005432</td>\n",
       "      <td>1.510236</td>\n",
       "      <td>14.166249</td>\n",
       "      <td>1.505284</td>\n",
       "      <td>15.669468</td>\n",
       "      <td>1.644086</td>\n",
       "    </tr>\n",
       "    <tr>\n",
       "      <th>std</th>\n",
       "      <td>8.794295</td>\n",
       "      <td>0.0</td>\n",
       "      <td>3.053869</td>\n",
       "      <td>0.0</td>\n",
       "      <td>5.368786</td>\n",
       "      <td>0.051766</td>\n",
       "      <td>4.429182</td>\n",
       "      <td>5.147841</td>\n",
       "      <td>4.759853</td>\n",
       "      <td>2.302408</td>\n",
       "      <td>5.449726</td>\n",
       "      <td>2.540166</td>\n",
       "      <td>4.917692</td>\n",
       "      <td>1.600701</td>\n",
       "      <td>3.863097</td>\n",
       "      <td>1.179861</td>\n",
       "      <td>5.120426</td>\n",
       "      <td>1.171401</td>\n",
       "    </tr>\n",
       "    <tr>\n",
       "      <th>min</th>\n",
       "      <td>0.000000</td>\n",
       "      <td>0.0</td>\n",
       "      <td>0.000000</td>\n",
       "      <td>0.0</td>\n",
       "      <td>0.000000</td>\n",
       "      <td>0.000000</td>\n",
       "      <td>30.000000</td>\n",
       "      <td>0.430000</td>\n",
       "      <td>11.330000</td>\n",
       "      <td>2.490000</td>\n",
       "      <td>12.000000</td>\n",
       "      <td>1.790000</td>\n",
       "      <td>27.716375</td>\n",
       "      <td>0.007167</td>\n",
       "      <td>4.382208</td>\n",
       "      <td>0.332063</td>\n",
       "      <td>4.303979</td>\n",
       "      <td>0.383292</td>\n",
       "    </tr>\n",
       "    <tr>\n",
       "      <th>25%</th>\n",
       "      <td>23.330000</td>\n",
       "      <td>0.0</td>\n",
       "      <td>0.000000</td>\n",
       "      <td>0.0</td>\n",
       "      <td>0.000000</td>\n",
       "      <td>0.000000</td>\n",
       "      <td>44.330000</td>\n",
       "      <td>1.700000</td>\n",
       "      <td>21.250000</td>\n",
       "      <td>5.120000</td>\n",
       "      <td>21.000000</td>\n",
       "      <td>4.500000</td>\n",
       "      <td>34.935813</td>\n",
       "      <td>0.378083</td>\n",
       "      <td>12.728104</td>\n",
       "      <td>0.567500</td>\n",
       "      <td>13.281875</td>\n",
       "      <td>0.734271</td>\n",
       "    </tr>\n",
       "    <tr>\n",
       "      <th>50%</th>\n",
       "      <td>28.500000</td>\n",
       "      <td>0.0</td>\n",
       "      <td>2.500000</td>\n",
       "      <td>0.0</td>\n",
       "      <td>2.500000</td>\n",
       "      <td>0.000000</td>\n",
       "      <td>45.750000</td>\n",
       "      <td>4.500000</td>\n",
       "      <td>23.330000</td>\n",
       "      <td>6.020000</td>\n",
       "      <td>23.250000</td>\n",
       "      <td>6.360000</td>\n",
       "      <td>39.433792</td>\n",
       "      <td>0.496479</td>\n",
       "      <td>15.246292</td>\n",
       "      <td>0.823854</td>\n",
       "      <td>15.873896</td>\n",
       "      <td>0.961167</td>\n",
       "    </tr>\n",
       "    <tr>\n",
       "      <th>75%</th>\n",
       "      <td>36.250000</td>\n",
       "      <td>0.0</td>\n",
       "      <td>6.250000</td>\n",
       "      <td>0.0</td>\n",
       "      <td>6.330000</td>\n",
       "      <td>0.000000</td>\n",
       "      <td>47.670000</td>\n",
       "      <td>11.200000</td>\n",
       "      <td>26.330000</td>\n",
       "      <td>9.010000</td>\n",
       "      <td>25.000000</td>\n",
       "      <td>8.750000</td>\n",
       "      <td>42.821983</td>\n",
       "      <td>2.757312</td>\n",
       "      <td>16.305917</td>\n",
       "      <td>3.013604</td>\n",
       "      <td>16.766096</td>\n",
       "      <td>3.073312</td>\n",
       "    </tr>\n",
       "    <tr>\n",
       "      <th>max</th>\n",
       "      <td>48.000000</td>\n",
       "      <td>0.0</td>\n",
       "      <td>8.500000</td>\n",
       "      <td>0.0</td>\n",
       "      <td>29.000000</td>\n",
       "      <td>0.430000</td>\n",
       "      <td>56.250000</td>\n",
       "      <td>17.240000</td>\n",
       "      <td>32.750000</td>\n",
       "      <td>11.420000</td>\n",
       "      <td>40.330000</td>\n",
       "      <td>13.610000</td>\n",
       "      <td>48.004167</td>\n",
       "      <td>4.576562</td>\n",
       "      <td>22.183625</td>\n",
       "      <td>3.365375</td>\n",
       "      <td>35.588458</td>\n",
       "      <td>3.532463</td>\n",
       "    </tr>\n",
       "  </tbody>\n",
       "</table>\n",
       "</div>"
      ],
      "text/plain": [
       "       min_avg_rss12  min_var_rss12  min_avg_rss13  min_var_rss13  \\\n",
       "count      69.000000           69.0      69.000000           69.0   \n",
       "mean       29.461159            0.0       3.135507            0.0   \n",
       "std         8.794295            0.0       3.053869            0.0   \n",
       "min         0.000000            0.0       0.000000            0.0   \n",
       "25%        23.330000            0.0       0.000000            0.0   \n",
       "50%        28.500000            0.0       2.500000            0.0   \n",
       "75%        36.250000            0.0       6.250000            0.0   \n",
       "max        48.000000            0.0       8.500000            0.0   \n",
       "\n",
       "       min_avg_rss23  min_var_rss23  max_avg_rss12  max_var_rss12  \\\n",
       "count      69.000000      69.000000      69.000000      69.000000   \n",
       "mean        4.186232       0.006232      45.423333       6.343913   \n",
       "std         5.368786       0.051766       4.429182       5.147841   \n",
       "min         0.000000       0.000000      30.000000       0.430000   \n",
       "25%         0.000000       0.000000      44.330000       1.700000   \n",
       "50%         2.500000       0.000000      45.750000       4.500000   \n",
       "75%         6.330000       0.000000      47.670000      11.200000   \n",
       "max        29.000000       0.430000      56.250000      17.240000   \n",
       "\n",
       "       max_avg_rss13  max_var_rss13  max_avg_rss23  max_var_rss23  \\\n",
       "count      69.000000      69.000000      69.000000      69.000000   \n",
       "mean       22.705652       6.733623      24.068986       6.490870   \n",
       "std         4.759853       2.302408       5.449726       2.540166   \n",
       "min        11.330000       2.490000      12.000000       1.790000   \n",
       "25%        21.250000       5.120000      21.000000       4.500000   \n",
       "50%        23.330000       6.020000      23.250000       6.360000   \n",
       "75%        26.330000       9.010000      25.000000       8.750000   \n",
       "max        32.750000      11.420000      40.330000      13.610000   \n",
       "\n",
       "       mean_avg_rss12  mean_var_rss12  mean_avg_rss13  mean_var_rss13  \\\n",
       "count       69.000000       69.000000       69.000000       69.000000   \n",
       "mean        39.005432        1.510236       14.166249        1.505284   \n",
       "std          4.917692        1.600701        3.863097        1.179861   \n",
       "min         27.716375        0.007167        4.382208        0.332063   \n",
       "25%         34.935813        0.378083       12.728104        0.567500   \n",
       "50%         39.433792        0.496479       15.246292        0.823854   \n",
       "75%         42.821983        2.757312       16.305917        3.013604   \n",
       "max         48.004167        4.576562       22.183625        3.365375   \n",
       "\n",
       "       mean_avg_rss23  mean_var_rss23  \n",
       "count       69.000000       69.000000  \n",
       "mean        15.669468        1.644086  \n",
       "std          5.120426        1.171401  \n",
       "min          4.303979        0.383292  \n",
       "25%         13.281875        0.734271  \n",
       "50%         15.873896        0.961167  \n",
       "75%         16.766096        3.073312  \n",
       "max         35.588458        3.532463  "
      ]
     },
     "metadata": {},
     "output_type": "display_data"
    }
   ],
   "source": [
    "#B.\n",
    "train_data_described = dataframe_train.describe()\n",
    "display(train_data_described)"
   ]
  },
  {
   "cell_type": "code",
   "execution_count": 28,
   "metadata": {},
   "outputs": [
    {
     "data": {
      "text/plain": [
       "min_avg_rss12     12.136206\n",
       "min_var_rss12      0.000000\n",
       "min_avg_rss13      2.644618\n",
       "min_var_rss13      0.000000\n",
       "min_avg_rss23      8.252947\n",
       "min_var_rss23      0.000000\n",
       "max_avg_rss12      4.379342\n",
       "max_var_rss12      4.870395\n",
       "max_avg_rss13      5.393220\n",
       "max_var_rss13      1.733937\n",
       "max_avg_rss23      6.782153\n",
       "max_var_rss23      2.505306\n",
       "mean_avg_rss12     6.790086\n",
       "mean_var_rss12     1.500529\n",
       "mean_avg_rss13     4.588252\n",
       "mean_var_rss13     1.146338\n",
       "mean_avg_rss23     7.366781\n",
       "mean_var_rss23     1.119410\n",
       "dtype: float64"
      ]
     },
     "metadata": {},
     "output_type": "display_data"
    }
   ],
   "source": [
    "#standard deviation of Test and Train\n",
    "#A.\n",
    "\n",
    "stand_test = dataframe_test.std()\n",
    "display(stand_test)\n",
    "#stand_test.head()"
   ]
  },
  {
   "cell_type": "code",
   "execution_count": 29,
   "metadata": {},
   "outputs": [
    {
     "data": {
      "text/plain": [
       "min_avg_rss12     8.794295\n",
       "min_var_rss12     0.000000\n",
       "min_avg_rss13     3.053869\n",
       "min_var_rss13     0.000000\n",
       "min_avg_rss23     5.368786\n",
       "min_var_rss23     0.051766\n",
       "max_avg_rss12     4.429182\n",
       "max_var_rss12     5.147841\n",
       "max_avg_rss13     4.759853\n",
       "max_var_rss13     2.302408\n",
       "max_avg_rss23     5.449726\n",
       "max_var_rss23     2.540166\n",
       "mean_avg_rss12    4.917692\n",
       "mean_var_rss12    1.600701\n",
       "mean_avg_rss13    3.863097\n",
       "mean_var_rss13    1.179861\n",
       "mean_avg_rss23    5.120426\n",
       "mean_var_rss23    1.171401\n",
       "dtype: float64"
      ]
     },
     "metadata": {},
     "output_type": "display_data"
    },
    {
     "data": {
      "text/plain": [
       "min_avg_rss12    8.794295\n",
       "min_var_rss12    0.000000\n",
       "min_avg_rss13    3.053869\n",
       "min_var_rss13    0.000000\n",
       "min_avg_rss23    5.368786\n",
       "dtype: float64"
      ]
     },
     "execution_count": 29,
     "metadata": {},
     "output_type": "execute_result"
    }
   ],
   "source": [
    "#B.\n",
    "\n",
    "stand_train = dataframe_train.std()\n",
    "display(stand_train)\n",
    "stand_train.head()"
   ]
  },
  {
   "cell_type": "code",
   "execution_count": 30,
   "metadata": {},
   "outputs": [
    {
     "data": {
      "text/plain": [
       "(2.12535392160341, 4.51365382999951)"
      ]
     },
     "execution_count": 30,
     "metadata": {},
     "output_type": "execute_result"
    }
   ],
   "source": [
    "#Confidence_intervel\n",
    "\n",
    "\n",
    "sms.DescrStatsW(stand_train).tconfint_mean()"
   ]
  },
  {
   "cell_type": "code",
   "execution_count": 31,
   "metadata": {},
   "outputs": [
    {
     "name": "stdout",
     "output_type": "stream",
     "text": [
      "Bootstrapped 95% confidence intervals\n",
      "Low: 2.5875518304352565 \n",
      "High: 5.70993572362632\n"
     ]
    }
   ],
   "source": [
    "#for test set\n",
    "\n",
    "CIs = bootstrap.ci(data=stand_test, statfunction=scipy.mean) \n",
    "print \"Bootstrapped 95% confidence intervals\\nLow:\", CIs[0], \"\\nHigh:\", CIs[1] "
   ]
  },
  {
   "cell_type": "code",
   "execution_count": 32,
   "metadata": {},
   "outputs": [
    {
     "name": "stdout",
     "output_type": "stream",
     "text": [
      "Bootstrapped 95% confidence intervals\n",
      "Low: 2.3366160214964755 \n",
      "High: 4.461767802767716\n"
     ]
    }
   ],
   "source": [
    "#for training set\n",
    "\n",
    "CIs = bootstrap.ci(data=stand_train, statfunction=scipy.mean) \n",
    "print \"Bootstrapped 95% confidence intervals\\nLow:\", CIs[0], \"\\nHigh:\", CIs[1] "
   ]
  },
  {
   "cell_type": "code",
   "execution_count": 33,
   "metadata": {},
   "outputs": [
    {
     "data": {
      "text/html": [
       "<div>\n",
       "<style scoped>\n",
       "    .dataframe tbody tr th:only-of-type {\n",
       "        vertical-align: middle;\n",
       "    }\n",
       "\n",
       "    .dataframe tbody tr th {\n",
       "        vertical-align: top;\n",
       "    }\n",
       "\n",
       "    .dataframe thead th {\n",
       "        text-align: right;\n",
       "    }\n",
       "</style>\n",
       "<table border=\"1\" class=\"dataframe\">\n",
       "  <thead>\n",
       "    <tr style=\"text-align: right;\">\n",
       "      <th></th>\n",
       "      <th>min_avg_rss12</th>\n",
       "      <th>min_var_rss12</th>\n",
       "      <th>min_var_rss23</th>\n",
       "    </tr>\n",
       "  </thead>\n",
       "  <tbody>\n",
       "    <tr>\n",
       "      <th>0</th>\n",
       "      <td>35.00</td>\n",
       "      <td>0.0</td>\n",
       "      <td>0.0</td>\n",
       "    </tr>\n",
       "    <tr>\n",
       "      <th>1</th>\n",
       "      <td>33.00</td>\n",
       "      <td>0.0</td>\n",
       "      <td>0.0</td>\n",
       "    </tr>\n",
       "    <tr>\n",
       "      <th>2</th>\n",
       "      <td>33.00</td>\n",
       "      <td>0.0</td>\n",
       "      <td>0.0</td>\n",
       "    </tr>\n",
       "    <tr>\n",
       "      <th>3</th>\n",
       "      <td>37.00</td>\n",
       "      <td>0.0</td>\n",
       "      <td>0.0</td>\n",
       "    </tr>\n",
       "    <tr>\n",
       "      <th>4</th>\n",
       "      <td>36.25</td>\n",
       "      <td>0.0</td>\n",
       "      <td>0.0</td>\n",
       "    </tr>\n",
       "  </tbody>\n",
       "</table>\n",
       "</div>"
      ],
      "text/plain": [
       "   min_avg_rss12  min_var_rss12  min_var_rss23\n",
       "0          35.00            0.0            0.0\n",
       "1          33.00            0.0            0.0\n",
       "2          33.00            0.0            0.0\n",
       "3          37.00            0.0            0.0\n",
       "4          36.25            0.0            0.0"
      ]
     },
     "execution_count": 33,
     "metadata": {},
     "output_type": "execute_result"
    }
   ],
   "source": [
    "#A.\n",
    "df_train_bend = dataframe_train.iloc[0:9, [0, 1, 5]]\n",
    "#display(df_train_bend)\n",
    "df_train_bend.head()"
   ]
  },
  {
   "cell_type": "code",
   "execution_count": 34,
   "metadata": {},
   "outputs": [
    {
     "data": {
      "text/html": [
       "<div>\n",
       "<style scoped>\n",
       "    .dataframe tbody tr th:only-of-type {\n",
       "        vertical-align: middle;\n",
       "    }\n",
       "\n",
       "    .dataframe tbody tr th {\n",
       "        vertical-align: top;\n",
       "    }\n",
       "\n",
       "    .dataframe thead th {\n",
       "        text-align: right;\n",
       "    }\n",
       "</style>\n",
       "<table border=\"1\" class=\"dataframe\">\n",
       "  <thead>\n",
       "    <tr style=\"text-align: right;\">\n",
       "      <th></th>\n",
       "      <th>min_avg_rss12</th>\n",
       "      <th>min_var_rss12</th>\n",
       "      <th>min_var_rss23</th>\n",
       "    </tr>\n",
       "  </thead>\n",
       "  <tbody>\n",
       "    <tr>\n",
       "      <th>9</th>\n",
       "      <td>19.00</td>\n",
       "      <td>0.0</td>\n",
       "      <td>0.00</td>\n",
       "    </tr>\n",
       "    <tr>\n",
       "      <th>10</th>\n",
       "      <td>26.50</td>\n",
       "      <td>0.0</td>\n",
       "      <td>0.00</td>\n",
       "    </tr>\n",
       "    <tr>\n",
       "      <th>11</th>\n",
       "      <td>25.33</td>\n",
       "      <td>0.0</td>\n",
       "      <td>0.00</td>\n",
       "    </tr>\n",
       "    <tr>\n",
       "      <th>12</th>\n",
       "      <td>26.75</td>\n",
       "      <td>0.0</td>\n",
       "      <td>0.00</td>\n",
       "    </tr>\n",
       "    <tr>\n",
       "      <th>13</th>\n",
       "      <td>26.25</td>\n",
       "      <td>0.0</td>\n",
       "      <td>0.00</td>\n",
       "    </tr>\n",
       "    <tr>\n",
       "      <th>14</th>\n",
       "      <td>27.75</td>\n",
       "      <td>0.0</td>\n",
       "      <td>0.00</td>\n",
       "    </tr>\n",
       "    <tr>\n",
       "      <th>15</th>\n",
       "      <td>27.00</td>\n",
       "      <td>0.0</td>\n",
       "      <td>0.00</td>\n",
       "    </tr>\n",
       "    <tr>\n",
       "      <th>16</th>\n",
       "      <td>27.00</td>\n",
       "      <td>0.0</td>\n",
       "      <td>0.00</td>\n",
       "    </tr>\n",
       "    <tr>\n",
       "      <th>17</th>\n",
       "      <td>18.50</td>\n",
       "      <td>0.0</td>\n",
       "      <td>0.00</td>\n",
       "    </tr>\n",
       "    <tr>\n",
       "      <th>18</th>\n",
       "      <td>19.00</td>\n",
       "      <td>0.0</td>\n",
       "      <td>0.00</td>\n",
       "    </tr>\n",
       "    <tr>\n",
       "      <th>19</th>\n",
       "      <td>23.33</td>\n",
       "      <td>0.0</td>\n",
       "      <td>0.00</td>\n",
       "    </tr>\n",
       "    <tr>\n",
       "      <th>20</th>\n",
       "      <td>24.25</td>\n",
       "      <td>0.0</td>\n",
       "      <td>0.00</td>\n",
       "    </tr>\n",
       "    <tr>\n",
       "      <th>21</th>\n",
       "      <td>34.00</td>\n",
       "      <td>0.0</td>\n",
       "      <td>0.00</td>\n",
       "    </tr>\n",
       "    <tr>\n",
       "      <th>22</th>\n",
       "      <td>39.00</td>\n",
       "      <td>0.0</td>\n",
       "      <td>0.00</td>\n",
       "    </tr>\n",
       "    <tr>\n",
       "      <th>23</th>\n",
       "      <td>0.00</td>\n",
       "      <td>0.0</td>\n",
       "      <td>0.00</td>\n",
       "    </tr>\n",
       "    <tr>\n",
       "      <th>24</th>\n",
       "      <td>39.00</td>\n",
       "      <td>0.0</td>\n",
       "      <td>0.00</td>\n",
       "    </tr>\n",
       "    <tr>\n",
       "      <th>25</th>\n",
       "      <td>39.00</td>\n",
       "      <td>0.0</td>\n",
       "      <td>0.00</td>\n",
       "    </tr>\n",
       "    <tr>\n",
       "      <th>26</th>\n",
       "      <td>39.00</td>\n",
       "      <td>0.0</td>\n",
       "      <td>0.00</td>\n",
       "    </tr>\n",
       "    <tr>\n",
       "      <th>27</th>\n",
       "      <td>23.50</td>\n",
       "      <td>0.0</td>\n",
       "      <td>0.00</td>\n",
       "    </tr>\n",
       "    <tr>\n",
       "      <th>28</th>\n",
       "      <td>48.00</td>\n",
       "      <td>0.0</td>\n",
       "      <td>0.00</td>\n",
       "    </tr>\n",
       "    <tr>\n",
       "      <th>29</th>\n",
       "      <td>39.00</td>\n",
       "      <td>0.0</td>\n",
       "      <td>0.00</td>\n",
       "    </tr>\n",
       "    <tr>\n",
       "      <th>30</th>\n",
       "      <td>39.00</td>\n",
       "      <td>0.0</td>\n",
       "      <td>0.00</td>\n",
       "    </tr>\n",
       "    <tr>\n",
       "      <th>31</th>\n",
       "      <td>39.00</td>\n",
       "      <td>0.0</td>\n",
       "      <td>0.00</td>\n",
       "    </tr>\n",
       "    <tr>\n",
       "      <th>32</th>\n",
       "      <td>23.50</td>\n",
       "      <td>0.0</td>\n",
       "      <td>0.00</td>\n",
       "    </tr>\n",
       "    <tr>\n",
       "      <th>33</th>\n",
       "      <td>42.50</td>\n",
       "      <td>0.0</td>\n",
       "      <td>0.00</td>\n",
       "    </tr>\n",
       "    <tr>\n",
       "      <th>34</th>\n",
       "      <td>25.50</td>\n",
       "      <td>0.0</td>\n",
       "      <td>0.00</td>\n",
       "    </tr>\n",
       "    <tr>\n",
       "      <th>35</th>\n",
       "      <td>27.00</td>\n",
       "      <td>0.0</td>\n",
       "      <td>0.00</td>\n",
       "    </tr>\n",
       "    <tr>\n",
       "      <th>36</th>\n",
       "      <td>27.50</td>\n",
       "      <td>0.0</td>\n",
       "      <td>0.00</td>\n",
       "    </tr>\n",
       "    <tr>\n",
       "      <th>37</th>\n",
       "      <td>42.00</td>\n",
       "      <td>0.0</td>\n",
       "      <td>0.00</td>\n",
       "    </tr>\n",
       "    <tr>\n",
       "      <th>38</th>\n",
       "      <td>41.75</td>\n",
       "      <td>0.0</td>\n",
       "      <td>0.00</td>\n",
       "    </tr>\n",
       "    <tr>\n",
       "      <th>39</th>\n",
       "      <td>35.25</td>\n",
       "      <td>0.0</td>\n",
       "      <td>0.00</td>\n",
       "    </tr>\n",
       "    <tr>\n",
       "      <th>40</th>\n",
       "      <td>28.50</td>\n",
       "      <td>0.0</td>\n",
       "      <td>0.00</td>\n",
       "    </tr>\n",
       "    <tr>\n",
       "      <th>41</th>\n",
       "      <td>39.50</td>\n",
       "      <td>0.0</td>\n",
       "      <td>0.00</td>\n",
       "    </tr>\n",
       "    <tr>\n",
       "      <th>42</th>\n",
       "      <td>39.67</td>\n",
       "      <td>0.0</td>\n",
       "      <td>0.00</td>\n",
       "    </tr>\n",
       "    <tr>\n",
       "      <th>43</th>\n",
       "      <td>40.00</td>\n",
       "      <td>0.0</td>\n",
       "      <td>0.00</td>\n",
       "    </tr>\n",
       "    <tr>\n",
       "      <th>44</th>\n",
       "      <td>29.25</td>\n",
       "      <td>0.0</td>\n",
       "      <td>0.00</td>\n",
       "    </tr>\n",
       "    <tr>\n",
       "      <th>45</th>\n",
       "      <td>30.00</td>\n",
       "      <td>0.0</td>\n",
       "      <td>0.00</td>\n",
       "    </tr>\n",
       "    <tr>\n",
       "      <th>46</th>\n",
       "      <td>36.00</td>\n",
       "      <td>0.0</td>\n",
       "      <td>0.00</td>\n",
       "    </tr>\n",
       "    <tr>\n",
       "      <th>47</th>\n",
       "      <td>34.50</td>\n",
       "      <td>0.0</td>\n",
       "      <td>0.00</td>\n",
       "    </tr>\n",
       "    <tr>\n",
       "      <th>48</th>\n",
       "      <td>35.50</td>\n",
       "      <td>0.0</td>\n",
       "      <td>0.00</td>\n",
       "    </tr>\n",
       "    <tr>\n",
       "      <th>49</th>\n",
       "      <td>29.75</td>\n",
       "      <td>0.0</td>\n",
       "      <td>0.00</td>\n",
       "    </tr>\n",
       "    <tr>\n",
       "      <th>50</th>\n",
       "      <td>36.33</td>\n",
       "      <td>0.0</td>\n",
       "      <td>0.00</td>\n",
       "    </tr>\n",
       "    <tr>\n",
       "      <th>51</th>\n",
       "      <td>36.00</td>\n",
       "      <td>0.0</td>\n",
       "      <td>0.00</td>\n",
       "    </tr>\n",
       "    <tr>\n",
       "      <th>52</th>\n",
       "      <td>37.00</td>\n",
       "      <td>0.0</td>\n",
       "      <td>0.00</td>\n",
       "    </tr>\n",
       "    <tr>\n",
       "      <th>53</th>\n",
       "      <td>36.25</td>\n",
       "      <td>0.0</td>\n",
       "      <td>0.00</td>\n",
       "    </tr>\n",
       "    <tr>\n",
       "      <th>54</th>\n",
       "      <td>36.00</td>\n",
       "      <td>0.0</td>\n",
       "      <td>0.00</td>\n",
       "    </tr>\n",
       "    <tr>\n",
       "      <th>55</th>\n",
       "      <td>36.25</td>\n",
       "      <td>0.0</td>\n",
       "      <td>0.00</td>\n",
       "    </tr>\n",
       "    <tr>\n",
       "      <th>56</th>\n",
       "      <td>36.00</td>\n",
       "      <td>0.0</td>\n",
       "      <td>0.00</td>\n",
       "    </tr>\n",
       "    <tr>\n",
       "      <th>57</th>\n",
       "      <td>18.00</td>\n",
       "      <td>0.0</td>\n",
       "      <td>0.00</td>\n",
       "    </tr>\n",
       "    <tr>\n",
       "      <th>58</th>\n",
       "      <td>20.75</td>\n",
       "      <td>0.0</td>\n",
       "      <td>0.00</td>\n",
       "    </tr>\n",
       "    <tr>\n",
       "      <th>59</th>\n",
       "      <td>21.50</td>\n",
       "      <td>0.0</td>\n",
       "      <td>0.00</td>\n",
       "    </tr>\n",
       "    <tr>\n",
       "      <th>60</th>\n",
       "      <td>18.33</td>\n",
       "      <td>0.0</td>\n",
       "      <td>0.00</td>\n",
       "    </tr>\n",
       "    <tr>\n",
       "      <th>61</th>\n",
       "      <td>18.33</td>\n",
       "      <td>0.0</td>\n",
       "      <td>0.00</td>\n",
       "    </tr>\n",
       "    <tr>\n",
       "      <th>62</th>\n",
       "      <td>15.50</td>\n",
       "      <td>0.0</td>\n",
       "      <td>0.00</td>\n",
       "    </tr>\n",
       "    <tr>\n",
       "      <th>63</th>\n",
       "      <td>21.50</td>\n",
       "      <td>0.0</td>\n",
       "      <td>0.00</td>\n",
       "    </tr>\n",
       "    <tr>\n",
       "      <th>64</th>\n",
       "      <td>19.50</td>\n",
       "      <td>0.0</td>\n",
       "      <td>0.00</td>\n",
       "    </tr>\n",
       "    <tr>\n",
       "      <th>65</th>\n",
       "      <td>19.75</td>\n",
       "      <td>0.0</td>\n",
       "      <td>0.00</td>\n",
       "    </tr>\n",
       "    <tr>\n",
       "      <th>66</th>\n",
       "      <td>19.50</td>\n",
       "      <td>0.0</td>\n",
       "      <td>0.00</td>\n",
       "    </tr>\n",
       "    <tr>\n",
       "      <th>67</th>\n",
       "      <td>23.50</td>\n",
       "      <td>0.0</td>\n",
       "      <td>0.00</td>\n",
       "    </tr>\n",
       "    <tr>\n",
       "      <th>68</th>\n",
       "      <td>19.25</td>\n",
       "      <td>0.0</td>\n",
       "      <td>0.43</td>\n",
       "    </tr>\n",
       "  </tbody>\n",
       "</table>\n",
       "</div>"
      ],
      "text/plain": [
       "    min_avg_rss12  min_var_rss12  min_var_rss23\n",
       "9           19.00            0.0           0.00\n",
       "10          26.50            0.0           0.00\n",
       "11          25.33            0.0           0.00\n",
       "12          26.75            0.0           0.00\n",
       "13          26.25            0.0           0.00\n",
       "14          27.75            0.0           0.00\n",
       "15          27.00            0.0           0.00\n",
       "16          27.00            0.0           0.00\n",
       "17          18.50            0.0           0.00\n",
       "18          19.00            0.0           0.00\n",
       "19          23.33            0.0           0.00\n",
       "20          24.25            0.0           0.00\n",
       "21          34.00            0.0           0.00\n",
       "22          39.00            0.0           0.00\n",
       "23           0.00            0.0           0.00\n",
       "24          39.00            0.0           0.00\n",
       "25          39.00            0.0           0.00\n",
       "26          39.00            0.0           0.00\n",
       "27          23.50            0.0           0.00\n",
       "28          48.00            0.0           0.00\n",
       "29          39.00            0.0           0.00\n",
       "30          39.00            0.0           0.00\n",
       "31          39.00            0.0           0.00\n",
       "32          23.50            0.0           0.00\n",
       "33          42.50            0.0           0.00\n",
       "34          25.50            0.0           0.00\n",
       "35          27.00            0.0           0.00\n",
       "36          27.50            0.0           0.00\n",
       "37          42.00            0.0           0.00\n",
       "38          41.75            0.0           0.00\n",
       "39          35.25            0.0           0.00\n",
       "40          28.50            0.0           0.00\n",
       "41          39.50            0.0           0.00\n",
       "42          39.67            0.0           0.00\n",
       "43          40.00            0.0           0.00\n",
       "44          29.25            0.0           0.00\n",
       "45          30.00            0.0           0.00\n",
       "46          36.00            0.0           0.00\n",
       "47          34.50            0.0           0.00\n",
       "48          35.50            0.0           0.00\n",
       "49          29.75            0.0           0.00\n",
       "50          36.33            0.0           0.00\n",
       "51          36.00            0.0           0.00\n",
       "52          37.00            0.0           0.00\n",
       "53          36.25            0.0           0.00\n",
       "54          36.00            0.0           0.00\n",
       "55          36.25            0.0           0.00\n",
       "56          36.00            0.0           0.00\n",
       "57          18.00            0.0           0.00\n",
       "58          20.75            0.0           0.00\n",
       "59          21.50            0.0           0.00\n",
       "60          18.33            0.0           0.00\n",
       "61          18.33            0.0           0.00\n",
       "62          15.50            0.0           0.00\n",
       "63          21.50            0.0           0.00\n",
       "64          19.50            0.0           0.00\n",
       "65          19.75            0.0           0.00\n",
       "66          19.50            0.0           0.00\n",
       "67          23.50            0.0           0.00\n",
       "68          19.25            0.0           0.43"
      ]
     },
     "metadata": {},
     "output_type": "display_data"
    }
   ],
   "source": [
    "df_train_all = dataframe_train.iloc[9:70, [0, 1, 5]]\n",
    "display(df_train_all)"
   ]
  },
  {
   "cell_type": "code",
   "execution_count": 35,
   "metadata": {},
   "outputs": [
    {
     "data": {
      "image/png": "[encoded data removed]",
      "text/plain": [
       "<matplotlib.figure.Figure at 0x154299e8>"
      ]
     },
     "metadata": {},
     "output_type": "display_data"
    },
    {
     "data": {
      "image/png": "[encoded data removed]",
      "text/plain": [
       "<matplotlib.figure.Figure at 0x14b1eef0>"
      ]
     },
     "metadata": {},
     "output_type": "display_data"
    }
   ],
   "source": [
    "index = [\"min_avg_rss12\", \"min_var_rss12\", \"min_var_rss23\"]\n",
    "\n",
    "ax = df_train_bend.plot(style='ro', legend=False)\n",
    "df_train_all.plot(style='bo', legend=False)\n",
    "plt.show()"
   ]
  },
  {
   "cell_type": "code",
   "execution_count": 36,
   "metadata": {},
   "outputs": [
    {
     "data": {
      "image/png": "[encoded data removed]",
      "text/plain": [
       "<matplotlib.figure.Figure at 0x156f2908>"
      ]
     },
     "metadata": {},
     "output_type": "display_data"
    }
   ],
   "source": [
    "ax = df_train_bend.plot(style='ro', legend=False)\n",
    "df_train_all.plot(style='bo',ax=ax, legend=False)\n",
    "plt.show()"
   ]
  },
  {
   "cell_type": "code",
   "execution_count": 37,
   "metadata": {},
   "outputs": [
    {
     "data": {
      "text/html": [
       "<div>\n",
       "<style scoped>\n",
       "    .dataframe tbody tr th:only-of-type {\n",
       "        vertical-align: middle;\n",
       "    }\n",
       "\n",
       "    .dataframe tbody tr th {\n",
       "        vertical-align: top;\n",
       "    }\n",
       "\n",
       "    .dataframe thead th {\n",
       "        text-align: right;\n",
       "    }\n",
       "</style>\n",
       "<table border=\"1\" class=\"dataframe\">\n",
       "  <thead>\n",
       "    <tr style=\"text-align: right;\">\n",
       "      <th></th>\n",
       "      <th>max_avg_rss12</th>\n",
       "      <th>max_var_rss12</th>\n",
       "      <th>max_var_rss23</th>\n",
       "    </tr>\n",
       "  </thead>\n",
       "  <tbody>\n",
       "    <tr>\n",
       "      <th>0</th>\n",
       "      <td>47.40</td>\n",
       "      <td>1.70</td>\n",
       "      <td>1.79</td>\n",
       "    </tr>\n",
       "    <tr>\n",
       "      <th>1</th>\n",
       "      <td>47.75</td>\n",
       "      <td>3.00</td>\n",
       "      <td>2.18</td>\n",
       "    </tr>\n",
       "    <tr>\n",
       "      <th>2</th>\n",
       "      <td>45.75</td>\n",
       "      <td>2.83</td>\n",
       "      <td>1.79</td>\n",
       "    </tr>\n",
       "    <tr>\n",
       "      <th>3</th>\n",
       "      <td>48.00</td>\n",
       "      <td>1.58</td>\n",
       "      <td>5.26</td>\n",
       "    </tr>\n",
       "    <tr>\n",
       "      <th>4</th>\n",
       "      <td>48.00</td>\n",
       "      <td>1.50</td>\n",
       "      <td>2.96</td>\n",
       "    </tr>\n",
       "  </tbody>\n",
       "</table>\n",
       "</div>"
      ],
      "text/plain": [
       "   max_avg_rss12  max_var_rss12  max_var_rss23\n",
       "0          47.40           1.70           1.79\n",
       "1          47.75           3.00           2.18\n",
       "2          45.75           2.83           1.79\n",
       "3          48.00           1.58           5.26\n",
       "4          48.00           1.50           2.96"
      ]
     },
     "execution_count": 37,
     "metadata": {},
     "output_type": "execute_result"
    }
   ],
   "source": [
    "#B.\n",
    "\n",
    "df_train_bend1 = dataframe_train.iloc[0:9, [0+6, 1+6, 5+6]]\n",
    "#display(df_train_bend1)\n",
    "df_train_bend1.head()\n"
   ]
  },
  {
   "cell_type": "code",
   "execution_count": 38,
   "metadata": {},
   "outputs": [
    {
     "data": {
      "text/html": [
       "<div>\n",
       "<style scoped>\n",
       "    .dataframe tbody tr th:only-of-type {\n",
       "        vertical-align: middle;\n",
       "    }\n",
       "\n",
       "    .dataframe tbody tr th {\n",
       "        vertical-align: top;\n",
       "    }\n",
       "\n",
       "    .dataframe thead th {\n",
       "        text-align: right;\n",
       "    }\n",
       "</style>\n",
       "<table border=\"1\" class=\"dataframe\">\n",
       "  <thead>\n",
       "    <tr style=\"text-align: right;\">\n",
       "      <th></th>\n",
       "      <th>max_avg_rss12</th>\n",
       "      <th>max_var_rss12</th>\n",
       "      <th>max_var_rss23</th>\n",
       "    </tr>\n",
       "  </thead>\n",
       "  <tbody>\n",
       "    <tr>\n",
       "      <th>9</th>\n",
       "      <td>44.00</td>\n",
       "      <td>12.28</td>\n",
       "      <td>9.98</td>\n",
       "    </tr>\n",
       "    <tr>\n",
       "      <th>10</th>\n",
       "      <td>44.33</td>\n",
       "      <td>12.89</td>\n",
       "      <td>8.19</td>\n",
       "    </tr>\n",
       "    <tr>\n",
       "      <th>11</th>\n",
       "      <td>45.00</td>\n",
       "      <td>10.84</td>\n",
       "      <td>9.50</td>\n",
       "    </tr>\n",
       "    <tr>\n",
       "      <th>12</th>\n",
       "      <td>44.75</td>\n",
       "      <td>11.68</td>\n",
       "      <td>8.81</td>\n",
       "    </tr>\n",
       "    <tr>\n",
       "      <th>13</th>\n",
       "      <td>44.25</td>\n",
       "      <td>8.64</td>\n",
       "      <td>8.34</td>\n",
       "    </tr>\n",
       "  </tbody>\n",
       "</table>\n",
       "</div>"
      ],
      "text/plain": [
       "    max_avg_rss12  max_var_rss12  max_var_rss23\n",
       "9           44.00          12.28           9.98\n",
       "10          44.33          12.89           8.19\n",
       "11          45.00          10.84           9.50\n",
       "12          44.75          11.68           8.81\n",
       "13          44.25           8.64           8.34"
      ]
     },
     "execution_count": 38,
     "metadata": {},
     "output_type": "execute_result"
    }
   ],
   "source": [
    "df_train_all1 = dataframe_train.iloc[9:70, [0+6, 1+6, 5+6]]\n",
    "#display(df_train_all1)\n",
    "df_train_all1.head()"
   ]
  },
  {
   "cell_type": "code",
   "execution_count": 39,
   "metadata": {},
   "outputs": [
    {
     "data": {
      "image/png": "[encoded data removed]",
      "text/plain": [
       "<matplotlib.figure.Figure at 0x154371d0>"
      ]
     },
     "metadata": {},
     "output_type": "display_data"
    }
   ],
   "source": [
    "ax = df_train_bend1.plot(style='ro', legend=False)\n",
    "df_train_all1.plot(style='bo',ax=ax, legend=False)\n",
    "plt.show()"
   ]
  },
  {
   "cell_type": "code",
   "execution_count": 40,
   "metadata": {},
   "outputs": [
    {
     "data": {
      "text/html": [
       "<div>\n",
       "<style scoped>\n",
       "    .dataframe tbody tr th:only-of-type {\n",
       "        vertical-align: middle;\n",
       "    }\n",
       "\n",
       "    .dataframe tbody tr th {\n",
       "        vertical-align: top;\n",
       "    }\n",
       "\n",
       "    .dataframe thead th {\n",
       "        text-align: right;\n",
       "    }\n",
       "</style>\n",
       "<table border=\"1\" class=\"dataframe\">\n",
       "  <thead>\n",
       "    <tr style=\"text-align: right;\">\n",
       "      <th></th>\n",
       "      <th>mean_avg_rss12</th>\n",
       "      <th>mean_var_rss12</th>\n",
       "      <th>mean_var_rss23</th>\n",
       "    </tr>\n",
       "  </thead>\n",
       "  <tbody>\n",
       "    <tr>\n",
       "      <th>0</th>\n",
       "      <td>43.954500</td>\n",
       "      <td>0.426250</td>\n",
       "      <td>0.493292</td>\n",
       "    </tr>\n",
       "    <tr>\n",
       "      <th>1</th>\n",
       "      <td>42.179813</td>\n",
       "      <td>0.696042</td>\n",
       "      <td>0.613521</td>\n",
       "    </tr>\n",
       "    <tr>\n",
       "      <th>2</th>\n",
       "      <td>41.678063</td>\n",
       "      <td>0.535979</td>\n",
       "      <td>0.383292</td>\n",
       "    </tr>\n",
       "    <tr>\n",
       "      <th>3</th>\n",
       "      <td>43.454958</td>\n",
       "      <td>0.378083</td>\n",
       "      <td>0.679646</td>\n",
       "    </tr>\n",
       "    <tr>\n",
       "      <th>4</th>\n",
       "      <td>43.969125</td>\n",
       "      <td>0.413125</td>\n",
       "      <td>0.555313</td>\n",
       "    </tr>\n",
       "  </tbody>\n",
       "</table>\n",
       "</div>"
      ],
      "text/plain": [
       "   mean_avg_rss12  mean_var_rss12  mean_var_rss23\n",
       "0       43.954500        0.426250        0.493292\n",
       "1       42.179813        0.696042        0.613521\n",
       "2       41.678063        0.535979        0.383292\n",
       "3       43.454958        0.378083        0.679646\n",
       "4       43.969125        0.413125        0.555313"
      ]
     },
     "execution_count": 40,
     "metadata": {},
     "output_type": "execute_result"
    }
   ],
   "source": [
    "#C.\n",
    "\n",
    "df_train_bend2 = dataframe_train.iloc[0:9, [0+12, 1+12, 5+12]]\n",
    "#display(df_train_bend1)\n",
    "df_train_bend2.head()\n",
    "\n"
   ]
  },
  {
   "cell_type": "code",
   "execution_count": 41,
   "metadata": {},
   "outputs": [
    {
     "data": {
      "text/html": [
       "<div>\n",
       "<style scoped>\n",
       "    .dataframe tbody tr th:only-of-type {\n",
       "        vertical-align: middle;\n",
       "    }\n",
       "\n",
       "    .dataframe tbody tr th {\n",
       "        vertical-align: top;\n",
       "    }\n",
       "\n",
       "    .dataframe thead th {\n",
       "        text-align: right;\n",
       "    }\n",
       "</style>\n",
       "<table border=\"1\" class=\"dataframe\">\n",
       "  <thead>\n",
       "    <tr style=\"text-align: right;\">\n",
       "      <th></th>\n",
       "      <th>mean_avg_rss12</th>\n",
       "      <th>mean_var_rss12</th>\n",
       "      <th>mean_var_rss23</th>\n",
       "    </tr>\n",
       "  </thead>\n",
       "  <tbody>\n",
       "    <tr>\n",
       "      <th>9</th>\n",
       "      <td>36.228396</td>\n",
       "      <td>2.831687</td>\n",
       "      <td>3.480687</td>\n",
       "    </tr>\n",
       "    <tr>\n",
       "      <th>10</th>\n",
       "      <td>36.687292</td>\n",
       "      <td>2.973042</td>\n",
       "      <td>3.073312</td>\n",
       "    </tr>\n",
       "    <tr>\n",
       "      <th>11</th>\n",
       "      <td>37.114312</td>\n",
       "      <td>2.730000</td>\n",
       "      <td>3.076354</td>\n",
       "    </tr>\n",
       "    <tr>\n",
       "      <th>12</th>\n",
       "      <td>36.863375</td>\n",
       "      <td>2.757312</td>\n",
       "      <td>2.773312</td>\n",
       "    </tr>\n",
       "    <tr>\n",
       "      <th>13</th>\n",
       "      <td>36.957458</td>\n",
       "      <td>2.420083</td>\n",
       "      <td>2.934625</td>\n",
       "    </tr>\n",
       "  </tbody>\n",
       "</table>\n",
       "</div>"
      ],
      "text/plain": [
       "    mean_avg_rss12  mean_var_rss12  mean_var_rss23\n",
       "9        36.228396        2.831687        3.480687\n",
       "10       36.687292        2.973042        3.073312\n",
       "11       37.114312        2.730000        3.076354\n",
       "12       36.863375        2.757312        2.773312\n",
       "13       36.957458        2.420083        2.934625"
      ]
     },
     "execution_count": 41,
     "metadata": {},
     "output_type": "execute_result"
    }
   ],
   "source": [
    "df_train_all2 = dataframe_train.iloc[9:70, [0+12, 1+12, 5+12]]\n",
    "#display(df_train_all1)\n",
    "df_train_all2.head()"
   ]
  },
  {
   "cell_type": "code",
   "execution_count": 42,
   "metadata": {},
   "outputs": [
    {
     "data": {
      "image/png": "[encoded data removed]",
      "text/plain": [
       "<matplotlib.figure.Figure at 0x178c2978>"
      ]
     },
     "metadata": {},
     "output_type": "display_data"
    }
   ],
   "source": [
    "ax = df_train_bend2.plot(style='ro', legend=False)\n",
    "df_train_all2.plot(style='bo',ax=ax, legend=False)\n",
    "plt.show()"
   ]
  },
  {
   "cell_type": "code",
   "execution_count": 43,
   "metadata": {},
   "outputs": [
    {
     "data": {
      "text/html": [
       "<div>\n",
       "<style scoped>\n",
       "    .dataframe tbody tr th:only-of-type {\n",
       "        vertical-align: middle;\n",
       "    }\n",
       "\n",
       "    .dataframe tbody tr th {\n",
       "        vertical-align: top;\n",
       "    }\n",
       "\n",
       "    .dataframe thead th {\n",
       "        text-align: right;\n",
       "    }\n",
       "</style>\n",
       "<table border=\"1\" class=\"dataframe\">\n",
       "  <thead>\n",
       "    <tr style=\"text-align: right;\">\n",
       "      <th></th>\n",
       "      <th>min_avg_rss12</th>\n",
       "      <th>min_var_rss12</th>\n",
       "      <th>min_avg_rss13</th>\n",
       "      <th>min_var_rss13</th>\n",
       "      <th>min_avg_rss23</th>\n",
       "      <th>min_var_rss23</th>\n",
       "      <th>max_avg_rss12</th>\n",
       "      <th>max_var_rss12</th>\n",
       "      <th>max_avg_rss13</th>\n",
       "      <th>max_var_rss13</th>\n",
       "      <th>max_avg_rss23</th>\n",
       "      <th>max_var_rss23</th>\n",
       "      <th>mean_avg_rss12</th>\n",
       "      <th>mean_var_rss12</th>\n",
       "      <th>mean_avg_rss13</th>\n",
       "      <th>mean_var_rss13</th>\n",
       "      <th>mean_avg_rss23</th>\n",
       "      <th>mean_var_rss23</th>\n",
       "    </tr>\n",
       "  </thead>\n",
       "  <tbody>\n",
       "    <tr>\n",
       "      <th>0</th>\n",
       "      <td>35.00</td>\n",
       "      <td>0.0</td>\n",
       "      <td>6.50</td>\n",
       "      <td>0.0</td>\n",
       "      <td>29.00</td>\n",
       "      <td>0.0</td>\n",
       "      <td>47.40</td>\n",
       "      <td>1.70</td>\n",
       "      <td>29.75</td>\n",
       "      <td>4.44</td>\n",
       "      <td>38.50</td>\n",
       "      <td>1.79</td>\n",
       "      <td>43.954500</td>\n",
       "      <td>0.426250</td>\n",
       "      <td>22.122354</td>\n",
       "      <td>0.497313</td>\n",
       "      <td>35.588458</td>\n",
       "      <td>0.493292</td>\n",
       "    </tr>\n",
       "    <tr>\n",
       "      <th>1</th>\n",
       "      <td>33.00</td>\n",
       "      <td>0.0</td>\n",
       "      <td>8.50</td>\n",
       "      <td>0.0</td>\n",
       "      <td>20.00</td>\n",
       "      <td>0.0</td>\n",
       "      <td>47.75</td>\n",
       "      <td>3.00</td>\n",
       "      <td>30.00</td>\n",
       "      <td>5.15</td>\n",
       "      <td>38.67</td>\n",
       "      <td>2.18</td>\n",
       "      <td>42.179813</td>\n",
       "      <td>0.696042</td>\n",
       "      <td>22.183625</td>\n",
       "      <td>0.989917</td>\n",
       "      <td>33.493917</td>\n",
       "      <td>0.613521</td>\n",
       "    </tr>\n",
       "    <tr>\n",
       "      <th>2</th>\n",
       "      <td>33.00</td>\n",
       "      <td>0.0</td>\n",
       "      <td>3.00</td>\n",
       "      <td>0.0</td>\n",
       "      <td>23.67</td>\n",
       "      <td>0.0</td>\n",
       "      <td>45.75</td>\n",
       "      <td>2.83</td>\n",
       "      <td>28.25</td>\n",
       "      <td>6.42</td>\n",
       "      <td>37.50</td>\n",
       "      <td>1.79</td>\n",
       "      <td>41.678063</td>\n",
       "      <td>0.535979</td>\n",
       "      <td>19.006562</td>\n",
       "      <td>0.841875</td>\n",
       "      <td>29.857083</td>\n",
       "      <td>0.383292</td>\n",
       "    </tr>\n",
       "    <tr>\n",
       "      <th>3</th>\n",
       "      <td>37.00</td>\n",
       "      <td>0.0</td>\n",
       "      <td>5.75</td>\n",
       "      <td>0.0</td>\n",
       "      <td>8.00</td>\n",
       "      <td>0.0</td>\n",
       "      <td>48.00</td>\n",
       "      <td>1.58</td>\n",
       "      <td>27.00</td>\n",
       "      <td>10.03</td>\n",
       "      <td>33.50</td>\n",
       "      <td>5.26</td>\n",
       "      <td>43.454958</td>\n",
       "      <td>0.378083</td>\n",
       "      <td>15.793333</td>\n",
       "      <td>0.849354</td>\n",
       "      <td>23.034792</td>\n",
       "      <td>0.679646</td>\n",
       "    </tr>\n",
       "    <tr>\n",
       "      <th>4</th>\n",
       "      <td>36.25</td>\n",
       "      <td>0.0</td>\n",
       "      <td>1.50</td>\n",
       "      <td>0.0</td>\n",
       "      <td>11.33</td>\n",
       "      <td>0.0</td>\n",
       "      <td>48.00</td>\n",
       "      <td>1.50</td>\n",
       "      <td>26.33</td>\n",
       "      <td>5.17</td>\n",
       "      <td>30.75</td>\n",
       "      <td>2.96</td>\n",
       "      <td>43.969125</td>\n",
       "      <td>0.413125</td>\n",
       "      <td>15.868021</td>\n",
       "      <td>0.666354</td>\n",
       "      <td>22.103750</td>\n",
       "      <td>0.555313</td>\n",
       "    </tr>\n",
       "  </tbody>\n",
       "</table>\n",
       "</div>"
      ],
      "text/plain": [
       "   min_avg_rss12  min_var_rss12  min_avg_rss13  min_var_rss13  min_avg_rss23  \\\n",
       "0          35.00            0.0           6.50            0.0          29.00   \n",
       "1          33.00            0.0           8.50            0.0          20.00   \n",
       "2          33.00            0.0           3.00            0.0          23.67   \n",
       "3          37.00            0.0           5.75            0.0           8.00   \n",
       "4          36.25            0.0           1.50            0.0          11.33   \n",
       "\n",
       "   min_var_rss23  max_avg_rss12  max_var_rss12  max_avg_rss13  max_var_rss13  \\\n",
       "0            0.0          47.40           1.70          29.75           4.44   \n",
       "1            0.0          47.75           3.00          30.00           5.15   \n",
       "2            0.0          45.75           2.83          28.25           6.42   \n",
       "3            0.0          48.00           1.58          27.00          10.03   \n",
       "4            0.0          48.00           1.50          26.33           5.17   \n",
       "\n",
       "   max_avg_rss23  max_var_rss23  mean_avg_rss12  mean_var_rss12  \\\n",
       "0          38.50           1.79       43.954500        0.426250   \n",
       "1          38.67           2.18       42.179813        0.696042   \n",
       "2          37.50           1.79       41.678063        0.535979   \n",
       "3          33.50           5.26       43.454958        0.378083   \n",
       "4          30.75           2.96       43.969125        0.413125   \n",
       "\n",
       "   mean_avg_rss13  mean_var_rss13  mean_avg_rss23  mean_var_rss23  \n",
       "0       22.122354        0.497313       35.588458        0.493292  \n",
       "1       22.183625        0.989917       33.493917        0.613521  \n",
       "2       19.006562        0.841875       29.857083        0.383292  \n",
       "3       15.793333        0.849354       23.034792        0.679646  \n",
       "4       15.868021        0.666354       22.103750        0.555313  "
      ]
     },
     "execution_count": 43,
     "metadata": {},
     "output_type": "execute_result"
    }
   ],
   "source": [
    "df_train_half1 = dataframe_train.iloc[0:35,:]\n",
    "#display(df_train_half1)\n",
    "df_train_half1.head()"
   ]
  },
  {
   "cell_type": "code",
   "execution_count": 44,
   "metadata": {},
   "outputs": [
    {
     "data": {
      "text/html": [
       "<div>\n",
       "<style scoped>\n",
       "    .dataframe tbody tr th:only-of-type {\n",
       "        vertical-align: middle;\n",
       "    }\n",
       "\n",
       "    .dataframe tbody tr th {\n",
       "        vertical-align: top;\n",
       "    }\n",
       "\n",
       "    .dataframe thead th {\n",
       "        text-align: right;\n",
       "    }\n",
       "</style>\n",
       "<table border=\"1\" class=\"dataframe\">\n",
       "  <thead>\n",
       "    <tr style=\"text-align: right;\">\n",
       "      <th></th>\n",
       "      <th>min_avg_rss12</th>\n",
       "      <th>min_var_rss12</th>\n",
       "      <th>min_avg_rss13</th>\n",
       "      <th>min_var_rss13</th>\n",
       "      <th>min_avg_rss23</th>\n",
       "      <th>min_var_rss23</th>\n",
       "      <th>max_avg_rss12</th>\n",
       "      <th>max_var_rss12</th>\n",
       "      <th>max_avg_rss13</th>\n",
       "      <th>max_var_rss13</th>\n",
       "      <th>max_avg_rss23</th>\n",
       "      <th>max_var_rss23</th>\n",
       "      <th>mean_avg_rss12</th>\n",
       "      <th>mean_var_rss12</th>\n",
       "      <th>mean_avg_rss13</th>\n",
       "      <th>mean_var_rss13</th>\n",
       "      <th>mean_avg_rss23</th>\n",
       "      <th>mean_var_rss23</th>\n",
       "    </tr>\n",
       "  </thead>\n",
       "  <tbody>\n",
       "    <tr>\n",
       "      <th>36</th>\n",
       "      <td>27.50</td>\n",
       "      <td>0.0</td>\n",
       "      <td>1.5</td>\n",
       "      <td>0.0</td>\n",
       "      <td>0.00</td>\n",
       "      <td>0.0</td>\n",
       "      <td>50.75</td>\n",
       "      <td>6.06</td>\n",
       "      <td>23.25</td>\n",
       "      <td>6.02</td>\n",
       "      <td>23.75</td>\n",
       "      <td>5.17</td>\n",
       "      <td>38.888375</td>\n",
       "      <td>0.383438</td>\n",
       "      <td>14.854167</td>\n",
       "      <td>0.654271</td>\n",
       "      <td>16.522021</td>\n",
       "      <td>0.840208</td>\n",
       "    </tr>\n",
       "    <tr>\n",
       "      <th>37</th>\n",
       "      <td>42.00</td>\n",
       "      <td>0.0</td>\n",
       "      <td>0.0</td>\n",
       "      <td>0.0</td>\n",
       "      <td>1.00</td>\n",
       "      <td>0.0</td>\n",
       "      <td>45.00</td>\n",
       "      <td>1.12</td>\n",
       "      <td>23.00</td>\n",
       "      <td>5.45</td>\n",
       "      <td>23.00</td>\n",
       "      <td>6.36</td>\n",
       "      <td>42.821983</td>\n",
       "      <td>0.335678</td>\n",
       "      <td>17.199708</td>\n",
       "      <td>0.531190</td>\n",
       "      <td>16.025658</td>\n",
       "      <td>0.856013</td>\n",
       "    </tr>\n",
       "    <tr>\n",
       "      <th>38</th>\n",
       "      <td>41.75</td>\n",
       "      <td>0.0</td>\n",
       "      <td>0.0</td>\n",
       "      <td>0.0</td>\n",
       "      <td>5.67</td>\n",
       "      <td>0.0</td>\n",
       "      <td>46.50</td>\n",
       "      <td>1.50</td>\n",
       "      <td>21.67</td>\n",
       "      <td>4.64</td>\n",
       "      <td>22.00</td>\n",
       "      <td>5.45</td>\n",
       "      <td>43.190854</td>\n",
       "      <td>0.266271</td>\n",
       "      <td>14.858313</td>\n",
       "      <td>0.510208</td>\n",
       "      <td>16.043167</td>\n",
       "      <td>0.806229</td>\n",
       "    </tr>\n",
       "    <tr>\n",
       "      <th>39</th>\n",
       "      <td>35.25</td>\n",
       "      <td>0.0</td>\n",
       "      <td>0.0</td>\n",
       "      <td>0.0</td>\n",
       "      <td>0.00</td>\n",
       "      <td>0.0</td>\n",
       "      <td>48.50</td>\n",
       "      <td>3.28</td>\n",
       "      <td>23.50</td>\n",
       "      <td>5.12</td>\n",
       "      <td>27.33</td>\n",
       "      <td>6.36</td>\n",
       "      <td>40.219271</td>\n",
       "      <td>0.617479</td>\n",
       "      <td>14.851229</td>\n",
       "      <td>0.872229</td>\n",
       "      <td>15.167271</td>\n",
       "      <td>1.057729</td>\n",
       "    </tr>\n",
       "    <tr>\n",
       "      <th>40</th>\n",
       "      <td>28.50</td>\n",
       "      <td>0.0</td>\n",
       "      <td>0.0</td>\n",
       "      <td>0.0</td>\n",
       "      <td>1.50</td>\n",
       "      <td>0.0</td>\n",
       "      <td>48.25</td>\n",
       "      <td>3.28</td>\n",
       "      <td>24.25</td>\n",
       "      <td>6.98</td>\n",
       "      <td>25.00</td>\n",
       "      <td>7.00</td>\n",
       "      <td>43.884833</td>\n",
       "      <td>0.517354</td>\n",
       "      <td>14.997375</td>\n",
       "      <td>1.047688</td>\n",
       "      <td>14.920542</td>\n",
       "      <td>1.354917</td>\n",
       "    </tr>\n",
       "  </tbody>\n",
       "</table>\n",
       "</div>"
      ],
      "text/plain": [
       "    min_avg_rss12  min_var_rss12  min_avg_rss13  min_var_rss13  min_avg_rss23  \\\n",
       "36          27.50            0.0            1.5            0.0           0.00   \n",
       "37          42.00            0.0            0.0            0.0           1.00   \n",
       "38          41.75            0.0            0.0            0.0           5.67   \n",
       "39          35.25            0.0            0.0            0.0           0.00   \n",
       "40          28.50            0.0            0.0            0.0           1.50   \n",
       "\n",
       "    min_var_rss23  max_avg_rss12  max_var_rss12  max_avg_rss13  max_var_rss13  \\\n",
       "36            0.0          50.75           6.06          23.25           6.02   \n",
       "37            0.0          45.00           1.12          23.00           5.45   \n",
       "38            0.0          46.50           1.50          21.67           4.64   \n",
       "39            0.0          48.50           3.28          23.50           5.12   \n",
       "40            0.0          48.25           3.28          24.25           6.98   \n",
       "\n",
       "    max_avg_rss23  max_var_rss23  mean_avg_rss12  mean_var_rss12  \\\n",
       "36          23.75           5.17       38.888375        0.383438   \n",
       "37          23.00           6.36       42.821983        0.335678   \n",
       "38          22.00           5.45       43.190854        0.266271   \n",
       "39          27.33           6.36       40.219271        0.617479   \n",
       "40          25.00           7.00       43.884833        0.517354   \n",
       "\n",
       "    mean_avg_rss13  mean_var_rss13  mean_avg_rss23  mean_var_rss23  \n",
       "36       14.854167        0.654271       16.522021        0.840208  \n",
       "37       17.199708        0.531190       16.025658        0.856013  \n",
       "38       14.858313        0.510208       16.043167        0.806229  \n",
       "39       14.851229        0.872229       15.167271        1.057729  \n",
       "40       14.997375        1.047688       14.920542        1.354917  "
      ]
     },
     "execution_count": 44,
     "metadata": {},
     "output_type": "execute_result"
    }
   ],
   "source": [
    "df_train_half2 = dataframe_train.iloc[36:,:]\n",
    "#display(df_train_half2)\n",
    "df_train_half2.head()"
   ]
  },
  {
   "cell_type": "code",
   "execution_count": 45,
   "metadata": {},
   "outputs": [
    {
     "data": {
      "text/html": [
       "<div>\n",
       "<style scoped>\n",
       "    .dataframe tbody tr th:only-of-type {\n",
       "        vertical-align: middle;\n",
       "    }\n",
       "\n",
       "    .dataframe tbody tr th {\n",
       "        vertical-align: top;\n",
       "    }\n",
       "\n",
       "    .dataframe thead th {\n",
       "        text-align: right;\n",
       "    }\n",
       "</style>\n",
       "<table border=\"1\" class=\"dataframe\">\n",
       "  <thead>\n",
       "    <tr style=\"text-align: right;\">\n",
       "      <th></th>\n",
       "      <th>min_avg_rss12</th>\n",
       "      <th>min_var_rss12</th>\n",
       "      <th>min_var_rss23</th>\n",
       "    </tr>\n",
       "  </thead>\n",
       "  <tbody>\n",
       "    <tr>\n",
       "      <th>0</th>\n",
       "      <td>35.00</td>\n",
       "      <td>0.0</td>\n",
       "      <td>0.0</td>\n",
       "    </tr>\n",
       "    <tr>\n",
       "      <th>1</th>\n",
       "      <td>33.00</td>\n",
       "      <td>0.0</td>\n",
       "      <td>0.0</td>\n",
       "    </tr>\n",
       "    <tr>\n",
       "      <th>2</th>\n",
       "      <td>33.00</td>\n",
       "      <td>0.0</td>\n",
       "      <td>0.0</td>\n",
       "    </tr>\n",
       "    <tr>\n",
       "      <th>3</th>\n",
       "      <td>37.00</td>\n",
       "      <td>0.0</td>\n",
       "      <td>0.0</td>\n",
       "    </tr>\n",
       "    <tr>\n",
       "      <th>4</th>\n",
       "      <td>36.25</td>\n",
       "      <td>0.0</td>\n",
       "      <td>0.0</td>\n",
       "    </tr>\n",
       "  </tbody>\n",
       "</table>\n",
       "</div>"
      ],
      "text/plain": [
       "   min_avg_rss12  min_var_rss12  min_var_rss23\n",
       "0          35.00            0.0            0.0\n",
       "1          33.00            0.0            0.0\n",
       "2          33.00            0.0            0.0\n",
       "3          37.00            0.0            0.0\n",
       "4          36.25            0.0            0.0"
      ]
     },
     "execution_count": 45,
     "metadata": {},
     "output_type": "execute_result"
    }
   ],
   "source": [
    "df_train_bend_half1 = df_train_half1.iloc[0:9, [0, 1, 5]]\n",
    "#display(df_train_bend_half1)\n",
    "df_train_bend_half1.head()"
   ]
  },
  {
   "cell_type": "code",
   "execution_count": 46,
   "metadata": {},
   "outputs": [
    {
     "data": {
      "text/html": [
       "<div>\n",
       "<style scoped>\n",
       "    .dataframe tbody tr th:only-of-type {\n",
       "        vertical-align: middle;\n",
       "    }\n",
       "\n",
       "    .dataframe tbody tr th {\n",
       "        vertical-align: top;\n",
       "    }\n",
       "\n",
       "    .dataframe thead th {\n",
       "        text-align: right;\n",
       "    }\n",
       "</style>\n",
       "<table border=\"1\" class=\"dataframe\">\n",
       "  <thead>\n",
       "    <tr style=\"text-align: right;\">\n",
       "      <th></th>\n",
       "      <th>min_avg_rss12</th>\n",
       "      <th>min_var_rss12</th>\n",
       "      <th>min_var_rss23</th>\n",
       "    </tr>\n",
       "  </thead>\n",
       "  <tbody>\n",
       "    <tr>\n",
       "      <th>9</th>\n",
       "      <td>19.00</td>\n",
       "      <td>0.0</td>\n",
       "      <td>0.0</td>\n",
       "    </tr>\n",
       "    <tr>\n",
       "      <th>10</th>\n",
       "      <td>26.50</td>\n",
       "      <td>0.0</td>\n",
       "      <td>0.0</td>\n",
       "    </tr>\n",
       "    <tr>\n",
       "      <th>11</th>\n",
       "      <td>25.33</td>\n",
       "      <td>0.0</td>\n",
       "      <td>0.0</td>\n",
       "    </tr>\n",
       "    <tr>\n",
       "      <th>12</th>\n",
       "      <td>26.75</td>\n",
       "      <td>0.0</td>\n",
       "      <td>0.0</td>\n",
       "    </tr>\n",
       "    <tr>\n",
       "      <th>13</th>\n",
       "      <td>26.25</td>\n",
       "      <td>0.0</td>\n",
       "      <td>0.0</td>\n",
       "    </tr>\n",
       "  </tbody>\n",
       "</table>\n",
       "</div>"
      ],
      "text/plain": [
       "    min_avg_rss12  min_var_rss12  min_var_rss23\n",
       "9           19.00            0.0            0.0\n",
       "10          26.50            0.0            0.0\n",
       "11          25.33            0.0            0.0\n",
       "12          26.75            0.0            0.0\n",
       "13          26.25            0.0            0.0"
      ]
     },
     "execution_count": 46,
     "metadata": {},
     "output_type": "execute_result"
    }
   ],
   "source": [
    "df_train_all_half1 = df_train_half1.iloc[9:, [0, 1, 5]]\n",
    "#display(df_train_all)\n",
    "df_train_all.head()"
   ]
  },
  {
   "cell_type": "code",
   "execution_count": 47,
   "metadata": {},
   "outputs": [
    {
     "data": {
      "image/png": "[encoded data removed]",
      "text/plain": [
       "<matplotlib.figure.Figure at 0x154379b0>"
      ]
     },
     "metadata": {},
     "output_type": "display_data"
    }
   ],
   "source": [
    "ax = df_train_bend_half1.plot(style='ro', legend=False)\n",
    "df_train_all_half1.plot(style='bo',ax=ax, legend=False)\n",
    "plt.show()"
   ]
  },
  {
   "cell_type": "code",
   "execution_count": 48,
   "metadata": {},
   "outputs": [
    {
     "data": {
      "text/html": [
       "<div>\n",
       "<style scoped>\n",
       "    .dataframe tbody tr th:only-of-type {\n",
       "        vertical-align: middle;\n",
       "    }\n",
       "\n",
       "    .dataframe tbody tr th {\n",
       "        vertical-align: top;\n",
       "    }\n",
       "\n",
       "    .dataframe thead th {\n",
       "        text-align: right;\n",
       "    }\n",
       "</style>\n",
       "<table border=\"1\" class=\"dataframe\">\n",
       "  <thead>\n",
       "    <tr style=\"text-align: right;\">\n",
       "      <th></th>\n",
       "      <th>max_avg_rss12</th>\n",
       "      <th>max_var_rss12</th>\n",
       "      <th>max_var_rss23</th>\n",
       "    </tr>\n",
       "  </thead>\n",
       "  <tbody>\n",
       "    <tr>\n",
       "      <th>0</th>\n",
       "      <td>47.40</td>\n",
       "      <td>1.70</td>\n",
       "      <td>1.79</td>\n",
       "    </tr>\n",
       "    <tr>\n",
       "      <th>1</th>\n",
       "      <td>47.75</td>\n",
       "      <td>3.00</td>\n",
       "      <td>2.18</td>\n",
       "    </tr>\n",
       "    <tr>\n",
       "      <th>2</th>\n",
       "      <td>45.75</td>\n",
       "      <td>2.83</td>\n",
       "      <td>1.79</td>\n",
       "    </tr>\n",
       "    <tr>\n",
       "      <th>3</th>\n",
       "      <td>48.00</td>\n",
       "      <td>1.58</td>\n",
       "      <td>5.26</td>\n",
       "    </tr>\n",
       "    <tr>\n",
       "      <th>4</th>\n",
       "      <td>48.00</td>\n",
       "      <td>1.50</td>\n",
       "      <td>2.96</td>\n",
       "    </tr>\n",
       "  </tbody>\n",
       "</table>\n",
       "</div>"
      ],
      "text/plain": [
       "   max_avg_rss12  max_var_rss12  max_var_rss23\n",
       "0          47.40           1.70           1.79\n",
       "1          47.75           3.00           2.18\n",
       "2          45.75           2.83           1.79\n",
       "3          48.00           1.58           5.26\n",
       "4          48.00           1.50           2.96"
      ]
     },
     "execution_count": 48,
     "metadata": {},
     "output_type": "execute_result"
    }
   ],
   "source": [
    "df_train_bend_half1 = df_train_half1.iloc[0:9, [0+6, 1+6, 5+6]]\n",
    "#display(df_train_bend_half1)\n",
    "df_train_bend_half1.head()"
   ]
  },
  {
   "cell_type": "code",
   "execution_count": 49,
   "metadata": {},
   "outputs": [
    {
     "data": {
      "text/html": [
       "<div>\n",
       "<style scoped>\n",
       "    .dataframe tbody tr th:only-of-type {\n",
       "        vertical-align: middle;\n",
       "    }\n",
       "\n",
       "    .dataframe tbody tr th {\n",
       "        vertical-align: top;\n",
       "    }\n",
       "\n",
       "    .dataframe thead th {\n",
       "        text-align: right;\n",
       "    }\n",
       "</style>\n",
       "<table border=\"1\" class=\"dataframe\">\n",
       "  <thead>\n",
       "    <tr style=\"text-align: right;\">\n",
       "      <th></th>\n",
       "      <th>max_avg_rss12</th>\n",
       "      <th>max_var_rss12</th>\n",
       "      <th>max_var_rss23</th>\n",
       "    </tr>\n",
       "  </thead>\n",
       "  <tbody>\n",
       "    <tr>\n",
       "      <th>9</th>\n",
       "      <td>44.00</td>\n",
       "      <td>12.28</td>\n",
       "      <td>9.98</td>\n",
       "    </tr>\n",
       "    <tr>\n",
       "      <th>10</th>\n",
       "      <td>44.33</td>\n",
       "      <td>12.89</td>\n",
       "      <td>8.19</td>\n",
       "    </tr>\n",
       "    <tr>\n",
       "      <th>11</th>\n",
       "      <td>45.00</td>\n",
       "      <td>10.84</td>\n",
       "      <td>9.50</td>\n",
       "    </tr>\n",
       "    <tr>\n",
       "      <th>12</th>\n",
       "      <td>44.75</td>\n",
       "      <td>11.68</td>\n",
       "      <td>8.81</td>\n",
       "    </tr>\n",
       "    <tr>\n",
       "      <th>13</th>\n",
       "      <td>44.25</td>\n",
       "      <td>8.64</td>\n",
       "      <td>8.34</td>\n",
       "    </tr>\n",
       "  </tbody>\n",
       "</table>\n",
       "</div>"
      ],
      "text/plain": [
       "    max_avg_rss12  max_var_rss12  max_var_rss23\n",
       "9           44.00          12.28           9.98\n",
       "10          44.33          12.89           8.19\n",
       "11          45.00          10.84           9.50\n",
       "12          44.75          11.68           8.81\n",
       "13          44.25           8.64           8.34"
      ]
     },
     "execution_count": 49,
     "metadata": {},
     "output_type": "execute_result"
    }
   ],
   "source": [
    "df_train_all_half1 = df_train_half1.iloc[9:, [0+6, 1+6, 5+6]]\n",
    "#display(df_train_all)\n",
    "df_train_all_half1.head()"
   ]
  },
  {
   "cell_type": "code",
   "execution_count": 50,
   "metadata": {},
   "outputs": [
    {
     "data": {
      "image/png": "[encoded data removed]",
      "text/plain": [
       "<matplotlib.figure.Figure at 0x14f90400>"
      ]
     },
     "metadata": {},
     "output_type": "display_data"
    }
   ],
   "source": [
    "ax = df_train_bend_half1.plot(style='ro', legend=False)\n",
    "df_train_all_half1.plot(style='bo',ax=ax, legend=False)\n",
    "plt.show()"
   ]
  },
  {
   "cell_type": "code",
   "execution_count": 51,
   "metadata": {},
   "outputs": [
    {
     "data": {
      "text/html": [
       "<div>\n",
       "<style scoped>\n",
       "    .dataframe tbody tr th:only-of-type {\n",
       "        vertical-align: middle;\n",
       "    }\n",
       "\n",
       "    .dataframe tbody tr th {\n",
       "        vertical-align: top;\n",
       "    }\n",
       "\n",
       "    .dataframe thead th {\n",
       "        text-align: right;\n",
       "    }\n",
       "</style>\n",
       "<table border=\"1\" class=\"dataframe\">\n",
       "  <thead>\n",
       "    <tr style=\"text-align: right;\">\n",
       "      <th></th>\n",
       "      <th>mean_avg_rss12</th>\n",
       "      <th>mean_var_rss12</th>\n",
       "      <th>mean_var_rss23</th>\n",
       "    </tr>\n",
       "  </thead>\n",
       "  <tbody>\n",
       "    <tr>\n",
       "      <th>0</th>\n",
       "      <td>43.954500</td>\n",
       "      <td>0.426250</td>\n",
       "      <td>0.493292</td>\n",
       "    </tr>\n",
       "    <tr>\n",
       "      <th>1</th>\n",
       "      <td>42.179813</td>\n",
       "      <td>0.696042</td>\n",
       "      <td>0.613521</td>\n",
       "    </tr>\n",
       "    <tr>\n",
       "      <th>2</th>\n",
       "      <td>41.678063</td>\n",
       "      <td>0.535979</td>\n",
       "      <td>0.383292</td>\n",
       "    </tr>\n",
       "    <tr>\n",
       "      <th>3</th>\n",
       "      <td>43.454958</td>\n",
       "      <td>0.378083</td>\n",
       "      <td>0.679646</td>\n",
       "    </tr>\n",
       "    <tr>\n",
       "      <th>4</th>\n",
       "      <td>43.969125</td>\n",
       "      <td>0.413125</td>\n",
       "      <td>0.555313</td>\n",
       "    </tr>\n",
       "  </tbody>\n",
       "</table>\n",
       "</div>"
      ],
      "text/plain": [
       "   mean_avg_rss12  mean_var_rss12  mean_var_rss23\n",
       "0       43.954500        0.426250        0.493292\n",
       "1       42.179813        0.696042        0.613521\n",
       "2       41.678063        0.535979        0.383292\n",
       "3       43.454958        0.378083        0.679646\n",
       "4       43.969125        0.413125        0.555313"
      ]
     },
     "execution_count": 51,
     "metadata": {},
     "output_type": "execute_result"
    }
   ],
   "source": [
    "df_train_bend_half1 = df_train_half1.iloc[0:9, [0+12, 1+12, 5+12]]\n",
    "#display(df_train_bend_half1)\n",
    "df_train_bend_half1.head()"
   ]
  },
  {
   "cell_type": "code",
   "execution_count": 52,
   "metadata": {},
   "outputs": [
    {
     "data": {
      "text/html": [
       "<div>\n",
       "<style scoped>\n",
       "    .dataframe tbody tr th:only-of-type {\n",
       "        vertical-align: middle;\n",
       "    }\n",
       "\n",
       "    .dataframe tbody tr th {\n",
       "        vertical-align: top;\n",
       "    }\n",
       "\n",
       "    .dataframe thead th {\n",
       "        text-align: right;\n",
       "    }\n",
       "</style>\n",
       "<table border=\"1\" class=\"dataframe\">\n",
       "  <thead>\n",
       "    <tr style=\"text-align: right;\">\n",
       "      <th></th>\n",
       "      <th>mean_avg_rss12</th>\n",
       "      <th>mean_var_rss12</th>\n",
       "      <th>mean_var_rss23</th>\n",
       "    </tr>\n",
       "  </thead>\n",
       "  <tbody>\n",
       "    <tr>\n",
       "      <th>9</th>\n",
       "      <td>36.228396</td>\n",
       "      <td>2.831687</td>\n",
       "      <td>3.480687</td>\n",
       "    </tr>\n",
       "    <tr>\n",
       "      <th>10</th>\n",
       "      <td>36.687292</td>\n",
       "      <td>2.973042</td>\n",
       "      <td>3.073312</td>\n",
       "    </tr>\n",
       "    <tr>\n",
       "      <th>11</th>\n",
       "      <td>37.114312</td>\n",
       "      <td>2.730000</td>\n",
       "      <td>3.076354</td>\n",
       "    </tr>\n",
       "    <tr>\n",
       "      <th>12</th>\n",
       "      <td>36.863375</td>\n",
       "      <td>2.757312</td>\n",
       "      <td>2.773312</td>\n",
       "    </tr>\n",
       "    <tr>\n",
       "      <th>13</th>\n",
       "      <td>36.957458</td>\n",
       "      <td>2.420083</td>\n",
       "      <td>2.934625</td>\n",
       "    </tr>\n",
       "  </tbody>\n",
       "</table>\n",
       "</div>"
      ],
      "text/plain": [
       "    mean_avg_rss12  mean_var_rss12  mean_var_rss23\n",
       "9        36.228396        2.831687        3.480687\n",
       "10       36.687292        2.973042        3.073312\n",
       "11       37.114312        2.730000        3.076354\n",
       "12       36.863375        2.757312        2.773312\n",
       "13       36.957458        2.420083        2.934625"
      ]
     },
     "execution_count": 52,
     "metadata": {},
     "output_type": "execute_result"
    }
   ],
   "source": [
    "df_train_all_half1 = df_train_half1.iloc[9:, [0+12, 1+12, 5+12]]\n",
    "#display(df_train_all)\n",
    "df_train_all_half1.head()"
   ]
  },
  {
   "cell_type": "code",
   "execution_count": 53,
   "metadata": {},
   "outputs": [
    {
     "data": {
      "image/png": "[encoded data removed]",
      "text/plain": [
       "<matplotlib.figure.Figure at 0x14f9cd68>"
      ]
     },
     "metadata": {},
     "output_type": "display_data"
    }
   ],
   "source": [
    "ax = df_train_bend_half1.plot(style='ro', legend=False)\n",
    "df_train_all_half1.plot(style='bo',ax=ax, legend=False)\n",
    "plt.show()"
   ]
  },
  {
   "cell_type": "code",
   "execution_count": 54,
   "metadata": {},
   "outputs": [],
   "source": [
    "#from_here it is for half2"
   ]
  },
  {
   "cell_type": "code",
   "execution_count": 55,
   "metadata": {},
   "outputs": [
    {
     "data": {
      "text/html": [
       "<div>\n",
       "<style scoped>\n",
       "    .dataframe tbody tr th:only-of-type {\n",
       "        vertical-align: middle;\n",
       "    }\n",
       "\n",
       "    .dataframe tbody tr th {\n",
       "        vertical-align: top;\n",
       "    }\n",
       "\n",
       "    .dataframe thead th {\n",
       "        text-align: right;\n",
       "    }\n",
       "</style>\n",
       "<table border=\"1\" class=\"dataframe\">\n",
       "  <thead>\n",
       "    <tr style=\"text-align: right;\">\n",
       "      <th></th>\n",
       "      <th>min_avg_rss12</th>\n",
       "      <th>min_var_rss12</th>\n",
       "      <th>min_var_rss23</th>\n",
       "    </tr>\n",
       "  </thead>\n",
       "  <tbody>\n",
       "    <tr>\n",
       "      <th>36</th>\n",
       "      <td>27.50</td>\n",
       "      <td>0.0</td>\n",
       "      <td>0.0</td>\n",
       "    </tr>\n",
       "    <tr>\n",
       "      <th>37</th>\n",
       "      <td>42.00</td>\n",
       "      <td>0.0</td>\n",
       "      <td>0.0</td>\n",
       "    </tr>\n",
       "    <tr>\n",
       "      <th>38</th>\n",
       "      <td>41.75</td>\n",
       "      <td>0.0</td>\n",
       "      <td>0.0</td>\n",
       "    </tr>\n",
       "    <tr>\n",
       "      <th>39</th>\n",
       "      <td>35.25</td>\n",
       "      <td>0.0</td>\n",
       "      <td>0.0</td>\n",
       "    </tr>\n",
       "    <tr>\n",
       "      <th>40</th>\n",
       "      <td>28.50</td>\n",
       "      <td>0.0</td>\n",
       "      <td>0.0</td>\n",
       "    </tr>\n",
       "  </tbody>\n",
       "</table>\n",
       "</div>"
      ],
      "text/plain": [
       "    min_avg_rss12  min_var_rss12  min_var_rss23\n",
       "36          27.50            0.0            0.0\n",
       "37          42.00            0.0            0.0\n",
       "38          41.75            0.0            0.0\n",
       "39          35.25            0.0            0.0\n",
       "40          28.50            0.0            0.0"
      ]
     },
     "execution_count": 55,
     "metadata": {},
     "output_type": "execute_result"
    }
   ],
   "source": [
    "df_train_bend_half2 = df_train_half2.iloc[0:9, [0, 1, 5]]\n",
    "#display(df_train_bend_half1)\n",
    "df_train_bend_half2.head()"
   ]
  },
  {
   "cell_type": "code",
   "execution_count": 56,
   "metadata": {},
   "outputs": [
    {
     "data": {
      "text/html": [
       "<div>\n",
       "<style scoped>\n",
       "    .dataframe tbody tr th:only-of-type {\n",
       "        vertical-align: middle;\n",
       "    }\n",
       "\n",
       "    .dataframe tbody tr th {\n",
       "        vertical-align: top;\n",
       "    }\n",
       "\n",
       "    .dataframe thead th {\n",
       "        text-align: right;\n",
       "    }\n",
       "</style>\n",
       "<table border=\"1\" class=\"dataframe\">\n",
       "  <thead>\n",
       "    <tr style=\"text-align: right;\">\n",
       "      <th></th>\n",
       "      <th>min_avg_rss12</th>\n",
       "      <th>min_var_rss12</th>\n",
       "      <th>min_var_rss23</th>\n",
       "    </tr>\n",
       "  </thead>\n",
       "  <tbody>\n",
       "    <tr>\n",
       "      <th>9</th>\n",
       "      <td>19.00</td>\n",
       "      <td>0.0</td>\n",
       "      <td>0.0</td>\n",
       "    </tr>\n",
       "    <tr>\n",
       "      <th>10</th>\n",
       "      <td>26.50</td>\n",
       "      <td>0.0</td>\n",
       "      <td>0.0</td>\n",
       "    </tr>\n",
       "    <tr>\n",
       "      <th>11</th>\n",
       "      <td>25.33</td>\n",
       "      <td>0.0</td>\n",
       "      <td>0.0</td>\n",
       "    </tr>\n",
       "    <tr>\n",
       "      <th>12</th>\n",
       "      <td>26.75</td>\n",
       "      <td>0.0</td>\n",
       "      <td>0.0</td>\n",
       "    </tr>\n",
       "    <tr>\n",
       "      <th>13</th>\n",
       "      <td>26.25</td>\n",
       "      <td>0.0</td>\n",
       "      <td>0.0</td>\n",
       "    </tr>\n",
       "  </tbody>\n",
       "</table>\n",
       "</div>"
      ],
      "text/plain": [
       "    min_avg_rss12  min_var_rss12  min_var_rss23\n",
       "9           19.00            0.0            0.0\n",
       "10          26.50            0.0            0.0\n",
       "11          25.33            0.0            0.0\n",
       "12          26.75            0.0            0.0\n",
       "13          26.25            0.0            0.0"
      ]
     },
     "execution_count": 56,
     "metadata": {},
     "output_type": "execute_result"
    }
   ],
   "source": [
    "df_train_all_half2 = df_train_half2.iloc[9:, [0, 1, 5]]\n",
    "#display(df_train_all)\n",
    "df_train_all.head()"
   ]
  },
  {
   "cell_type": "code",
   "execution_count": 57,
   "metadata": {},
   "outputs": [
    {
     "data": {
      "image/png": "[encoded data removed]",
      "text/plain": [
       "<matplotlib.figure.Figure at 0x17ef9be0>"
      ]
     },
     "metadata": {},
     "output_type": "display_data"
    }
   ],
   "source": [
    "ax = df_train_bend_half2.plot(style='ro', legend=False)\n",
    "df_train_all_half2.plot(style='bo',ax=ax, legend=False)\n",
    "plt.show()"
   ]
  },
  {
   "cell_type": "code",
   "execution_count": 58,
   "metadata": {},
   "outputs": [
    {
     "data": {
      "text/html": [
       "<div>\n",
       "<style scoped>\n",
       "    .dataframe tbody tr th:only-of-type {\n",
       "        vertical-align: middle;\n",
       "    }\n",
       "\n",
       "    .dataframe tbody tr th {\n",
       "        vertical-align: top;\n",
       "    }\n",
       "\n",
       "    .dataframe thead th {\n",
       "        text-align: right;\n",
       "    }\n",
       "</style>\n",
       "<table border=\"1\" class=\"dataframe\">\n",
       "  <thead>\n",
       "    <tr style=\"text-align: right;\">\n",
       "      <th></th>\n",
       "      <th>max_avg_rss12</th>\n",
       "      <th>max_var_rss12</th>\n",
       "      <th>max_var_rss23</th>\n",
       "    </tr>\n",
       "  </thead>\n",
       "  <tbody>\n",
       "    <tr>\n",
       "      <th>36</th>\n",
       "      <td>50.75</td>\n",
       "      <td>6.06</td>\n",
       "      <td>5.17</td>\n",
       "    </tr>\n",
       "    <tr>\n",
       "      <th>37</th>\n",
       "      <td>45.00</td>\n",
       "      <td>1.12</td>\n",
       "      <td>6.36</td>\n",
       "    </tr>\n",
       "    <tr>\n",
       "      <th>38</th>\n",
       "      <td>46.50</td>\n",
       "      <td>1.50</td>\n",
       "      <td>5.45</td>\n",
       "    </tr>\n",
       "    <tr>\n",
       "      <th>39</th>\n",
       "      <td>48.50</td>\n",
       "      <td>3.28</td>\n",
       "      <td>6.36</td>\n",
       "    </tr>\n",
       "    <tr>\n",
       "      <th>40</th>\n",
       "      <td>48.25</td>\n",
       "      <td>3.28</td>\n",
       "      <td>7.00</td>\n",
       "    </tr>\n",
       "  </tbody>\n",
       "</table>\n",
       "</div>"
      ],
      "text/plain": [
       "    max_avg_rss12  max_var_rss12  max_var_rss23\n",
       "36          50.75           6.06           5.17\n",
       "37          45.00           1.12           6.36\n",
       "38          46.50           1.50           5.45\n",
       "39          48.50           3.28           6.36\n",
       "40          48.25           3.28           7.00"
      ]
     },
     "execution_count": 58,
     "metadata": {},
     "output_type": "execute_result"
    }
   ],
   "source": [
    "df_train_bend_half2 = df_train_half2.iloc[0:9, [0+6, 1+6, 5+6]]\n",
    "#display(df_train_bend_half1)\n",
    "df_train_bend_half2.head()"
   ]
  },
  {
   "cell_type": "code",
   "execution_count": 59,
   "metadata": {},
   "outputs": [
    {
     "data": {
      "text/html": [
       "<div>\n",
       "<style scoped>\n",
       "    .dataframe tbody tr th:only-of-type {\n",
       "        vertical-align: middle;\n",
       "    }\n",
       "\n",
       "    .dataframe tbody tr th {\n",
       "        vertical-align: top;\n",
       "    }\n",
       "\n",
       "    .dataframe thead th {\n",
       "        text-align: right;\n",
       "    }\n",
       "</style>\n",
       "<table border=\"1\" class=\"dataframe\">\n",
       "  <thead>\n",
       "    <tr style=\"text-align: right;\">\n",
       "      <th></th>\n",
       "      <th>min_avg_rss12</th>\n",
       "      <th>min_var_rss12</th>\n",
       "      <th>min_var_rss23</th>\n",
       "    </tr>\n",
       "  </thead>\n",
       "  <tbody>\n",
       "    <tr>\n",
       "      <th>9</th>\n",
       "      <td>19.00</td>\n",
       "      <td>0.0</td>\n",
       "      <td>0.0</td>\n",
       "    </tr>\n",
       "    <tr>\n",
       "      <th>10</th>\n",
       "      <td>26.50</td>\n",
       "      <td>0.0</td>\n",
       "      <td>0.0</td>\n",
       "    </tr>\n",
       "    <tr>\n",
       "      <th>11</th>\n",
       "      <td>25.33</td>\n",
       "      <td>0.0</td>\n",
       "      <td>0.0</td>\n",
       "    </tr>\n",
       "    <tr>\n",
       "      <th>12</th>\n",
       "      <td>26.75</td>\n",
       "      <td>0.0</td>\n",
       "      <td>0.0</td>\n",
       "    </tr>\n",
       "    <tr>\n",
       "      <th>13</th>\n",
       "      <td>26.25</td>\n",
       "      <td>0.0</td>\n",
       "      <td>0.0</td>\n",
       "    </tr>\n",
       "  </tbody>\n",
       "</table>\n",
       "</div>"
      ],
      "text/plain": [
       "    min_avg_rss12  min_var_rss12  min_var_rss23\n",
       "9           19.00            0.0            0.0\n",
       "10          26.50            0.0            0.0\n",
       "11          25.33            0.0            0.0\n",
       "12          26.75            0.0            0.0\n",
       "13          26.25            0.0            0.0"
      ]
     },
     "execution_count": 59,
     "metadata": {},
     "output_type": "execute_result"
    }
   ],
   "source": [
    "df_train_all_half2 = df_train_half2.iloc[9:, [0+6, 1+6, 5+6]]\n",
    "#display(df_train_all)\n",
    "df_train_all.head()"
   ]
  },
  {
   "cell_type": "code",
   "execution_count": 60,
   "metadata": {},
   "outputs": [
    {
     "data": {
      "image/png": "[encoded data removed]",
      "text/plain": [
       "<matplotlib.figure.Figure at 0x182c70f0>"
      ]
     },
     "metadata": {},
     "output_type": "display_data"
    }
   ],
   "source": [
    "ax = df_train_bend_half2.plot(style='ro', legend=False)\n",
    "df_train_all_half2.plot(style='bo',ax=ax, legend=False)\n",
    "plt.show()"
   ]
  },
  {
   "cell_type": "code",
   "execution_count": 61,
   "metadata": {},
   "outputs": [
    {
     "data": {
      "text/html": [
       "<div>\n",
       "<style scoped>\n",
       "    .dataframe tbody tr th:only-of-type {\n",
       "        vertical-align: middle;\n",
       "    }\n",
       "\n",
       "    .dataframe tbody tr th {\n",
       "        vertical-align: top;\n",
       "    }\n",
       "\n",
       "    .dataframe thead th {\n",
       "        text-align: right;\n",
       "    }\n",
       "</style>\n",
       "<table border=\"1\" class=\"dataframe\">\n",
       "  <thead>\n",
       "    <tr style=\"text-align: right;\">\n",
       "      <th></th>\n",
       "      <th>mean_avg_rss12</th>\n",
       "      <th>mean_var_rss12</th>\n",
       "      <th>mean_var_rss23</th>\n",
       "    </tr>\n",
       "  </thead>\n",
       "  <tbody>\n",
       "    <tr>\n",
       "      <th>36</th>\n",
       "      <td>38.888375</td>\n",
       "      <td>0.383438</td>\n",
       "      <td>0.840208</td>\n",
       "    </tr>\n",
       "    <tr>\n",
       "      <th>37</th>\n",
       "      <td>42.821983</td>\n",
       "      <td>0.335678</td>\n",
       "      <td>0.856013</td>\n",
       "    </tr>\n",
       "    <tr>\n",
       "      <th>38</th>\n",
       "      <td>43.190854</td>\n",
       "      <td>0.266271</td>\n",
       "      <td>0.806229</td>\n",
       "    </tr>\n",
       "    <tr>\n",
       "      <th>39</th>\n",
       "      <td>40.219271</td>\n",
       "      <td>0.617479</td>\n",
       "      <td>1.057729</td>\n",
       "    </tr>\n",
       "    <tr>\n",
       "      <th>40</th>\n",
       "      <td>43.884833</td>\n",
       "      <td>0.517354</td>\n",
       "      <td>1.354917</td>\n",
       "    </tr>\n",
       "  </tbody>\n",
       "</table>\n",
       "</div>"
      ],
      "text/plain": [
       "    mean_avg_rss12  mean_var_rss12  mean_var_rss23\n",
       "36       38.888375        0.383438        0.840208\n",
       "37       42.821983        0.335678        0.856013\n",
       "38       43.190854        0.266271        0.806229\n",
       "39       40.219271        0.617479        1.057729\n",
       "40       43.884833        0.517354        1.354917"
      ]
     },
     "execution_count": 61,
     "metadata": {},
     "output_type": "execute_result"
    }
   ],
   "source": [
    "df_train_bend_half2 = df_train_half2.iloc[0:9, [0+12, 1+12, 5+12]]\n",
    "#display(df_train_bend_half1)\n",
    "df_train_bend_half2.head()"
   ]
  },
  {
   "cell_type": "code",
   "execution_count": 62,
   "metadata": {},
   "outputs": [
    {
     "data": {
      "text/html": [
       "<div>\n",
       "<style scoped>\n",
       "    .dataframe tbody tr th:only-of-type {\n",
       "        vertical-align: middle;\n",
       "    }\n",
       "\n",
       "    .dataframe tbody tr th {\n",
       "        vertical-align: top;\n",
       "    }\n",
       "\n",
       "    .dataframe thead th {\n",
       "        text-align: right;\n",
       "    }\n",
       "</style>\n",
       "<table border=\"1\" class=\"dataframe\">\n",
       "  <thead>\n",
       "    <tr style=\"text-align: right;\">\n",
       "      <th></th>\n",
       "      <th>min_avg_rss12</th>\n",
       "      <th>min_var_rss12</th>\n",
       "      <th>min_var_rss23</th>\n",
       "    </tr>\n",
       "  </thead>\n",
       "  <tbody>\n",
       "    <tr>\n",
       "      <th>9</th>\n",
       "      <td>19.00</td>\n",
       "      <td>0.0</td>\n",
       "      <td>0.0</td>\n",
       "    </tr>\n",
       "    <tr>\n",
       "      <th>10</th>\n",
       "      <td>26.50</td>\n",
       "      <td>0.0</td>\n",
       "      <td>0.0</td>\n",
       "    </tr>\n",
       "    <tr>\n",
       "      <th>11</th>\n",
       "      <td>25.33</td>\n",
       "      <td>0.0</td>\n",
       "      <td>0.0</td>\n",
       "    </tr>\n",
       "    <tr>\n",
       "      <th>12</th>\n",
       "      <td>26.75</td>\n",
       "      <td>0.0</td>\n",
       "      <td>0.0</td>\n",
       "    </tr>\n",
       "    <tr>\n",
       "      <th>13</th>\n",
       "      <td>26.25</td>\n",
       "      <td>0.0</td>\n",
       "      <td>0.0</td>\n",
       "    </tr>\n",
       "  </tbody>\n",
       "</table>\n",
       "</div>"
      ],
      "text/plain": [
       "    min_avg_rss12  min_var_rss12  min_var_rss23\n",
       "9           19.00            0.0            0.0\n",
       "10          26.50            0.0            0.0\n",
       "11          25.33            0.0            0.0\n",
       "12          26.75            0.0            0.0\n",
       "13          26.25            0.0            0.0"
      ]
     },
     "execution_count": 62,
     "metadata": {},
     "output_type": "execute_result"
    }
   ],
   "source": [
    "df_train_all_half2 = df_train_half2.iloc[9:, [0+12, 1+12, 5+12]]\n",
    "#display(df_train_all)\n",
    "df_train_all.head()"
   ]
  },
  {
   "cell_type": "code",
   "execution_count": 63,
   "metadata": {},
   "outputs": [
    {
     "data": {
      "image/png": "[encoded data removed]",
      "text/plain": [
       "<matplotlib.figure.Figure at 0x182ea198>"
      ]
     },
     "metadata": {},
     "output_type": "display_data"
    }
   ],
   "source": [
    "ax = df_train_bend_half2.plot(style='ro', legend=False)\n",
    "df_train_all_half2.plot(style='bo',ax=ax, legend=False)\n",
    "plt.show()"
   ]
  },
  {
   "cell_type": "code",
   "execution_count": 64,
   "metadata": {},
   "outputs": [],
   "source": [
    "#Diving the data into l=(1,2,3....10)"
   ]
  },
  {
   "cell_type": "code",
   "execution_count": 65,
   "metadata": {},
   "outputs": [],
   "source": [
    "for l in range(2,10):\n",
    "    \n",
    "    training_data_split = np.array_split(data_bend1_train1,l)\n",
    "    a=l\n",
    "    #print a\n",
    "    for i in range(0,a):   \n",
    "        #print i\n",
    "        dt1 = training_data_split[i]\n",
    "        \n",
    "        #display(dt1)\n",
    "        dt1.head()\n",
    "    #print \"hiii\"       \n",
    "\n"
   ]
  },
  {
   "cell_type": "code",
   "execution_count": 66,
   "metadata": {},
   "outputs": [],
   "source": [
    "###########################################################################################################"
   ]
  },
  {
   "cell_type": "code",
   "execution_count": 67,
   "metadata": {},
   "outputs": [
    {
     "name": "stdout",
     "output_type": "stream",
     "text": [
      "42\n"
     ]
    }
   ],
   "source": [
    "#For Extended (Training):\n",
    "total_columns =['min_avg_rss12','min_var_rss12','min_avg_rss13','min_var_rss13','min_avg_rss23',\n",
    "                'min_var_rss23','max_avg_rss12','max_var_rss12','max_avg_rss13','max_var_rss13',\n",
    "                'max_avg_rss23','max_var_rss23','mean_avg_rss12','mean_var_rss12','mean_avg_rss13',\n",
    "                'mean_var_rss13','mean_avg_rss23','mean_var_rss23','median_avg_rss12','median_var_rss12',\n",
    "                'median_avg_rss13','median_var_rss13','median_avg_rss23','median_var_rss23','std_avg_rss12',\n",
    "                'std_var_rss12','std_avg_rss13','std_var_rss13','std_avg_rss23','std_var_rss23','q25_avg_rss12',\n",
    "                'q25_var_rss12','q25_avg_rss13','q25_var_rss13','q25_avg_rss23','q25_var_rss23','q75_avg_rss12',\n",
    "                'q75_var_rss12','q75_avg_rss13','q75_var_rss13','q75_avg_rss23','q75_var_rss23']\n",
    "print len(total_columns)\n",
    "#print len(total_columns)\n",
    "#dataframe_train_1 = pd.DataFrame(columns=total_columns)\n",
    "#d={}\n",
    "#mylist = [data_bend1_train1,data_bend1_train2,data_bend1_train3,data_bend1_train4,data_bend1_train5,data_bend2_train6,\n",
    "         # data_bend2_train7,data_bend2_train8,data_bend2_train9,]\n",
    "mylist = [data_bend1_train1,data_bend1_train2,data_bend1_train3,data_bend1_train4,data_bend1_train5,data_bend2_train6,\n",
    "          data_bend2_train7,data_bend2_train8,data_bend2_train9,\n",
    "          data_cycling_train10,data_cycling_train11,data_cycling_train12,data_cycling_train13,\n",
    "          data_cycling_train14,data_cycling_train15,data_cycling_train16,data_cycling_train17,data_cycling_train18,\n",
    "          data_cycling_train19,\n",
    "          data_cycling_train21,data_lying_train22,data_lying_train23,data_lying_train24,data_lying_train25,\n",
    "          data_lying_train26,data_lying_train27,\n",
    "         data_lying_train28,data_lying_train29,data_lying_train30,data_lying_train31,data_lying_train32,data_lying_train33,\n",
    "         data_sitting_train34,data_sitting_train35,data_sitting_train36,data_sitting_train37,data_sitting_train38,\n",
    "          data_sitting_train39,data_sitting_train40,\n",
    "         data_sitting_train41,data_sitting_train42,data_sitting_train43,data_sitting_train44,data_sitting_train45,\n",
    "          data_standing_train46,data_standing_train47,\n",
    "        data_standing_train48,data_standing_train49,data_standing_train50,data_standing_train51,data_standing_train52,\n",
    "          data_standing_train53,data_standing_train54,\n",
    "        data_standing_train55,data_standing_train56,data_standing_train57,data_walking_train58,data_walking_train59,\n",
    "          data_walking_train60,data_walking_train61,\n",
    "        data_walking_train62,data_walking_train63,data_walking_train64,data_walking_train65,data_walking_train66,\n",
    "          data_walking_train67,\n",
    "        data_walking_train68,data_walking_train69]\n",
    "#print type(mylist[0])\n",
    "m=1\n",
    "dataframe_train = pd.DataFrame(columns=total_columns)\n",
    "for j in mylist:\n",
    "    #print j\n",
    "    #eval('dataframe_train_'+str(l))\n",
    "    #d[\"dataframe_train_{0}\".format(j)]=pd.DataFrame(columns=total_columns);\n",
    "   #print d\n",
    "    \n",
    "    #print dataframe_train\n",
    "    #print \"hii\"\n",
    "    training_data_split = np.array_split(j,9)\n",
    "    #display(training_data_split)\n",
    "    #print training_data_split[0]\n",
    "    a=9\n",
    "    rows =[]\n",
    "    \n",
    "        #print a\n",
    "    for i in range(0,a):   \n",
    "        #print i\n",
    "        dt1 = training_data_split[i]\n",
    "        dt1_mean = dt1.mean()\n",
    "        dt1_max = dt1.max()\n",
    "        dt1_min = dt1.min()\n",
    "        dt1_median = dt1.median()\n",
    "        dt1_std = dt1.std()\n",
    "        dt1_q25 = dt1.quantile(0.25)\n",
    "        dt1_q75 = dt1.quantile(0.50)\n",
    "        #dt1_mode = dt1.mode()\n",
    "        array2 = [dt1_min[1:],dt1_max[1:],dt1_mean[1:],dt1_median[1:],dt1_std[1:],dt1_q25[1:],dt1_q75[1:]]\n",
    "        #print len(array2)\n",
    "        #display(dataframe_train_1.shape)\n",
    "        #print len(array2)\n",
    "        #print \"im here\"\n",
    "        #print len(list(itertools.chain.from_iterable(array2)))\n",
    "        #print [list(itertools.chain.from_iterable(array2))]\n",
    "        #dataframe_train_1.loc[i] = list(itertools.chain.from_iterable(array2))\n",
    "        \n",
    "        dataframe_train.loc[m] = list(itertools.chain.from_iterable(array2))\n",
    "        m=m+1\n",
    "        #print m\n",
    "        #print \"i=\"+str(i)\n",
    "        #print \"l=\"+str(l)\n",
    "        #display(dataframe_train_1)\n",
    "  #      dataframe_train_1\n",
    "        #print dt1_mean\n",
    "        \n",
    "        #display(dt1)\n",
    "    #print \"hiii\" "
   ]
  },
  {
   "cell_type": "code",
   "execution_count": 68,
   "metadata": {},
   "outputs": [
    {
     "data": {
      "text/html": [
       "<div>\n",
       "<style scoped>\n",
       "    .dataframe tbody tr th:only-of-type {\n",
       "        vertical-align: middle;\n",
       "    }\n",
       "\n",
       "    .dataframe tbody tr th {\n",
       "        vertical-align: top;\n",
       "    }\n",
       "\n",
       "    .dataframe thead th {\n",
       "        text-align: right;\n",
       "    }\n",
       "</style>\n",
       "<table border=\"1\" class=\"dataframe\">\n",
       "  <thead>\n",
       "    <tr style=\"text-align: right;\">\n",
       "      <th></th>\n",
       "      <th>min_avg_rss12</th>\n",
       "      <th>min_var_rss12</th>\n",
       "      <th>min_avg_rss13</th>\n",
       "      <th>min_var_rss13</th>\n",
       "      <th>min_avg_rss23</th>\n",
       "      <th>min_var_rss23</th>\n",
       "      <th>max_avg_rss12</th>\n",
       "      <th>max_var_rss12</th>\n",
       "      <th>max_avg_rss13</th>\n",
       "      <th>max_var_rss13</th>\n",
       "      <th>...</th>\n",
       "      <th>q25_avg_rss13</th>\n",
       "      <th>q25_var_rss13</th>\n",
       "      <th>q25_avg_rss23</th>\n",
       "      <th>q25_var_rss23</th>\n",
       "      <th>q75_avg_rss12</th>\n",
       "      <th>q75_var_rss12</th>\n",
       "      <th>q75_avg_rss13</th>\n",
       "      <th>q75_var_rss13</th>\n",
       "      <th>q75_avg_rss23</th>\n",
       "      <th>q75_var_rss23</th>\n",
       "    </tr>\n",
       "  </thead>\n",
       "  <tbody>\n",
       "    <tr>\n",
       "      <th>1</th>\n",
       "      <td>40.00</td>\n",
       "      <td>0.0</td>\n",
       "      <td>14.25</td>\n",
       "      <td>0.0</td>\n",
       "      <td>30.00</td>\n",
       "      <td>0.0</td>\n",
       "      <td>45.0</td>\n",
       "      <td>0.87</td>\n",
       "      <td>24.75</td>\n",
       "      <td>2.74</td>\n",
       "      <td>...</td>\n",
       "      <td>23.5425</td>\n",
       "      <td>0.00</td>\n",
       "      <td>36.0</td>\n",
       "      <td>0.0000</td>\n",
       "      <td>44.5</td>\n",
       "      <td>0.47</td>\n",
       "      <td>24.000</td>\n",
       "      <td>0.00</td>\n",
       "      <td>36.00</td>\n",
       "      <td>0.00</td>\n",
       "    </tr>\n",
       "    <tr>\n",
       "      <th>2</th>\n",
       "      <td>41.50</td>\n",
       "      <td>0.0</td>\n",
       "      <td>20.75</td>\n",
       "      <td>0.0</td>\n",
       "      <td>35.25</td>\n",
       "      <td>0.0</td>\n",
       "      <td>45.0</td>\n",
       "      <td>1.00</td>\n",
       "      <td>25.00</td>\n",
       "      <td>1.64</td>\n",
       "      <td>...</td>\n",
       "      <td>23.0000</td>\n",
       "      <td>0.00</td>\n",
       "      <td>36.0</td>\n",
       "      <td>0.1075</td>\n",
       "      <td>43.5</td>\n",
       "      <td>0.47</td>\n",
       "      <td>23.875</td>\n",
       "      <td>0.43</td>\n",
       "      <td>36.50</td>\n",
       "      <td>0.50</td>\n",
       "    </tr>\n",
       "    <tr>\n",
       "      <th>3</th>\n",
       "      <td>38.75</td>\n",
       "      <td>0.0</td>\n",
       "      <td>18.33</td>\n",
       "      <td>0.0</td>\n",
       "      <td>33.00</td>\n",
       "      <td>0.0</td>\n",
       "      <td>46.5</td>\n",
       "      <td>1.50</td>\n",
       "      <td>29.00</td>\n",
       "      <td>1.48</td>\n",
       "      <td>...</td>\n",
       "      <td>21.8125</td>\n",
       "      <td>0.43</td>\n",
       "      <td>36.0</td>\n",
       "      <td>0.4400</td>\n",
       "      <td>45.0</td>\n",
       "      <td>0.43</td>\n",
       "      <td>24.000</td>\n",
       "      <td>0.50</td>\n",
       "      <td>37.25</td>\n",
       "      <td>0.66</td>\n",
       "    </tr>\n",
       "    <tr>\n",
       "      <th>4</th>\n",
       "      <td>36.50</td>\n",
       "      <td>0.0</td>\n",
       "      <td>16.50</td>\n",
       "      <td>0.0</td>\n",
       "      <td>32.50</td>\n",
       "      <td>0.0</td>\n",
       "      <td>46.5</td>\n",
       "      <td>1.48</td>\n",
       "      <td>29.25</td>\n",
       "      <td>2.29</td>\n",
       "      <td>...</td>\n",
       "      <td>20.3300</td>\n",
       "      <td>0.00</td>\n",
       "      <td>36.0</td>\n",
       "      <td>0.0000</td>\n",
       "      <td>45.0</td>\n",
       "      <td>0.50</td>\n",
       "      <td>23.000</td>\n",
       "      <td>0.50</td>\n",
       "      <td>36.50</td>\n",
       "      <td>0.94</td>\n",
       "    </tr>\n",
       "    <tr>\n",
       "      <th>5</th>\n",
       "      <td>42.67</td>\n",
       "      <td>0.0</td>\n",
       "      <td>18.00</td>\n",
       "      <td>0.0</td>\n",
       "      <td>33.00</td>\n",
       "      <td>0.0</td>\n",
       "      <td>46.5</td>\n",
       "      <td>0.94</td>\n",
       "      <td>26.67</td>\n",
       "      <td>1.30</td>\n",
       "      <td>...</td>\n",
       "      <td>20.0000</td>\n",
       "      <td>0.00</td>\n",
       "      <td>34.5</td>\n",
       "      <td>0.0000</td>\n",
       "      <td>45.0</td>\n",
       "      <td>0.43</td>\n",
       "      <td>21.750</td>\n",
       "      <td>0.43</td>\n",
       "      <td>36.00</td>\n",
       "      <td>0.83</td>\n",
       "    </tr>\n",
       "  </tbody>\n",
       "</table>\n",
       "<p>5 rows × 42 columns</p>\n",
       "</div>"
      ],
      "text/plain": [
       "   min_avg_rss12  min_var_rss12  min_avg_rss13  min_var_rss13  min_avg_rss23  \\\n",
       "1          40.00            0.0          14.25            0.0          30.00   \n",
       "2          41.50            0.0          20.75            0.0          35.25   \n",
       "3          38.75            0.0          18.33            0.0          33.00   \n",
       "4          36.50            0.0          16.50            0.0          32.50   \n",
       "5          42.67            0.0          18.00            0.0          33.00   \n",
       "\n",
       "   min_var_rss23  max_avg_rss12  max_var_rss12  max_avg_rss13  max_var_rss13  \\\n",
       "1            0.0           45.0           0.87          24.75           2.74   \n",
       "2            0.0           45.0           1.00          25.00           1.64   \n",
       "3            0.0           46.5           1.50          29.00           1.48   \n",
       "4            0.0           46.5           1.48          29.25           2.29   \n",
       "5            0.0           46.5           0.94          26.67           1.30   \n",
       "\n",
       "       ...        q25_avg_rss13  q25_var_rss13  q25_avg_rss23  q25_var_rss23  \\\n",
       "1      ...              23.5425           0.00           36.0         0.0000   \n",
       "2      ...              23.0000           0.00           36.0         0.1075   \n",
       "3      ...              21.8125           0.43           36.0         0.4400   \n",
       "4      ...              20.3300           0.00           36.0         0.0000   \n",
       "5      ...              20.0000           0.00           34.5         0.0000   \n",
       "\n",
       "   q75_avg_rss12  q75_var_rss12  q75_avg_rss13  q75_var_rss13  q75_avg_rss23  \\\n",
       "1           44.5           0.47         24.000           0.00          36.00   \n",
       "2           43.5           0.47         23.875           0.43          36.50   \n",
       "3           45.0           0.43         24.000           0.50          37.25   \n",
       "4           45.0           0.50         23.000           0.50          36.50   \n",
       "5           45.0           0.43         21.750           0.43          36.00   \n",
       "\n",
       "   q75_var_rss23  \n",
       "1           0.00  \n",
       "2           0.50  \n",
       "3           0.66  \n",
       "4           0.94  \n",
       "5           0.83  \n",
       "\n",
       "[5 rows x 42 columns]"
      ]
     },
     "execution_count": 68,
     "metadata": {},
     "output_type": "execute_result"
    }
   ],
   "source": [
    "#we have seleted L=9 based on the p values of all the l{1,2,3.....10} and also based on the 5-fold cross validation score\n",
    "#display(dataframe_train)\n",
    "dataframe_train.head()\n",
    "#print dataframe_train[]"
   ]
  },
  {
   "cell_type": "code",
   "execution_count": 69,
   "metadata": {},
   "outputs": [],
   "source": [
    "#dataframe_train.describe()"
   ]
  },
  {
   "cell_type": "code",
   "execution_count": 70,
   "metadata": {},
   "outputs": [
    {
     "data": {
      "text/plain": [
       "(612, 42)"
      ]
     },
     "execution_count": 70,
     "metadata": {},
     "output_type": "execute_result"
    }
   ],
   "source": [
    "dataframe_train.shape"
   ]
  },
  {
   "cell_type": "code",
   "execution_count": 71,
   "metadata": {},
   "outputs": [],
   "source": [
    "a = [0] * 81\n",
    "b = [1]* 108\n",
    "c = [1]* 108\n",
    "d = [1]* 108\n",
    "e = [1]* 108\n",
    "f = [1]* 99\n",
    "\n",
    "\n",
    "#print y\n",
    "\n",
    "# 0- Bending \n",
    "# 1 -Not Bending(i.e any activity but bending)\n",
    "# we do this for binary classification\n",
    "#going further we will see multiclass classification"
   ]
  },
  {
   "cell_type": "code",
   "execution_count": 72,
   "metadata": {},
   "outputs": [
    {
     "name": "stdout",
     "output_type": "stream",
     "text": [
      "612\n",
      "LogisticRegression(C=5.0, class_weight=None, dual=False, fit_intercept=True,\n",
      "          intercept_scaling=1, max_iter=100, multi_class='ovr', n_jobs=1,\n",
      "          penalty='l2', random_state=None, solver='newton-cg', tol=0.0001,\n",
      "          verbose=0, warm_start=False)\n"
     ]
    }
   ],
   "source": [
    "X_train_allf = dataframe_train.as_matrix()\n",
    "y_train_allf = a+b+c+d+e+f\n",
    "print len(y_train_allf)\n",
    "\n",
    "\n",
    "X_train, X_test, y_train, y_test = train_test_split(X_train_allf, y_train_allf, test_size=0.30, random_state=0)\n",
    "\n",
    "logreg_train_allf = LogisticRegression(solver='newton-cg',C=5.0)\n",
    "result1 = logreg_train_allf.fit(X_train, y_train)\n",
    "print result1"
   ]
  },
  {
   "cell_type": "code",
   "execution_count": 73,
   "metadata": {},
   "outputs": [
    {
     "name": "stdout",
     "output_type": "stream",
     "text": [
      "Accuracy of logistic regression classifier on test set: 0.94\n"
     ]
    }
   ],
   "source": [
    "y_pred_train_allf = logreg_train_allf.predict(X_test)\n",
    "print('Accuracy of logistic regression classifier on test set: {:.2f}'.format(logreg_train_allf.score(X_test,y_test)))"
   ]
  },
  {
   "cell_type": "code",
   "execution_count": 74,
   "metadata": {},
   "outputs": [
    {
     "name": "stdout",
     "output_type": "stream",
     "text": [
      "0.9402173913043478\n"
     ]
    }
   ],
   "source": [
    "score = logreg_train_allf.score(X_test,y_test)\n",
    "print(score)"
   ]
  },
  {
   "cell_type": "code",
   "execution_count": 75,
   "metadata": {},
   "outputs": [
    {
     "data": {
      "text/plain": [
       "array([[ 22,   4],\n",
       "       [  7, 151]], dtype=int64)"
      ]
     },
     "execution_count": 75,
     "metadata": {},
     "output_type": "execute_result"
    }
   ],
   "source": [
    "from sklearn.metrics import confusion_matrix\n",
    "confusion_matrix = confusion_matrix(y_test,y_pred_train_allf)\n",
    "confusion_matrix"
   ]
  },
  {
   "cell_type": "code",
   "execution_count": 76,
   "metadata": {},
   "outputs": [
    {
     "name": "stdout",
     "output_type": "stream",
     "text": [
      "             precision    recall  f1-score   support\n",
      "\n",
      "          0       0.76      0.85      0.80        26\n",
      "          1       0.97      0.96      0.96       158\n",
      "\n",
      "avg / total       0.94      0.94      0.94       184\n",
      "\n"
     ]
    }
   ],
   "source": [
    "from sklearn.metrics import classification_report\n",
    "print(classification_report(y_test,y_pred_train_allf))"
   ]
  },
  {
   "cell_type": "code",
   "execution_count": 77,
   "metadata": {},
   "outputs": [
    {
     "name": "stdout",
     "output_type": "stream",
     "text": [
      "[ True False  True False False False False  True False  True  True False\n",
      "  True  True False  True False False  True  True False False False False\n",
      " False  True  True  True  True False False  True False  True False False\n",
      "  True  True False False False False]\n",
      "[ 1  7  1 22 18  8  5  1  2  1  1 17  1  1 10  1 24  3  1  1 16 13 20 15\n",
      " 11  1  1  1  1 21 12  1 25  1 23 14  1  1  4  9  6 19]\n"
     ]
    }
   ],
   "source": [
    "from sklearn import datasets\n",
    "from sklearn.feature_selection import RFE\n",
    "from sklearn.linear_model import LogisticRegression\n",
    "logreg = LogisticRegression()\n",
    "rfe = RFE(logreg, 18)\n",
    "rfe = rfe.fit(X_train, y_train)\n",
    "print(rfe.support_)\n",
    "print(rfe.ranking_)"
   ]
  },
  {
   "cell_type": "code",
   "execution_count": 78,
   "metadata": {},
   "outputs": [
    {
     "data": {
      "image/png": "[encoded data removed]",
      "text/plain": [
       "<matplotlib.figure.Figure at 0x184fe048>"
      ]
     },
     "metadata": {},
     "output_type": "display_data"
    },
    {
     "data": {
      "text/plain": [
       "<ggplot: (24691362)>"
      ]
     },
     "execution_count": 78,
     "metadata": {},
     "output_type": "execute_result"
    }
   ],
   "source": [
    "\n",
    "\n",
    "preds = logreg_train_allf.predict_proba(X_test)[:,1]\n",
    "fpr, tpr, _ = metrics.roc_curve(y_test, preds)\n",
    "\n",
    "df = pd.DataFrame(dict(fpr=fpr, tpr=tpr))\n",
    "ggplot(df, aes(x='fpr', y='tpr')) +\\\n",
    "    geom_line() +\\\n",
    "    geom_abline(linetype='dashed')"
   ]
  },
  {
   "cell_type": "code",
   "execution_count": 79,
   "metadata": {},
   "outputs": [
    {
     "data": {
      "image/png": "[encoded data removed]",
      "text/plain": [
       "<matplotlib.figure.Figure at 0x182d4748>"
      ]
     },
     "metadata": {},
     "output_type": "display_data"
    },
    {
     "data": {
      "text/plain": [
       "<ggplot: (22292438)>"
      ]
     },
     "execution_count": 79,
     "metadata": {},
     "output_type": "execute_result"
    }
   ],
   "source": [
    "auc = metrics.auc(fpr,tpr)\n",
    "ggplot(df, aes(x='fpr',y='tpr')) +\\\n",
    "    geom_area(alpha=0.2) +\\\n",
    "    geom_line(aes(y='tpr')) +\\\n",
    "    ggtitle(\"ROC Curve w/ AUC=%s\" % str(auc))"
   ]
  },
  {
   "cell_type": "code",
   "execution_count": 80,
   "metadata": {},
   "outputs": [
    {
     "name": "stdout",
     "output_type": "stream",
     "text": [
      "Warning: Maximum number of iterations has been exceeded.\n",
      "         Current function value: 0.059429\n",
      "         Iterations: 35\n",
      "                           Logit Regression Results                           \n",
      "==============================================================================\n",
      "Dep. Variable:                      y   No. Observations:                  428\n",
      "Model:                          Logit   Df Residuals:                      392\n",
      "Method:                           MLE   Df Model:                           35\n",
      "Date:                Sun, 18 Feb 2018   Pseudo R-squ.:                  0.8450\n",
      "Time:                        20:36:57   Log-Likelihood:                -25.436\n",
      "converged:                      False   LL-Null:                       -164.15\n",
      "                                        LLR p-value:                 1.671e-39\n",
      "==============================================================================\n",
      "                 coef    std err          z      P>|z|      [0.025      0.975]\n",
      "------------------------------------------------------------------------------\n",
      "x1             0.4324      0.891      0.485      0.628      -1.315       2.179\n",
      "x2            49.4706   3.55e+04      0.001      0.999   -6.96e+04    6.97e+04\n",
      "x3             0.3555      0.490      0.726      0.468      -0.604       1.315\n",
      "x4            61.4359   2.82e+05      0.000      1.000   -5.53e+05    5.53e+05\n",
      "x5             0.0883      0.693      0.127      0.899      -1.270       1.447\n",
      "x6             3.2553      8.103      0.402      0.688     -12.626      19.137\n",
      "x7             0.7737      0.701      1.104      0.269      -0.599       2.147\n",
      "x8            -2.9566      1.855     -1.594      0.111      -6.592       0.679\n",
      "x9            -0.9531      0.484     -1.967      0.049      -1.903      -0.004\n",
      "x10           -2.9067      1.349     -2.155      0.031      -5.550      -0.264\n",
      "x11           -0.7756      0.601     -1.290      0.197      -1.954       0.403\n",
      "x12            0.2300      1.440      0.160      0.873      -2.593       3.053\n",
      "x13           -0.9749      4.484     -0.217      0.828      -9.763       7.813\n",
      "x14          -20.6053     12.284     -1.677      0.093     -44.682       3.472\n",
      "x15            1.3895      1.650      0.842      0.400      -1.844       4.623\n",
      "x16          -12.0171     11.173     -1.076      0.282     -33.915       9.881\n",
      "x17           -1.4049      2.463     -0.570      0.568      -6.232       3.422\n",
      "x18          -21.2036     10.210     -2.077      0.038     -41.214      -1.193\n",
      "x19            0.7291   6.92e+05   1.05e-06      1.000   -1.36e+06    1.36e+06\n",
      "x20            3.5747   6.64e+07   5.38e-08      1.000    -1.3e+08     1.3e+08\n",
      "x21           -0.0395        nan        nan        nan         nan         nan\n",
      "x22            3.1079        nan        nan        nan         nan         nan\n",
      "x23            0.0386        nan        nan        nan         nan         nan\n",
      "x24            4.1776        nan        nan        nan         nan         nan\n",
      "x25           -3.0334      3.835     -0.791      0.429     -10.550       4.483\n",
      "x26           34.8175     13.547      2.570      0.010       8.267      61.368\n",
      "x27            0.3742      1.741      0.215      0.830      -3.037       3.786\n",
      "x28           22.0365     11.323      1.946      0.052      -0.156      44.229\n",
      "x29            2.4404      2.844      0.858      0.391      -3.134       8.015\n",
      "x30            8.6692     10.108      0.858      0.391     -11.142      28.481\n",
      "x31           -1.0921      2.425     -0.450      0.653      -5.846       3.662\n",
      "x32           16.6125      7.221      2.301      0.021       2.460      30.765\n",
      "x33           -0.3152      1.045     -0.302      0.763      -2.364       1.733\n",
      "x34            4.9043      4.808      1.020      0.308      -4.519      14.327\n",
      "x35            0.6732      1.630      0.413      0.680      -2.521       3.868\n",
      "x36            6.7680      4.364      1.551      0.121      -1.785      15.321\n",
      "x37            0.7296   6.92e+05   1.05e-06      1.000   -1.36e+06    1.36e+06\n",
      "x38            3.5747   6.64e+07   5.38e-08      1.000    -1.3e+08     1.3e+08\n",
      "x39           -0.0396        nan        nan        nan         nan         nan\n",
      "x40            3.1080        nan        nan        nan         nan         nan\n",
      "x41            0.0385        nan        nan        nan         nan         nan\n",
      "x42            4.1776        nan        nan        nan         nan         nan\n",
      "==============================================================================\n",
      "\n",
      "Possibly complete quasi-separation: A fraction 0.66 of observations can be\n",
      "perfectly predicted. This might indicate that there is complete\n",
      "quasi-separation. In this case some parameters will not be identified.\n"
     ]
    },
    {
     "name": "stderr",
     "output_type": "stream",
     "text": [
      "c:\\python27\\lib\\site-packages\\statsmodels\\base\\model.py:496: ConvergenceWarning: Maximum Likelihood optimization failed to converge. Check mle_retvals\n",
      "  \"Check mle_retvals\", ConvergenceWarning)\n",
      "c:\\python27\\lib\\site-packages\\statsmodels\\base\\model.py:1029: RuntimeWarning: invalid value encountered in sqrt\n",
      "  return np.sqrt(np.diag(self.cov_params()))\n",
      "c:\\python27\\lib\\site-packages\\scipy\\stats\\_distn_infrastructure.py:879: RuntimeWarning: invalid value encountered in greater\n",
      "  return (self.a < x) & (x < self.b)\n",
      "c:\\python27\\lib\\site-packages\\scipy\\stats\\_distn_infrastructure.py:879: RuntimeWarning: invalid value encountered in less\n",
      "  return (self.a < x) & (x < self.b)\n",
      "c:\\python27\\lib\\site-packages\\scipy\\stats\\_distn_infrastructure.py:1821: RuntimeWarning: invalid value encountered in less_equal\n",
      "  cond2 = cond0 & (x <= self.a)\n"
     ]
    }
   ],
   "source": [
    "\n",
    "\n",
    "stats.chisqprob = lambda chisq, df: stats.chi2.sf(chisq, df)\n",
    "\n",
    "\n",
    "logit_model=sm.Logit(y_train,X_train)\n",
    "result=logit_model.fit()\n",
    "print(result.summary())"
   ]
  },
  {
   "cell_type": "code",
   "execution_count": 81,
   "metadata": {},
   "outputs": [
    {
     "name": "stdout",
     "output_type": "stream",
     "text": [
      "5-fold cross validation average accuracy: 0.932\n"
     ]
    }
   ],
   "source": [
    "\n",
    "X_shuf, Y_shuf = shuffle(X_train, y_train)\n",
    "\n",
    "\n",
    "kfold = model_selection.KFold(n_splits=5, random_state=7)\n",
    "modelCV = LogisticRegression()\n",
    "scoring = 'accuracy'\n",
    "#print Y_shuf\n",
    "results = model_selection.cross_val_score(modelCV, X_shuf, Y_shuf, cv=kfold, scoring=scoring)\n",
    "print(\"5-fold cross validation average accuracy: %.3f\" % (results.mean()))"
   ]
  },
  {
   "cell_type": "code",
   "execution_count": 82,
   "metadata": {},
   "outputs": [],
   "source": [
    "############################################################################################################################"
   ]
  },
  {
   "cell_type": "code",
   "execution_count": 83,
   "metadata": {},
   "outputs": [],
   "source": [
    "#After Feature selecting for l=9,and fiting LogReg and plotting ROC and AUC"
   ]
  },
  {
   "cell_type": "code",
   "execution_count": 84,
   "metadata": {},
   "outputs": [],
   "source": [
    "dataframe_train_selected_f = dataframe_train.iloc[:, [2,9,10,11,14,15,16,17,18,19,20,22,28,29]]\n"
   ]
  },
  {
   "cell_type": "code",
   "execution_count": 85,
   "metadata": {},
   "outputs": [
    {
     "name": "stdout",
     "output_type": "stream",
     "text": [
      "612\n",
      "LogisticRegression(C=5.0, class_weight=None, dual=False, fit_intercept=True,\n",
      "          intercept_scaling=1, max_iter=100, multi_class='ovr', n_jobs=1,\n",
      "          penalty='l2', random_state=None, solver='newton-cg', tol=0.0001,\n",
      "          verbose=0, warm_start=False)\n"
     ]
    }
   ],
   "source": [
    "X_train_selectedf = dataframe_train_selected_f.as_matrix()\n",
    "\n",
    "y_train_selectedf = a+b+c+d+e+f\n",
    "\n",
    "\n",
    "print len(y_train_selectedf)\n",
    "\n",
    "\n",
    "X_train, X_test, y_train, y_test = train_test_split(X_train_selectedf,y_train_selectedf, test_size=0.30, random_state=0)\n",
    "\n",
    "logreg_train_selectedf = LogisticRegression(solver='newton-cg',C=5.0)\n",
    "result2 = logreg_train_selectedf.fit(X_train, y_train)\n",
    "print result2"
   ]
  },
  {
   "cell_type": "code",
   "execution_count": 86,
   "metadata": {},
   "outputs": [
    {
     "name": "stdout",
     "output_type": "stream",
     "text": [
      "Accuracy of logistic regression classifier on test set: 0.97\n"
     ]
    }
   ],
   "source": [
    "y_pred_train_selectedf = logreg_train_selectedf.predict(X_test)\n",
    "print('Accuracy of logistic regression classifier on test set: {:.2f}'.format(logreg_train_selectedf.score(X_test,y_test)))"
   ]
  },
  {
   "cell_type": "code",
   "execution_count": 87,
   "metadata": {},
   "outputs": [
    {
     "name": "stdout",
     "output_type": "stream",
     "text": [
      "0.967391304347826\n"
     ]
    }
   ],
   "source": [
    "score = logreg_train_selectedf.score(X_test,y_test)\n",
    "print(score)\n"
   ]
  },
  {
   "cell_type": "code",
   "execution_count": 88,
   "metadata": {},
   "outputs": [
    {
     "name": "stdout",
     "output_type": "stream",
     "text": [
      "[[ 0.20419005 -0.37276074 -0.44371708  0.02798226 -0.48128846  1.83558932\n",
      "  -0.37176504 -0.75134339  0.26951062  2.41818192  0.43254436  0.1375229\n",
      "   0.71471103 -0.45645945]]\n"
     ]
    }
   ],
   "source": [
    "#print logistic regression coefficients\n",
    "print logreg_train_selectedf.coef_"
   ]
  },
  {
   "cell_type": "code",
   "execution_count": 89,
   "metadata": {},
   "outputs": [
    {
     "data": {
      "text/plain": [
       "array([[ 24,   2],\n",
       "       [  4, 154]], dtype=int64)"
      ]
     },
     "execution_count": 89,
     "metadata": {},
     "output_type": "execute_result"
    }
   ],
   "source": [
    "from sklearn.metrics import confusion_matrix\n",
    "confusion_matrix_sel = confusion_matrix(y_test,y_pred_train_selectedf)\n",
    "confusion_matrix_sel"
   ]
  },
  {
   "cell_type": "code",
   "execution_count": 90,
   "metadata": {},
   "outputs": [
    {
     "name": "stdout",
     "output_type": "stream",
     "text": [
      "             precision    recall  f1-score   support\n",
      "\n",
      "          0       0.86      0.92      0.89        26\n",
      "          1       0.99      0.97      0.98       158\n",
      "\n",
      "avg / total       0.97      0.97      0.97       184\n",
      "\n"
     ]
    }
   ],
   "source": [
    "from sklearn.metrics import classification_report\n",
    "print(classification_report(y_test,y_pred_train_selectedf))"
   ]
  },
  {
   "cell_type": "code",
   "execution_count": 91,
   "metadata": {},
   "outputs": [
    {
     "data": {
      "image/png": "[encoded data removed]",
      "text/plain": [
       "<matplotlib.figure.Figure at 0x18408470>"
      ]
     },
     "metadata": {},
     "output_type": "display_data"
    },
    {
     "data": {
      "text/plain": [
       "<ggplot: (25351267)>"
      ]
     },
     "execution_count": 91,
     "metadata": {},
     "output_type": "execute_result"
    }
   ],
   "source": [
    "\n",
    "preds = logreg_train_selectedf.predict_proba(X_test)[:,1]\n",
    "fpr, tpr, _ = metrics.roc_curve(y_test, preds)\n",
    "\n",
    "df = pd.DataFrame(dict(fpr=fpr, tpr=tpr))\n",
    "ggplot(df, aes(x='fpr', y='tpr')) +\\\n",
    "    geom_line() +\\\n",
    "    geom_abline(linetype='dashed')"
   ]
  },
  {
   "cell_type": "code",
   "execution_count": 92,
   "metadata": {},
   "outputs": [
    {
     "data": {
      "image/png": "[encoded data removed]",
      "text/plain": [
       "<matplotlib.figure.Figure at 0x17961588>"
      ]
     },
     "metadata": {},
     "output_type": "display_data"
    },
    {
     "data": {
      "text/plain": [
       "<ggplot: (24888941)>"
      ]
     },
     "execution_count": 92,
     "metadata": {},
     "output_type": "execute_result"
    }
   ],
   "source": [
    "auc = metrics.auc(fpr,tpr)\n",
    "ggplot(df, aes(x='fpr',y='tpr')) +\\\n",
    "    geom_area(alpha=0.2) +\\\n",
    "    geom_line(aes(y='tpr')) +\\\n",
    "    ggtitle(\"ROC Curve w/ AUC=%s\" % str(auc))"
   ]
  },
  {
   "cell_type": "code",
   "execution_count": 93,
   "metadata": {},
   "outputs": [
    {
     "name": "stdout",
     "output_type": "stream",
     "text": [
      "[ True  True  True  True  True  True  True  True  True  True  True  True\n",
      "  True  True]\n",
      "[1 1 1 1 1 1 1 1 1 1 1 1 1 1]\n"
     ]
    }
   ],
   "source": [
    "from sklearn import datasets\n",
    "from sklearn.feature_selection import RFE\n",
    "from sklearn.linear_model import LogisticRegression\n",
    "logreg = LogisticRegression()\n",
    "rfe = RFE(logreg, 18)\n",
    "rfe = rfe.fit(X_train, y_train)\n",
    "print(rfe.support_)\n",
    "print(rfe.ranking_)"
   ]
  },
  {
   "cell_type": "code",
   "execution_count": 94,
   "metadata": {},
   "outputs": [
    {
     "name": "stdout",
     "output_type": "stream",
     "text": [
      "Optimization terminated successfully.\n",
      "         Current function value: 0.102080\n",
      "         Iterations 11\n",
      "                           Logit Regression Results                           \n",
      "==============================================================================\n",
      "Dep. Variable:                      y   No. Observations:                  428\n",
      "Model:                          Logit   Df Residuals:                      414\n",
      "Method:                           MLE   Df Model:                           13\n",
      "Date:                Sun, 18 Feb 2018   Pseudo R-squ.:                  0.7338\n",
      "Time:                        20:37:01   Log-Likelihood:                -43.690\n",
      "converged:                       True   LL-Null:                       -164.15\n",
      "                                        LLR p-value:                 4.891e-44\n",
      "==============================================================================\n",
      "                 coef    std err          z      P>|z|      [0.025      0.975]\n",
      "------------------------------------------------------------------------------\n",
      "x1             0.2315      0.128      1.807      0.071      -0.020       0.483\n",
      "x2            -0.4755      0.302     -1.573      0.116      -1.068       0.117\n",
      "x3            -0.3698      0.243     -1.524      0.128      -0.845       0.106\n",
      "x4             0.1659      0.606      0.274      0.784      -1.022       1.353\n",
      "x5            -0.6742      0.487     -1.385      0.166      -1.629       0.280\n",
      "x6             2.6074      1.609      1.621      0.105      -0.546       5.760\n",
      "x7            -0.6035      0.761     -0.793      0.428      -2.096       0.889\n",
      "x8            -0.9206      1.690     -0.545      0.586      -4.233       2.391\n",
      "x9             0.3136      0.054      5.787      0.000       0.207       0.420\n",
      "x10            2.5982      1.070      2.427      0.015       0.500       4.696\n",
      "x11            0.6325      0.427      1.483      0.138      -0.204       1.469\n",
      "x12            0.2829      0.561      0.504      0.614      -0.817       1.383\n",
      "x13            0.7408      0.464      1.597      0.110      -0.168       1.650\n",
      "x14           -1.6677      3.862     -0.432      0.666      -9.237       5.902\n",
      "==============================================================================\n",
      "\n",
      "Possibly complete quasi-separation: A fraction 0.25 of observations can be\n",
      "perfectly predicted. This might indicate that there is complete\n",
      "quasi-separation. In this case some parameters will not be identified.\n"
     ]
    }
   ],
   "source": [
    "\n",
    "\n",
    "from scipy import stats\n",
    "stats.chisqprob = lambda chisq, df: stats.chi2.sf(chisq, df)\n",
    "#y=[int(i) for i in y]\n",
    "import statsmodels.api as sm\n",
    "logit_model=sm.Logit(y_train,X_train)\n",
    "result=logit_model.fit()\n",
    "print(result.summary())"
   ]
  },
  {
   "cell_type": "code",
   "execution_count": 95,
   "metadata": {},
   "outputs": [
    {
     "name": "stdout",
     "output_type": "stream",
     "text": [
      "5-fold cross validation average accuracy: 0.939\n"
     ]
    }
   ],
   "source": [
    "\n",
    "X_shuf, Y_shuf = shuffle(X_train, y_train)\n",
    "\n",
    "\n",
    "kfold = model_selection.KFold(n_splits=5, random_state=7)\n",
    "modelCV = LogisticRegression()\n",
    "scoring = 'accuracy'\n",
    "#print Y_shuf\n",
    "results = model_selection.cross_val_score(modelCV, X_shuf, Y_shuf, cv=kfold, scoring=scoring)\n",
    "print(\"5-fold cross validation average accuracy: %.3f\" % (results.mean()))"
   ]
  },
  {
   "cell_type": "code",
   "execution_count": 96,
   "metadata": {},
   "outputs": [],
   "source": [
    "#############################################################################################################################"
   ]
  },
  {
   "cell_type": "code",
   "execution_count": 97,
   "metadata": {},
   "outputs": [],
   "source": [
    "# Breaking test set into the same number of sets as done for training"
   ]
  },
  {
   "cell_type": "code",
   "execution_count": 98,
   "metadata": {},
   "outputs": [],
   "source": [
    "\n",
    "total_columns =['min_avg_rss12','min_var_rss12','min_avg_rss13','min_var_rss13','min_avg_rss23','min_var_rss23','max_avg_rss12','max_var_rss12','max_avg_rss13','max_var_rss13','max_avg_rss23','max_var_rss23','mean_avg_rss12','mean_var_rss12','mean_avg_rss13','mean_var_rss13','mean_avg_rss23','mean_var_rss23','median_avg_rss12','median_var_rss12','median_avg_rss13','median_var_rss13','median_avg_rss23','median_var_rss23','std_avg_rss12','std_var_rss12','std_avg_rss13','std_var_rss13','std_avg_rss23','std_var_rss23','q25_avg_rss12','q25_var_rss12','q25_avg_rss13','q25_var_rss13','q25_avg_rss23','q25_var_rss23','q75_avg_rss12','q75_var_rss12','q75_avg_rss13','q75_var_rss13','q75_avg_rss23','q75_var_rss23']\n",
    "#print len(total_columns)\n",
    "#dataframe_train_1 = pd.DataFrame(columns=total_columns)\n",
    "#d={}\n",
    "mylist = [data_bend1_test1,data_bend1_test2,data_bend2_test1,data_bend2_test2,data_cycling_test1,data_cycling_test2,\n",
    "          data_cycling_test3,data_lying_test1,data_lying_test2,data_lying_test3,data_sitting_test1,data_sitting_test2,data_sitting_test3,\n",
    "  data_standing_test1,data_standing_test2,data_standing_test3,data_walking_test1,data_walking_test2,data_walking_test3]\n",
    " \n",
    "#print type(mylist[0])\n",
    "m=1\n",
    "dataframe_test = pd.DataFrame(columns=total_columns)\n",
    "for j in mylist:\n",
    "    #print j\n",
    "    #eval('dataframe_train_'+str(l))\n",
    "    #d[\"dataframe_train_{0}\".format(j)]=pd.DataFrame(columns=total_columns);\n",
    "   #print d\n",
    "    \n",
    "    #print dataframe_train\n",
    "    #print \"hii\"\n",
    "    training_data_split = np.array_split(j,9)\n",
    "    #display(training_data_split)\n",
    "    #print training_data_split[0]\n",
    "    a=9\n",
    "    rows =[]\n",
    "    \n",
    "        #print a\n",
    "    for i in range(0,a):   \n",
    "        #print i\n",
    "        dt1 = training_data_split[i]\n",
    "        dt1_mean = dt1.mean()\n",
    "        dt1_max = dt1.max()\n",
    "        dt1_min = dt1.min()\n",
    "        dt1_median = dt1.median()\n",
    "        dt1_std = dt1.std()\n",
    "        dt1_q25 = dt1.quantile(0.25)\n",
    "        dt1_q75 = dt1.quantile(0.50)\n",
    "        array3 = [dt1_min[1:],dt1_max[1:],dt1_mean[1:],dt1_median[1:],dt1_std[1:],dt1_q25[1:],dt1_q75[1:] ]\n",
    "        #display(dataframe_train_1.shape)\n",
    "        #print len(array2)\n",
    "        #print \"im here\"\n",
    "        #print len(list(itertools.chain.from_iterable(array2)))\n",
    "        #print [list(itertools.chain.from_iterable(array2))]\n",
    "        #dataframe_train_1.loc[i] = list(itertools.chain.from_iterable(array2))\n",
    "        \n",
    "        dataframe_test.loc[m] = list(itertools.chain.from_iterable(array3))\n",
    "        m=m+1\n",
    "        #print m\n",
    "        #print \"i=\"+str(i)\n",
    "        #print \"l=\"+str(l)\n",
    "        #display(dataframe_train_1)\n",
    "  #      dataframe_train_1\n",
    "        #print dt1_mean\n",
    "        \n",
    "        #display(dt1)\n",
    "    #print \"hiii\" "
   ]
  },
  {
   "cell_type": "code",
   "execution_count": 99,
   "metadata": {},
   "outputs": [],
   "source": [
    "dataframe_test_selected_f = dataframe_test.iloc[:, [2,9,10,11,14,15,16,17,18,19,20,22,28,29]]\n"
   ]
  },
  {
   "cell_type": "code",
   "execution_count": 100,
   "metadata": {},
   "outputs": [],
   "source": [
    "X_test_selectedf = dataframe_train_selected_f.as_matrix()\n",
    "\n",
    "a = [0] * 81\n",
    "b = [1]* 108\n",
    "c = [1]* 108\n",
    "d = [1]* 108\n",
    "e = [1]* 108\n",
    "f = [1]* 99\n",
    "y_test_selectedf = a+b+c+d+e+f\n"
   ]
  },
  {
   "cell_type": "code",
   "execution_count": 101,
   "metadata": {},
   "outputs": [
    {
     "name": "stdout",
     "output_type": "stream",
     "text": [
      "Accuracy of logistic regression classifier on test set: 0.96\n"
     ]
    }
   ],
   "source": [
    "y_pred_test_selectedf = logreg_train_selectedf.predict(X_test_selectedf)\n",
    "print('Accuracy of logistic regression classifier on test set: {:.2f}'.format(logreg_train_selectedf.score(X_test_selectedf,y_test_selectedf)))"
   ]
  },
  {
   "cell_type": "code",
   "execution_count": 102,
   "metadata": {},
   "outputs": [
    {
     "name": "stdout",
     "output_type": "stream",
     "text": [
      "0.9558823529411765\n"
     ]
    }
   ],
   "source": [
    "score = logreg_train_selectedf.score(X_test_selectedf,y_test_selectedf)\n",
    "print(score)"
   ]
  },
  {
   "cell_type": "code",
   "execution_count": 103,
   "metadata": {},
   "outputs": [
    {
     "data": {
      "text/plain": [
       "array([[ 66,  15],\n",
       "       [ 12, 519]], dtype=int64)"
      ]
     },
     "execution_count": 103,
     "metadata": {},
     "output_type": "execute_result"
    }
   ],
   "source": [
    "from sklearn.metrics import confusion_matrix\n",
    "confusion_matrix_sel_test = confusion_matrix(y_test_selectedf,y_pred_test_selectedf)\n",
    "confusion_matrix_sel_test"
   ]
  },
  {
   "cell_type": "code",
   "execution_count": 104,
   "metadata": {},
   "outputs": [
    {
     "name": "stdout",
     "output_type": "stream",
     "text": [
      "             precision    recall  f1-score   support\n",
      "\n",
      "          0       0.85      0.81      0.83        81\n",
      "          1       0.97      0.98      0.97       531\n",
      "\n",
      "avg / total       0.96      0.96      0.96       612\n",
      "\n"
     ]
    }
   ],
   "source": [
    "from sklearn.metrics import classification_report\n",
    "print(classification_report(y_test_selectedf,y_pred_test_selectedf))"
   ]
  },
  {
   "cell_type": "code",
   "execution_count": 105,
   "metadata": {},
   "outputs": [
    {
     "data": {
      "image/png": "[encoded data removed]",
      "text/plain": [
       "<matplotlib.figure.Figure at 0x17b90208>"
      ]
     },
     "metadata": {},
     "output_type": "display_data"
    },
    {
     "data": {
      "text/plain": [
       "<ggplot: (24821438)>"
      ]
     },
     "execution_count": 105,
     "metadata": {},
     "output_type": "execute_result"
    }
   ],
   "source": [
    "\n",
    "preds = logreg_train_selectedf.predict_proba(X_test_selectedf)[:,1]\n",
    "fpr, tpr, _ = metrics.roc_curve(y_test_selectedf, preds)\n",
    "\n",
    "df = pd.DataFrame(dict(fpr=fpr, tpr=tpr))\n",
    "ggplot(df, aes(x='fpr', y='tpr')) +\\\n",
    "    geom_line() +\\\n",
    "    geom_abline(linetype='dashed')"
   ]
  },
  {
   "cell_type": "code",
   "execution_count": 106,
   "metadata": {},
   "outputs": [
    {
     "data": {
      "image/png": "[encoded data removed]",
      "text/plain": [
       "<matplotlib.figure.Figure at 0x17d0efd0>"
      ]
     },
     "metadata": {},
     "output_type": "display_data"
    },
    {
     "data": {
      "text/plain": [
       "<ggplot: (22404710)>"
      ]
     },
     "execution_count": 106,
     "metadata": {},
     "output_type": "execute_result"
    }
   ],
   "source": [
    "auc = metrics.auc(fpr,tpr)\n",
    "ggplot(df, aes(x='fpr',y='tpr')) +\\\n",
    "    geom_area(alpha=0.2) +\\\n",
    "    geom_line(aes(y='tpr')) +\\\n",
    "    ggtitle(\"ROC Curve w/ AUC=%s\" % str(auc))"
   ]
  },
  {
   "cell_type": "code",
   "execution_count": 107,
   "metadata": {},
   "outputs": [
    {
     "name": "stdout",
     "output_type": "stream",
     "text": [
      "Optimization terminated successfully.\n",
      "         Current function value: 0.100896\n",
      "         Iterations 11\n",
      "                           Logit Regression Results                           \n",
      "==============================================================================\n",
      "Dep. Variable:                      y   No. Observations:                  612\n",
      "Model:                          Logit   Df Residuals:                      598\n",
      "Method:                           MLE   Df Model:                           13\n",
      "Date:                Sun, 18 Feb 2018   Pseudo R-squ.:                  0.7418\n",
      "Time:                        20:37:09   Log-Likelihood:                -61.749\n",
      "converged:                       True   LL-Null:                       -239.19\n",
      "                                        LLR p-value:                 7.276e-68\n",
      "==============================================================================\n",
      "                 coef    std err          z      P>|z|      [0.025      0.975]\n",
      "------------------------------------------------------------------------------\n",
      "x1             0.1725      0.111      1.561      0.119      -0.044       0.389\n",
      "x2            -0.6500      0.253     -2.572      0.010      -1.145      -0.155\n",
      "x3            -0.3512      0.219     -1.602      0.109      -0.781       0.079\n",
      "x4             0.4363      0.495      0.882      0.378      -0.533       1.406\n",
      "x5            -0.2497      0.426     -0.586      0.558      -1.085       0.586\n",
      "x6             2.2255      1.238      1.798      0.072      -0.200       4.651\n",
      "x7            -0.3382      0.618     -0.547      0.584      -1.550       0.873\n",
      "x8            -0.8670      1.502     -0.577      0.564      -3.811       2.077\n",
      "x9             0.3031      0.042      7.278      0.000       0.221       0.385\n",
      "x10            2.8986      0.899      3.225      0.001       1.137       4.660\n",
      "x11            0.2916      0.361      0.807      0.420      -0.416       1.000\n",
      "x12            0.0300      0.449      0.067      0.947      -0.849       0.909\n",
      "x13            0.5463      0.412      1.325      0.185      -0.262       1.355\n",
      "x14           -2.0566      3.128     -0.657      0.511      -8.188       4.074\n",
      "==============================================================================\n",
      "\n",
      "Possibly complete quasi-separation: A fraction 0.26 of observations can be\n",
      "perfectly predicted. This might indicate that there is complete\n",
      "quasi-separation. In this case some parameters will not be identified.\n"
     ]
    }
   ],
   "source": [
    "\n",
    "\n",
    "from scipy import stats\n",
    "stats.chisqprob = lambda chisq, df: stats.chi2.sf(chisq, df)\n",
    "#y=[int(i) for i in y]\n",
    "import statsmodels.api as sm\n",
    "logit_model=sm.Logit(y_test_selectedf,X_test_selectedf)\n",
    "result=logit_model.fit()\n",
    "print(result.summary())"
   ]
  },
  {
   "cell_type": "code",
   "execution_count": 108,
   "metadata": {},
   "outputs": [],
   "source": [
    "############################################################################################################################"
   ]
  },
  {
   "cell_type": "code",
   "execution_count": 109,
   "metadata": {},
   "outputs": [],
   "source": [
    "#Case-control sampling and adjust its parameters."
   ]
  },
  {
   "cell_type": "code",
   "execution_count": 110,
   "metadata": {},
   "outputs": [
    {
     "name": "stderr",
     "output_type": "stream",
     "text": [
      "c:\\python27\\lib\\site-packages\\sklearn\\linear_model\\stochastic_gradient.py:128: FutureWarning: max_iter and tol parameters have been added in <class 'sklearn.linear_model.stochastic_gradient.SGDClassifier'> in 0.19. If both are left unset, they default to max_iter=5 and tol=None. If tol is not None, max_iter defaults to max_iter=1000. From 0.21, default max_iter will be 1000, and default tol will be 1e-3.\n",
      "  \"and default tol will be 1e-3.\" % type(self), FutureWarning)\n"
     ]
    },
    {
     "data": {
      "text/plain": [
       "SGDClassifier(alpha=0.0001, average=False, class_weight=None, epsilon=0.1,\n",
       "       eta0=0.0, fit_intercept=True, l1_ratio=0.15,\n",
       "       learning_rate='optimal', loss='hinge', max_iter=None, n_iter=None,\n",
       "       n_jobs=1, penalty='l2', power_t=0.5, random_state=None,\n",
       "       shuffle=True, tol=None, verbose=0, warm_start=False)"
      ]
     },
     "execution_count": 110,
     "metadata": {},
     "output_type": "execute_result"
    }
   ],
   "source": [
    "X_case_control = dataframe_train_selected_f.as_matrix()\n",
    "\n",
    "y_case_control = a+b+c+d+e+f\n",
    "\n",
    "\n",
    "\n",
    "from sklearn.linear_model import SGDClassifier\n",
    "Case_controlling = SGDClassifier(loss=\"hinge\", penalty=\"l2\")\n",
    "Case_controlling.fit(X_case_control, y_case_control)"
   ]
  },
  {
   "cell_type": "code",
   "execution_count": 111,
   "metadata": {},
   "outputs": [
    {
     "data": {
      "text/plain": [
       "array([[ 200.56664203,  147.22838137, -392.38728751,  426.21335304,\n",
       "          52.94750956,  239.67781994, -371.08307599,  239.58791611,\n",
       "         611.36979552,  331.42399606,   64.05518601, -335.25498891,\n",
       "          60.55295443,  100.56821989]])"
      ]
     },
     "execution_count": 111,
     "metadata": {},
     "output_type": "execute_result"
    }
   ],
   "source": [
    "Case_controlling.coef_"
   ]
  },
  {
   "cell_type": "code",
   "execution_count": 112,
   "metadata": {},
   "outputs": [
    {
     "data": {
      "text/plain": [
       "array([49.8266438])"
      ]
     },
     "execution_count": 112,
     "metadata": {},
     "output_type": "execute_result"
    }
   ],
   "source": [
    "Case_controlling.intercept_ "
   ]
  },
  {
   "cell_type": "code",
   "execution_count": 113,
   "metadata": {},
   "outputs": [
    {
     "data": {
      "text/plain": [
       "array([-5.60455820e+03, -5.59947818e+03, -5.83971311e+03, -5.60590312e+03,\n",
       "       -5.04015861e+03, -3.87035333e+03, -4.61182808e+03, -7.22206881e+03,\n",
       "       -6.42160813e+03, -4.90574872e+03, -7.27619302e+03, -5.11944303e+03,\n",
       "       -5.42097679e+03, -4.78646784e+03, -5.21310911e+03, -4.55713513e+03,\n",
       "       -1.37305500e+03, -2.28923515e+03, -4.47599179e+03, -8.21362213e+02,\n",
       "       -4.30967475e+03, -4.09249523e+03, -2.75815893e+03, -4.27104467e+03,\n",
       "       -6.64462295e+02, -1.39288728e+03,  1.45842358e+02,  2.94770851e+03,\n",
       "        8.12724194e+03,  9.57205193e+03,  7.27777484e+03,  5.99794482e+03,\n",
       "        5.15881551e+03,  4.26265085e+03,  4.45244057e+03,  6.84876238e+03,\n",
       "        4.99215555e+03, -8.20102696e+02,  4.90510914e+03,  9.63961864e+03,\n",
       "        8.82681868e+03,  5.17025376e+03,  8.90202217e+03,  7.80370344e+03,\n",
       "        5.64700244e+03, -5.56619164e+03, -2.44628075e+03, -5.75800141e+03,\n",
       "        1.00696477e+04,  2.36332219e+03,  8.39201764e+03,  4.36659425e+03,\n",
       "        1.55786106e+03,  1.16739692e+03,  2.17457960e+03,  2.46237880e+03,\n",
       "        6.41868735e+02,  1.78356973e+03,  1.36266774e+03,  1.00686594e+03,\n",
       "        6.25119673e+02, -3.63077235e+02, -1.58565246e+03, -2.66956799e+03,\n",
       "        2.04069724e+02,  7.62417148e+02, -1.52969740e+03,  2.66474377e+03,\n",
       "        6.47057397e+03,  4.98696993e+03,  5.31150719e+03, -3.62996575e+00,\n",
       "       -7.86949007e+02, -6.63613324e+01,  3.08647557e+02,  1.34220664e+04,\n",
       "        1.01295150e+04,  8.04606308e+03,  6.13858452e+03,  8.34023107e+03,\n",
       "        1.11538864e+04,  1.30163688e+04,  1.55248629e+04,  1.31887858e+04,\n",
       "        1.20335599e+04,  1.25865487e+04,  1.27557251e+04,  1.32566417e+04,\n",
       "        1.18063192e+04,  1.27083301e+04,  1.19963882e+04,  1.40852232e+04,\n",
       "        1.30728011e+04,  1.27001439e+04,  1.20685564e+04,  1.32125265e+04,\n",
       "        1.26153952e+04,  1.31119844e+04,  1.24080604e+04,  1.32217948e+04,\n",
       "        1.09388591e+04,  1.36321286e+04,  1.37744487e+04,  1.37215392e+04,\n",
       "        1.31698866e+04,  1.21466729e+04,  1.24863556e+04,  1.28585535e+04,\n",
       "        1.25915414e+04,  1.27632661e+04,  1.29393758e+04,  1.34876980e+04,\n",
       "        1.24747195e+04,  1.28310638e+04,  1.07941631e+04,  1.11085692e+04,\n",
       "        1.22794731e+04,  1.21129633e+04,  1.31905696e+04,  1.15983620e+04,\n",
       "        1.26288409e+04,  1.27070511e+04,  1.30503451e+04,  1.31360489e+04,\n",
       "        1.29991398e+04,  1.28454984e+04,  1.22281390e+04,  1.28397457e+04,\n",
       "        1.27069752e+04,  1.23596451e+04,  1.08735281e+04,  1.05483811e+04,\n",
       "        9.10562078e+03,  1.17403941e+04,  1.10075570e+04,  1.10124933e+04,\n",
       "        1.17512693e+04,  1.13286284e+04,  1.15042592e+04,  9.57034766e+03,\n",
       "        1.05047463e+04,  9.86208384e+03,  1.08616780e+04,  1.39865460e+04,\n",
       "        9.61839063e+03,  1.16118588e+04,  1.21289228e+04,  1.19911062e+04,\n",
       "        1.27198331e+04,  1.18410606e+04,  1.10691800e+04,  1.22791763e+04,\n",
       "        1.20805341e+04,  1.26271655e+04,  1.26339485e+04,  1.41743004e+04,\n",
       "        1.29162763e+04,  1.33850657e+04,  1.45663878e+04,  1.22587324e+04,\n",
       "        1.17846755e+04,  1.34037376e+04,  1.29330141e+04,  1.20531316e+04,\n",
       "        1.27983785e+04,  1.45394617e+04,  1.22418429e+04,  1.33632691e+04,\n",
       "        8.94181644e+03,  9.99453524e+03,  9.93512616e+03,  8.98317189e+03,\n",
       "        1.06055976e+04,  1.04714771e+04,  8.71607427e+03,  8.11345086e+03,\n",
       "        9.37343888e+03,  9.55933436e+03,  1.00800298e+04,  1.00286659e+04,\n",
       "        2.16296108e+04,  2.26813075e+04,  1.81091691e+04,  2.53710243e+04,\n",
       "        2.68100040e+04,  2.67403114e+04,  2.60434920e+04,  2.65644058e+04,\n",
       "        2.75470276e+04,  2.77801096e+04,  2.70246653e+04,  1.97978853e+04,\n",
       "        2.09626187e+04,  2.09825197e+04,  1.30654215e+04,  1.75768922e+04,\n",
       "        2.14683595e+04,  1.89463002e+04,  1.37361443e+04,  1.49842882e+04,\n",
       "        1.30693654e+04,  1.14427592e+04,  1.16242941e+04,  1.28530788e+04,\n",
       "        1.30478210e+04,  1.21205379e+04,  1.54554807e+04,  1.50912488e+04,\n",
       "        1.28037715e+04,  1.40747383e+04,  1.34357599e+04,  1.21350040e+04,\n",
       "        1.40307961e+04,  1.83359729e+04,  1.55408083e+04,  6.41515604e+03,\n",
       "        6.81296497e+03,  9.45427829e+03,  7.25724639e+03,  9.74103575e+03,\n",
       "        6.72731877e+03,  5.56911610e+03,  6.31568742e+03,  8.13155912e+03,\n",
       "        8.59840899e+03,  1.33597982e+04,  1.56470888e+04,  1.75102252e+04,\n",
       "        1.54493953e+04,  1.77777442e+04,  1.60777349e+04,  1.88321543e+04,\n",
       "        1.82298974e+04,  1.25085213e+04,  1.04569448e+04,  8.44909185e+03,\n",
       "        7.14172373e+03,  2.03879028e+03,  1.20648431e+04,  1.06965398e+04,\n",
       "        1.34240633e+04,  1.05904114e+04,  7.59901118e+03,  2.90095419e+04,\n",
       "        2.66242751e+04,  2.39837415e+04,  2.10209310e+04,  2.19837179e+04,\n",
       "        1.97003391e+04,  1.92065839e+04,  1.90416112e+04,  1.94533131e+04,\n",
       "        2.77801096e+04,  2.70246653e+04,  1.97978853e+04,  2.09626187e+04,\n",
       "        2.09825197e+04,  1.30654215e+04,  1.75768922e+04,  2.14683595e+04,\n",
       "        1.89463002e+04,  1.50912488e+04,  1.28037715e+04,  1.40747383e+04,\n",
       "        1.34357599e+04,  1.21350040e+04,  1.40307961e+04,  1.83359729e+04,\n",
       "        1.55408083e+04,  6.41515604e+03,  1.33597982e+04,  1.56470888e+04,\n",
       "        1.75102252e+04,  1.54493953e+04,  1.77777442e+04,  1.60777349e+04,\n",
       "        1.88321543e+04,  1.82298974e+04,  1.25085213e+04,  1.04560181e+04,\n",
       "        8.44909185e+03,  7.14172373e+03,  2.03879028e+03,  1.20648431e+04,\n",
       "        1.06965398e+04,  1.34240633e+04,  1.05904114e+04,  7.59901118e+03,\n",
       "        1.13550425e+04,  1.45129766e+04,  1.35824648e+04,  4.52343598e+03,\n",
       "        1.01159633e+04,  1.04916122e+04,  1.02286071e+04,  1.16182965e+04,\n",
       "        1.17328947e+04,  1.02535742e+04,  1.72481711e+04,  9.21332269e+03,\n",
       "        6.38756587e+03,  6.13313853e+03,  9.25201005e+03,  7.53556541e+03,\n",
       "        3.22196253e+03,  2.62741843e+03,  2.72078488e+03,  2.64322901e+03,\n",
       "        6.71727531e+03,  4.72084511e+03,  6.82049653e+03,  4.90810946e+03,\n",
       "        3.38120415e+03,  3.09381744e+03,  8.40574482e+03,  1.00066498e+04,\n",
       "        5.28749493e+03,  3.22734375e+03,  3.98976297e+03,  3.68615407e+03,\n",
       "        1.24682828e+04,  1.32677700e+04,  1.38718004e+04,  2.27861373e+04,\n",
       "        1.27490601e+04,  1.92711771e+04,  1.73698242e+04,  9.41254880e+03,\n",
       "        1.34443730e+04,  1.31690538e+04,  1.22110608e+04,  1.36172422e+04,\n",
       "        1.24177613e+04,  1.33910165e+04,  1.65235379e+04,  1.45168943e+04,\n",
       "        9.62475975e+03,  1.19550894e+04,  9.66715136e+03,  1.19205849e+04,\n",
       "        1.37157297e+04,  1.27101448e+04,  9.90193348e+03,  1.54717583e+04,\n",
       "        1.62271810e+04,  1.50654361e+04,  1.23897623e+04,  4.24652917e+03,\n",
       "        1.22189447e+04,  4.52738825e+03,  8.21912346e+03,  1.37585415e+04,\n",
       "        8.64027927e+03,  1.41841276e+04,  1.65750815e+04,  1.13076387e+04,\n",
       "        2.49303846e+04,  1.44102947e+04,  1.19996970e+04,  1.68090752e+04,\n",
       "        1.57207276e+04,  1.50478467e+04,  1.15347586e+04,  1.30472366e+04,\n",
       "        1.25997780e+04,  1.15824382e+04,  1.89526419e+04,  1.46531748e+04,\n",
       "        1.85809912e+04,  1.54402518e+04,  1.12414924e+04,  1.73540640e+04,\n",
       "        1.62040113e+04,  1.58409620e+04,  2.18576467e+04,  1.19805899e+04,\n",
       "        1.06130740e+04,  1.02224789e+04,  1.64408192e+04,  2.03462256e+04,\n",
       "        1.67756396e+04,  1.53752875e+04,  9.55195282e+03,  5.25082819e+03,\n",
       "        6.42069777e+03,  6.71339360e+03,  1.36474593e+04,  1.49826862e+04,\n",
       "        7.54698401e+03,  7.63370765e+03,  1.62704582e+04,  1.31853294e+04,\n",
       "        1.41394419e+04,  1.11232824e+04,  1.07263176e+04,  1.15644487e+04,\n",
       "        1.59808215e+04,  1.67872517e+04,  1.67415229e+04,  1.76021598e+04,\n",
       "        1.77489510e+04,  1.56624501e+04,  2.29162100e+04,  1.86726478e+04,\n",
       "        2.02217353e+04,  2.38109243e+04,  2.01870319e+04,  1.64316700e+04,\n",
       "        1.83857389e+04,  1.58498782e+04,  1.53058624e+04,  1.72011419e+04,\n",
       "        1.75813620e+04,  1.69606143e+04,  1.87286607e+04,  1.83375842e+04,\n",
       "        1.62637446e+04,  1.70709421e+04,  1.73615967e+04,  1.80655560e+04,\n",
       "        1.80780496e+04,  1.79478135e+04,  1.70819302e+04,  1.90728074e+04,\n",
       "        1.94935022e+04,  1.28766321e+04,  1.51642585e+04,  1.81040810e+04,\n",
       "        1.86448684e+04,  1.68000050e+04,  2.08452717e+04,  2.25288802e+04,\n",
       "        2.20863305e+04,  2.16590650e+04,  2.19138913e+04,  2.11465942e+04,\n",
       "        1.84008613e+04,  1.80626211e+04,  1.79231660e+04,  1.63055666e+04,\n",
       "        1.85205326e+04,  1.78727072e+04,  1.91485422e+04,  1.95683220e+04,\n",
       "        1.98185791e+04,  1.93417110e+04,  1.75733217e+04,  1.47129129e+04,\n",
       "        2.27501934e+04,  2.48332481e+04,  1.58029561e+04,  1.94212293e+04,\n",
       "        1.98625101e+04,  2.06936263e+04,  2.14767165e+04,  2.24350795e+04,\n",
       "        1.83034948e+04,  1.76750024e+04,  1.59240501e+04,  1.68684525e+04,\n",
       "        1.17420833e+04,  1.44018294e+04,  1.17818404e+04,  1.28583509e+04,\n",
       "        1.46531587e+04,  1.43392297e+04,  1.19580242e+04,  1.22720657e+04,\n",
       "        1.43951283e+04,  1.15558772e+04,  1.34641984e+04,  1.39103275e+04,\n",
       "        1.25050369e+04,  1.11453831e+04,  1.45213287e+04,  1.40022388e+04,\n",
       "        1.26513834e+04,  1.52949253e+04,  1.31505258e+04,  1.16036621e+04,\n",
       "        1.62639666e+04,  1.59154855e+04,  1.49207316e+04,  1.69713549e+04,\n",
       "        9.80070932e+03,  8.79483523e+03,  8.31000369e+03,  8.88892060e+03,\n",
       "        7.78995863e+03,  1.33720481e+04,  1.08004402e+04,  6.07907617e+03,\n",
       "        8.57817722e+03,  1.10967471e+04,  1.57788974e+04,  1.57897804e+04,\n",
       "        1.57202673e+04,  1.63735414e+04,  1.76719320e+04,  1.68028278e+04,\n",
       "        1.61097152e+04,  1.73710112e+04,  2.08152911e+04,  1.78134219e+04,\n",
       "        1.20117693e+04,  1.27920636e+04,  1.22470933e+04,  1.28670847e+04,\n",
       "        1.25520600e+04,  1.32891074e+04,  1.24495883e+04,  1.28226106e+04,\n",
       "        1.17182074e+04,  1.05271115e+04,  1.10522760e+04,  1.00307949e+04,\n",
       "        1.24388132e+04,  1.18771820e+04,  1.36029525e+04,  1.24260354e+04,\n",
       "        1.28223142e+04,  1.16615806e+04,  1.31100447e+04,  1.21159988e+04,\n",
       "        1.24341943e+04,  1.35060236e+04,  1.50362245e+04,  1.38693431e+04,\n",
       "        1.11232142e+04,  1.22851196e+04,  1.16785491e+04,  1.26970792e+04,\n",
       "        1.08798891e+04,  1.22681624e+04,  1.28443738e+04,  1.27865302e+04,\n",
       "        1.25358242e+04,  1.18627720e+04,  1.45933512e+04,  1.19644480e+04,\n",
       "        1.28315268e+04,  1.21685033e+04,  1.26312307e+04,  1.31356510e+04,\n",
       "        1.33238465e+04,  1.22832860e+04,  1.22599980e+04,  1.28623020e+04,\n",
       "        1.23030918e+04,  1.34530845e+04,  1.19014793e+04,  1.11535818e+04,\n",
       "        1.30618029e+04,  1.43151591e+04,  1.42525654e+04,  1.29053227e+04,\n",
       "        1.18624731e+04,  1.32529982e+04,  1.35162621e+04,  1.27180238e+04,\n",
       "        1.26279784e+04,  1.24219599e+04,  1.24366418e+04,  1.30437422e+04,\n",
       "        1.26948978e+04,  1.31209626e+04,  1.43718080e+04,  1.08631108e+04,\n",
       "        1.15695357e+04,  1.28475536e+04,  1.30462704e+04,  1.14072295e+04,\n",
       "        1.30204833e+04,  1.06845159e+04,  1.14222396e+04,  1.19266399e+04,\n",
       "        1.32991122e+04,  1.28538978e+04,  1.26469442e+04,  1.21095176e+04,\n",
       "        1.20130958e+04,  1.26257948e+04,  1.33563691e+04,  1.40913496e+04,\n",
       "        1.39726884e+04,  1.26222964e+04,  1.41496760e+04,  1.28038097e+04,\n",
       "        1.06265540e+04,  1.26268250e+04,  1.24582382e+04,  1.47639159e+04,\n",
       "        1.45199259e+04,  1.41723521e+04,  1.26339591e+04,  1.34823366e+04,\n",
       "        1.30860567e+04,  1.33703068e+04,  1.21869320e+04,  1.44990308e+04,\n",
       "        1.19578372e+04,  1.30731361e+04,  1.25046574e+04,  1.30784869e+04,\n",
       "        1.33882066e+04,  1.24331237e+04,  1.26466004e+04,  1.19519394e+04,\n",
       "        1.17944013e+04,  1.17903103e+04,  1.25971600e+04,  1.37053995e+04])"
      ]
     },
     "execution_count": 113,
     "metadata": {},
     "output_type": "execute_result"
    }
   ],
   "source": [
    "Case_controlling.decision_function(X_case_control)  "
   ]
  },
  {
   "cell_type": "code",
   "execution_count": 114,
   "metadata": {},
   "outputs": [
    {
     "name": "stdout",
     "output_type": "stream",
     "text": [
      "Accuracy of logistic regression classifier on test set: 0.96\n"
     ]
    }
   ],
   "source": [
    "y_pred_train_selectedf_case_control = logreg_train_selectedf.predict(X_case_control)\n",
    "print('Accuracy of logistic regression classifier on test set: {:.2f}'.format(logreg_train_selectedf.score(X_train_selectedf,y_train_selectedf)))"
   ]
  },
  {
   "cell_type": "code",
   "execution_count": 115,
   "metadata": {},
   "outputs": [
    {
     "data": {
      "text/plain": [
       "SGDClassifier(alpha=0.0001, average=False, class_weight=None, epsilon=0.1,\n",
       "       eta0=0.0, fit_intercept=True, l1_ratio=0.15,\n",
       "       learning_rate='optimal', loss='hinge', max_iter=None, n_iter=None,\n",
       "       n_jobs=1, penalty='l2', power_t=0.5, random_state=None,\n",
       "       shuffle=True, tol=None, verbose=0, warm_start=False)"
      ]
     },
     "execution_count": 115,
     "metadata": {},
     "output_type": "execute_result"
    }
   ],
   "source": [
    "result_s=Case_controlling.score(X_case_control, y_case_control)\n",
    "#print result_s\n",
    "Case_controlling.sparsify()\n"
   ]
  },
  {
   "cell_type": "code",
   "execution_count": 116,
   "metadata": {},
   "outputs": [
    {
     "name": "stdout",
     "output_type": "stream",
     "text": [
      "612\n",
      "LogisticRegression(C=5.0, class_weight='balanced', dual=False,\n",
      "          fit_intercept=True, intercept_scaling=1, max_iter=100,\n",
      "          multi_class='ovr', n_jobs=1, penalty='l2', random_state=None,\n",
      "          solver='newton-cg', tol=0.0001, verbose=0, warm_start=False)\n"
     ]
    }
   ],
   "source": [
    "X_case_control_new = dataframe_train_selected_f.as_matrix()\n",
    "\n",
    "y_case_control_new = a+b+c+d+e+f\n",
    "\n",
    "\n",
    "print len(y_train_selectedf)\n",
    "\n",
    "\n",
    "X_train, X_test, y_train, y_test = train_test_split(X_case_control_new, y_case_control_new, test_size=0.30, random_state=0)\n",
    "\n",
    "logreg_train_selectedf_cc = LogisticRegression(solver='newton-cg',C=5.0,class_weight='balanced')\n",
    "result3 = logreg_train_selectedf_cc.fit(X_train, y_train)\n",
    "print result3"
   ]
  },
  {
   "cell_type": "code",
   "execution_count": 117,
   "metadata": {},
   "outputs": [
    {
     "name": "stdout",
     "output_type": "stream",
     "text": [
      "Accuracy of logistic regression classifier on test set: 0.91\n"
     ]
    }
   ],
   "source": [
    "y_pred_train_selectedf_cc = logreg_train_selectedf_cc.predict(X_test)\n",
    "print('Accuracy of logistic regression classifier on test set: {:.2f}'.format(logreg_train_selectedf_cc.score(X_test,y_test)))"
   ]
  },
  {
   "cell_type": "code",
   "execution_count": 118,
   "metadata": {},
   "outputs": [
    {
     "name": "stdout",
     "output_type": "stream",
     "text": [
      "0.9130434782608695\n"
     ]
    }
   ],
   "source": [
    "score = logreg_train_selectedf_cc.score(X_test,y_test)\n",
    "print(score)\n"
   ]
  },
  {
   "cell_type": "code",
   "execution_count": 119,
   "metadata": {},
   "outputs": [
    {
     "name": "stdout",
     "output_type": "stream",
     "text": [
      "[[ 0.24884878 -0.22449985 -0.27527102  0.0382218  -0.78046727  1.61276564\n",
      "  -0.64780574 -0.49431462  0.3840761   3.13601066  0.56950556  0.18628428\n",
      "   0.48071756 -0.96760922]]\n"
     ]
    }
   ],
   "source": [
    "#print logistic regression coefficients\n",
    "print logreg_train_selectedf_cc.coef_"
   ]
  },
  {
   "cell_type": "code",
   "execution_count": 120,
   "metadata": {},
   "outputs": [
    {
     "data": {
      "text/plain": [
       "array([[ 24,   2],\n",
       "       [ 14, 144]], dtype=int64)"
      ]
     },
     "execution_count": 120,
     "metadata": {},
     "output_type": "execute_result"
    }
   ],
   "source": [
    "from sklearn.metrics import confusion_matrix\n",
    "confusion_matrix_sel = confusion_matrix(y_test,y_pred_train_selectedf_cc)\n",
    "confusion_matrix_sel"
   ]
  },
  {
   "cell_type": "code",
   "execution_count": 121,
   "metadata": {},
   "outputs": [
    {
     "name": "stdout",
     "output_type": "stream",
     "text": [
      "             precision    recall  f1-score   support\n",
      "\n",
      "          0       0.63      0.92      0.75        26\n",
      "          1       0.99      0.91      0.95       158\n",
      "\n",
      "avg / total       0.94      0.91      0.92       184\n",
      "\n"
     ]
    }
   ],
   "source": [
    "from sklearn.metrics import classification_report\n",
    "print(classification_report(y_test,y_pred_train_selectedf_cc))"
   ]
  },
  {
   "cell_type": "code",
   "execution_count": 122,
   "metadata": {},
   "outputs": [
    {
     "data": {
      "image/png": "[encoded data removed]",
      "text/plain": [
       "<matplotlib.figure.Figure at 0x178a76d8>"
      ]
     },
     "metadata": {},
     "output_type": "display_data"
    },
    {
     "data": {
      "text/plain": [
       "<ggplot: (24972923)>"
      ]
     },
     "execution_count": 122,
     "metadata": {},
     "output_type": "execute_result"
    }
   ],
   "source": [
    "\n",
    "preds = logreg_train_selectedf_cc.predict_proba(X_test)[:,1]\n",
    "fpr, tpr, _ = metrics.roc_curve(y_test, preds)\n",
    "\n",
    "df = pd.DataFrame(dict(fpr=fpr, tpr=tpr))\n",
    "ggplot(df, aes(x='fpr', y='tpr')) +\\\n",
    "    geom_line() +\\\n",
    "    geom_abline(linetype='dashed')"
   ]
  },
  {
   "cell_type": "code",
   "execution_count": 123,
   "metadata": {},
   "outputs": [
    {
     "data": {
      "image/png": "[encoded data removed]",
      "text/plain": [
       "<matplotlib.figure.Figure at 0x1792f7b8>"
      ]
     },
     "metadata": {},
     "output_type": "display_data"
    },
    {
     "data": {
      "text/plain": [
       "<ggplot: (22932645)>"
      ]
     },
     "execution_count": 123,
     "metadata": {},
     "output_type": "execute_result"
    }
   ],
   "source": [
    "auc = metrics.auc(fpr,tpr)\n",
    "ggplot(df, aes(x='fpr',y='tpr')) +\\\n",
    "    geom_area(alpha=0.2) +\\\n",
    "    geom_line(aes(y='tpr')) +\\\n",
    "    ggtitle(\"ROC Curve w/ AUC=%s\" % str(auc))"
   ]
  },
  {
   "cell_type": "code",
   "execution_count": 124,
   "metadata": {},
   "outputs": [],
   "source": [
    "###############################################################################################################"
   ]
  },
  {
   "cell_type": "code",
   "execution_count": 125,
   "metadata": {},
   "outputs": [],
   "source": [
    "#1.e"
   ]
  },
  {
   "cell_type": "code",
   "execution_count": 126,
   "metadata": {},
   "outputs": [],
   "source": [
    "#L-1 Penalised"
   ]
  },
  {
   "cell_type": "code",
   "execution_count": 127,
   "metadata": {},
   "outputs": [],
   "source": [
    "a = [0] * 81\n",
    "b = [1]* 108\n",
    "c = [1]* 108\n",
    "d = [1]* 108\n",
    "e = [1]* 108\n",
    "f = [1]* 99"
   ]
  },
  {
   "cell_type": "code",
   "execution_count": 128,
   "metadata": {},
   "outputs": [
    {
     "name": "stdout",
     "output_type": "stream",
     "text": [
      "612\n",
      "LogisticRegression(C=1, class_weight='balanced', dual=False,\n",
      "          fit_intercept=True, intercept_scaling=1, max_iter=100,\n",
      "          multi_class='ovr', n_jobs=1, penalty='l1', random_state=None,\n",
      "          solver='liblinear', tol=0.0001, verbose=0, warm_start=False)\n"
     ]
    }
   ],
   "source": [
    "X_train_allf_l1 = dataframe_train.as_matrix()\n",
    "y_train_allf_l1 = a+b+c+d+e+f\n",
    "print len(y_train_allf_l1)\n",
    "\n",
    "\n",
    "X_train, X_test, y_train, y_test = train_test_split(X_train_allf_l1, y_train_allf_l1, test_size=0.30, random_state=0)\n",
    "\n",
    "logreg_train_allf_l1 = LogisticRegression(penalty='l1', class_weight='balanced', C=1)\n",
    "result3 = logreg_train_allf_l1.fit(X_train, y_train)\n",
    "print result3"
   ]
  },
  {
   "cell_type": "code",
   "execution_count": 129,
   "metadata": {},
   "outputs": [
    {
     "name": "stdout",
     "output_type": "stream",
     "text": [
      "Accuracy of logistic regression classifier on test set: 0.93\n"
     ]
    }
   ],
   "source": [
    "y_pred_train_allf_l1 = logreg_train_allf_l1.predict(X_test)\n",
    "print('Accuracy of logistic regression classifier on test set: {:.2f}'.format(logreg_train_allf_l1.score(X_test,y_test)))"
   ]
  },
  {
   "cell_type": "code",
   "execution_count": 130,
   "metadata": {},
   "outputs": [
    {
     "name": "stdout",
     "output_type": "stream",
     "text": [
      "0.9293478260869565\n"
     ]
    }
   ],
   "source": [
    "score = logreg_train_allf_l1.score(X_test,y_test)\n",
    "print(score)"
   ]
  },
  {
   "cell_type": "code",
   "execution_count": 131,
   "metadata": {},
   "outputs": [
    {
     "data": {
      "text/plain": [
       "array([[ 24,   2],\n",
       "       [ 11, 147]], dtype=int64)"
      ]
     },
     "execution_count": 131,
     "metadata": {},
     "output_type": "execute_result"
    }
   ],
   "source": [
    "from sklearn.metrics import confusion_matrix\n",
    "confusion_matrix_l1 = confusion_matrix(y_test,y_pred_train_allf_l1)\n",
    "confusion_matrix_l1"
   ]
  },
  {
   "cell_type": "code",
   "execution_count": 132,
   "metadata": {},
   "outputs": [
    {
     "name": "stdout",
     "output_type": "stream",
     "text": [
      "             precision    recall  f1-score   support\n",
      "\n",
      "          0       0.69      0.92      0.79        26\n",
      "          1       0.99      0.93      0.96       158\n",
      "\n",
      "avg / total       0.94      0.93      0.93       184\n",
      "\n"
     ]
    }
   ],
   "source": [
    "from sklearn.metrics import classification_report\n",
    "print(classification_report(y_test,y_pred_train_allf_l1))"
   ]
  },
  {
   "cell_type": "code",
   "execution_count": 133,
   "metadata": {},
   "outputs": [
    {
     "data": {
      "image/png": "[encoded data removed]",
      "text/plain": [
       "<matplotlib.figure.Figure at 0x17bb9c88>"
      ]
     },
     "metadata": {},
     "output_type": "display_data"
    },
    {
     "data": {
      "text/plain": [
       "<ggplot: (25615858)>"
      ]
     },
     "execution_count": 133,
     "metadata": {},
     "output_type": "execute_result"
    }
   ],
   "source": [
    "\n",
    "\n",
    "preds = logreg_train_allf_l1.predict_proba(X_test)[:,1]\n",
    "fpr, tpr, _ = metrics.roc_curve(y_test, preds)\n",
    "\n",
    "df = pd.DataFrame(dict(fpr=fpr, tpr=tpr))\n",
    "ggplot(df, aes(x='fpr', y='tpr')) +\\\n",
    "    geom_line() +\\\n",
    "    geom_abline(linetype='dashed')"
   ]
  },
  {
   "cell_type": "code",
   "execution_count": 134,
   "metadata": {},
   "outputs": [
    {
     "data": {
      "image/png": "[encoded data removed]",
      "text/plain": [
       "<matplotlib.figure.Figure at 0x15445240>"
      ]
     },
     "metadata": {},
     "output_type": "display_data"
    },
    {
     "data": {
      "text/plain": [
       "<ggplot: (22421571)>"
      ]
     },
     "execution_count": 134,
     "metadata": {},
     "output_type": "execute_result"
    }
   ],
   "source": [
    "auc = metrics.auc(fpr,tpr)\n",
    "ggplot(df, aes(x='fpr',y='tpr')) +\\\n",
    "    geom_area(alpha=0.2) +\\\n",
    "    geom_line(aes(y='tpr')) +\\\n",
    "    ggtitle(\"ROC Curve w/ AUC=%s\" % str(auc))"
   ]
  },
  {
   "cell_type": "code",
   "execution_count": 135,
   "metadata": {},
   "outputs": [
    {
     "name": "stdout",
     "output_type": "stream",
     "text": [
      "Warning: Maximum number of iterations has been exceeded.\n",
      "         Current function value: 0.059429\n",
      "         Iterations: 35\n",
      "                           Logit Regression Results                           \n",
      "==============================================================================\n",
      "Dep. Variable:                      y   No. Observations:                  428\n",
      "Model:                          Logit   Df Residuals:                      392\n",
      "Method:                           MLE   Df Model:                           35\n",
      "Date:                Sun, 18 Feb 2018   Pseudo R-squ.:                  0.8450\n",
      "Time:                        20:37:18   Log-Likelihood:                -25.436\n",
      "converged:                      False   LL-Null:                       -164.15\n",
      "                                        LLR p-value:                 1.671e-39\n",
      "==============================================================================\n",
      "                 coef    std err          z      P>|z|      [0.025      0.975]\n",
      "------------------------------------------------------------------------------\n",
      "x1             0.4324      0.891      0.485      0.628      -1.315       2.179\n",
      "x2            49.4706   3.55e+04      0.001      0.999   -6.96e+04    6.97e+04\n",
      "x3             0.3555      0.490      0.726      0.468      -0.604       1.315\n",
      "x4            61.4359   2.82e+05      0.000      1.000   -5.53e+05    5.53e+05\n",
      "x5             0.0883      0.693      0.127      0.899      -1.270       1.447\n",
      "x6             3.2553      8.103      0.402      0.688     -12.626      19.137\n",
      "x7             0.7737      0.701      1.104      0.269      -0.599       2.147\n",
      "x8            -2.9566      1.855     -1.594      0.111      -6.592       0.679\n",
      "x9            -0.9531      0.484     -1.967      0.049      -1.903      -0.004\n",
      "x10           -2.9067      1.349     -2.155      0.031      -5.550      -0.264\n",
      "x11           -0.7756      0.601     -1.290      0.197      -1.954       0.403\n",
      "x12            0.2300      1.440      0.160      0.873      -2.593       3.053\n",
      "x13           -0.9749      4.484     -0.217      0.828      -9.763       7.813\n",
      "x14          -20.6053     12.284     -1.677      0.093     -44.682       3.472\n",
      "x15            1.3895      1.650      0.842      0.400      -1.844       4.623\n",
      "x16          -12.0171     11.173     -1.076      0.282     -33.915       9.881\n",
      "x17           -1.4049      2.463     -0.570      0.568      -6.232       3.422\n",
      "x18          -21.2036     10.210     -2.077      0.038     -41.214      -1.193\n",
      "x19            0.7291   6.92e+05   1.05e-06      1.000   -1.36e+06    1.36e+06\n",
      "x20            3.5747   6.64e+07   5.38e-08      1.000    -1.3e+08     1.3e+08\n",
      "x21           -0.0395        nan        nan        nan         nan         nan\n",
      "x22            3.1079        nan        nan        nan         nan         nan\n",
      "x23            0.0386        nan        nan        nan         nan         nan\n",
      "x24            4.1776        nan        nan        nan         nan         nan\n",
      "x25           -3.0334      3.835     -0.791      0.429     -10.550       4.483\n",
      "x26           34.8175     13.547      2.570      0.010       8.267      61.368\n",
      "x27            0.3742      1.741      0.215      0.830      -3.037       3.786\n",
      "x28           22.0365     11.323      1.946      0.052      -0.156      44.229\n",
      "x29            2.4404      2.844      0.858      0.391      -3.134       8.015\n",
      "x30            8.6692     10.108      0.858      0.391     -11.142      28.481\n",
      "x31           -1.0921      2.425     -0.450      0.653      -5.846       3.662\n",
      "x32           16.6125      7.221      2.301      0.021       2.460      30.765\n",
      "x33           -0.3152      1.045     -0.302      0.763      -2.364       1.733\n",
      "x34            4.9043      4.808      1.020      0.308      -4.519      14.327\n",
      "x35            0.6732      1.630      0.413      0.680      -2.521       3.868\n",
      "x36            6.7680      4.364      1.551      0.121      -1.785      15.321\n",
      "x37            0.7296   6.92e+05   1.05e-06      1.000   -1.36e+06    1.36e+06\n",
      "x38            3.5747   6.64e+07   5.38e-08      1.000    -1.3e+08     1.3e+08\n",
      "x39           -0.0396        nan        nan        nan         nan         nan\n",
      "x40            3.1080        nan        nan        nan         nan         nan\n",
      "x41            0.0385        nan        nan        nan         nan         nan\n",
      "x42            4.1776        nan        nan        nan         nan         nan\n",
      "==============================================================================\n",
      "\n",
      "Possibly complete quasi-separation: A fraction 0.66 of observations can be\n",
      "perfectly predicted. This might indicate that there is complete\n",
      "quasi-separation. In this case some parameters will not be identified.\n"
     ]
    },
    {
     "name": "stderr",
     "output_type": "stream",
     "text": [
      "c:\\python27\\lib\\site-packages\\statsmodels\\base\\model.py:496: ConvergenceWarning: Maximum Likelihood optimization failed to converge. Check mle_retvals\n",
      "  \"Check mle_retvals\", ConvergenceWarning)\n"
     ]
    }
   ],
   "source": [
    "\n",
    "\n",
    "stats.chisqprob = lambda chisq, df: stats.chi2.sf(chisq, df)\n",
    "\n",
    "\n",
    "logit_model=sm.Logit(y_train,X_train)\n",
    "result=logit_model.fit()\n",
    "print(result.summary())"
   ]
  },
  {
   "cell_type": "code",
   "execution_count": 136,
   "metadata": {},
   "outputs": [
    {
     "name": "stdout",
     "output_type": "stream",
     "text": [
      "5-fold cross validation average accuracy: 0.949\n"
     ]
    }
   ],
   "source": [
    "\n",
    "X_shuf, Y_shuf = shuffle(X_train, y_train)\n",
    "\n",
    "\n",
    "kfold = model_selection.KFold(n_splits=5, random_state=7)\n",
    "modelCV = LogisticRegression()\n",
    "scoring = 'accuracy'\n",
    "#print Y_shuf\n",
    "results = model_selection.cross_val_score(modelCV, X_shuf, Y_shuf, cv=kfold, scoring=scoring)\n",
    "print(\"5-fold cross validation average accuracy: %.3f\" % (results.mean()))"
   ]
  },
  {
   "cell_type": "code",
   "execution_count": 137,
   "metadata": {},
   "outputs": [],
   "source": [
    "#############################################################################################################"
   ]
  },
  {
   "cell_type": "code",
   "execution_count": 138,
   "metadata": {},
   "outputs": [],
   "source": [
    "#.f--Multi-class Classification\n"
   ]
  },
  {
   "cell_type": "code",
   "execution_count": 139,
   "metadata": {},
   "outputs": [],
   "source": [
    "a = [0] * 81\n",
    "\n",
    "b = [1]* 108\n",
    "\n",
    "c = [2]* 108\n",
    "\n",
    "d = [3]* 108\n",
    "e = [4]* 108\n",
    "f = [5]* 99\n",
    "\n",
    "#print len(y)"
   ]
  },
  {
   "cell_type": "code",
   "execution_count": 140,
   "metadata": {},
   "outputs": [],
   "source": [
    "# Here we label for multiclass so we assign \n",
    "# '0'- Bending\n",
    "# '1' - cycling\n",
    "# '2' - lying\n",
    "# '3' - sitting\n",
    "# '4' - standing\n",
    "# '5' - walking\n"
   ]
  },
  {
   "cell_type": "code",
   "execution_count": 141,
   "metadata": {},
   "outputs": [
    {
     "name": "stdout",
     "output_type": "stream",
     "text": [
      "612\n",
      "LogisticRegression(C=1, class_weight='balanced', dual=False,\n",
      "          fit_intercept=True, intercept_scaling=1, max_iter=100,\n",
      "          multi_class='multinomial', n_jobs=1, penalty='l1',\n",
      "          random_state=None, solver='saga', tol=0.0001, verbose=0,\n",
      "          warm_start=False)\n"
     ]
    },
    {
     "name": "stderr",
     "output_type": "stream",
     "text": [
      "c:\\python27\\lib\\site-packages\\sklearn\\linear_model\\sag.py:326: ConvergenceWarning: The max_iter was reached which means the coef_ did not converge\n",
      "  \"the coef_ did not converge\", ConvergenceWarning)\n"
     ]
    }
   ],
   "source": [
    "X_train_allf_l1_multi = dataframe_train.as_matrix()\n",
    "y_train_allf_l1_multi = a+b+c+d+e+f\n",
    "print len(y_train_allf_l1)\n",
    "\n",
    "\n",
    "X_train, X_test, y_train, y_test = train_test_split(X_train_allf_l1_multi, y_train_allf_l1_multi, test_size=0.30, random_state=0)\n",
    "\n",
    "logreg_train_allf_l1_multi = LogisticRegression(penalty='l1', class_weight='balanced', C=1,multi_class='multinomial',solver='saga')\n",
    "result3 = logreg_train_allf_l1_multi.fit(X_train, y_train)\n",
    "print result3"
   ]
  },
  {
   "cell_type": "code",
   "execution_count": 142,
   "metadata": {},
   "outputs": [
    {
     "name": "stdout",
     "output_type": "stream",
     "text": [
      "Accuracy of logistic regression classifier on test set: 0.26\n"
     ]
    }
   ],
   "source": [
    "y_pred_train_allf_l1_multi = logreg_train_allf_l1_multi.predict(X_test)\n",
    "print('Accuracy of logistic regression classifier on test set: {:.2f}'.format(logreg_train_allf.score(X_test,y_test)))"
   ]
  },
  {
   "cell_type": "code",
   "execution_count": 143,
   "metadata": {},
   "outputs": [
    {
     "name": "stdout",
     "output_type": "stream",
     "text": [
      "0.2554347826086957\n"
     ]
    }
   ],
   "source": [
    "score = logreg_train_allf.score(X_test,y_test)\n",
    "print(score)"
   ]
  },
  {
   "cell_type": "code",
   "execution_count": 144,
   "metadata": {},
   "outputs": [
    {
     "data": {
      "text/plain": [
       "array([[23,  0,  0,  3,  0,  0],\n",
       "       [ 0, 22,  1,  1,  1,  0],\n",
       "       [ 0,  1, 27,  5,  3,  0],\n",
       "       [ 9,  0,  4, 16,  5,  0],\n",
       "       [ 0,  0,  5,  7, 21,  1],\n",
       "       [ 0,  0,  0,  0,  0, 29]], dtype=int64)"
      ]
     },
     "execution_count": 144,
     "metadata": {},
     "output_type": "execute_result"
    }
   ],
   "source": [
    "from sklearn.metrics import confusion_matrix\n",
    "confusion_matrix = confusion_matrix(y_test,y_pred_train_allf_l1_multi)\n",
    "confusion_matrix"
   ]
  },
  {
   "cell_type": "code",
   "execution_count": 145,
   "metadata": {},
   "outputs": [
    {
     "name": "stdout",
     "output_type": "stream",
     "text": [
      "             precision    recall  f1-score   support\n",
      "\n",
      "          0       0.72      0.88      0.79        26\n",
      "          1       0.96      0.88      0.92        25\n",
      "          2       0.73      0.75      0.74        36\n",
      "          3       0.50      0.47      0.48        34\n",
      "          4       0.70      0.62      0.66        34\n",
      "          5       0.97      1.00      0.98        29\n",
      "\n",
      "avg / total       0.75      0.75      0.75       184\n",
      "\n"
     ]
    }
   ],
   "source": [
    "from sklearn.metrics import classification_report\n",
    "print(classification_report(y_test,y_pred_train_allf_l1_multi))"
   ]
  },
  {
   "cell_type": "code",
   "execution_count": 146,
   "metadata": {},
   "outputs": [
    {
     "name": "stdout",
     "output_type": "stream",
     "text": [
      "5-fold cross validation average accuracy: 0.736\n"
     ]
    }
   ],
   "source": [
    "\n",
    "X_shuf, Y_shuf = shuffle(X_train, y_train)\n",
    "\n",
    "\n",
    "kfold = model_selection.KFold(n_splits=5, random_state=7)\n",
    "modelCV = LogisticRegression()\n",
    "scoring = 'accuracy'\n",
    "#print Y_shuf\n",
    "results = model_selection.cross_val_score(modelCV, X_shuf, Y_shuf, cv=kfold, scoring=scoring)\n",
    "print(\"5-fold cross validation average accuracy: %.3f\" % (results.mean()))"
   ]
  },
  {
   "cell_type": "code",
   "execution_count": 147,
   "metadata": {},
   "outputs": [],
   "source": [
    "########*********************############****************************##############**********************##################"
   ]
  },
  {
   "cell_type": "code",
   "execution_count": 148,
   "metadata": {},
   "outputs": [
    {
     "name": "stdout",
     "output_type": "stream",
     "text": [
      "GaussianNB(priors=None)\n"
     ]
    },
    {
     "data": {
      "text/plain": [
       "0.6977124183006536"
      ]
     },
     "execution_count": 148,
     "metadata": {},
     "output_type": "execute_result"
    }
   ],
   "source": [
    "from sklearn.naive_bayes import GaussianNB\n",
    "nb = GaussianNB()\n",
    "result1 = nb.fit(X_train,y_train )\n",
    "print result1\n",
    "\n",
    "nb.score(X_train_allf_l1_multi,y_train_allf_l1_multi )"
   ]
  },
  {
   "cell_type": "code",
   "execution_count": 149,
   "metadata": {},
   "outputs": [
    {
     "name": "stdout",
     "output_type": "stream",
     "text": [
      "MultinomialNB(alpha=1.0, class_prior=None, fit_prior=True)\n"
     ]
    },
    {
     "data": {
      "text/plain": [
       "0.7124183006535948"
      ]
     },
     "execution_count": 149,
     "metadata": {},
     "output_type": "execute_result"
    }
   ],
   "source": [
    "from sklearn.naive_bayes import MultinomialNB\n",
    "nb = MultinomialNB()\n",
    "result2 = nb.fit(X_train,y_train)\n",
    "#MultinomialNB(alpha=1.0, class_prior=None, fit_prior=True)\n",
    "print result2\n",
    "nb.score(X_train_allf_l1_multi,y_train_allf_l1_multi)"
   ]
  },
  {
   "cell_type": "code",
   "execution_count": 150,
   "metadata": {},
   "outputs": [],
   "source": [
    "###################################################################################################################################"
   ]
  },
  {
   "cell_type": "code",
   "execution_count": 151,
   "metadata": {},
   "outputs": [],
   "source": [
    "### EXTRA*****************************************EXTRA*****************************"
   ]
  },
  {
   "cell_type": "code",
   "execution_count": 152,
   "metadata": {},
   "outputs": [],
   "source": [
    "#### repeating 1.e and 1.f on the selected features i.e for the classifer built"
   ]
  },
  {
   "cell_type": "code",
   "execution_count": 153,
   "metadata": {},
   "outputs": [
    {
     "data": {
      "text/plain": [
       "(612, 14)"
      ]
     },
     "execution_count": 153,
     "metadata": {},
     "output_type": "execute_result"
    }
   ],
   "source": [
    "dataframe_train_selected_f1 = dataframe_train.iloc[:, [2,9,10,11,14,15,16,17,18,19,20,22,28,29]]\n",
    "\n",
    "dataframe_train_selected_f1.shape"
   ]
  },
  {
   "cell_type": "code",
   "execution_count": 154,
   "metadata": {},
   "outputs": [],
   "source": [
    "a = [0] * 81\n",
    "b = [1]* 108\n",
    "c = [1]* 108\n",
    "d = [1]* 108\n",
    "e = [1]* 108\n",
    "f = [1]* 99"
   ]
  },
  {
   "cell_type": "code",
   "execution_count": 155,
   "metadata": {},
   "outputs": [
    {
     "name": "stdout",
     "output_type": "stream",
     "text": [
      "612\n",
      "LogisticRegression(C=1, class_weight='balanced', dual=False,\n",
      "          fit_intercept=True, intercept_scaling=1, max_iter=100,\n",
      "          multi_class='ovr', n_jobs=1, penalty='l1', random_state=None,\n",
      "          solver='liblinear', tol=0.0001, verbose=0, warm_start=False)\n"
     ]
    }
   ],
   "source": [
    "X_train_allf_l1_x = dataframe_train_selected_f1.as_matrix()\n",
    "y_train_allf_l1_x = a+b+c+d+e+f\n",
    "print len(y_train_allf_l1)\n",
    "\n",
    "\n",
    "X_train, X_test, y_train, y_test = train_test_split(X_train_allf_l1_x, y_train_allf_l1_x, test_size=0.30, random_state=0)\n",
    "\n",
    "logreg_train_allf_l1 = LogisticRegression(penalty='l1', class_weight='balanced', C=1)\n",
    "result3 = logreg_train_allf_l1.fit(X_train, y_train)\n",
    "print result3"
   ]
  },
  {
   "cell_type": "code",
   "execution_count": 156,
   "metadata": {},
   "outputs": [
    {
     "name": "stdout",
     "output_type": "stream",
     "text": [
      "Accuracy of logistic regression classifier on test set: 0.92\n"
     ]
    }
   ],
   "source": [
    "y_pred_train_allf_l1 = logreg_train_allf_l1.predict(X_test)\n",
    "print('Accuracy of logistic regression classifier on test set: {:.2f}'.format(logreg_train_allf_l1.score(X_test,y_test)))"
   ]
  },
  {
   "cell_type": "code",
   "execution_count": 157,
   "metadata": {},
   "outputs": [
    {
     "name": "stdout",
     "output_type": "stream",
     "text": [
      "0.9184782608695652\n"
     ]
    }
   ],
   "source": [
    "score = logreg_train_allf_l1.score(X_test,y_test)\n",
    "print(score)"
   ]
  },
  {
   "cell_type": "code",
   "execution_count": 158,
   "metadata": {},
   "outputs": [
    {
     "data": {
      "text/plain": [
       "array([[ 25,   1],\n",
       "       [ 14, 144]], dtype=int64)"
      ]
     },
     "execution_count": 158,
     "metadata": {},
     "output_type": "execute_result"
    }
   ],
   "source": [
    "from sklearn.metrics import confusion_matrix\n",
    "confusion_matrix_l1 = confusion_matrix(y_test,y_pred_train_allf_l1)\n",
    "confusion_matrix_l1"
   ]
  },
  {
   "cell_type": "code",
   "execution_count": 159,
   "metadata": {},
   "outputs": [
    {
     "name": "stdout",
     "output_type": "stream",
     "text": [
      "             precision    recall  f1-score   support\n",
      "\n",
      "          0       0.64      0.96      0.77        26\n",
      "          1       0.99      0.91      0.95       158\n",
      "\n",
      "avg / total       0.94      0.92      0.92       184\n",
      "\n"
     ]
    }
   ],
   "source": [
    "from sklearn.metrics import classification_report\n",
    "print(classification_report(y_test,y_pred_train_allf_l1))"
   ]
  },
  {
   "cell_type": "code",
   "execution_count": 160,
   "metadata": {},
   "outputs": [
    {
     "data": {
      "image/png": "[encoded data removed]",
      "text/plain": [
       "<matplotlib.figure.Figure at 0x156204e0>"
      ]
     },
     "metadata": {},
     "output_type": "display_data"
    },
    {
     "data": {
      "text/plain": [
       "<ggplot: (21928014)>"
      ]
     },
     "execution_count": 160,
     "metadata": {},
     "output_type": "execute_result"
    }
   ],
   "source": [
    "\n",
    "\n",
    "preds = logreg_train_allf_l1.predict_proba(X_test)[:,1]\n",
    "fpr, tpr, _ = metrics.roc_curve(y_test, preds)\n",
    "\n",
    "df = pd.DataFrame(dict(fpr=fpr, tpr=tpr))\n",
    "ggplot(df, aes(x='fpr', y='tpr')) +\\\n",
    "    geom_line() +\\\n",
    "    geom_abline(linetype='dashed')"
   ]
  },
  {
   "cell_type": "code",
   "execution_count": 161,
   "metadata": {},
   "outputs": [
    {
     "data": {
      "image/png": "[encoded data removed]",
      "text/plain": [
       "<matplotlib.figure.Figure at 0x14f47be0>"
      ]
     },
     "metadata": {},
     "output_type": "display_data"
    },
    {
     "data": {
      "text/plain": [
       "<ggplot: (23258646)>"
      ]
     },
     "execution_count": 161,
     "metadata": {},
     "output_type": "execute_result"
    }
   ],
   "source": [
    "auc = metrics.auc(fpr,tpr)\n",
    "ggplot(df, aes(x='fpr',y='tpr')) +\\\n",
    "    geom_area(alpha=0.2) +\\\n",
    "    geom_line(aes(y='tpr')) +\\\n",
    "    ggtitle(\"ROC Curve w/ AUC=%s\" % str(auc))"
   ]
  },
  {
   "cell_type": "code",
   "execution_count": 162,
   "metadata": {},
   "outputs": [
    {
     "name": "stdout",
     "output_type": "stream",
     "text": [
      "Optimization terminated successfully.\n",
      "         Current function value: 0.102080\n",
      "         Iterations 11\n",
      "                           Logit Regression Results                           \n",
      "==============================================================================\n",
      "Dep. Variable:                      y   No. Observations:                  428\n",
      "Model:                          Logit   Df Residuals:                      414\n",
      "Method:                           MLE   Df Model:                           13\n",
      "Date:                Sun, 18 Feb 2018   Pseudo R-squ.:                  0.7338\n",
      "Time:                        20:37:27   Log-Likelihood:                -43.690\n",
      "converged:                       True   LL-Null:                       -164.15\n",
      "                                        LLR p-value:                 4.891e-44\n",
      "==============================================================================\n",
      "                 coef    std err          z      P>|z|      [0.025      0.975]\n",
      "------------------------------------------------------------------------------\n",
      "x1             0.2315      0.128      1.807      0.071      -0.020       0.483\n",
      "x2            -0.4755      0.302     -1.573      0.116      -1.068       0.117\n",
      "x3            -0.3698      0.243     -1.524      0.128      -0.845       0.106\n",
      "x4             0.1659      0.606      0.274      0.784      -1.022       1.353\n",
      "x5            -0.6742      0.487     -1.385      0.166      -1.629       0.280\n",
      "x6             2.6074      1.609      1.621      0.105      -0.546       5.760\n",
      "x7            -0.6035      0.761     -0.793      0.428      -2.096       0.889\n",
      "x8            -0.9206      1.690     -0.545      0.586      -4.233       2.391\n",
      "x9             0.3136      0.054      5.787      0.000       0.207       0.420\n",
      "x10            2.5982      1.070      2.427      0.015       0.500       4.696\n",
      "x11            0.6325      0.427      1.483      0.138      -0.204       1.469\n",
      "x12            0.2829      0.561      0.504      0.614      -0.817       1.383\n",
      "x13            0.7408      0.464      1.597      0.110      -0.168       1.650\n",
      "x14           -1.6677      3.862     -0.432      0.666      -9.237       5.902\n",
      "==============================================================================\n",
      "\n",
      "Possibly complete quasi-separation: A fraction 0.25 of observations can be\n",
      "perfectly predicted. This might indicate that there is complete\n",
      "quasi-separation. In this case some parameters will not be identified.\n"
     ]
    }
   ],
   "source": [
    "\n",
    "\n",
    "stats.chisqprob = lambda chisq, df: stats.chi2.sf(chisq, df)\n",
    "\n",
    "\n",
    "logit_model=sm.Logit(y_train,X_train)\n",
    "result=logit_model.fit()\n",
    "print(result.summary())"
   ]
  },
  {
   "cell_type": "code",
   "execution_count": 163,
   "metadata": {},
   "outputs": [
    {
     "name": "stdout",
     "output_type": "stream",
     "text": [
      "5-fold cross validation average accuracy: 0.944\n"
     ]
    }
   ],
   "source": [
    "\n",
    "X_shuf, Y_shuf = shuffle(X_train, y_train)\n",
    "\n",
    "\n",
    "kfold = model_selection.KFold(n_splits=5, random_state=7)\n",
    "modelCV = LogisticRegression()\n",
    "scoring = 'accuracy'\n",
    "#print Y_shuf\n",
    "results = model_selection.cross_val_score(modelCV, X_shuf, Y_shuf, cv=kfold, scoring=scoring)\n",
    "print(\"5-fold cross validation average accuracy: %.3f\" % (results.mean()))"
   ]
  },
  {
   "cell_type": "code",
   "execution_count": 164,
   "metadata": {},
   "outputs": [],
   "source": [
    "###### 1-f *******extra"
   ]
  },
  {
   "cell_type": "code",
   "execution_count": 165,
   "metadata": {},
   "outputs": [],
   "source": [
    "a = [0] * 81\n",
    "\n",
    "b = [1]* 108\n",
    "\n",
    "c = [2]* 108\n",
    "\n",
    "d = [3]* 108\n",
    "e = [4]* 108\n",
    "f = [5]* 99\n",
    "\n",
    "#print len(y)"
   ]
  },
  {
   "cell_type": "code",
   "execution_count": 166,
   "metadata": {},
   "outputs": [],
   "source": [
    "# Here we label for multiclass so we assign \n",
    "# '0'- Bending\n",
    "# '1' - cycling\n",
    "# '2' - lying\n",
    "# '3' - sitting\n",
    "# '4' - standing\n",
    "# '5' - walking\n"
   ]
  },
  {
   "cell_type": "code",
   "execution_count": 167,
   "metadata": {},
   "outputs": [
    {
     "name": "stdout",
     "output_type": "stream",
     "text": [
      "LogisticRegression(C=1, class_weight='balanced', dual=False,\n",
      "          fit_intercept=True, intercept_scaling=1, max_iter=100,\n",
      "          multi_class='multinomial', n_jobs=1, penalty='l1',\n",
      "          random_state=None, solver='saga', tol=0.0001, verbose=0,\n",
      "          warm_start=False)\n"
     ]
    }
   ],
   "source": [
    "X_train_allf_l1_multi_x = dataframe_train.as_matrix()\n",
    "y_train_allf_l1_multi_x = a+b+c+d+e+f\n",
    "#print len(y_train_allf_l1)\n",
    "\n",
    "\n",
    "X_train, X_test, y_train, y_test = train_test_split(X_train_allf_l1_multi_x, y_train_allf_l1_multi_x, test_size=0.30, random_state=0)\n",
    "\n",
    "logreg_train_allf_l1_multi = LogisticRegression(penalty='l1', class_weight='balanced', C=1,multi_class='multinomial',solver='saga')\n",
    "result3 = logreg_train_allf_l1_multi.fit(X_train, y_train)\n",
    "print result3"
   ]
  },
  {
   "cell_type": "code",
   "execution_count": 168,
   "metadata": {},
   "outputs": [
    {
     "name": "stdout",
     "output_type": "stream",
     "text": [
      "Accuracy of logistic regression classifier on test set: 0.26\n"
     ]
    }
   ],
   "source": [
    "y_pred_train_allf_l1_multi = logreg_train_allf_l1_multi.predict(X_test)\n",
    "print('Accuracy of logistic regression classifier on test set: {:.2f}'.format(logreg_train_allf.score(X_test,y_test)))"
   ]
  },
  {
   "cell_type": "code",
   "execution_count": 169,
   "metadata": {},
   "outputs": [
    {
     "name": "stdout",
     "output_type": "stream",
     "text": [
      "0.2554347826086957\n"
     ]
    }
   ],
   "source": [
    "score = logreg_train_allf.score(X_test,y_test)\n",
    "print(score)"
   ]
  },
  {
   "cell_type": "code",
   "execution_count": 170,
   "metadata": {},
   "outputs": [
    {
     "data": {
      "text/plain": [
       "array([[23,  0,  0,  3,  0,  0],\n",
       "       [ 0, 22,  1,  1,  1,  0],\n",
       "       [ 0,  1, 27,  5,  3,  0],\n",
       "       [ 9,  0,  4, 16,  5,  0],\n",
       "       [ 0,  0,  5,  7, 21,  1],\n",
       "       [ 0,  0,  0,  0,  0, 29]], dtype=int64)"
      ]
     },
     "execution_count": 170,
     "metadata": {},
     "output_type": "execute_result"
    }
   ],
   "source": [
    "from sklearn.metrics import confusion_matrix\n",
    "confusion_matrix = confusion_matrix(y_test,y_pred_train_allf_l1_multi)\n",
    "confusion_matrix"
   ]
  },
  {
   "cell_type": "code",
   "execution_count": 171,
   "metadata": {},
   "outputs": [
    {
     "name": "stdout",
     "output_type": "stream",
     "text": [
      "             precision    recall  f1-score   support\n",
      "\n",
      "          0       0.72      0.88      0.79        26\n",
      "          1       0.96      0.88      0.92        25\n",
      "          2       0.73      0.75      0.74        36\n",
      "          3       0.50      0.47      0.48        34\n",
      "          4       0.70      0.62      0.66        34\n",
      "          5       0.97      1.00      0.98        29\n",
      "\n",
      "avg / total       0.75      0.75      0.75       184\n",
      "\n"
     ]
    }
   ],
   "source": [
    "from sklearn.metrics import classification_report\n",
    "print(classification_report(y_test,y_pred_train_allf_l1_multi))"
   ]
  },
  {
   "cell_type": "code",
   "execution_count": 172,
   "metadata": {},
   "outputs": [
    {
     "name": "stdout",
     "output_type": "stream",
     "text": [
      "5-fold cross validation average accuracy: 0.736\n"
     ]
    }
   ],
   "source": [
    "\n",
    "X_shuf, Y_shuf = shuffle(X_train, y_train)\n",
    "\n",
    "\n",
    "kfold = model_selection.KFold(n_splits=5, random_state=7)\n",
    "modelCV = LogisticRegression()\n",
    "scoring = 'accuracy'\n",
    "#print Y_shuf\n",
    "results = model_selection.cross_val_score(modelCV, X_shuf, Y_shuf, cv=kfold, scoring=scoring)\n",
    "print(\"5-fold cross validation average accuracy: %.3f\" % (results.mean()))"
   ]
  },
  {
   "cell_type": "code",
   "execution_count": 173,
   "metadata": {},
   "outputs": [],
   "source": [
    "########*********************############****************************##############**********************##################"
   ]
  },
  {
   "cell_type": "code",
   "execution_count": 174,
   "metadata": {},
   "outputs": [
    {
     "name": "stdout",
     "output_type": "stream",
     "text": [
      "GaussianNB(priors=None)\n"
     ]
    },
    {
     "data": {
      "text/plain": [
       "0.6977124183006536"
      ]
     },
     "execution_count": 174,
     "metadata": {},
     "output_type": "execute_result"
    }
   ],
   "source": [
    "from sklearn.naive_bayes import GaussianNB\n",
    "nb = GaussianNB()\n",
    "result1 = nb.fit(X_train,y_train )\n",
    "print result1\n",
    "\n",
    "nb.score(X_train_allf_l1_multi,y_train_allf_l1_multi )"
   ]
  },
  {
   "cell_type": "code",
   "execution_count": 175,
   "metadata": {},
   "outputs": [
    {
     "name": "stdout",
     "output_type": "stream",
     "text": [
      "MultinomialNB(alpha=1.0, class_prior=None, fit_prior=True)\n"
     ]
    },
    {
     "data": {
      "text/plain": [
       "0.7124183006535948"
      ]
     },
     "execution_count": 175,
     "metadata": {},
     "output_type": "execute_result"
    }
   ],
   "source": [
    "from sklearn.naive_bayes import MultinomialNB\n",
    "nb = MultinomialNB()\n",
    "result2 = nb.fit(X_train,y_train)\n",
    "#MultinomialNB(alpha=1.0, class_prior=None, fit_prior=True)\n",
    "print result2\n",
    "nb.score(X_train_allf_l1_multi,y_train_allf_l1_multi)"
   ]
  },
  {
   "cell_type": "code",
   "execution_count": null,
   "metadata": {},
   "outputs": [],
   "source": []
  }
 ],
 "metadata": {
  "kernelspec": {
   "display_name": "Python 2",
   "language": "python",
   "name": "python2"
  },
  "language_info": {
   "codemirror_mode": {
    "name": "ipython",
    "version": 2
   },
   "file_extension": ".py",
   "mimetype": "text/x-python",
   "name": "python",
   "nbconvert_exporter": "python",
   "pygments_lexer": "ipython2",
   "version": "2.7.13"
  }
 },
 "nbformat": 4,
 "nbformat_minor": 2
}
