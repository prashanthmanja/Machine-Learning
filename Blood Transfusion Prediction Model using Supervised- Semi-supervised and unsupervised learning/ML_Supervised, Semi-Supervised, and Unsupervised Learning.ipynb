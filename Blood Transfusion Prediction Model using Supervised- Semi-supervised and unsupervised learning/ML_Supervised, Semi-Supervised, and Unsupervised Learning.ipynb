{
 "cells": [
  {
   "cell_type": "markdown",
   "metadata": {},
   "source": [
    "# 1. Supervised, Semi-Supervised, and Unsupervised Learning"
   ]
  },
  {
   "cell_type": "code",
   "execution_count": 1,
   "metadata": {},
   "outputs": [
    {
     "name": "stderr",
     "output_type": "stream",
     "text": [
      "c:\\python27\\lib\\site-packages\\sklearn\\cross_validation.py:41: DeprecationWarning: This module was deprecated in version 0.18 in favor of the model_selection module into which all the refactored classes and functions are moved. Also note that the interface of the new CV iterators are different from that of this module. This module will be removed in 0.20.\n",
      "  \"This module will be removed in 0.20.\", DeprecationWarning)\n"
     ]
    }
   ],
   "source": [
    "import warnings\n",
    "warnings.filterwarnings('ignore')\n",
    "from sklearn.preprocessing import MinMaxScaler\n",
    "from sklearn.preprocessing import StandardScaler\n",
    "import pandas as pd\n",
    "import numpy as np\n",
    "import matplotlib.pylab as plt\n",
    "import scipy  \n",
    "import statsmodels.stats.api as sms\n",
    "from sklearn import preprocessing\n",
    "from sklearn.cross_validation import train_test_split\n",
    "from sklearn.metrics import roc_auc_score\n",
    "from sklearn.metrics import roc_curve\n",
    "from sklearn import metrics\n",
    "import pandas as pd\n",
    "from ggplot import *\n",
    "from scipy import stats\n",
    "import statsmodels.api as sm\n",
    "from sklearn import model_selection\n",
    "from sklearn.model_selection import cross_val_score\n",
    "from sklearn.utils import shuffle\n",
    "from scipy.stats import variation\n",
    "from sklearn.preprocessing import scale\n",
    "from sklearn import cross_validation\n",
    "from sklearn.datasets import make_classification\n",
    "import seaborn as sns\n",
    "from sklearn.metrics import confusion_matrix,hinge_loss,matthews_corrcoef,hamming_loss,jaccard_similarity_score,accuracy_score\n",
    "from sklearn import svm\n",
    "from sklearn.svm import SVC\n",
    "from sklearn.model_selection import cross_val_score\n",
    "from sklearn.model_selection import KFold\n",
    "from sklearn.model_selection import GridSearchCV\n",
    "from sklearn.metrics import average_precision_score\n",
    "from sklearn.metrics import precision_recall_curve\n",
    "from sklearn import cluster, datasets\n",
    "from sklearn.datasets import make_blobs\n",
    "from sklearn.cluster import KMeans\n",
    "from sklearn.metrics import silhouette_samples, silhouette_score\n",
    "from sklearn.metrics import pairwise_distances_argmin_min\n",
    "\n",
    "\n",
    "%matplotlib inline\n",
    "from matplotlib.pylab import rcParams\n",
    "rcParams['figure.figsize'] = 15, 6"
   ]
  },
  {
   "cell_type": "code",
   "execution_count": 2,
   "metadata": {},
   "outputs": [
    {
     "name": "stdout",
     "output_type": "stream",
     "text": [
      "(748, 5)\n"
     ]
    },
    {
     "data": {
      "text/html": [
       "<div>\n",
       "<style scoped>\n",
       "    .dataframe tbody tr th:only-of-type {\n",
       "        vertical-align: middle;\n",
       "    }\n",
       "\n",
       "    .dataframe tbody tr th {\n",
       "        vertical-align: top;\n",
       "    }\n",
       "\n",
       "    .dataframe thead th {\n",
       "        text-align: right;\n",
       "    }\n",
       "</style>\n",
       "<table border=\"1\" class=\"dataframe\">\n",
       "  <thead>\n",
       "    <tr style=\"text-align: right;\">\n",
       "      <th></th>\n",
       "      <th>Recency (months)</th>\n",
       "      <th>Frequency</th>\n",
       "      <th>Monetary (c.c. blood)</th>\n",
       "      <th>Time (months)</th>\n",
       "      <th>whether donated blood in 03/07</th>\n",
       "    </tr>\n",
       "  </thead>\n",
       "  <tbody>\n",
       "    <tr>\n",
       "      <th>0</th>\n",
       "      <td>2</td>\n",
       "      <td>50</td>\n",
       "      <td>12500</td>\n",
       "      <td>98</td>\n",
       "      <td>1</td>\n",
       "    </tr>\n",
       "    <tr>\n",
       "      <th>1</th>\n",
       "      <td>0</td>\n",
       "      <td>13</td>\n",
       "      <td>3250</td>\n",
       "      <td>28</td>\n",
       "      <td>1</td>\n",
       "    </tr>\n",
       "    <tr>\n",
       "      <th>2</th>\n",
       "      <td>1</td>\n",
       "      <td>16</td>\n",
       "      <td>4000</td>\n",
       "      <td>35</td>\n",
       "      <td>1</td>\n",
       "    </tr>\n",
       "    <tr>\n",
       "      <th>3</th>\n",
       "      <td>2</td>\n",
       "      <td>20</td>\n",
       "      <td>5000</td>\n",
       "      <td>45</td>\n",
       "      <td>1</td>\n",
       "    </tr>\n",
       "    <tr>\n",
       "      <th>4</th>\n",
       "      <td>1</td>\n",
       "      <td>24</td>\n",
       "      <td>6000</td>\n",
       "      <td>77</td>\n",
       "      <td>0</td>\n",
       "    </tr>\n",
       "  </tbody>\n",
       "</table>\n",
       "</div>"
      ],
      "text/plain": [
       "   Recency (months)  Frequency  Monetary (c.c. blood)  Time (months)  \\\n",
       "0                 2         50                  12500             98   \n",
       "1                 0         13                   3250             28   \n",
       "2                 1         16                   4000             35   \n",
       "3                 2         20                   5000             45   \n",
       "4                 1         24                   6000             77   \n",
       "\n",
       "   whether donated blood in 03/07  \n",
       "0                               1  \n",
       "1                               1  \n",
       "2                               1  \n",
       "3                               1  \n",
       "4                               0  "
      ]
     },
     "metadata": {},
     "output_type": "display_data"
    },
    {
     "name": "stdout",
     "output_type": "stream",
     "text": [
      "<class 'pandas.core.frame.DataFrame'>\n"
     ]
    }
   ],
   "source": [
    "r_cols = ['Recency (months)', 'Frequency', 'Monetary (c.c. blood)','Time (months)','whether donated blood in 03/07']\n",
    "blood_data = pd.read_csv('dataset.txt', sep=',', header=None,names=r_cols)\n",
    "print blood_data.shape\n",
    "display (blood_data.head())\n",
    "print type(blood_data)"
   ]
  },
  {
   "cell_type": "code",
   "execution_count": 3,
   "metadata": {},
   "outputs": [
    {
     "data": {
      "text/plain": [
       "0    570\n",
       "1    178\n",
       "Name: whether donated blood in 03/07, dtype: int64"
      ]
     },
     "execution_count": 3,
     "metadata": {},
     "output_type": "execute_result"
    }
   ],
   "source": [
    "pd.value_counts(blood_data['whether donated blood in 03/07'], sort=True)"
   ]
  },
  {
   "cell_type": "code",
   "execution_count": 4,
   "metadata": {},
   "outputs": [
    {
     "name": "stdout",
     "output_type": "stream",
     "text": [
      "<class 'pandas.core.frame.DataFrame'>\n",
      "RangeIndex: 748 entries, 0 to 747\n",
      "Data columns (total 5 columns):\n",
      "Recency (months)                  748 non-null int64\n",
      "Frequency                         748 non-null int64\n",
      "Monetary (c.c. blood)             748 non-null int64\n",
      "Time (months)                     748 non-null int64\n",
      "whether donated blood in 03/07    748 non-null int64\n",
      "dtypes: int64(5)\n",
      "memory usage: 29.3 KB\n"
     ]
    }
   ],
   "source": [
    "blood_data.info()"
   ]
  },
  {
   "cell_type": "code",
   "execution_count": 5,
   "metadata": {},
   "outputs": [
    {
     "data": {
      "image/png": "[encoded data removed]",
      "text/plain": [
       "<matplotlib.figure.Figure at 0x14b9a9e8>"
      ]
     },
     "metadata": {},
     "output_type": "display_data"
    }
   ],
   "source": [
    "sns.countplot(x='whether donated blood in 03/07', data=blood_data)\n",
    "plt.savefig('countplot', dpi=300)"
   ]
  },
  {
   "cell_type": "code",
   "execution_count": 6,
   "metadata": {},
   "outputs": [
    {
     "data": {
      "image/png": "[encoded data removed]",
      "text/plain": [
       "<matplotlib.figure.Figure at 0x14ec3d30>"
      ]
     },
     "metadata": {},
     "output_type": "display_data"
    }
   ],
   "source": [
    "sns.pairplot(data=blood_data, hue='whether donated blood in 03/07')\n",
    "plt.savefig('pairplot', dpi=300)"
   ]
  },
  {
   "cell_type": "markdown",
   "metadata": {},
   "source": [
    "### Recency vs Class(whether donated blood in 03/07)"
   ]
  },
  {
   "cell_type": "code",
   "execution_count": 7,
   "metadata": {},
   "outputs": [
    {
     "data": {
      "text/plain": [
       "array([<matplotlib.axes._subplots.AxesSubplot object at 0x0000000019A36DA0>,\n",
       "       <matplotlib.axes._subplots.AxesSubplot object at 0x0000000019C67780>],\n",
       "      dtype=object)"
      ]
     },
     "execution_count": 7,
     "metadata": {},
     "output_type": "execute_result"
    },
    {
     "data": {
      "image/png": "[encoded data removed]",
      "text/plain": [
       "<matplotlib.figure.Figure at 0x18584438>"
      ]
     },
     "metadata": {},
     "output_type": "display_data"
    }
   ],
   "source": [
    "blood_data.hist(column='Recency (months)', by='whether donated blood in 03/07', figsize=(10,5))"
   ]
  },
  {
   "cell_type": "code",
   "execution_count": 8,
   "metadata": {},
   "outputs": [
    {
     "data": {
      "text/plain": [
       "<matplotlib.axes._subplots.AxesSubplot at 0x19bff9e8>"
      ]
     },
     "execution_count": 8,
     "metadata": {},
     "output_type": "execute_result"
    },
    {
     "data": {
      "image/png": "[encoded data removed]",
      "text/plain": [
       "<matplotlib.figure.Figure at 0x1a7c5908>"
      ]
     },
     "metadata": {},
     "output_type": "display_data"
    }
   ],
   "source": [
    "blood_data.boxplot(column='Recency (months)', by='whether donated blood in 03/07', figsize=(10,5))"
   ]
  },
  {
   "cell_type": "markdown",
   "metadata": {},
   "source": [
    "### Frequency vs Class(whether donated blood in 03/07)"
   ]
  },
  {
   "cell_type": "code",
   "execution_count": 9,
   "metadata": {},
   "outputs": [
    {
     "data": {
      "text/plain": [
       "array([<matplotlib.axes._subplots.AxesSubplot object at 0x000000001A7C5A20>,\n",
       "       <matplotlib.axes._subplots.AxesSubplot object at 0x000000001AAE84E0>],\n",
       "      dtype=object)"
      ]
     },
     "execution_count": 9,
     "metadata": {},
     "output_type": "execute_result"
    },
    {
     "data": {
      "image/png": "[encoded data removed]",
      "text/plain": [
       "<matplotlib.figure.Figure at 0x1a881048>"
      ]
     },
     "metadata": {},
     "output_type": "display_data"
    }
   ],
   "source": [
    "blood_data.hist(column='Frequency', by='whether donated blood in 03/07', figsize=(10,5))"
   ]
  },
  {
   "cell_type": "code",
   "execution_count": 10,
   "metadata": {},
   "outputs": [
    {
     "data": {
      "text/plain": [
       "<matplotlib.axes._subplots.AxesSubplot at 0x14e74b70>"
      ]
     },
     "execution_count": 10,
     "metadata": {},
     "output_type": "execute_result"
    },
    {
     "data": {
      "image/png": "[encoded data removed]",
      "text/plain": [
       "<matplotlib.figure.Figure at 0x1ab0b588>"
      ]
     },
     "metadata": {},
     "output_type": "display_data"
    }
   ],
   "source": [
    "blood_data.boxplot(column='Frequency', by='whether donated blood in 03/07', figsize=(10,5))"
   ]
  },
  {
   "cell_type": "markdown",
   "metadata": {},
   "source": [
    "### Monetary (c.c. blood) vs Class(whether donated blood in 03/07)"
   ]
  },
  {
   "cell_type": "code",
   "execution_count": 11,
   "metadata": {},
   "outputs": [
    {
     "data": {
      "text/plain": [
       "array([<matplotlib.axes._subplots.AxesSubplot object at 0x000000001ACF3358>,\n",
       "       <matplotlib.axes._subplots.AxesSubplot object at 0x000000001B21F438>],\n",
       "      dtype=object)"
      ]
     },
     "execution_count": 11,
     "metadata": {},
     "output_type": "execute_result"
    },
    {
     "data": {
      "image/png": "[encoded data removed]",
      "text/plain": [
       "<matplotlib.figure.Figure at 0x1afe3240>"
      ]
     },
     "metadata": {},
     "output_type": "display_data"
    }
   ],
   "source": [
    "blood_data.hist(column='Monetary (c.c. blood)', by='whether donated blood in 03/07', figsize=(10,5))"
   ]
  },
  {
   "cell_type": "code",
   "execution_count": 12,
   "metadata": {},
   "outputs": [
    {
     "data": {
      "text/plain": [
       "<matplotlib.axes._subplots.AxesSubplot at 0x1af0a278>"
      ]
     },
     "execution_count": 12,
     "metadata": {},
     "output_type": "execute_result"
    },
    {
     "data": {
      "image/png": "[encoded data removed]",
      "text/plain": [
       "<matplotlib.figure.Figure at 0x1b13bf28>"
      ]
     },
     "metadata": {},
     "output_type": "display_data"
    }
   ],
   "source": [
    "blood_data.boxplot(column='Monetary (c.c. blood)', by='whether donated blood in 03/07', figsize=(10,5))"
   ]
  },
  {
   "cell_type": "markdown",
   "metadata": {},
   "source": [
    "### Time (months) vs Class(whether donated blood in 03/07)"
   ]
  },
  {
   "cell_type": "code",
   "execution_count": 13,
   "metadata": {},
   "outputs": [
    {
     "data": {
      "text/plain": [
       "array([<matplotlib.axes._subplots.AxesSubplot object at 0x000000001AAF82B0>,\n",
       "       <matplotlib.axes._subplots.AxesSubplot object at 0x000000001BC87198>],\n",
       "      dtype=object)"
      ]
     },
     "execution_count": 13,
     "metadata": {},
     "output_type": "execute_result"
    },
    {
     "data": {
      "image/png": "[encoded data removed]",
      "text/plain": [
       "<matplotlib.figure.Figure at 0x1b3d4160>"
      ]
     },
     "metadata": {},
     "output_type": "display_data"
    }
   ],
   "source": [
    "blood_data.hist(column='Time (months)', by='whether donated blood in 03/07', figsize=(10,5))"
   ]
  },
  {
   "cell_type": "code",
   "execution_count": 14,
   "metadata": {},
   "outputs": [
    {
     "data": {
      "text/plain": [
       "<matplotlib.axes._subplots.AxesSubplot at 0x1ae69b38>"
      ]
     },
     "execution_count": 14,
     "metadata": {},
     "output_type": "execute_result"
    },
    {
     "data": {
      "image/png": "[encoded data removed]",
      "text/plain": [
       "<matplotlib.figure.Figure at 0x1bb6d6a0>"
      ]
     },
     "metadata": {},
     "output_type": "display_data"
    }
   ],
   "source": [
    "blood_data.boxplot(column='Time (months)', by='whether donated blood in 03/07', figsize=(10,5))"
   ]
  },
  {
   "cell_type": "code",
   "execution_count": 15,
   "metadata": {},
   "outputs": [
    {
     "data": {
      "text/plain": [
       "array([[<matplotlib.axes._subplots.AxesSubplot object at 0x000000001BDFAE10>,\n",
       "        <matplotlib.axes._subplots.AxesSubplot object at 0x000000001C1A73C8>,\n",
       "        <matplotlib.axes._subplots.AxesSubplot object at 0x000000001C331FD0>,\n",
       "        <matplotlib.axes._subplots.AxesSubplot object at 0x000000001C4571D0>,\n",
       "        <matplotlib.axes._subplots.AxesSubplot object at 0x000000001C4D6E10>],\n",
       "       [<matplotlib.axes._subplots.AxesSubplot object at 0x0000000019437080>,\n",
       "        <matplotlib.axes._subplots.AxesSubplot object at 0x0000000019BFF1D0>,\n",
       "        <matplotlib.axes._subplots.AxesSubplot object at 0x00000000195B25C0>,\n",
       "        <matplotlib.axes._subplots.AxesSubplot object at 0x0000000019BB9EB8>,\n",
       "        <matplotlib.axes._subplots.AxesSubplot object at 0x00000000190D05F8>],\n",
       "       [<matplotlib.axes._subplots.AxesSubplot object at 0x00000000187E2390>,\n",
       "        <matplotlib.axes._subplots.AxesSubplot object at 0x00000000197913C8>,\n",
       "        <matplotlib.axes._subplots.AxesSubplot object at 0x000000001806EB70>,\n",
       "        <matplotlib.axes._subplots.AxesSubplot object at 0x0000000018020B70>,\n",
       "        <matplotlib.axes._subplots.AxesSubplot object at 0x0000000019985048>],\n",
       "       [<matplotlib.axes._subplots.AxesSubplot object at 0x0000000019871898>,\n",
       "        <matplotlib.axes._subplots.AxesSubplot object at 0x000000001864AA90>,\n",
       "        <matplotlib.axes._subplots.AxesSubplot object at 0x00000000152EE6D8>,\n",
       "        <matplotlib.axes._subplots.AxesSubplot object at 0x0000000019A4E780>,\n",
       "        <matplotlib.axes._subplots.AxesSubplot object at 0x0000000019A2BE10>],\n",
       "       [<matplotlib.axes._subplots.AxesSubplot object at 0x000000001979BF28>,\n",
       "        <matplotlib.axes._subplots.AxesSubplot object at 0x0000000014F4D5C0>,\n",
       "        <matplotlib.axes._subplots.AxesSubplot object at 0x000000001975FE48>,\n",
       "        <matplotlib.axes._subplots.AxesSubplot object at 0x0000000018AB1748>,\n",
       "        <matplotlib.axes._subplots.AxesSubplot object at 0x0000000018B72A20>]],\n",
       "      dtype=object)"
      ]
     },
     "execution_count": 15,
     "metadata": {},
     "output_type": "execute_result"
    },
    {
     "data": {
      "image/png": "[encoded data removed]",
      "text/plain": [
       "<matplotlib.figure.Figure at 0x1b539e80>"
      ]
     },
     "metadata": {},
     "output_type": "display_data"
    }
   ],
   "source": [
    "from pandas.plotting import scatter_matrix\n",
    "scatter_matrix(blood_data, figsize=(10, 10), diagonal='kde')"
   ]
  },
  {
   "cell_type": "code",
   "execution_count": 16,
   "metadata": {},
   "outputs": [
    {
     "name": "stdout",
     "output_type": "stream",
     "text": [
      "('Number of people who donated in march: ', 178)\n",
      "('Number of people who didnt donated in march: ', 570)\n",
      "('Total number : ', 748)\n"
     ]
    }
   ],
   "source": [
    "# Count the number of Original and Fake Notes\n",
    "# Original: Class = 1\n",
    "# Fake: Class = 0\n",
    "\n",
    "num_classOriginal = blood_data['whether donated blood in 03/07'][blood_data['whether donated blood in 03/07'] == 1].count()\n",
    "num_classFake = blood_data['whether donated blood in 03/07'][blood_data['whether donated blood in 03/07'] == 0].count()\n",
    "total = len(blood_data)\n",
    "\n",
    "print('Number of people who donated in march: ',num_classOriginal)\n",
    "print('Number of people who didnt donated in march: ',num_classFake)\n",
    "print('Total number : ',total)"
   ]
  },
  {
   "cell_type": "markdown",
   "metadata": {},
   "source": [
    "## Pivot table"
   ]
  },
  {
   "cell_type": "code",
   "execution_count": 17,
   "metadata": {},
   "outputs": [
    {
     "data": {
      "text/html": [
       "<div>\n",
       "<style scoped>\n",
       "    .dataframe tbody tr th:only-of-type {\n",
       "        vertical-align: middle;\n",
       "    }\n",
       "\n",
       "    .dataframe tbody tr th {\n",
       "        vertical-align: top;\n",
       "    }\n",
       "\n",
       "    .dataframe thead th {\n",
       "        text-align: right;\n",
       "    }\n",
       "</style>\n",
       "<table border=\"1\" class=\"dataframe\">\n",
       "  <thead>\n",
       "    <tr style=\"text-align: right;\">\n",
       "      <th></th>\n",
       "      <th>Frequency</th>\n",
       "      <th>Monetary (c.c. blood)</th>\n",
       "      <th>Recency (months)</th>\n",
       "      <th>Time (months)</th>\n",
       "    </tr>\n",
       "    <tr>\n",
       "      <th>whether donated blood in 03/07</th>\n",
       "      <th></th>\n",
       "      <th></th>\n",
       "      <th></th>\n",
       "      <th></th>\n",
       "    </tr>\n",
       "  </thead>\n",
       "  <tbody>\n",
       "    <tr>\n",
       "      <th>0</th>\n",
       "      <td>4.801754</td>\n",
       "      <td>1200.438596</td>\n",
       "      <td>10.771930</td>\n",
       "      <td>34.770175</td>\n",
       "    </tr>\n",
       "    <tr>\n",
       "      <th>1</th>\n",
       "      <td>7.797753</td>\n",
       "      <td>1949.438202</td>\n",
       "      <td>5.455056</td>\n",
       "      <td>32.719101</td>\n",
       "    </tr>\n",
       "  </tbody>\n",
       "</table>\n",
       "</div>"
      ],
      "text/plain": [
       "                                Frequency  Monetary (c.c. blood)  \\\n",
       "whether donated blood in 03/07                                     \n",
       "0                                4.801754            1200.438596   \n",
       "1                                7.797753            1949.438202   \n",
       "\n",
       "                                Recency (months)  Time (months)  \n",
       "whether donated blood in 03/07                                   \n",
       "0                                      10.771930      34.770175  \n",
       "1                                       5.455056      32.719101  "
      ]
     },
     "execution_count": 17,
     "metadata": {},
     "output_type": "execute_result"
    }
   ],
   "source": [
    "#print blood_data.columns\n",
    "blood_data.pivot_table(index=blood_data.columns[-1], values=blood_data.columns[:-1],aggfunc=np.mean)"
   ]
  },
  {
   "cell_type": "code",
   "execution_count": 18,
   "metadata": {},
   "outputs": [],
   "source": [
    "blood_data_sorted=blood_data.sort_values(by=['whether donated blood in 03/07'])\n"
   ]
  },
  {
   "cell_type": "code",
   "execution_count": 19,
   "metadata": {},
   "outputs": [
    {
     "data": {
      "text/html": [
       "<div>\n",
       "<style scoped>\n",
       "    .dataframe tbody tr th:only-of-type {\n",
       "        vertical-align: middle;\n",
       "    }\n",
       "\n",
       "    .dataframe tbody tr th {\n",
       "        vertical-align: top;\n",
       "    }\n",
       "\n",
       "    .dataframe thead th {\n",
       "        text-align: right;\n",
       "    }\n",
       "</style>\n",
       "<table border=\"1\" class=\"dataframe\">\n",
       "  <thead>\n",
       "    <tr style=\"text-align: right;\">\n",
       "      <th></th>\n",
       "      <th>Recency (months)</th>\n",
       "      <th>Frequency</th>\n",
       "      <th>Monetary (c.c. blood)</th>\n",
       "      <th>Time (months)</th>\n",
       "    </tr>\n",
       "    <tr>\n",
       "      <th>whether donated blood in 03/07</th>\n",
       "      <th></th>\n",
       "      <th></th>\n",
       "      <th></th>\n",
       "      <th></th>\n",
       "    </tr>\n",
       "  </thead>\n",
       "  <tbody>\n",
       "    <tr>\n",
       "      <th>0</th>\n",
       "      <td>570</td>\n",
       "      <td>570</td>\n",
       "      <td>570</td>\n",
       "      <td>570</td>\n",
       "    </tr>\n",
       "    <tr>\n",
       "      <th>1</th>\n",
       "      <td>178</td>\n",
       "      <td>178</td>\n",
       "      <td>178</td>\n",
       "      <td>178</td>\n",
       "    </tr>\n",
       "  </tbody>\n",
       "</table>\n",
       "</div>"
      ],
      "text/plain": [
       "                                Recency (months)  Frequency  \\\n",
       "whether donated blood in 03/07                                \n",
       "0                                            570        570   \n",
       "1                                            178        178   \n",
       "\n",
       "                                Monetary (c.c. blood)  Time (months)  \n",
       "whether donated blood in 03/07                                        \n",
       "0                                                 570            570  \n",
       "1                                                 178            178  "
      ]
     },
     "execution_count": 19,
     "metadata": {},
     "output_type": "execute_result"
    }
   ],
   "source": [
    "blood_data_sorted.groupby('whether donated blood in 03/07').count()"
   ]
  },
  {
   "cell_type": "code",
   "execution_count": 20,
   "metadata": {},
   "outputs": [
    {
     "name": "stdout",
     "output_type": "stream",
     "text": [
      "(570, 5)\n"
     ]
    }
   ],
   "source": [
    "blood_data_zeros = blood_data_sorted.iloc[:570,:]\n",
    "blood_data_ones = blood_data_sorted.iloc[570:,:]\n",
    "#display (blood_data_zeros.head())\n",
    "#display (blood_data_ones.head())\n",
    "print blood_data_zeros.shape"
   ]
  },
  {
   "cell_type": "markdown",
   "metadata": {},
   "source": [
    "#### First 20% of the positive and negative classes in the file as the test set and the rest as the training set."
   ]
  },
  {
   "cell_type": "markdown",
   "metadata": {},
   "source": [
    "#### 1. Test-Data"
   ]
  },
  {
   "cell_type": "code",
   "execution_count": 21,
   "metadata": {},
   "outputs": [
    {
     "data": {
      "text/html": [
       "<div>\n",
       "<style scoped>\n",
       "    .dataframe tbody tr th:only-of-type {\n",
       "        vertical-align: middle;\n",
       "    }\n",
       "\n",
       "    .dataframe tbody tr th {\n",
       "        vertical-align: top;\n",
       "    }\n",
       "\n",
       "    .dataframe thead th {\n",
       "        text-align: right;\n",
       "    }\n",
       "</style>\n",
       "<table border=\"1\" class=\"dataframe\">\n",
       "  <thead>\n",
       "    <tr style=\"text-align: right;\">\n",
       "      <th></th>\n",
       "      <th>Recency (months)</th>\n",
       "      <th>Frequency</th>\n",
       "      <th>Monetary (c.c. blood)</th>\n",
       "      <th>Time (months)</th>\n",
       "      <th>whether donated blood in 03/07</th>\n",
       "    </tr>\n",
       "  </thead>\n",
       "  <tbody>\n",
       "    <tr>\n",
       "      <th>373</th>\n",
       "      <td>9</td>\n",
       "      <td>4</td>\n",
       "      <td>1000</td>\n",
       "      <td>65</td>\n",
       "      <td>0</td>\n",
       "    </tr>\n",
       "    <tr>\n",
       "      <th>454</th>\n",
       "      <td>21</td>\n",
       "      <td>1</td>\n",
       "      <td>250</td>\n",
       "      <td>21</td>\n",
       "      <td>0</td>\n",
       "    </tr>\n",
       "    <tr>\n",
       "      <th>455</th>\n",
       "      <td>21</td>\n",
       "      <td>1</td>\n",
       "      <td>250</td>\n",
       "      <td>21</td>\n",
       "      <td>0</td>\n",
       "    </tr>\n",
       "    <tr>\n",
       "      <th>456</th>\n",
       "      <td>21</td>\n",
       "      <td>1</td>\n",
       "      <td>250</td>\n",
       "      <td>21</td>\n",
       "      <td>0</td>\n",
       "    </tr>\n",
       "    <tr>\n",
       "      <th>457</th>\n",
       "      <td>21</td>\n",
       "      <td>1</td>\n",
       "      <td>250</td>\n",
       "      <td>21</td>\n",
       "      <td>0</td>\n",
       "    </tr>\n",
       "  </tbody>\n",
       "</table>\n",
       "</div>"
      ],
      "text/plain": [
       "     Recency (months)  Frequency  Monetary (c.c. blood)  Time (months)  \\\n",
       "373                 9          4                   1000             65   \n",
       "454                21          1                    250             21   \n",
       "455                21          1                    250             21   \n",
       "456                21          1                    250             21   \n",
       "457                21          1                    250             21   \n",
       "\n",
       "     whether donated blood in 03/07  \n",
       "373                               0  \n",
       "454                               0  \n",
       "455                               0  \n",
       "456                               0  \n",
       "457                               0  "
      ]
     },
     "metadata": {},
     "output_type": "display_data"
    },
    {
     "name": "stdout",
     "output_type": "stream",
     "text": [
      "(150, 5)\n"
     ]
    }
   ],
   "source": [
    "\n",
    "#blood_data_test_zeros = blood_data_zeros.sample(frac=0.2, replace=False)\n",
    "#blood_data_test_ones = blood_data_ones.sample(frac=0.2, replace=False)\n",
    "\n",
    "blood_data_test_zeros = blood_data_zeros.iloc[:114,:]\n",
    "blood_data_test_ones = blood_data_ones.iloc[:36,:]\n",
    "\n",
    "blood_data_test =pd.concat([blood_data_test_zeros,blood_data_test_ones],axis=0)\n",
    "display(blood_data_test.head())\n",
    "print blood_data_test.shape\n"
   ]
  },
  {
   "cell_type": "markdown",
   "metadata": {},
   "source": [
    "### 2. Train_Data"
   ]
  },
  {
   "cell_type": "code",
   "execution_count": 22,
   "metadata": {},
   "outputs": [
    {
     "name": "stdout",
     "output_type": "stream",
     "text": [
      "(598, 5)\n"
     ]
    },
    {
     "data": {
      "text/html": [
       "<div>\n",
       "<style scoped>\n",
       "    .dataframe tbody tr th:only-of-type {\n",
       "        vertical-align: middle;\n",
       "    }\n",
       "\n",
       "    .dataframe tbody tr th {\n",
       "        vertical-align: top;\n",
       "    }\n",
       "\n",
       "    .dataframe thead th {\n",
       "        text-align: right;\n",
       "    }\n",
       "</style>\n",
       "<table border=\"1\" class=\"dataframe\">\n",
       "  <thead>\n",
       "    <tr style=\"text-align: right;\">\n",
       "      <th></th>\n",
       "      <th>Recency (months)</th>\n",
       "      <th>Frequency</th>\n",
       "      <th>Monetary (c.c. blood)</th>\n",
       "      <th>Time (months)</th>\n",
       "      <th>whether donated blood in 03/07</th>\n",
       "    </tr>\n",
       "  </thead>\n",
       "  <tbody>\n",
       "    <tr>\n",
       "      <th>0</th>\n",
       "      <td>2</td>\n",
       "      <td>50</td>\n",
       "      <td>12500</td>\n",
       "      <td>98</td>\n",
       "      <td>1</td>\n",
       "    </tr>\n",
       "    <tr>\n",
       "      <th>4</th>\n",
       "      <td>1</td>\n",
       "      <td>24</td>\n",
       "      <td>6000</td>\n",
       "      <td>77</td>\n",
       "      <td>0</td>\n",
       "    </tr>\n",
       "    <tr>\n",
       "      <th>5</th>\n",
       "      <td>4</td>\n",
       "      <td>4</td>\n",
       "      <td>1000</td>\n",
       "      <td>4</td>\n",
       "      <td>0</td>\n",
       "    </tr>\n",
       "    <tr>\n",
       "      <th>7</th>\n",
       "      <td>1</td>\n",
       "      <td>12</td>\n",
       "      <td>3000</td>\n",
       "      <td>35</td>\n",
       "      <td>0</td>\n",
       "    </tr>\n",
       "    <tr>\n",
       "      <th>10</th>\n",
       "      <td>4</td>\n",
       "      <td>23</td>\n",
       "      <td>5750</td>\n",
       "      <td>58</td>\n",
       "      <td>0</td>\n",
       "    </tr>\n",
       "  </tbody>\n",
       "</table>\n",
       "</div>"
      ],
      "text/plain": [
       "    Recency (months)  Frequency  Monetary (c.c. blood)  Time (months)  \\\n",
       "0                  2         50                  12500             98   \n",
       "4                  1         24                   6000             77   \n",
       "5                  4          4                   1000              4   \n",
       "7                  1         12                   3000             35   \n",
       "10                 4         23                   5750             58   \n",
       "\n",
       "    whether donated blood in 03/07  \n",
       "0                                1  \n",
       "4                                0  \n",
       "5                                0  \n",
       "7                                0  \n",
       "10                               0  "
      ]
     },
     "metadata": {},
     "output_type": "display_data"
    }
   ],
   "source": [
    "blood_data_train = blood_data[~blood_data.index.isin(blood_data_test.index)]\n",
    "print blood_data_train.shape\n",
    "display (blood_data_train.head())"
   ]
  },
  {
   "cell_type": "code",
   "execution_count": 23,
   "metadata": {},
   "outputs": [],
   "source": [
    "X_train = blood_data_train.drop('whether donated blood in 03/07', axis=1)\n",
    "Y_train1 = blood_data_train['whether donated blood in 03/07']\n",
    "\n",
    "Y_train = Y_train1.to_frame();\n",
    "\n",
    "x_test =  blood_data_test.drop('whether donated blood in 03/07', axis=1)\n",
    "\n",
    "y_test1 = blood_data_test['whether donated blood in 03/07']\n",
    "\n",
    "y_test = y_test1.to_frame();"
   ]
  },
  {
   "cell_type": "code",
   "execution_count": 24,
   "metadata": {},
   "outputs": [
    {
     "name": "stdout",
     "output_type": "stream",
     "text": [
      "(598, 4)\n",
      "(598, 1)\n",
      "(150, 4)\n",
      "(150, 1)\n"
     ]
    }
   ],
   "source": [
    "print X_train.shape\n",
    "print Y_train.shape\n",
    "print x_test.shape\n",
    "print y_test.shape"
   ]
  },
  {
   "cell_type": "markdown",
   "metadata": {},
   "source": [
    "### Train Vs Test"
   ]
  },
  {
   "cell_type": "code",
   "execution_count": 25,
   "metadata": {},
   "outputs": [],
   "source": [
    "X_train_l = X_train\n",
    "x_test_l = x_test\n",
    "#display(x_test_l.head())"
   ]
  },
  {
   "cell_type": "code",
   "execution_count": 26,
   "metadata": {},
   "outputs": [
    {
     "data": {
      "image/png": "[encoded data removed]",
      "text/plain": [
       "<matplotlib.figure.Figure at 0x1bf8d400>"
      ]
     },
     "metadata": {},
     "output_type": "display_data"
    }
   ],
   "source": [
    "f = plt.figure(figsize=(16,16))\n",
    "ax1 = f.add_subplot(4,1,1)\n",
    "ax2 = f.add_subplot(4,1,2)\n",
    "ax3 = f.add_subplot(4,1,3)\n",
    "ax4 = f.add_subplot(4,1,4)\n",
    "\n",
    "ax1.set_title('Months since Last Donation')\n",
    "sns.kdeplot(X_train_l['Recency (months)'], shade=True, cut=0, label='train_data',ax=ax1)\n",
    "sns.kdeplot(x_test_l['Recency (months)'], shade=True, cut=0, label='test_data',ax=ax1)\n",
    "\n",
    "ax2.set_title('Number of Donations')\n",
    "sns.kdeplot(X_train_l['Frequency'], shade=True, cut=0, label='train_data',ax=ax2)\n",
    "sns.kdeplot(x_test_l['Frequency'], shade=True, cut=0, label='test_data',ax=ax2)\n",
    "\n",
    "ax3.set_title('Total Volume Donated (c.c.)')\n",
    "sns.kdeplot(X_train_l['Monetary (c.c. blood)'], shade=True, cut=0, label='train_data',ax=ax3)\n",
    "sns.kdeplot(x_test_l['Monetary (c.c. blood)'], shade=True, cut=0, label='test_data',ax=ax3)\n",
    "\n",
    "ax4.set_title('Months since First Donation')\n",
    "sns.kdeplot(X_train_l['Time (months)'], shade=True, cut=0, label='train_data',ax=ax4)\n",
    "sns.kdeplot(x_test_l['Time (months)'], shade=True, cut=0, label='test_data',ax=ax4)\n",
    "plt.show()"
   ]
  },
  {
   "cell_type": "code",
   "execution_count": 27,
   "metadata": {},
   "outputs": [],
   "source": [
    "X_train_l['log Months since Last Donation'] = X_train_l['Recency (months)'].apply(lambda x: np.log(x+1))\n",
    "x_test_l['log Months since Last Donation'] = x_test_l['Recency (months)'].apply(lambda x: np.log(x+1))\n",
    "\n",
    "X_train_l['log Number of Donations'] = X_train_l['Frequency'].apply(lambda x: np.log(x))\n",
    "x_test_l['log Number of Donations'] = x_test_l['Frequency'].apply(lambda x: np.log(x))\n",
    "\n",
    "X_train_l['log Total Volume Donated (c.c.)'] = X_train_l['Monetary (c.c. blood)'].apply(lambda x: np.log(x))\n",
    "x_test_l['log Total Volume Donated (c.c.)'] = x_test_l['Monetary (c.c. blood)'].apply(lambda x: np.log(x))\n",
    "\n",
    "X_train_l['log Months since First Donation'] = X_train_l['Time (months)'].apply(lambda x: np.log(x))\n",
    "x_test_l['log Months since First Donation'] = x_test_l['Time (months)'].apply(lambda x: np.log(x))\n",
    "\n",
    "\n",
    "plt.show()"
   ]
  },
  {
   "cell_type": "code",
   "execution_count": 28,
   "metadata": {},
   "outputs": [
    {
     "data": {
      "image/png": "[encoded data removed]",
      "text/plain": [
       "<matplotlib.figure.Figure at 0x19195438>"
      ]
     },
     "metadata": {},
     "output_type": "display_data"
    }
   ],
   "source": [
    "f = plt.figure(figsize=(16,16))\n",
    "ax1 = f.add_subplot(4,1,1)\n",
    "ax2 = f.add_subplot(4,1,2)\n",
    "ax3 = f.add_subplot(4,1,3)\n",
    "ax4 = f.add_subplot(4,1,4)\n",
    "\n",
    "ax1.set_title('Months since Last Donation')\n",
    "sns.kdeplot(X_train_l['log Months since Last Donation'], shade=True, cut=0, label='train_data',ax=ax1)\n",
    "sns.kdeplot(x_test_l['log Months since Last Donation'], shade=True, cut=0, label='test_data',ax=ax1)\n",
    "\n",
    "ax2.set_title('Number of Donations')\n",
    "sns.kdeplot(X_train_l['log Number of Donations'], shade=True, cut=0, label='train_data',ax=ax2)\n",
    "sns.kdeplot(x_test_l['log Number of Donations'], shade=True, cut=0, label='test_data',ax=ax2)\n",
    "\n",
    "ax3.set_title('Total Volume Donated (c.c.)')\n",
    "sns.kdeplot(X_train_l['log Total Volume Donated (c.c.)'], shade=True, cut=0, label='train_data',ax=ax3)\n",
    "sns.kdeplot(x_test_l['log Total Volume Donated (c.c.)'], shade=True, cut=0, label='test_data',ax=ax3)\n",
    "\n",
    "ax4.set_title('Months since First Donation')\n",
    "sns.kdeplot(X_train_l['log Months since First Donation'], shade=True, cut=0, label='train_data',ax=ax4)\n",
    "sns.kdeplot(x_test_l['log Months since First Donation'], shade=True, cut=0, label='test_data',ax=ax4)\n",
    "plt.show()"
   ]
  },
  {
   "cell_type": "code",
   "execution_count": 29,
   "metadata": {},
   "outputs": [],
   "source": [
    "X_train = blood_data_train.drop('whether donated blood in 03/07', axis=1)\n",
    "Y_train1 = blood_data_train['whether donated blood in 03/07']\n",
    "\n",
    "Y_train = Y_train1.to_frame();\n",
    "\n",
    "x_test =  blood_data_test.drop('whether donated blood in 03/07', axis=1)\n",
    "\n",
    "y_test1 = blood_data_test['whether donated blood in 03/07']\n",
    "\n",
    "y_test = y_test1.to_frame();"
   ]
  },
  {
   "cell_type": "code",
   "execution_count": 30,
   "metadata": {},
   "outputs": [
    {
     "data": {
      "text/html": [
       "<div>\n",
       "<style scoped>\n",
       "    .dataframe tbody tr th:only-of-type {\n",
       "        vertical-align: middle;\n",
       "    }\n",
       "\n",
       "    .dataframe tbody tr th {\n",
       "        vertical-align: top;\n",
       "    }\n",
       "\n",
       "    .dataframe thead th {\n",
       "        text-align: right;\n",
       "    }\n",
       "</style>\n",
       "<table border=\"1\" class=\"dataframe\">\n",
       "  <thead>\n",
       "    <tr style=\"text-align: right;\">\n",
       "      <th></th>\n",
       "      <th>Recency (months)</th>\n",
       "      <th>Frequency</th>\n",
       "      <th>Monetary (c.c. blood)</th>\n",
       "      <th>Time (months)</th>\n",
       "    </tr>\n",
       "  </thead>\n",
       "  <tbody>\n",
       "    <tr>\n",
       "      <th>0</th>\n",
       "      <td>2</td>\n",
       "      <td>50</td>\n",
       "      <td>12500</td>\n",
       "      <td>98</td>\n",
       "    </tr>\n",
       "    <tr>\n",
       "      <th>4</th>\n",
       "      <td>1</td>\n",
       "      <td>24</td>\n",
       "      <td>6000</td>\n",
       "      <td>77</td>\n",
       "    </tr>\n",
       "    <tr>\n",
       "      <th>5</th>\n",
       "      <td>4</td>\n",
       "      <td>4</td>\n",
       "      <td>1000</td>\n",
       "      <td>4</td>\n",
       "    </tr>\n",
       "    <tr>\n",
       "      <th>7</th>\n",
       "      <td>1</td>\n",
       "      <td>12</td>\n",
       "      <td>3000</td>\n",
       "      <td>35</td>\n",
       "    </tr>\n",
       "    <tr>\n",
       "      <th>10</th>\n",
       "      <td>4</td>\n",
       "      <td>23</td>\n",
       "      <td>5750</td>\n",
       "      <td>58</td>\n",
       "    </tr>\n",
       "  </tbody>\n",
       "</table>\n",
       "</div>"
      ],
      "text/plain": [
       "    Recency (months)  Frequency  Monetary (c.c. blood)  Time (months)\n",
       "0                  2         50                  12500             98\n",
       "4                  1         24                   6000             77\n",
       "5                  4          4                   1000              4\n",
       "7                  1         12                   3000             35\n",
       "10                 4         23                   5750             58"
      ]
     },
     "metadata": {},
     "output_type": "display_data"
    },
    {
     "name": "stdout",
     "output_type": "stream",
     "text": [
      "(598, 4)\n"
     ]
    }
   ],
   "source": [
    "display(X_train.head())\n",
    "print X_train.shape"
   ]
  },
  {
   "cell_type": "code",
   "execution_count": 31,
   "metadata": {},
   "outputs": [
    {
     "data": {
      "text/html": [
       "<div>\n",
       "<style scoped>\n",
       "    .dataframe tbody tr th:only-of-type {\n",
       "        vertical-align: middle;\n",
       "    }\n",
       "\n",
       "    .dataframe tbody tr th {\n",
       "        vertical-align: top;\n",
       "    }\n",
       "\n",
       "    .dataframe thead th {\n",
       "        text-align: right;\n",
       "    }\n",
       "</style>\n",
       "<table border=\"1\" class=\"dataframe\">\n",
       "  <thead>\n",
       "    <tr style=\"text-align: right;\">\n",
       "      <th></th>\n",
       "      <th>Recency (months)</th>\n",
       "      <th>Frequency</th>\n",
       "      <th>Monetary (c.c. blood)</th>\n",
       "      <th>Time (months)</th>\n",
       "    </tr>\n",
       "  </thead>\n",
       "  <tbody>\n",
       "    <tr>\n",
       "      <th>373</th>\n",
       "      <td>9</td>\n",
       "      <td>4</td>\n",
       "      <td>1000</td>\n",
       "      <td>65</td>\n",
       "    </tr>\n",
       "    <tr>\n",
       "      <th>454</th>\n",
       "      <td>21</td>\n",
       "      <td>1</td>\n",
       "      <td>250</td>\n",
       "      <td>21</td>\n",
       "    </tr>\n",
       "    <tr>\n",
       "      <th>455</th>\n",
       "      <td>21</td>\n",
       "      <td>1</td>\n",
       "      <td>250</td>\n",
       "      <td>21</td>\n",
       "    </tr>\n",
       "    <tr>\n",
       "      <th>456</th>\n",
       "      <td>21</td>\n",
       "      <td>1</td>\n",
       "      <td>250</td>\n",
       "      <td>21</td>\n",
       "    </tr>\n",
       "    <tr>\n",
       "      <th>457</th>\n",
       "      <td>21</td>\n",
       "      <td>1</td>\n",
       "      <td>250</td>\n",
       "      <td>21</td>\n",
       "    </tr>\n",
       "  </tbody>\n",
       "</table>\n",
       "</div>"
      ],
      "text/plain": [
       "     Recency (months)  Frequency  Monetary (c.c. blood)  Time (months)\n",
       "373                 9          4                   1000             65\n",
       "454                21          1                    250             21\n",
       "455                21          1                    250             21\n",
       "456                21          1                    250             21\n",
       "457                21          1                    250             21"
      ]
     },
     "metadata": {},
     "output_type": "display_data"
    },
    {
     "name": "stdout",
     "output_type": "stream",
     "text": [
      "(150, 4)\n"
     ]
    }
   ],
   "source": [
    "display(x_test.head())\n",
    "print x_test.shape"
   ]
  },
  {
   "cell_type": "markdown",
   "metadata": {},
   "source": [
    "## Supervised Learning:"
   ]
  },
  {
   "cell_type": "markdown",
   "metadata": {},
   "source": [
    "### Normalizing the data"
   ]
  },
  {
   "cell_type": "code",
   "execution_count": 32,
   "metadata": {},
   "outputs": [
    {
     "name": "stdout",
     "output_type": "stream",
     "text": [
      "['Recency (months)', 'Frequency', 'Monetary (c.c. blood)', 'Time (months)']\n",
      "<type 'numpy.ndarray'>\n"
     ]
    },
    {
     "data": {
      "text/html": [
       "<div>\n",
       "<style scoped>\n",
       "    .dataframe tbody tr th:only-of-type {\n",
       "        vertical-align: middle;\n",
       "    }\n",
       "\n",
       "    .dataframe tbody tr th {\n",
       "        vertical-align: top;\n",
       "    }\n",
       "\n",
       "    .dataframe thead th {\n",
       "        text-align: right;\n",
       "    }\n",
       "</style>\n",
       "<table border=\"1\" class=\"dataframe\">\n",
       "  <thead>\n",
       "    <tr style=\"text-align: right;\">\n",
       "      <th></th>\n",
       "      <th>Recency (months)</th>\n",
       "      <th>Frequency</th>\n",
       "      <th>Monetary (c.c. blood)</th>\n",
       "      <th>Time (months)</th>\n",
       "    </tr>\n",
       "  </thead>\n",
       "  <tbody>\n",
       "    <tr>\n",
       "      <th>0</th>\n",
       "      <td>0.027778</td>\n",
       "      <td>1.000000</td>\n",
       "      <td>1.000000</td>\n",
       "      <td>1.000000</td>\n",
       "    </tr>\n",
       "    <tr>\n",
       "      <th>1</th>\n",
       "      <td>0.013889</td>\n",
       "      <td>0.469388</td>\n",
       "      <td>0.469388</td>\n",
       "      <td>0.781250</td>\n",
       "    </tr>\n",
       "    <tr>\n",
       "      <th>2</th>\n",
       "      <td>0.055556</td>\n",
       "      <td>0.061224</td>\n",
       "      <td>0.061224</td>\n",
       "      <td>0.020833</td>\n",
       "    </tr>\n",
       "    <tr>\n",
       "      <th>3</th>\n",
       "      <td>0.013889</td>\n",
       "      <td>0.224490</td>\n",
       "      <td>0.224490</td>\n",
       "      <td>0.343750</td>\n",
       "    </tr>\n",
       "    <tr>\n",
       "      <th>4</th>\n",
       "      <td>0.055556</td>\n",
       "      <td>0.448980</td>\n",
       "      <td>0.448980</td>\n",
       "      <td>0.583333</td>\n",
       "    </tr>\n",
       "  </tbody>\n",
       "</table>\n",
       "</div>"
      ],
      "text/plain": [
       "   Recency (months)  Frequency  Monetary (c.c. blood)  Time (months)\n",
       "0          0.027778   1.000000               1.000000       1.000000\n",
       "1          0.013889   0.469388               0.469388       0.781250\n",
       "2          0.055556   0.061224               0.061224       0.020833\n",
       "3          0.013889   0.224490               0.224490       0.343750\n",
       "4          0.055556   0.448980               0.448980       0.583333"
      ]
     },
     "metadata": {},
     "output_type": "display_data"
    },
    {
     "name": "stdout",
     "output_type": "stream",
     "text": [
      "(598, 4)\n"
     ]
    }
   ],
   "source": [
    "headers = list(X_train)\n",
    "print headers\n",
    "\n",
    "scaler = MinMaxScaler()\n",
    "scaler.fit(X_train)\n",
    "X_train_nor_ = scaler.transform(X_train)\n",
    "print type(X_train_nor_)\n",
    "\n",
    "X_train_nor = pd.DataFrame(X_train_nor_,columns=headers)\n",
    "display(X_train_nor.head())\n",
    "print X_train_nor.shape"
   ]
  },
  {
   "cell_type": "code",
   "execution_count": 33,
   "metadata": {},
   "outputs": [
    {
     "name": "stdout",
     "output_type": "stream",
     "text": [
      "<type 'numpy.ndarray'>\n"
     ]
    },
    {
     "data": {
      "text/html": [
       "<div>\n",
       "<style scoped>\n",
       "    .dataframe tbody tr th:only-of-type {\n",
       "        vertical-align: middle;\n",
       "    }\n",
       "\n",
       "    .dataframe tbody tr th {\n",
       "        vertical-align: top;\n",
       "    }\n",
       "\n",
       "    .dataframe thead th {\n",
       "        text-align: right;\n",
       "    }\n",
       "</style>\n",
       "<table border=\"1\" class=\"dataframe\">\n",
       "  <thead>\n",
       "    <tr style=\"text-align: right;\">\n",
       "      <th></th>\n",
       "      <th>Recency (months)</th>\n",
       "      <th>Frequency</th>\n",
       "      <th>Monetary (c.c. blood)</th>\n",
       "      <th>Time (months)</th>\n",
       "    </tr>\n",
       "  </thead>\n",
       "  <tbody>\n",
       "    <tr>\n",
       "      <th>0</th>\n",
       "      <td>0.121622</td>\n",
       "      <td>0.066667</td>\n",
       "      <td>0.066667</td>\n",
       "      <td>0.648936</td>\n",
       "    </tr>\n",
       "    <tr>\n",
       "      <th>1</th>\n",
       "      <td>0.283784</td>\n",
       "      <td>0.000000</td>\n",
       "      <td>0.000000</td>\n",
       "      <td>0.180851</td>\n",
       "    </tr>\n",
       "    <tr>\n",
       "      <th>2</th>\n",
       "      <td>0.283784</td>\n",
       "      <td>0.000000</td>\n",
       "      <td>0.000000</td>\n",
       "      <td>0.180851</td>\n",
       "    </tr>\n",
       "    <tr>\n",
       "      <th>3</th>\n",
       "      <td>0.283784</td>\n",
       "      <td>0.000000</td>\n",
       "      <td>0.000000</td>\n",
       "      <td>0.180851</td>\n",
       "    </tr>\n",
       "    <tr>\n",
       "      <th>4</th>\n",
       "      <td>0.283784</td>\n",
       "      <td>0.000000</td>\n",
       "      <td>0.000000</td>\n",
       "      <td>0.180851</td>\n",
       "    </tr>\n",
       "  </tbody>\n",
       "</table>\n",
       "</div>"
      ],
      "text/plain": [
       "   Recency (months)  Frequency  Monetary (c.c. blood)  Time (months)\n",
       "0          0.121622   0.066667               0.066667       0.648936\n",
       "1          0.283784   0.000000               0.000000       0.180851\n",
       "2          0.283784   0.000000               0.000000       0.180851\n",
       "3          0.283784   0.000000               0.000000       0.180851\n",
       "4          0.283784   0.000000               0.000000       0.180851"
      ]
     },
     "metadata": {},
     "output_type": "display_data"
    },
    {
     "name": "stdout",
     "output_type": "stream",
     "text": [
      "(150, 4)\n"
     ]
    }
   ],
   "source": [
    "scaler = MinMaxScaler()\n",
    "scaler.fit(x_test)\n",
    "x_test_nor_ = scaler.transform(x_test)\n",
    "print type(x_test_nor_)\n",
    "\n",
    "x_test_nor = pd.DataFrame(x_test_nor_,columns=headers)\n",
    "display(x_test_nor.head())\n",
    "print x_test_nor.shape"
   ]
  },
  {
   "cell_type": "code",
   "execution_count": 34,
   "metadata": {},
   "outputs": [
    {
     "data": {
      "text/plain": [
       "0    456\n",
       "1    142\n",
       "Name: whether donated blood in 03/07, dtype: int64"
      ]
     },
     "execution_count": 34,
     "metadata": {},
     "output_type": "execute_result"
    }
   ],
   "source": [
    "Y_train['whether donated blood in 03/07'].value_counts()"
   ]
  },
  {
   "cell_type": "code",
   "execution_count": 35,
   "metadata": {},
   "outputs": [
    {
     "name": "stdout",
     "output_type": "stream",
     "text": [
      "0.76\n"
     ]
    }
   ],
   "source": [
    "#best_penality_parameter = []\n",
    "C_range = np.logspace(-2,10,13)\n",
    "parameters_grid = dict(C=C_range)\n",
    "svc = svm.LinearSVC(penalty='l1',dual=False)\n",
    "cv=KFold(5)\n",
    "clf = GridSearchCV(svc,param_grid=parameters_grid,cv=cv)\n",
    "clf.fit(X_train_nor, Y_train)\n",
    "y_pred = clf.predict(x_test_nor)\n",
    "score = clf.score(x_test_nor, y_test)\n",
    "        \n",
    "#best_penality_parameter_passive.append(clf.best_params_)\n",
    "print score\n"
   ]
  },
  {
   "cell_type": "code",
   "execution_count": 36,
   "metadata": {},
   "outputs": [
    {
     "name": "stdout",
     "output_type": "stream",
     "text": [
      "[0 0 0 0 0 0 0 0 0 0 0 0 0 0 0 0 0 0 0 0 0 0 0 0 0 0 0 0 0 0 0 0 0 0 0 0 0\n",
      " 0 0 0 0 0 0 0 1 0 0 0 0 0 0 0 0 0 0 0 0 0 0 0 0 0 0 0 0 0 0 0 0 0 0 0 0 0\n",
      " 0 0 0 0 0 0 0 0 0 0 0 0 0 0 0 0 0 0 0 0 0 0 0 0 0 0 0 0 0 0 0 0 0 0 0 0 0\n",
      " 0 0 0 0 0 0 0 0 0 0 0 1 0 0 0 0 0 0 0 0 0 0 0 0 0 0 0 0 0 0 0 0 0 0 0 0 0\n",
      " 0 0]\n"
     ]
    }
   ],
   "source": [
    "print y_pred"
   ]
  },
  {
   "cell_type": "code",
   "execution_count": 37,
   "metadata": {},
   "outputs": [
    {
     "data": {
      "text/plain": [
       "0.76"
      ]
     },
     "execution_count": 37,
     "metadata": {},
     "output_type": "execute_result"
    }
   ],
   "source": [
    "clf.score(x_test_nor, y_test)"
   ]
  },
  {
   "cell_type": "code",
   "execution_count": 38,
   "metadata": {},
   "outputs": [],
   "source": [
    "y_score = clf.decision_function(x_test_nor)\n",
    "#print y_score"
   ]
  },
  {
   "cell_type": "code",
   "execution_count": 39,
   "metadata": {},
   "outputs": [
    {
     "name": "stdout",
     "output_type": "stream",
     "text": [
      "Best parameters set found on development set:\n",
      "()\n",
      "{'C': 0.1}\n"
     ]
    }
   ],
   "source": [
    "print(\"Best parameters set found on development set:\")\n",
    "print()\n",
    "print(clf.best_params_)\n",
    "\n",
    "sort_para = sorted(clf.cv_results_.keys())\n",
    "#print sort_para\n"
   ]
  },
  {
   "cell_type": "code",
   "execution_count": 40,
   "metadata": {},
   "outputs": [
    {
     "name": "stdout",
     "output_type": "stream",
     "text": [
      "Accuracy_Score\n"
     ]
    },
    {
     "data": {
      "text/plain": [
       "0.76"
      ]
     },
     "execution_count": 40,
     "metadata": {},
     "output_type": "execute_result"
    }
   ],
   "source": [
    "print (\"Accuracy_Score\")\n",
    "accuracy_score(y_test, y_pred)"
   ]
  },
  {
   "cell_type": "code",
   "execution_count": 41,
   "metadata": {},
   "outputs": [
    {
     "name": "stdout",
     "output_type": "stream",
     "text": [
      "Confusion Matrix\n"
     ]
    },
    {
     "data": {
      "text/plain": [
       "array([[113,   1],\n",
       "       [ 35,   1]], dtype=int64)"
      ]
     },
     "execution_count": 41,
     "metadata": {},
     "output_type": "execute_result"
    }
   ],
   "source": [
    "print (\"Confusion Matrix\")\n",
    "confusion_matrix(y_test, y_pred)"
   ]
  },
  {
   "cell_type": "code",
   "execution_count": 42,
   "metadata": {},
   "outputs": [
    {
     "data": {
      "text/plain": [
       "<matplotlib.axes._subplots.AxesSubplot at 0x1918c320>"
      ]
     },
     "execution_count": 42,
     "metadata": {},
     "output_type": "execute_result"
    },
    {
     "data": {
      "image/png": "[encoded data removed]",
      "text/plain": [
       "<matplotlib.figure.Figure at 0x1543ef98>"
      ]
     },
     "metadata": {},
     "output_type": "display_data"
    }
   ],
   "source": [
    "from sklearn.metrics import confusion_matrix\n",
    "cm = pd.DataFrame(confusion_matrix(y_test, y_pred))\n",
    "sns.heatmap(cm, annot=True)"
   ]
  },
  {
   "cell_type": "code",
   "execution_count": 43,
   "metadata": {},
   "outputs": [
    {
     "name": "stdout",
     "output_type": "stream",
     "text": [
      "             precision    recall  f1-score   support\n",
      "\n",
      "          0       0.76      0.99      0.86       114\n",
      "          1       0.50      0.03      0.05        36\n",
      "\n",
      "avg / total       0.70      0.76      0.67       150\n",
      "\n"
     ]
    }
   ],
   "source": [
    "from sklearn.metrics import classification_report\n",
    "print(classification_report(y_test,y_pred))"
   ]
  },
  {
   "cell_type": "code",
   "execution_count": 44,
   "metadata": {},
   "outputs": [
    {
     "data": {
      "text/plain": [
       "CalibratedClassifierCV(base_estimator=GridSearchCV(cv=KFold(n_splits=5, random_state=None, shuffle=False),\n",
       "       error_score='raise',\n",
       "       estimator=LinearSVC(C=1.0, class_weight=None, dual=False, fit_intercept=True,\n",
       "     intercept_scaling=1, loss='squared_hinge', max_iter=1000,\n",
       "     multi_class='ovr', penalty='l1', ra...     pre_dispatch='2*n_jobs', refit=True, return_train_score='warn',\n",
       "       scoring=None, verbose=0),\n",
       "            cv='prefit', method='sigmoid')"
      ]
     },
     "execution_count": 44,
     "metadata": {},
     "output_type": "execute_result"
    }
   ],
   "source": [
    "from sklearn.calibration import CalibratedClassifierCV\n",
    "clf_cal = CalibratedClassifierCV(base_estimator=clf, cv=\"prefit\")\n",
    "clf_cal.fit(X_train_nor, Y_train)\n"
   ]
  },
  {
   "cell_type": "code",
   "execution_count": 45,
   "metadata": {
    "scrolled": true
   },
   "outputs": [
    {
     "data": {
      "image/png": "[encoded data removed]",
      "text/plain": [
       "<matplotlib.figure.Figure at 0x14e74588>"
      ]
     },
     "metadata": {},
     "output_type": "display_data"
    },
    {
     "data": {
      "text/plain": [
       "<ggplot: (26712878)>"
      ]
     },
     "execution_count": 45,
     "metadata": {},
     "output_type": "execute_result"
    }
   ],
   "source": [
    "preds = clf_cal.predict_proba(x_test_nor)[:,1]\n",
    "fpr, tpr, thresholds = metrics.roc_curve(y_test, preds)\n",
    "\n",
    "df = pd.DataFrame(dict(fpr=fpr, tpr=tpr))\n",
    "ggplot(df, aes(x='fpr', y='tpr')) +\\\n",
    "    geom_line() +\\\n",
    "    geom_abline(linetype='dashed')"
   ]
  },
  {
   "cell_type": "code",
   "execution_count": 46,
   "metadata": {},
   "outputs": [
    {
     "data": {
      "image/png": "[encoded data removed]",
      "text/plain": [
       "<matplotlib.figure.Figure at 0x153404e0>"
      ]
     },
     "metadata": {},
     "output_type": "display_data"
    },
    {
     "data": {
      "text/plain": [
       "<ggplot: (22233239)>"
      ]
     },
     "execution_count": 46,
     "metadata": {},
     "output_type": "execute_result"
    }
   ],
   "source": [
    "auc = metrics.auc(fpr,tpr)\n",
    "ggplot(df, aes(x='fpr',y='tpr')) +\\\n",
    "    geom_area(alpha=0.2) +\\\n",
    "    geom_line(aes(y='tpr')) +\\\n",
    "    ggtitle(\"ROC Curve w/ AUC=%s\" % str(auc))"
   ]
  },
  {
   "cell_type": "markdown",
   "metadata": {},
   "source": [
    "## Find the optimal threshold and tuning the P"
   ]
  },
  {
   "cell_type": "code",
   "execution_count": 47,
   "metadata": {},
   "outputs": [
    {
     "name": "stdout",
     "output_type": "stream",
     "text": [
      "[0.         0.         0.05555556 0.05555556 0.13888889 0.13888889\n",
      " 0.33333333 0.38888889 0.38888889 0.5        0.52777778 0.52777778\n",
      " 0.58333333 0.58333333 0.66666667 0.66666667 0.72222222 0.72222222\n",
      " 0.88888889 0.88888889 0.88888889 0.88888889 0.91666667 0.91666667\n",
      " 0.94444444 0.94444444 0.94444444 0.94444444 0.94444444 0.97222222\n",
      " 0.97222222 1.         1.         1.         1.         1.\n",
      " 1.         1.         1.         1.         1.         1.\n",
      " 1.        ]\n",
      "[0.         0.00877193 0.00877193 0.02631579 0.02631579 0.07017544\n",
      " 0.07017544 0.07017544 0.07894737 0.07894737 0.0877193  0.10526316\n",
      " 0.10526316 0.11403509 0.11403509 0.13157895 0.13157895 0.14912281\n",
      " 0.14912281 0.20175439 0.25438596 0.28070175 0.28070175 0.29824561\n",
      " 0.29824561 0.30701754 0.3245614  0.35087719 0.4122807  0.4122807\n",
      " 0.42105263 0.42982456 0.46491228 0.48245614 0.57894737 0.6754386\n",
      " 0.72807018 0.74561404 0.80701754 0.87719298 0.95614035 0.97368421\n",
      " 1.        ]\n"
     ]
    }
   ],
   "source": [
    "print tpr\n",
    "print fpr"
   ]
  },
  {
   "cell_type": "code",
   "execution_count": 48,
   "metadata": {},
   "outputs": [
    {
     "name": "stdout",
     "output_type": "stream",
     "text": [
      "Optimal Threshold Value: 0.1961960638299563\n",
      "[0, 0, 0, 0, 0, 0, 0, 0, 0, 0, 0, 0, 0, 0, 0, 0, 0, 0, 0, 0, 0, 0, 0, 0, 0, 0, 0, 0, 0, 0, 0, 0, 0, 0, 0, 0, 0, 0, 0, 0, 0, 0, 0, 0, 1, 1, 1, 1, 1, 1, 1, 1, 1, 1, 1, 1, 1, 1, 1, 1, 0, 0, 0, 0, 0, 0, 0, 0, 0, 0, 0, 0, 0, 0, 0, 0, 0, 0, 0, 0, 0, 0, 0, 0, 0, 0, 0, 0, 0, 0, 0, 0, 0, 0, 0, 0, 0, 0, 0, 0, 0, 0, 0, 0, 0, 0, 1, 0, 0, 0, 0, 0, 0, 0, 1, 0, 1, 1, 1, 1, 1, 1, 1, 1, 1, 1, 1, 1, 1, 0, 1, 1, 0, 1, 1, 1, 1, 1, 1, 1, 1, 1, 1, 1, 0, 1, 1, 1, 1, 1]\n"
     ]
    }
   ],
   "source": [
    "optimal_idx = np.argmax(tpr - fpr)\n",
    "optimal_threshold = thresholds[optimal_idx]\n",
    "\n",
    "print \"Optimal Threshold Value: \"+str(optimal_threshold)\n",
    "#print preds\n",
    "y_pred=[]\n",
    "preds=list(preds)\n",
    "for i in range(len(preds)):\n",
    "    y_pred = [1 if x >= optimal_threshold else 0 for x in preds]\n",
    "print y_pred"
   ]
  },
  {
   "cell_type": "code",
   "execution_count": 49,
   "metadata": {},
   "outputs": [
    {
     "data": {
      "text/plain": [
       "<matplotlib.axes._subplots.AxesSubplot at 0x181294a8>"
      ]
     },
     "execution_count": 49,
     "metadata": {},
     "output_type": "execute_result"
    },
    {
     "data": {
      "image/png": "[encoded data removed]",
      "text/plain": [
       "<matplotlib.figure.Figure at 0x1915d278>"
      ]
     },
     "metadata": {},
     "output_type": "display_data"
    }
   ],
   "source": [
    "cm = pd.DataFrame(confusion_matrix(y_test, y_pred))\n",
    "sns.heatmap(cm, annot=True)"
   ]
  },
  {
   "cell_type": "markdown",
   "metadata": {},
   "source": [
    "## Semi-Supervised Learning/ Self-training:"
   ]
  },
  {
   "cell_type": "code",
   "execution_count": 50,
   "metadata": {},
   "outputs": [
    {
     "name": "stdout",
     "output_type": "stream",
     "text": [
      "(598, 5)\n"
     ]
    },
    {
     "data": {
      "text/html": [
       "<div>\n",
       "<style scoped>\n",
       "    .dataframe tbody tr th:only-of-type {\n",
       "        vertical-align: middle;\n",
       "    }\n",
       "\n",
       "    .dataframe tbody tr th {\n",
       "        vertical-align: top;\n",
       "    }\n",
       "\n",
       "    .dataframe thead th {\n",
       "        text-align: right;\n",
       "    }\n",
       "</style>\n",
       "<table border=\"1\" class=\"dataframe\">\n",
       "  <thead>\n",
       "    <tr style=\"text-align: right;\">\n",
       "      <th></th>\n",
       "      <th>Recency (months)</th>\n",
       "      <th>Frequency</th>\n",
       "      <th>Monetary (c.c. blood)</th>\n",
       "      <th>Time (months)</th>\n",
       "    </tr>\n",
       "    <tr>\n",
       "      <th>whether donated blood in 03/07</th>\n",
       "      <th></th>\n",
       "      <th></th>\n",
       "      <th></th>\n",
       "      <th></th>\n",
       "    </tr>\n",
       "  </thead>\n",
       "  <tbody>\n",
       "    <tr>\n",
       "      <th>0</th>\n",
       "      <td>456</td>\n",
       "      <td>456</td>\n",
       "      <td>456</td>\n",
       "      <td>456</td>\n",
       "    </tr>\n",
       "    <tr>\n",
       "      <th>1</th>\n",
       "      <td>142</td>\n",
       "      <td>142</td>\n",
       "      <td>142</td>\n",
       "      <td>142</td>\n",
       "    </tr>\n",
       "  </tbody>\n",
       "</table>\n",
       "</div>"
      ],
      "text/plain": [
       "                                Recency (months)  Frequency  \\\n",
       "whether donated blood in 03/07                                \n",
       "0                                            456        456   \n",
       "1                                            142        142   \n",
       "\n",
       "                                Monetary (c.c. blood)  Time (months)  \n",
       "whether donated blood in 03/07                                        \n",
       "0                                                 456            456  \n",
       "1                                                 142            142  "
      ]
     },
     "execution_count": 50,
     "metadata": {},
     "output_type": "execute_result"
    }
   ],
   "source": [
    "print blood_data_train.shape\n",
    "blood_data_train_sorted=blood_data_train.sort_values(by=['whether donated blood in 03/07'])\n",
    "blood_data_train_sorted.groupby('whether donated blood in 03/07').count()"
   ]
  },
  {
   "cell_type": "markdown",
   "metadata": {},
   "source": [
    "### Select 50% of the positive class along with 50% of the negative class in the training set"
   ]
  },
  {
   "cell_type": "code",
   "execution_count": 51,
   "metadata": {},
   "outputs": [],
   "source": [
    "#display(blood_data_train_sorted)\n",
    "blood_data_train_sorted_zeros = blood_data_train_sorted.iloc[:456,:]\n",
    "blood_data_train_sorted_ones = blood_data_train_sorted.iloc[456:,:]\n",
    "#display(blood_data_train_sorted_ones)"
   ]
  },
  {
   "cell_type": "code",
   "execution_count": 52,
   "metadata": {},
   "outputs": [
    {
     "name": "stdout",
     "output_type": "stream",
     "text": [
      "(299, 5)\n"
     ]
    }
   ],
   "source": [
    "label_data1 = blood_data_train_sorted_zeros.sample(frac=0.5, replace=False)\n",
    "\n",
    "label_data2 = blood_data_train_sorted_ones.sample(frac=0.5, replace=False)\n",
    "label_data_all =pd.concat([label_data1,label_data2],axis=0)\n",
    "print label_data_all.shape"
   ]
  },
  {
   "cell_type": "code",
   "execution_count": 53,
   "metadata": {},
   "outputs": [
    {
     "name": "stdout",
     "output_type": "stream",
     "text": [
      "(299, 5)\n"
     ]
    }
   ],
   "source": [
    "unlabeled_data1 = blood_data_train_sorted_zeros[~blood_data_train_sorted_zeros.index.isin(label_data1.index)]\n",
    "unlabeled_data2 = blood_data_train_sorted_ones[~blood_data_train_sorted_ones.index.isin(label_data2.index)]\n",
    "unlabel_data_all =pd.concat([unlabeled_data1,unlabeled_data2],axis=0)\n",
    "print unlabel_data_all.shape\n"
   ]
  },
  {
   "cell_type": "code",
   "execution_count": 54,
   "metadata": {},
   "outputs": [],
   "source": [
    "from sklearn.utils import shuffle\n",
    "label_data_all = shuffle(label_data_all)\n",
    "unlabel_data_all = shuffle(unlabel_data_all)"
   ]
  },
  {
   "cell_type": "code",
   "execution_count": 55,
   "metadata": {},
   "outputs": [],
   "source": [
    "label_data_un = label_data_all.drop('whether donated blood in 03/07', axis=1)\n",
    "unlabel_data_un = unlabel_data_all.drop('whether donated blood in 03/07', axis=1)\n",
    "\n",
    "label_data_class1 = label_data_all['whether donated blood in 03/07']\n",
    "unlabel_data_class1 = unlabel_data_all['whether donated blood in 03/07']\n",
    "\n",
    "\n",
    "label_data_class = label_data_class1.to_frame();\n",
    "unlabel_data_class = unlabel_data_class1.to_frame();\n"
   ]
  },
  {
   "cell_type": "code",
   "execution_count": 56,
   "metadata": {},
   "outputs": [
    {
     "name": "stdout",
     "output_type": "stream",
     "text": [
      "['Recency (months)', 'Frequency', 'Monetary (c.c. blood)', 'Time (months)']\n",
      "['Recency (months)', 'Frequency', 'Monetary (c.c. blood)', 'Time (months)']\n"
     ]
    }
   ],
   "source": [
    "headers1 = list(label_data_un)\n",
    "print headers1\n",
    "\n",
    "headers2 = list(unlabel_data_un)\n",
    "print headers2\n"
   ]
  },
  {
   "cell_type": "code",
   "execution_count": 57,
   "metadata": {},
   "outputs": [
    {
     "data": {
      "text/html": [
       "<div>\n",
       "<style scoped>\n",
       "    .dataframe tbody tr th:only-of-type {\n",
       "        vertical-align: middle;\n",
       "    }\n",
       "\n",
       "    .dataframe tbody tr th {\n",
       "        vertical-align: top;\n",
       "    }\n",
       "\n",
       "    .dataframe thead th {\n",
       "        text-align: right;\n",
       "    }\n",
       "</style>\n",
       "<table border=\"1\" class=\"dataframe\">\n",
       "  <thead>\n",
       "    <tr style=\"text-align: right;\">\n",
       "      <th></th>\n",
       "      <th>Recency (months)</th>\n",
       "      <th>Frequency</th>\n",
       "      <th>Monetary (c.c. blood)</th>\n",
       "      <th>Time (months)</th>\n",
       "    </tr>\n",
       "  </thead>\n",
       "  <tbody>\n",
       "    <tr>\n",
       "      <th>0</th>\n",
       "      <td>0.153846</td>\n",
       "      <td>0.122449</td>\n",
       "      <td>0.122449</td>\n",
       "      <td>0.239583</td>\n",
       "    </tr>\n",
       "    <tr>\n",
       "      <th>1</th>\n",
       "      <td>0.076923</td>\n",
       "      <td>0.224490</td>\n",
       "      <td>0.224490</td>\n",
       "      <td>0.833333</td>\n",
       "    </tr>\n",
       "    <tr>\n",
       "      <th>2</th>\n",
       "      <td>0.538462</td>\n",
       "      <td>0.020408</td>\n",
       "      <td>0.020408</td>\n",
       "      <td>0.125000</td>\n",
       "    </tr>\n",
       "    <tr>\n",
       "      <th>3</th>\n",
       "      <td>0.423077</td>\n",
       "      <td>0.040816</td>\n",
       "      <td>0.040816</td>\n",
       "      <td>0.364583</td>\n",
       "    </tr>\n",
       "    <tr>\n",
       "      <th>4</th>\n",
       "      <td>0.615385</td>\n",
       "      <td>0.122449</td>\n",
       "      <td>0.122449</td>\n",
       "      <td>0.645833</td>\n",
       "    </tr>\n",
       "  </tbody>\n",
       "</table>\n",
       "</div>"
      ],
      "text/plain": [
       "   Recency (months)  Frequency  Monetary (c.c. blood)  Time (months)\n",
       "0          0.153846   0.122449               0.122449       0.239583\n",
       "1          0.076923   0.224490               0.224490       0.833333\n",
       "2          0.538462   0.020408               0.020408       0.125000\n",
       "3          0.423077   0.040816               0.040816       0.364583\n",
       "4          0.615385   0.122449               0.122449       0.645833"
      ]
     },
     "metadata": {},
     "output_type": "display_data"
    }
   ],
   "source": [
    "scaler = MinMaxScaler()\n",
    "scaler.fit(label_data_un)\n",
    "label_data_ = scaler.transform(label_data_un)\n",
    "\n",
    "scaler = MinMaxScaler()\n",
    "scaler.fit(unlabel_data_un)\n",
    "unlabel_data_ = scaler.transform(unlabel_data_un)\n",
    "\n",
    "\n",
    "label_data = pd.DataFrame(label_data_,columns=headers1)\n",
    "unlabel_data = pd.DataFrame(unlabel_data_,columns=headers2)\n",
    "\n",
    "display(unlabel_data.head())"
   ]
  },
  {
   "cell_type": "markdown",
   "metadata": {},
   "source": [
    "#### Train an L1-penalized SVM to classify the labeled data."
   ]
  },
  {
   "cell_type": "code",
   "execution_count": 58,
   "metadata": {},
   "outputs": [],
   "source": [
    "C_range = np.logspace(-2,10,13)\n",
    "parameters_grid = dict(C=C_range)\n",
    "svc = svm.LinearSVC(penalty='l1',dual=False)\n",
    "cv=KFold(5)\n",
    "svc_clf = GridSearchCV(svc,param_grid=parameters_grid,cv=cv)\n",
    "svc_clf.fit(label_data, label_data_class)\n",
    "y_pred = svc_clf.predict(unlabel_data)\n"
   ]
  },
  {
   "cell_type": "code",
   "execution_count": 59,
   "metadata": {},
   "outputs": [
    {
     "data": {
      "text/html": [
       "<div>\n",
       "<style scoped>\n",
       "    .dataframe tbody tr th:only-of-type {\n",
       "        vertical-align: middle;\n",
       "    }\n",
       "\n",
       "    .dataframe tbody tr th {\n",
       "        vertical-align: top;\n",
       "    }\n",
       "\n",
       "    .dataframe thead th {\n",
       "        text-align: right;\n",
       "    }\n",
       "</style>\n",
       "<table border=\"1\" class=\"dataframe\">\n",
       "  <thead>\n",
       "    <tr style=\"text-align: right;\">\n",
       "      <th></th>\n",
       "      <th>Recency (months)</th>\n",
       "      <th>Frequency</th>\n",
       "      <th>Monetary (c.c. blood)</th>\n",
       "      <th>Time (months)</th>\n",
       "    </tr>\n",
       "  </thead>\n",
       "  <tbody>\n",
       "    <tr>\n",
       "      <th>0</th>\n",
       "      <td>0.153846</td>\n",
       "      <td>0.122449</td>\n",
       "      <td>0.122449</td>\n",
       "      <td>0.239583</td>\n",
       "    </tr>\n",
       "    <tr>\n",
       "      <th>1</th>\n",
       "      <td>0.076923</td>\n",
       "      <td>0.224490</td>\n",
       "      <td>0.224490</td>\n",
       "      <td>0.833333</td>\n",
       "    </tr>\n",
       "    <tr>\n",
       "      <th>2</th>\n",
       "      <td>0.538462</td>\n",
       "      <td>0.020408</td>\n",
       "      <td>0.020408</td>\n",
       "      <td>0.125000</td>\n",
       "    </tr>\n",
       "    <tr>\n",
       "      <th>3</th>\n",
       "      <td>0.423077</td>\n",
       "      <td>0.040816</td>\n",
       "      <td>0.040816</td>\n",
       "      <td>0.364583</td>\n",
       "    </tr>\n",
       "    <tr>\n",
       "      <th>4</th>\n",
       "      <td>0.615385</td>\n",
       "      <td>0.122449</td>\n",
       "      <td>0.122449</td>\n",
       "      <td>0.645833</td>\n",
       "    </tr>\n",
       "  </tbody>\n",
       "</table>\n",
       "</div>"
      ],
      "text/plain": [
       "   Recency (months)  Frequency  Monetary (c.c. blood)  Time (months)\n",
       "0          0.153846   0.122449               0.122449       0.239583\n",
       "1          0.076923   0.224490               0.224490       0.833333\n",
       "2          0.538462   0.020408               0.020408       0.125000\n",
       "3          0.423077   0.040816               0.040816       0.364583\n",
       "4          0.615385   0.122449               0.122449       0.645833"
      ]
     },
     "metadata": {},
     "output_type": "display_data"
    }
   ],
   "source": [
    "display (unlabel_data.head())"
   ]
  },
  {
   "cell_type": "code",
   "execution_count": 60,
   "metadata": {},
   "outputs": [
    {
     "name": "stdout",
     "output_type": "stream",
     "text": [
      "[0 0 0 0 0 0 0 0 0 0 0 0 0 0 0 0 0 0 0 0 0 0 0 0 0 0 0 0 0 0 0 0 0 0 0 0 0\n",
      " 0 0 0 0 0 0 0 0 0 0 0 0 0 0 0 0 0 0 0 0 0 0 0 0 0 0 0 0 0 0 0 0 0 0 0 0 0\n",
      " 0 0 0 0 0 0 0 0 0 0 0 0 0 0 0 0 0 0 0 0 0 0 0 0 0 0 0 0 0 0 0 0 0 0 0 0 0\n",
      " 0 0 0 0 0 0 0 0 0 0 0 0 0 0 0 0 0 0 0 0 0 0 0 0 0 0 0 0 0 0 0 0 0 0 0 0 0\n",
      " 0 0 0 0 0 0 0 0 0 0 0 0 0 0 0 0 0 0 0 0 0 0 0 0 0 0 0 0 0 0 0 0 0 0 0 0 0\n",
      " 0 0 0 0 0 0 0 0 0 0 0 0 0 0 0 0 0 0 0 0 0 0 0 0 0 0 0 0 0 0 0 0 0 0 0 0 0\n",
      " 0 0 0 0 0 0 0 0 0 0 0 0 0 0 0 0 0 0 0 0 0 0 0 0 0 0 0 0 0 0 0 0 0 0 0 0 0\n",
      " 0 0 0 0 0 0 0 0 0 0 0 0 0 0 0 0 0 0 0 0 0 0 0 0 0 0 0 0 0 0 0 0 0 0 0 0 0\n",
      " 0 0 0]\n"
     ]
    }
   ],
   "source": [
    "print y_pred"
   ]
  },
  {
   "cell_type": "code",
   "execution_count": 61,
   "metadata": {},
   "outputs": [],
   "source": [
    "svc.fit(label_data, label_data_class)\n",
    "y_score = svc.decision_function(unlabel_data)\n",
    "#print y_score\n"
   ]
  },
  {
   "cell_type": "code",
   "execution_count": 62,
   "metadata": {},
   "outputs": [
    {
     "name": "stdout",
     "output_type": "stream",
     "text": [
      "Best parameters set found on development set:\n",
      "()\n",
      "{'C': 0.01}\n"
     ]
    }
   ],
   "source": [
    "print(\"Best parameters set found on development set:\")\n",
    "print()\n",
    "print(svc_clf.best_params_)\n",
    "\n",
    "sort_para = sorted(svc_clf.cv_results_.keys())\n",
    "#print sort_para\n"
   ]
  },
  {
   "cell_type": "code",
   "execution_count": 63,
   "metadata": {},
   "outputs": [
    {
     "name": "stdout",
     "output_type": "stream",
     "text": [
      "Accuracy_Score\n"
     ]
    },
    {
     "data": {
      "text/plain": [
       "0.7625418060200669"
      ]
     },
     "execution_count": 63,
     "metadata": {},
     "output_type": "execute_result"
    }
   ],
   "source": [
    "print (\"Accuracy_Score\")\n",
    "accuracy_score(unlabel_data_class, y_pred)"
   ]
  },
  {
   "cell_type": "code",
   "execution_count": 64,
   "metadata": {},
   "outputs": [
    {
     "name": "stdout",
     "output_type": "stream",
     "text": [
      "Confusion Matrix\n"
     ]
    },
    {
     "data": {
      "text/plain": [
       "array([[228,   0],\n",
       "       [ 71,   0]], dtype=int64)"
      ]
     },
     "execution_count": 64,
     "metadata": {},
     "output_type": "execute_result"
    }
   ],
   "source": [
    "print (\"Confusion Matrix\")\n",
    "confusion_matrix(unlabel_data_class, y_pred)"
   ]
  },
  {
   "cell_type": "code",
   "execution_count": 65,
   "metadata": {},
   "outputs": [
    {
     "data": {
      "text/plain": [
       "<matplotlib.axes._subplots.AxesSubplot at 0x18893e48>"
      ]
     },
     "execution_count": 65,
     "metadata": {},
     "output_type": "execute_result"
    },
    {
     "data": {
      "image/png": "[encoded data removed]",
      "text/plain": [
       "<matplotlib.figure.Figure at 0x152ef4e0>"
      ]
     },
     "metadata": {},
     "output_type": "display_data"
    }
   ],
   "source": [
    "from sklearn.metrics import confusion_matrix\n",
    "cm = pd.DataFrame(confusion_matrix(unlabel_data_class, y_pred))\n",
    "sns.heatmap(cm, annot=True)"
   ]
  },
  {
   "cell_type": "code",
   "execution_count": 66,
   "metadata": {},
   "outputs": [
    {
     "name": "stdout",
     "output_type": "stream",
     "text": [
      "             precision    recall  f1-score   support\n",
      "\n",
      "          0       0.76      1.00      0.87       228\n",
      "          1       0.00      0.00      0.00        71\n",
      "\n",
      "avg / total       0.58      0.76      0.66       299\n",
      "\n"
     ]
    }
   ],
   "source": [
    "from sklearn.metrics import classification_report\n",
    "print(classification_report(unlabel_data_class,y_pred))"
   ]
  },
  {
   "cell_type": "markdown",
   "metadata": {},
   "source": [
    "## Find the optimal threshold and tuning the P"
   ]
  },
  {
   "cell_type": "code",
   "execution_count": 67,
   "metadata": {},
   "outputs": [],
   "source": [
    "preds1 = clf_cal.predict_proba(unlabel_data)[:,1]\n",
    "fpr, tpr, thresholds = metrics.roc_curve(unlabel_data_class, preds1)\n"
   ]
  },
  {
   "cell_type": "code",
   "execution_count": 68,
   "metadata": {},
   "outputs": [
    {
     "name": "stdout",
     "output_type": "stream",
     "text": [
      "Optimal Threshold Value: 0.12952571712877492\n",
      "[1, 1, 0, 0, 0, 0, 1, 1, 1, 1, 0, 0, 0, 0, 0, 1, 1, 1, 0, 0, 0, 0, 1, 0, 1, 1, 1, 0, 0, 1, 0, 0, 1, 1, 1, 0, 1, 1, 1, 0, 0, 1, 0, 0, 0, 0, 0, 0, 0, 1, 0, 0, 1, 0, 0, 1, 0, 1, 1, 0, 1, 0, 0, 0, 0, 0, 1, 1, 1, 0, 0, 0, 0, 1, 0, 1, 1, 0, 0, 1, 0, 0, 0, 0, 0, 0, 1, 1, 1, 0, 1, 0, 1, 1, 1, 0, 0, 1, 1, 0, 1, 0, 1, 1, 1, 0, 0, 0, 0, 0, 1, 0, 1, 0, 0, 1, 0, 0, 1, 0, 1, 0, 0, 1, 0, 0, 0, 1, 1, 0, 1, 0, 1, 1, 1, 1, 0, 0, 0, 1, 1, 1, 0, 0, 1, 1, 1, 0, 0, 1, 0, 0, 0, 0, 0, 0, 0, 1, 1, 0, 1, 0, 1, 1, 1, 1, 1, 1, 0, 0, 0, 0, 1, 0, 1, 1, 1, 1, 1, 0, 0, 0, 1, 0, 0, 0, 1, 1, 1, 1, 0, 1, 1, 0, 1, 1, 1, 0, 0, 0, 0, 0, 0, 1, 0, 1, 1, 1, 1, 1, 0, 1, 1, 0, 1, 0, 0, 0, 0, 0, 0, 1, 0, 0, 1, 1, 1, 1, 1, 1, 0, 1, 1, 1, 1, 0, 1, 0, 0, 0, 1, 0, 1, 0, 1, 0, 1, 0, 0, 0, 1, 1, 0, 0, 1, 1, 0, 0, 0, 1, 1, 0, 1, 1, 0, 1, 1, 0, 1, 1, 0, 0, 1, 0, 1, 0, 1, 0, 0, 1, 0, 0, 1, 0, 0, 0, 1, 1, 1, 1, 0, 0, 1, 1, 1, 0, 0, 0, 1]\n"
     ]
    }
   ],
   "source": [
    "optimal_idx = np.argmax(tpr - fpr)\n",
    "optimal_threshold = thresholds[optimal_idx]\n",
    "\n",
    "print \"Optimal Threshold Value: \"+str(optimal_threshold)\n",
    "#print preds\n",
    "y_pred=[]\n",
    "preds1=list(preds1)\n",
    "for i in range(len(preds1)):\n",
    "    y_pred = [1 if x >= optimal_threshold else 0 for x in preds1]\n",
    "print y_pred"
   ]
  },
  {
   "cell_type": "code",
   "execution_count": 69,
   "metadata": {},
   "outputs": [
    {
     "data": {
      "text/plain": [
       "<matplotlib.axes._subplots.AxesSubplot at 0x180af6a0>"
      ]
     },
     "execution_count": 69,
     "metadata": {},
     "output_type": "execute_result"
    },
    {
     "data": {
      "image/png": "[encoded data removed]",
      "text/plain": [
       "<matplotlib.figure.Figure at 0x18996198>"
      ]
     },
     "metadata": {},
     "output_type": "display_data"
    }
   ],
   "source": [
    "cm = pd.DataFrame(confusion_matrix(unlabel_data_class, y_pred))\n",
    "sns.heatmap(cm, annot=True)"
   ]
  },
  {
   "cell_type": "code",
   "execution_count": 70,
   "metadata": {},
   "outputs": [
    {
     "name": "stdout",
     "output_type": "stream",
     "text": [
      "Confusion Matrix\n"
     ]
    },
    {
     "data": {
      "text/plain": [
       "array([[139,  89],\n",
       "       [ 18,  53]], dtype=int64)"
      ]
     },
     "execution_count": 70,
     "metadata": {},
     "output_type": "execute_result"
    }
   ],
   "source": [
    "print (\"Confusion Matrix\")\n",
    "confusion_matrix(unlabel_data_class, y_pred)"
   ]
  },
  {
   "cell_type": "markdown",
   "metadata": {},
   "source": [
    "### Unlabeled data point that is the closest to the decision boundary of the SVM."
   ]
  },
  {
   "cell_type": "code",
   "execution_count": 71,
   "metadata": {},
   "outputs": [],
   "source": [
    "distance_from_margin = svc.decision_function(unlabel_data)\n",
    "distance_from_margin = list(distance_from_margin)\n",
    "distance_from_margin = [round(i,3) for i in distance_from_margin]\n",
    "\n",
    "distance_from_margin = map(abs, distance_from_margin)\n",
    "\n",
    "#print distance_from_margin\n",
    "sorted_distance = sorted(distance_from_margin)\n",
    "#print sorted_distance"
   ]
  },
  {
   "cell_type": "code",
   "execution_count": 72,
   "metadata": {},
   "outputs": [],
   "source": [
    "dist_df = pd.DataFrame(data = distance_from_margin , columns=['distance'])\n",
    "#display(dist_df)\n",
    "#display(unlabel_data.head())\n",
    "#print dist_df.shape"
   ]
  },
  {
   "cell_type": "code",
   "execution_count": 73,
   "metadata": {},
   "outputs": [],
   "source": [
    "unlabel_data.reset_index(drop=True, inplace=True)\n",
    "unlabel_data_class.reset_index(drop=True, inplace=True)\n",
    "dist_df.reset_index(drop=True, inplace=True)\n"
   ]
  },
  {
   "cell_type": "code",
   "execution_count": 74,
   "metadata": {},
   "outputs": [
    {
     "data": {
      "text/html": [
       "<div>\n",
       "<style scoped>\n",
       "    .dataframe tbody tr th:only-of-type {\n",
       "        vertical-align: middle;\n",
       "    }\n",
       "\n",
       "    .dataframe tbody tr th {\n",
       "        vertical-align: top;\n",
       "    }\n",
       "\n",
       "    .dataframe thead th {\n",
       "        text-align: right;\n",
       "    }\n",
       "</style>\n",
       "<table border=\"1\" class=\"dataframe\">\n",
       "  <thead>\n",
       "    <tr style=\"text-align: right;\">\n",
       "      <th></th>\n",
       "      <th>Recency (months)</th>\n",
       "      <th>Frequency</th>\n",
       "      <th>Monetary (c.c. blood)</th>\n",
       "      <th>Time (months)</th>\n",
       "      <th>whether donated blood in 03/07</th>\n",
       "      <th>distance</th>\n",
       "    </tr>\n",
       "  </thead>\n",
       "  <tbody>\n",
       "    <tr>\n",
       "      <th>0</th>\n",
       "      <td>0.153846</td>\n",
       "      <td>0.122449</td>\n",
       "      <td>0.122449</td>\n",
       "      <td>0.239583</td>\n",
       "      <td>0</td>\n",
       "      <td>0.529</td>\n",
       "    </tr>\n",
       "    <tr>\n",
       "      <th>1</th>\n",
       "      <td>0.076923</td>\n",
       "      <td>0.224490</td>\n",
       "      <td>0.224490</td>\n",
       "      <td>0.833333</td>\n",
       "      <td>0</td>\n",
       "      <td>0.706</td>\n",
       "    </tr>\n",
       "    <tr>\n",
       "      <th>2</th>\n",
       "      <td>0.538462</td>\n",
       "      <td>0.020408</td>\n",
       "      <td>0.020408</td>\n",
       "      <td>0.125000</td>\n",
       "      <td>0</td>\n",
       "      <td>1.059</td>\n",
       "    </tr>\n",
       "    <tr>\n",
       "      <th>3</th>\n",
       "      <td>0.423077</td>\n",
       "      <td>0.040816</td>\n",
       "      <td>0.040816</td>\n",
       "      <td>0.364583</td>\n",
       "      <td>0</td>\n",
       "      <td>1.054</td>\n",
       "    </tr>\n",
       "    <tr>\n",
       "      <th>4</th>\n",
       "      <td>0.615385</td>\n",
       "      <td>0.122449</td>\n",
       "      <td>0.122449</td>\n",
       "      <td>0.645833</td>\n",
       "      <td>0</td>\n",
       "      <td>1.374</td>\n",
       "    </tr>\n",
       "  </tbody>\n",
       "</table>\n",
       "</div>"
      ],
      "text/plain": [
       "   Recency (months)  Frequency  Monetary (c.c. blood)  Time (months)  \\\n",
       "0          0.153846   0.122449               0.122449       0.239583   \n",
       "1          0.076923   0.224490               0.224490       0.833333   \n",
       "2          0.538462   0.020408               0.020408       0.125000   \n",
       "3          0.423077   0.040816               0.040816       0.364583   \n",
       "4          0.615385   0.122449               0.122449       0.645833   \n",
       "\n",
       "   whether donated blood in 03/07  distance  \n",
       "0                               0     0.529  \n",
       "1                               0     0.706  \n",
       "2                               0     1.059  \n",
       "3                               0     1.054  \n",
       "4                               0     1.374  "
      ]
     },
     "metadata": {},
     "output_type": "display_data"
    }
   ],
   "source": [
    "unlabel_data_dist = pd.concat([unlabel_data,unlabel_data_class,dist_df], axis=1,)\n",
    "display(unlabel_data_dist.head())"
   ]
  },
  {
   "cell_type": "markdown",
   "metadata": {},
   "source": [
    "#### Sorting the datapoints based on their proximity to the decision boundary"
   ]
  },
  {
   "cell_type": "code",
   "execution_count": 75,
   "metadata": {},
   "outputs": [
    {
     "data": {
      "text/html": [
       "<div>\n",
       "<style scoped>\n",
       "    .dataframe tbody tr th:only-of-type {\n",
       "        vertical-align: middle;\n",
       "    }\n",
       "\n",
       "    .dataframe tbody tr th {\n",
       "        vertical-align: top;\n",
       "    }\n",
       "\n",
       "    .dataframe thead th {\n",
       "        text-align: right;\n",
       "    }\n",
       "</style>\n",
       "<table border=\"1\" class=\"dataframe\">\n",
       "  <thead>\n",
       "    <tr style=\"text-align: right;\">\n",
       "      <th></th>\n",
       "      <th>Recency (months)</th>\n",
       "      <th>Frequency</th>\n",
       "      <th>Monetary (c.c. blood)</th>\n",
       "      <th>Time (months)</th>\n",
       "      <th>whether donated blood in 03/07</th>\n",
       "      <th>distance</th>\n",
       "    </tr>\n",
       "  </thead>\n",
       "  <tbody>\n",
       "    <tr>\n",
       "      <th>266</th>\n",
       "      <td>0.076923</td>\n",
       "      <td>0.816327</td>\n",
       "      <td>0.816327</td>\n",
       "      <td>1.000000</td>\n",
       "      <td>1</td>\n",
       "      <td>0.025</td>\n",
       "    </tr>\n",
       "    <tr>\n",
       "      <th>128</th>\n",
       "      <td>0.076923</td>\n",
       "      <td>0.857143</td>\n",
       "      <td>0.857143</td>\n",
       "      <td>0.875000</td>\n",
       "      <td>1</td>\n",
       "      <td>0.115</td>\n",
       "    </tr>\n",
       "    <tr>\n",
       "      <th>75</th>\n",
       "      <td>0.076923</td>\n",
       "      <td>1.000000</td>\n",
       "      <td>1.000000</td>\n",
       "      <td>1.000000</td>\n",
       "      <td>1</td>\n",
       "      <td>0.221</td>\n",
       "    </tr>\n",
       "    <tr>\n",
       "      <th>144</th>\n",
       "      <td>0.076923</td>\n",
       "      <td>0.408163</td>\n",
       "      <td>0.408163</td>\n",
       "      <td>0.520833</td>\n",
       "      <td>1</td>\n",
       "      <td>0.244</td>\n",
       "    </tr>\n",
       "    <tr>\n",
       "      <th>262</th>\n",
       "      <td>0.000000</td>\n",
       "      <td>0.040816</td>\n",
       "      <td>0.040816</td>\n",
       "      <td>0.020833</td>\n",
       "      <td>0</td>\n",
       "      <td>0.300</td>\n",
       "    </tr>\n",
       "  </tbody>\n",
       "</table>\n",
       "</div>"
      ],
      "text/plain": [
       "     Recency (months)  Frequency  Monetary (c.c. blood)  Time (months)  \\\n",
       "266          0.076923   0.816327               0.816327       1.000000   \n",
       "128          0.076923   0.857143               0.857143       0.875000   \n",
       "75           0.076923   1.000000               1.000000       1.000000   \n",
       "144          0.076923   0.408163               0.408163       0.520833   \n",
       "262          0.000000   0.040816               0.040816       0.020833   \n",
       "\n",
       "     whether donated blood in 03/07  distance  \n",
       "266                               1     0.025  \n",
       "128                               1     0.115  \n",
       "75                                1     0.221  \n",
       "144                               1     0.244  \n",
       "262                               0     0.300  "
      ]
     },
     "metadata": {},
     "output_type": "display_data"
    }
   ],
   "source": [
    "unlabel_data_dist_sorted = unlabel_data_dist.sort_values(['distance'], ascending=[1])\n",
    "display (unlabel_data_dist_sorted.head())"
   ]
  },
  {
   "cell_type": "code",
   "execution_count": 76,
   "metadata": {},
   "outputs": [
    {
     "data": {
      "text/html": [
       "<div>\n",
       "<style scoped>\n",
       "    .dataframe tbody tr th:only-of-type {\n",
       "        vertical-align: middle;\n",
       "    }\n",
       "\n",
       "    .dataframe tbody tr th {\n",
       "        vertical-align: top;\n",
       "    }\n",
       "\n",
       "    .dataframe thead th {\n",
       "        text-align: right;\n",
       "    }\n",
       "</style>\n",
       "<table border=\"1\" class=\"dataframe\">\n",
       "  <thead>\n",
       "    <tr style=\"text-align: right;\">\n",
       "      <th></th>\n",
       "      <th>Recency (months)</th>\n",
       "      <th>Frequency</th>\n",
       "      <th>Monetary (c.c. blood)</th>\n",
       "      <th>Time (months)</th>\n",
       "      <th>whether donated blood in 03/07</th>\n",
       "    </tr>\n",
       "  </thead>\n",
       "  <tbody>\n",
       "    <tr>\n",
       "      <th>266</th>\n",
       "      <td>0.076923</td>\n",
       "      <td>0.816327</td>\n",
       "      <td>0.816327</td>\n",
       "      <td>1.000000</td>\n",
       "      <td>1</td>\n",
       "    </tr>\n",
       "    <tr>\n",
       "      <th>128</th>\n",
       "      <td>0.076923</td>\n",
       "      <td>0.857143</td>\n",
       "      <td>0.857143</td>\n",
       "      <td>0.875000</td>\n",
       "      <td>1</td>\n",
       "    </tr>\n",
       "    <tr>\n",
       "      <th>75</th>\n",
       "      <td>0.076923</td>\n",
       "      <td>1.000000</td>\n",
       "      <td>1.000000</td>\n",
       "      <td>1.000000</td>\n",
       "      <td>1</td>\n",
       "    </tr>\n",
       "    <tr>\n",
       "      <th>144</th>\n",
       "      <td>0.076923</td>\n",
       "      <td>0.408163</td>\n",
       "      <td>0.408163</td>\n",
       "      <td>0.520833</td>\n",
       "      <td>1</td>\n",
       "    </tr>\n",
       "    <tr>\n",
       "      <th>262</th>\n",
       "      <td>0.000000</td>\n",
       "      <td>0.040816</td>\n",
       "      <td>0.040816</td>\n",
       "      <td>0.020833</td>\n",
       "      <td>0</td>\n",
       "    </tr>\n",
       "  </tbody>\n",
       "</table>\n",
       "</div>"
      ],
      "text/plain": [
       "     Recency (months)  Frequency  Monetary (c.c. blood)  Time (months)  \\\n",
       "266          0.076923   0.816327               0.816327       1.000000   \n",
       "128          0.076923   0.857143               0.857143       0.875000   \n",
       "75           0.076923   1.000000               1.000000       1.000000   \n",
       "144          0.076923   0.408163               0.408163       0.520833   \n",
       "262          0.000000   0.040816               0.040816       0.020833   \n",
       "\n",
       "     whether donated blood in 03/07  \n",
       "266                               1  \n",
       "128                               1  \n",
       "75                                1  \n",
       "144                               1  \n",
       "262                               0  "
      ]
     },
     "metadata": {},
     "output_type": "display_data"
    }
   ],
   "source": [
    "unlabel_data_sorted = unlabel_data_dist_sorted.drop('distance', axis=1)\n",
    "display (unlabel_data_sorted.head())\n",
    "#print unlabel_data_sorted.shape"
   ]
  },
  {
   "cell_type": "code",
   "execution_count": 77,
   "metadata": {},
   "outputs": [
    {
     "data": {
      "text/html": [
       "<div>\n",
       "<style scoped>\n",
       "    .dataframe tbody tr th:only-of-type {\n",
       "        vertical-align: middle;\n",
       "    }\n",
       "\n",
       "    .dataframe tbody tr th {\n",
       "        vertical-align: top;\n",
       "    }\n",
       "\n",
       "    .dataframe thead th {\n",
       "        text-align: right;\n",
       "    }\n",
       "</style>\n",
       "<table border=\"1\" class=\"dataframe\">\n",
       "  <thead>\n",
       "    <tr style=\"text-align: right;\">\n",
       "      <th></th>\n",
       "      <th>Recency (months)</th>\n",
       "      <th>Frequency</th>\n",
       "      <th>Monetary (c.c. blood)</th>\n",
       "      <th>Time (months)</th>\n",
       "    </tr>\n",
       "  </thead>\n",
       "  <tbody>\n",
       "    <tr>\n",
       "      <th>266</th>\n",
       "      <td>0.076923</td>\n",
       "      <td>0.816327</td>\n",
       "      <td>0.816327</td>\n",
       "      <td>1.000000</td>\n",
       "    </tr>\n",
       "    <tr>\n",
       "      <th>128</th>\n",
       "      <td>0.076923</td>\n",
       "      <td>0.857143</td>\n",
       "      <td>0.857143</td>\n",
       "      <td>0.875000</td>\n",
       "    </tr>\n",
       "    <tr>\n",
       "      <th>75</th>\n",
       "      <td>0.076923</td>\n",
       "      <td>1.000000</td>\n",
       "      <td>1.000000</td>\n",
       "      <td>1.000000</td>\n",
       "    </tr>\n",
       "    <tr>\n",
       "      <th>144</th>\n",
       "      <td>0.076923</td>\n",
       "      <td>0.408163</td>\n",
       "      <td>0.408163</td>\n",
       "      <td>0.520833</td>\n",
       "    </tr>\n",
       "    <tr>\n",
       "      <th>262</th>\n",
       "      <td>0.000000</td>\n",
       "      <td>0.040816</td>\n",
       "      <td>0.040816</td>\n",
       "      <td>0.020833</td>\n",
       "    </tr>\n",
       "  </tbody>\n",
       "</table>\n",
       "</div>"
      ],
      "text/plain": [
       "     Recency (months)  Frequency  Monetary (c.c. blood)  Time (months)\n",
       "266          0.076923   0.816327               0.816327       1.000000\n",
       "128          0.076923   0.857143               0.857143       0.875000\n",
       "75           0.076923   1.000000               1.000000       1.000000\n",
       "144          0.076923   0.408163               0.408163       0.520833\n",
       "262          0.000000   0.040816               0.040816       0.020833"
      ]
     },
     "metadata": {},
     "output_type": "display_data"
    }
   ],
   "source": [
    "unlabel_data_sorted_train = unlabel_data_sorted.drop('whether donated blood in 03/07',axis=1)\n",
    "display (unlabel_data_sorted_train.head())"
   ]
  },
  {
   "cell_type": "markdown",
   "metadata": {},
   "source": [
    "#### Find the unlabeled data point that is the closest to the decision boundary of the SVM.The SVM labels it, and adding it to the labeled data, and retrain the SVM. Continue this process until all unlabeled data are used."
   ]
  },
  {
   "cell_type": "markdown",
   "metadata": {},
   "source": [
    "#### Adding closest point to the decision boundary one by one"
   ]
  },
  {
   "cell_type": "code",
   "execution_count": 78,
   "metadata": {},
   "outputs": [],
   "source": [
    "columns=['whether donated blood in 03/07']\n",
    "\n",
    "#while not unlabel_data_sorted_train.empty:\n",
    "for row in unlabel_data_sorted_train.iterrows():\n",
    "    x_test = unlabel_data_sorted_train.iloc[:1,:]\n",
    "    svc = svm.LinearSVC(penalty='l1',dual=False)\n",
    "    svc.fit(label_data, label_data_class)\n",
    "    y_test = svc.predict(x_test)\n",
    "    \n",
    "   \n",
    "    y_test=pd.DataFrame(y_test,columns=columns)\n",
    "    #display(y_test)\n",
    "    \n",
    "    #print label_data.shape\n",
    "    #print label_data_class.shape\n",
    "    label_data = pd.concat([label_data,x_test],axis=0)\n",
    "    label_data_class = pd.concat([label_data_class,y_test],axis=0)\n",
    "    \n",
    "    #display(label_data.head())\n",
    "    #display(label_data_class.head())\n",
    "    \n",
    "    unlabel_data_sorted_train.drop(unlabel_data_sorted_train.index[[1,2]])\n",
    "    \n"
   ]
  },
  {
   "cell_type": "code",
   "execution_count": 79,
   "metadata": {},
   "outputs": [],
   "source": [
    "x_test =  blood_data_test.drop('whether donated blood in 03/07', axis=1)\n",
    "y_test1 = blood_data_test['whether donated blood in 03/07']\n",
    "y_test = y_test1.to_frame();"
   ]
  },
  {
   "cell_type": "code",
   "execution_count": 80,
   "metadata": {},
   "outputs": [],
   "source": [
    "svc.fit(label_data, label_data_class)\n",
    "y_pred = svc.predict(x_test)\n"
   ]
  },
  {
   "cell_type": "code",
   "execution_count": 81,
   "metadata": {},
   "outputs": [
    {
     "name": "stdout",
     "output_type": "stream",
     "text": [
      "Accuracy_Score\n"
     ]
    },
    {
     "data": {
      "text/plain": [
       "0.76"
      ]
     },
     "execution_count": 81,
     "metadata": {},
     "output_type": "execute_result"
    }
   ],
   "source": [
    "print (\"Accuracy_Score\")\n",
    "accuracy_score(y_test, y_pred)"
   ]
  },
  {
   "cell_type": "code",
   "execution_count": 82,
   "metadata": {},
   "outputs": [
    {
     "name": "stdout",
     "output_type": "stream",
     "text": [
      "Confusion Matrix\n"
     ]
    },
    {
     "data": {
      "text/plain": [
       "array([[114,   0],\n",
       "       [ 36,   0]], dtype=int64)"
      ]
     },
     "execution_count": 82,
     "metadata": {},
     "output_type": "execute_result"
    }
   ],
   "source": [
    "print (\"Confusion Matrix\")\n",
    "confusion_matrix(y_test, y_pred)"
   ]
  },
  {
   "cell_type": "code",
   "execution_count": 83,
   "metadata": {},
   "outputs": [
    {
     "data": {
      "text/plain": [
       "<matplotlib.axes._subplots.AxesSubplot at 0x19510cf8>"
      ]
     },
     "execution_count": 83,
     "metadata": {},
     "output_type": "execute_result"
    },
    {
     "data": {
      "image/png": "[encoded data removed]",
      "text/plain": [
       "<matplotlib.figure.Figure at 0x188f4940>"
      ]
     },
     "metadata": {},
     "output_type": "display_data"
    }
   ],
   "source": [
    "cm = pd.DataFrame(confusion_matrix(y_test, y_pred))\n",
    "sns.heatmap(cm, annot=True)"
   ]
  },
  {
   "cell_type": "code",
   "execution_count": 84,
   "metadata": {},
   "outputs": [
    {
     "name": "stdout",
     "output_type": "stream",
     "text": [
      "             precision    recall  f1-score   support\n",
      "\n",
      "          0       0.76      1.00      0.86       114\n",
      "          1       0.00      0.00      0.00        36\n",
      "\n",
      "avg / total       0.58      0.76      0.66       150\n",
      "\n"
     ]
    }
   ],
   "source": [
    "print(classification_report(y_test,y_pred))"
   ]
  },
  {
   "cell_type": "code",
   "execution_count": 85,
   "metadata": {},
   "outputs": [
    {
     "data": {
      "text/plain": [
       "CalibratedClassifierCV(base_estimator=LinearSVC(C=1.0, class_weight=None, dual=False, fit_intercept=True,\n",
       "     intercept_scaling=1, loss='squared_hinge', max_iter=1000,\n",
       "     multi_class='ovr', penalty='l1', random_state=None, tol=0.0001,\n",
       "     verbose=0),\n",
       "            cv='prefit', method='sigmoid')"
      ]
     },
     "execution_count": 85,
     "metadata": {},
     "output_type": "execute_result"
    }
   ],
   "source": [
    "from sklearn.calibration import CalibratedClassifierCV\n",
    "clf_cal = CalibratedClassifierCV(base_estimator=svc, cv=\"prefit\")\n",
    "clf_cal.fit(label_data, label_data_class)"
   ]
  },
  {
   "cell_type": "code",
   "execution_count": 86,
   "metadata": {},
   "outputs": [
    {
     "data": {
      "image/png": "[encoded data removed]",
      "text/plain": [
       "<matplotlib.figure.Figure at 0x15463518>"
      ]
     },
     "metadata": {},
     "output_type": "display_data"
    },
    {
     "data": {
      "text/plain": [
       "<ggplot: (25125692)>"
      ]
     },
     "execution_count": 86,
     "metadata": {},
     "output_type": "execute_result"
    }
   ],
   "source": [
    "preds = clf_cal.predict_proba(x_test)[:,1]\n",
    "fpr, tpr, thresholds = metrics.roc_curve(y_test, preds)\n",
    "\n",
    "df = pd.DataFrame(dict(fpr=fpr, tpr=tpr))\n",
    "ggplot(df, aes(x='fpr', y='tpr')) +\\\n",
    "    geom_line() +\\\n",
    "    geom_abline(linetype='dashed')"
   ]
  },
  {
   "cell_type": "code",
   "execution_count": 87,
   "metadata": {},
   "outputs": [
    {
     "data": {
      "image/png": "[encoded data removed]",
      "text/plain": [
       "<matplotlib.figure.Figure at 0x1851a4a8>"
      ]
     },
     "metadata": {},
     "output_type": "display_data"
    },
    {
     "data": {
      "text/plain": [
       "<ggplot: (25500297)>"
      ]
     },
     "execution_count": 87,
     "metadata": {},
     "output_type": "execute_result"
    }
   ],
   "source": [
    "auc = metrics.auc(fpr,tpr)\n",
    "ggplot(df, aes(x='fpr',y='tpr')) +\\\n",
    "    geom_area(alpha=0.2) +\\\n",
    "    geom_line(aes(y='tpr')) +\\\n",
    "    ggtitle(\"ROC Curve w/ AUC=%s\" % str(auc))"
   ]
  },
  {
   "cell_type": "code",
   "execution_count": 88,
   "metadata": {},
   "outputs": [
    {
     "data": {
      "text/plain": [
       "0.7305068226120858"
      ]
     },
     "execution_count": 88,
     "metadata": {},
     "output_type": "execute_result"
    }
   ],
   "source": [
    "roc_auc_score(y_test, preds)"
   ]
  },
  {
   "cell_type": "markdown",
   "metadata": {},
   "source": [
    "## Find the optimal threshold and tuning the P"
   ]
  },
  {
   "cell_type": "code",
   "execution_count": 89,
   "metadata": {},
   "outputs": [],
   "source": [
    "preds = clf_cal.predict_proba(x_test)[:,1]\n",
    "fpr, tpr, thresholds = metrics.roc_curve(y_test, preds)"
   ]
  },
  {
   "cell_type": "code",
   "execution_count": 90,
   "metadata": {},
   "outputs": [
    {
     "name": "stdout",
     "output_type": "stream",
     "text": [
      "Optimal Threshold Value: 8.832623098503702e-88\n",
      "[0, 0, 0, 0, 0, 0, 0, 0, 0, 0, 0, 0, 0, 0, 0, 0, 0, 0, 0, 0, 0, 0, 0, 1, 0, 0, 0, 0, 0, 0, 0, 0, 0, 0, 0, 0, 0, 0, 0, 0, 0, 0, 0, 0, 0, 1, 1, 1, 1, 1, 1, 1, 0, 0, 1, 1, 1, 0, 0, 0, 0, 0, 0, 0, 0, 0, 0, 0, 0, 0, 0, 0, 0, 0, 0, 0, 0, 0, 0, 0, 0, 0, 0, 0, 0, 0, 0, 0, 0, 0, 1, 1, 1, 0, 0, 0, 1, 1, 1, 1, 1, 1, 1, 1, 0, 1, 0, 0, 1, 1, 1, 1, 1, 1, 1, 1, 1, 1, 0, 0, 0, 1, 0, 1, 0, 1, 1, 1, 1, 1, 1, 1, 0, 1, 1, 1, 0, 1, 0, 1, 0, 1, 1, 1, 1, 1, 1, 1, 1, 1]\n"
     ]
    }
   ],
   "source": [
    "optimal_idx = np.argmax(tpr - fpr)\n",
    "optimal_threshold = thresholds[optimal_idx]\n",
    "\n",
    "print \"Optimal Threshold Value: \"+str(optimal_threshold)\n",
    "#print preds\n",
    "y_pred=[]\n",
    "preds=list(preds)\n",
    "for i in range(len(preds)):\n",
    "    y_pred = [1 if x >= optimal_threshold else 0 for x in preds]\n",
    "print y_pred"
   ]
  },
  {
   "cell_type": "code",
   "execution_count": 91,
   "metadata": {},
   "outputs": [
    {
     "data": {
      "text/plain": [
       "<matplotlib.axes._subplots.AxesSubplot at 0x1843e860>"
      ]
     },
     "execution_count": 91,
     "metadata": {},
     "output_type": "execute_result"
    },
    {
     "data": {
      "image/png": "[encoded data removed]",
      "text/plain": [
       "<matplotlib.figure.Figure at 0x1844c6d8>"
      ]
     },
     "metadata": {},
     "output_type": "display_data"
    }
   ],
   "source": [
    "cm = pd.DataFrame(confusion_matrix(y_test, y_pred))\n",
    "sns.heatmap(cm, annot=True)"
   ]
  },
  {
   "cell_type": "markdown",
   "metadata": {},
   "source": [
    "## Unsupervised Learning:"
   ]
  },
  {
   "cell_type": "code",
   "execution_count": 92,
   "metadata": {},
   "outputs": [],
   "source": [
    "X_train = blood_data_train.drop('whether donated blood in 03/07', axis=1)\n",
    "Y_train1 = blood_data_train['whether donated blood in 03/07']\n",
    "\n",
    "Y_train = Y_train1.to_frame();\n",
    "\n",
    "x_test =  blood_data_test.drop('whether donated blood in 03/07', axis=1)\n",
    "\n",
    "y_test1 = blood_data_test['whether donated blood in 03/07']\n",
    "\n",
    "y_test = y_test1.to_frame();"
   ]
  },
  {
   "cell_type": "code",
   "execution_count": 93,
   "metadata": {},
   "outputs": [
    {
     "name": "stdout",
     "output_type": "stream",
     "text": [
      "(598, 4)\n",
      "(150, 4)\n"
     ]
    }
   ],
   "source": [
    "print X_train.shape\n",
    "print x_test.shape\n",
    "#display(x_test.head())"
   ]
  },
  {
   "cell_type": "markdown",
   "metadata": {},
   "source": [
    "### Normalize"
   ]
  },
  {
   "cell_type": "code",
   "execution_count": 94,
   "metadata": {},
   "outputs": [
    {
     "data": {
      "text/html": [
       "<div>\n",
       "<style scoped>\n",
       "    .dataframe tbody tr th:only-of-type {\n",
       "        vertical-align: middle;\n",
       "    }\n",
       "\n",
       "    .dataframe tbody tr th {\n",
       "        vertical-align: top;\n",
       "    }\n",
       "\n",
       "    .dataframe thead th {\n",
       "        text-align: right;\n",
       "    }\n",
       "</style>\n",
       "<table border=\"1\" class=\"dataframe\">\n",
       "  <thead>\n",
       "    <tr style=\"text-align: right;\">\n",
       "      <th></th>\n",
       "      <th>Recency (months)</th>\n",
       "      <th>Frequency</th>\n",
       "      <th>Monetary (c.c. blood)</th>\n",
       "      <th>Time (months)</th>\n",
       "    </tr>\n",
       "  </thead>\n",
       "  <tbody>\n",
       "    <tr>\n",
       "      <th>0</th>\n",
       "      <td>2</td>\n",
       "      <td>50</td>\n",
       "      <td>12500</td>\n",
       "      <td>98</td>\n",
       "    </tr>\n",
       "    <tr>\n",
       "      <th>4</th>\n",
       "      <td>1</td>\n",
       "      <td>24</td>\n",
       "      <td>6000</td>\n",
       "      <td>77</td>\n",
       "    </tr>\n",
       "    <tr>\n",
       "      <th>5</th>\n",
       "      <td>4</td>\n",
       "      <td>4</td>\n",
       "      <td>1000</td>\n",
       "      <td>4</td>\n",
       "    </tr>\n",
       "    <tr>\n",
       "      <th>7</th>\n",
       "      <td>1</td>\n",
       "      <td>12</td>\n",
       "      <td>3000</td>\n",
       "      <td>35</td>\n",
       "    </tr>\n",
       "    <tr>\n",
       "      <th>10</th>\n",
       "      <td>4</td>\n",
       "      <td>23</td>\n",
       "      <td>5750</td>\n",
       "      <td>58</td>\n",
       "    </tr>\n",
       "  </tbody>\n",
       "</table>\n",
       "</div>"
      ],
      "text/plain": [
       "    Recency (months)  Frequency  Monetary (c.c. blood)  Time (months)\n",
       "0                  2         50                  12500             98\n",
       "4                  1         24                   6000             77\n",
       "5                  4          4                   1000              4\n",
       "7                  1         12                   3000             35\n",
       "10                 4         23                   5750             58"
      ]
     },
     "metadata": {},
     "output_type": "display_data"
    }
   ],
   "source": [
    "display(X_train.head())"
   ]
  },
  {
   "cell_type": "markdown",
   "metadata": {},
   "source": [
    "### Running K_means Algorithm multiple times"
   ]
  },
  {
   "cell_type": "code",
   "execution_count": 95,
   "metadata": {},
   "outputs": [
    {
     "data": {
      "text/plain": [
       "KMeans(algorithm='auto', copy_x=True, init='k-means++', max_iter=300,\n",
       "    n_clusters=2, n_init=50, n_jobs=1, precompute_distances='auto',\n",
       "    random_state=None, tol=0.0001, verbose=0)"
      ]
     },
     "execution_count": 95,
     "metadata": {},
     "output_type": "execute_result"
    }
   ],
   "source": [
    "k_means = cluster.KMeans(n_clusters=2, n_init=50)\n",
    "k_means.fit(X_train)\n"
   ]
  },
  {
   "cell_type": "markdown",
   "metadata": {},
   "source": [
    "#### To avoid algorithm to be trapped in the local miminum one way is :\n",
    "#### K-means is sensitive to initial placement of cluster centers. So With badly placed cluster centers, the algorithm can converge into a local minimum that isn't particularly useful, when the same analysis with better initial centers will generate a much better solution."
   ]
  },
  {
   "cell_type": "markdown",
   "metadata": {},
   "source": [
    "#### One solution is :We could try many random starting points \n"
   ]
  },
  {
   "cell_type": "markdown",
   "metadata": {},
   "source": [
    "\n",
    "\n",
    "#### Alternative 1 :We can use the largest minimum distance algorithm to determine K initial cluster focal points, and then we combine it with the traditional K-Means algorithm, at last, accomplishthe classification of pattern congregation. The improved K-Means algorithm is obviously better than traditional one in aspects such as: the precision of cluster, the speed of cluster, stability and so on.\n",
    "\n",
    "#### Alternative 2:We could try non-local split-and-merge moves: Simultaneously merge two nearby clusters and split a big cluster into two.\n"
   ]
  },
  {
   "cell_type": "code",
   "execution_count": 96,
   "metadata": {},
   "outputs": [
    {
     "name": "stdout",
     "output_type": "stream",
     "text": [
      "[1 1 0 1 1 0 1 0 0 1 1 0 0 0 1 0 1 0 0 1 1 0 0 0 0 0 0 1 0 1 0 1 0 0 1 0 0\n",
      " 0 1 0 0 1 0 0 0 0 0 0 1 0 0 0 0 0 0 0 0 0 0 0 0 0 0 0 0 0 0 0 0 1 0 1 0 0\n",
      " 0 1 0 0 0 1 0 0 0 0 1 1 0 1 0 1 0 0 0 0 0 0 0 0 0 0 0 1 0 0 1 0 0 1 0 0 0\n",
      " 1 0 0 0 0 0 0 0 0 0 0 1 0 0 0 0 0 0 0 0 0 0 0 0 0 0 0 0 0 0 0 0 0 0 1 0 0\n",
      " 0 0 0 0 0 1 0 0 0 0 1 0 0 0 0 1 0 0 0 0 0 0 0 0 0 0 0 0 0 0 0 0 0 0 0 0 0\n",
      " 0 0 0 0 0 0 0 0 0 0 0 0 0 0 0 0 0 0 0 0 1 0 0 0 0 0 1 0 1 0 0 1 1 0 0 0 0\n",
      " 0 0 1 0 0 0 0 1 0 1 0 0 0 0 0 0 0 0 1 0 0 0 0 0 1 0 1 0 1 0 0 0 0 0 0 0 0\n",
      " 0 0 1 0 0 0 0 0 0 0 0 0 0 0 0 0 0 0 0 0 0 0 0 0 0 0 0 0 0 0 0 1 0 0 0 0 0\n",
      " 0 1 0 0 0 0 0 0 0 0 0 0 0 0 0 0 0 0 0 0 0 0 0 0 1 0 0 0 0 0 0 0 0 0 0 0 0\n",
      " 0 0 0 1 0 0 0 0 0 0 0 0 0 0 0 0 0 0 0 0 0 0 0 0 0 0 0 0 0 0 0 0 0 0 0 0 0\n",
      " 0 0 0 1 1 1 1 1 1 1 1 0 1 0 1 1 1 1 1 1 1 0 0 0 0 0 0 0 0 0 0 1 0 0 0 1 0\n",
      " 0 0 0 0 0 0 0 0 0 0 1 0 1 1 1 0 0 0 0 0 0 0 0 0 0 0 0 0 0 0 0 0 0 0 0 0 0\n",
      " 0 0 0 0 1 0 1 1 0 0 0 0 1 0 0 0 0 0 1 0 0 0 0 0 0 0 0 0 0 0 0 0 0 0 0 0 0\n",
      " 0 0 0 0 0 1 0 0 0 1 0 1 0 0 0 0 0 0 0 0 0 0 0 0 0 0 0 0 1 0 0 0 0 0 0 0 0\n",
      " 0 0 0 0 0 0 0 0 1 1 1 0 0 1 0 0 1 0 0 0 0 0 0 0 0 0 0 0 0 0 0 0 0 0 0 0 0\n",
      " 0 0 0 0 0 0 0 0 0 0 0 0 0 0 0 0 0 0 0 0 0 0 0 0 0 0 0 0 0 0 0 0 0 0 0 0 0\n",
      " 0 0 0 0 0 0]\n"
     ]
    }
   ],
   "source": [
    "print (k_means.labels_)"
   ]
  },
  {
   "cell_type": "code",
   "execution_count": 97,
   "metadata": {},
   "outputs": [
    {
     "name": "stdout",
     "output_type": "stream",
     "text": [
      "{0: array([  2,   5,   7,   8,  11,  12,  13,  15,  17,  18,  21,  22,  23,\n",
      "        24,  25,  26,  28,  30,  32,  33,  35,  36,  37,  39,  40,  42,\n",
      "        43,  44,  45,  46,  47,  49,  50,  51,  52,  53,  54,  55,  56,\n",
      "        57,  58,  59,  60,  61,  62,  63,  64,  65,  66,  67,  68,  70,\n",
      "        72,  73,  74,  76,  77,  78,  80,  81,  82,  83,  86,  88,  90,\n",
      "        91,  92,  93,  94,  95,  96,  97,  98,  99, 100, 102, 103, 105,\n",
      "       106, 108, 109, 110, 112, 113, 114, 115, 116, 117, 118, 119, 120,\n",
      "       121, 123, 124, 125, 126, 127, 128, 129, 130, 131, 132, 133, 134,\n",
      "       135, 136, 137, 138, 139, 140, 141, 142, 143, 144, 146, 147, 148,\n",
      "       149, 150, 151, 152, 154, 155, 156, 157, 159, 160, 161, 162, 164,\n",
      "       165, 166, 167, 168, 169, 170, 171, 172, 173, 174, 175, 176, 177,\n",
      "       178, 179, 180, 181, 182, 183, 184, 185, 186, 187, 188, 189, 190,\n",
      "       191, 192, 193, 194, 195, 196, 197, 198, 199, 200, 201, 202, 203,\n",
      "       204, 206, 207, 208, 209, 210, 212, 214, 215, 218, 219, 220, 221,\n",
      "       222, 223, 225, 226, 227, 228, 230, 232, 233, 234, 235, 236, 237,\n",
      "       238, 239, 241, 242, 243, 244, 245, 247, 249, 251, 252, 253, 254,\n",
      "       255, 256, 257, 258, 259, 260, 262, 263, 264, 265, 266, 267, 268,\n",
      "       269, 270, 271, 272, 273, 274, 275, 276, 277, 278, 279, 280, 281,\n",
      "       282, 283, 284, 285, 286, 287, 288, 289, 291, 292, 293, 294, 295,\n",
      "       296, 298, 299, 300, 301, 302, 303, 304, 305, 306, 307, 308, 309,\n",
      "       310, 311, 312, 313, 314, 315, 316, 317, 318, 319, 321, 322, 323,\n",
      "       324, 325, 326, 327, 328, 329, 330, 331, 332, 333, 334, 335, 337,\n",
      "       338, 339, 340, 341, 342, 343, 344, 345, 346, 347, 348, 349, 350,\n",
      "       351, 352, 353, 354, 355, 356, 357, 358, 359, 360, 361, 362, 363,\n",
      "       364, 365, 366, 367, 368, 369, 370, 371, 372, 381, 383, 391, 392,\n",
      "       393, 394, 395, 396, 397, 398, 399, 400, 402, 403, 404, 406, 407,\n",
      "       408, 409, 410, 411, 412, 413, 414, 415, 416, 418, 422, 423, 424,\n",
      "       425, 426, 427, 428, 429, 430, 431, 432, 433, 434, 435, 436, 437,\n",
      "       438, 439, 440, 441, 442, 443, 444, 445, 446, 447, 449, 452, 453,\n",
      "       454, 455, 457, 458, 459, 460, 461, 463, 464, 465, 466, 467, 468,\n",
      "       469, 470, 471, 472, 473, 474, 475, 476, 477, 478, 479, 480, 481,\n",
      "       482, 483, 484, 485, 487, 488, 489, 491, 493, 494, 495, 496, 497,\n",
      "       498, 499, 500, 501, 502, 503, 504, 505, 506, 507, 508, 510, 511,\n",
      "       512, 513, 514, 515, 516, 517, 518, 519, 520, 521, 522, 523, 524,\n",
      "       525, 529, 530, 532, 533, 535, 536, 537, 538, 539, 540, 541, 542,\n",
      "       543, 544, 545, 546, 547, 548, 549, 550, 551, 552, 553, 554, 555,\n",
      "       556, 557, 558, 559, 560, 561, 562, 563, 564, 565, 566, 567, 568,\n",
      "       569, 570, 571, 572, 573, 574, 575, 576, 577, 578, 579, 580, 581,\n",
      "       582, 583, 584, 585, 586, 587, 588, 589, 590, 591, 592, 593, 594,\n",
      "       595, 596, 597], dtype=int64), 1: array([  0,   1,   3,   4,   6,   9,  10,  14,  16,  19,  20,  27,  29,\n",
      "        31,  34,  38,  41,  48,  69,  71,  75,  79,  84,  85,  87,  89,\n",
      "       101, 104, 107, 111, 122, 145, 153, 158, 163, 205, 211, 213, 216,\n",
      "       217, 224, 229, 231, 240, 246, 248, 250, 261, 290, 297, 320, 336,\n",
      "       373, 374, 375, 376, 377, 378, 379, 380, 382, 384, 385, 386, 387,\n",
      "       388, 389, 390, 401, 405, 417, 419, 420, 421, 448, 450, 451, 456,\n",
      "       462, 486, 490, 492, 509, 526, 527, 528, 531, 534], dtype=int64)}\n"
     ]
    }
   ],
   "source": [
    "cluster_indices = {i: np.where(k_means.labels_ == i)[0] for i in range(k_means.n_clusters)}\n",
    "print cluster_indices"
   ]
  },
  {
   "cell_type": "code",
   "execution_count": 98,
   "metadata": {},
   "outputs": [],
   "source": [
    "indexes_cluster1 = list(cluster_indices[0])\n",
    "indexes_cluster2 = list(cluster_indices[1])"
   ]
  },
  {
   "cell_type": "markdown",
   "metadata": {},
   "source": [
    "#### Coordinates of cluster centers"
   ]
  },
  {
   "cell_type": "code",
   "execution_count": 99,
   "metadata": {},
   "outputs": [
    {
     "name": "stdout",
     "output_type": "stream",
     "text": [
      "Coordinates of cluster centers\n",
      "[[8.64509804e+00 3.67254902e+00 9.18137255e+02 2.69627451e+01]\n",
      " [6.85227273e+00 1.55340909e+01 3.88352273e+03 6.51477273e+01]]\n"
     ]
    }
   ],
   "source": [
    "print \"Coordinates of cluster centers\"\n",
    "centers = k_means.cluster_centers_\n",
    "print centers"
   ]
  },
  {
   "cell_type": "code",
   "execution_count": 100,
   "metadata": {},
   "outputs": [
    {
     "name": "stdout",
     "output_type": "stream",
     "text": [
      "[495  20]\n"
     ]
    }
   ],
   "source": [
    "closest, _ = pairwise_distances_argmin_min(k_means.cluster_centers_, X_train)\n",
    "print closest"
   ]
  },
  {
   "cell_type": "markdown",
   "metadata": {},
   "source": [
    "#### Distance of points from Centers 1 and 2 respectively"
   ]
  },
  {
   "cell_type": "code",
   "execution_count": 101,
   "metadata": {},
   "outputs": [
    {
     "data": {
      "text/plain": [
       "array([[11582.17515529,  8616.61019814],\n",
       "       [ 5082.15548165,  2116.53548117],\n",
       "       [   85.14975547,  2884.1954743 ],\n",
       "       ...,\n",
       "       [  419.07167536,  3383.60491761],\n",
       "       [  172.34924209,  3133.59098209],\n",
       "       [  672.64904061,  3634.14224122]])"
      ]
     },
     "metadata": {},
     "output_type": "display_data"
    },
    {
     "name": "stdout",
     "output_type": "stream",
     "text": [
      "598\n"
     ]
    }
   ],
   "source": [
    "dist_from_centers = k_means.transform(X_train)\n",
    "display(dist_from_centers)\n",
    "print len(dist_from_centers)"
   ]
  },
  {
   "cell_type": "code",
   "execution_count": 102,
   "metadata": {},
   "outputs": [
    {
     "data": {
      "text/html": [
       "<div>\n",
       "<style scoped>\n",
       "    .dataframe tbody tr th:only-of-type {\n",
       "        vertical-align: middle;\n",
       "    }\n",
       "\n",
       "    .dataframe tbody tr th {\n",
       "        vertical-align: top;\n",
       "    }\n",
       "\n",
       "    .dataframe thead th {\n",
       "        text-align: right;\n",
       "    }\n",
       "</style>\n",
       "<table border=\"1\" class=\"dataframe\">\n",
       "  <thead>\n",
       "    <tr style=\"text-align: right;\">\n",
       "      <th></th>\n",
       "      <th>from C1</th>\n",
       "      <th>from C2</th>\n",
       "    </tr>\n",
       "  </thead>\n",
       "  <tbody>\n",
       "    <tr>\n",
       "      <th>0</th>\n",
       "      <td>11582.175155</td>\n",
       "      <td>8616.610198</td>\n",
       "    </tr>\n",
       "    <tr>\n",
       "      <th>1</th>\n",
       "      <td>5082.155482</td>\n",
       "      <td>2116.535481</td>\n",
       "    </tr>\n",
       "    <tr>\n",
       "      <th>2</th>\n",
       "      <td>85.149755</td>\n",
       "      <td>2884.195474</td>\n",
       "    </tr>\n",
       "    <tr>\n",
       "      <th>3</th>\n",
       "      <td>2081.908951</td>\n",
       "      <td>884.063365</td>\n",
       "    </tr>\n",
       "    <tr>\n",
       "      <th>4</th>\n",
       "      <td>4832.003314</td>\n",
       "      <td>1866.508070</td>\n",
       "    </tr>\n",
       "  </tbody>\n",
       "</table>\n",
       "</div>"
      ],
      "text/plain": [
       "        from C1      from C2\n",
       "0  11582.175155  8616.610198\n",
       "1   5082.155482  2116.535481\n",
       "2     85.149755  2884.195474\n",
       "3   2081.908951   884.063365\n",
       "4   4832.003314  1866.508070"
      ]
     },
     "metadata": {},
     "output_type": "display_data"
    },
    {
     "name": "stdout",
     "output_type": "stream",
     "text": [
      "(598, 2)\n",
      "(598, 1)\n"
     ]
    }
   ],
   "source": [
    "dist_from_centers_df = pd.DataFrame(data=dist_from_centers,columns=['from C1','from C2'])\n",
    "display(dist_from_centers_df.head())\n",
    "print dist_from_centers_df.shape\n",
    "print Y_train.shape\n",
    "dist_from_centers_df = dist_from_centers_df.sort_values(['from C1'], ascending=[1])\n",
    "\n",
    "dist_from_center1 = dist_from_centers_df.drop('from C2',axis=1)\n",
    "dist_from_center2_to_be = dist_from_centers_df['from C2']\n",
    "dist_from_center2 = dist_from_center2_to_be.to_frame()\n",
    "dist_from_center2 = dist_from_center2.sort_values(['from C2'], ascending=[1])"
   ]
  },
  {
   "cell_type": "code",
   "execution_count": 103,
   "metadata": {},
   "outputs": [
    {
     "data": {
      "text/html": [
       "<div>\n",
       "<style scoped>\n",
       "    .dataframe tbody tr th:only-of-type {\n",
       "        vertical-align: middle;\n",
       "    }\n",
       "\n",
       "    .dataframe tbody tr th {\n",
       "        vertical-align: top;\n",
       "    }\n",
       "\n",
       "    .dataframe thead th {\n",
       "        text-align: right;\n",
       "    }\n",
       "</style>\n",
       "<table border=\"1\" class=\"dataframe\">\n",
       "  <thead>\n",
       "    <tr style=\"text-align: right;\">\n",
       "      <th></th>\n",
       "      <th>from C1</th>\n",
       "    </tr>\n",
       "  </thead>\n",
       "  <tbody>\n",
       "    <tr>\n",
       "      <th>495</th>\n",
       "      <td>81.897272</td>\n",
       "    </tr>\n",
       "    <tr>\n",
       "      <th>262</th>\n",
       "      <td>81.903832</td>\n",
       "    </tr>\n",
       "    <tr>\n",
       "      <th>157</th>\n",
       "      <td>82.000732</td>\n",
       "    </tr>\n",
       "    <tr>\n",
       "      <th>150</th>\n",
       "      <td>82.000732</td>\n",
       "    </tr>\n",
       "    <tr>\n",
       "      <th>287</th>\n",
       "      <td>82.044001</td>\n",
       "    </tr>\n",
       "  </tbody>\n",
       "</table>\n",
       "</div>"
      ],
      "text/plain": [
       "       from C1\n",
       "495  81.897272\n",
       "262  81.903832\n",
       "157  82.000732\n",
       "150  82.000732\n",
       "287  82.044001"
      ]
     },
     "metadata": {},
     "output_type": "display_data"
    },
    {
     "data": {
      "text/html": [
       "<div>\n",
       "<style scoped>\n",
       "    .dataframe tbody tr th:only-of-type {\n",
       "        vertical-align: middle;\n",
       "    }\n",
       "\n",
       "    .dataframe tbody tr th {\n",
       "        vertical-align: top;\n",
       "    }\n",
       "\n",
       "    .dataframe thead th {\n",
       "        text-align: right;\n",
       "    }\n",
       "</style>\n",
       "<table border=\"1\" class=\"dataframe\">\n",
       "  <thead>\n",
       "    <tr style=\"text-align: right;\">\n",
       "      <th></th>\n",
       "      <th>from C2</th>\n",
       "    </tr>\n",
       "  </thead>\n",
       "  <tbody>\n",
       "    <tr>\n",
       "      <th>20</th>\n",
       "      <td>116.584879</td>\n",
       "    </tr>\n",
       "    <tr>\n",
       "      <th>401</th>\n",
       "      <td>116.614116</td>\n",
       "    </tr>\n",
       "    <tr>\n",
       "      <th>250</th>\n",
       "      <td>116.798145</td>\n",
       "    </tr>\n",
       "    <tr>\n",
       "      <th>41</th>\n",
       "      <td>116.877606</td>\n",
       "    </tr>\n",
       "    <tr>\n",
       "      <th>320</th>\n",
       "      <td>117.339881</td>\n",
       "    </tr>\n",
       "  </tbody>\n",
       "</table>\n",
       "</div>"
      ],
      "text/plain": [
       "        from C2\n",
       "20   116.584879\n",
       "401  116.614116\n",
       "250  116.798145\n",
       "41   116.877606\n",
       "320  117.339881"
      ]
     },
     "metadata": {},
     "output_type": "display_data"
    }
   ],
   "source": [
    "closest_30_C1 = dist_from_center1.iloc[:30,:]\n",
    "closest_30_C2 = dist_from_center2.iloc[:30,:]\n",
    "\n",
    "display(closest_30_C1.head())\n",
    "display(closest_30_C2.head())\n",
    "\n"
   ]
  },
  {
   "cell_type": "code",
   "execution_count": 104,
   "metadata": {},
   "outputs": [
    {
     "name": "stdout",
     "output_type": "stream",
     "text": [
      "Int64Index([495, 262, 157, 150, 287, 506, 298, 433, 310, 260,  97,  94, 251,\n",
      "            239, 292, 525, 316, 411, 278, 479, 538, 412, 162, 152, 151, 146,\n",
      "            407,  46,  52,  57],\n",
      "           dtype='int64')\n",
      "Int64Index([ 20, 401, 250,  41, 320, 509,  34, 290, 492, 382, 419, 297, 490,\n",
      "            158,  10, 526,  75,  48, 213,  71, 231,  19, 534,   9, 527, 111,\n",
      "            421,  16, 248, 224],\n",
      "           dtype='int64')\n",
      "<type 'list'>\n"
     ]
    }
   ],
   "source": [
    "print closest_30_C1.index\n",
    "print closest_30_C2.index\n",
    "print type(closest_30_C1.index.tolist())\n",
    "\n",
    "indexes_1 = closest_30_C1.index.tolist()\n",
    "\n",
    "indexes_2 = closest_30_C2.index.tolist()"
   ]
  },
  {
   "cell_type": "code",
   "execution_count": 105,
   "metadata": {},
   "outputs": [
    {
     "name": "stdout",
     "output_type": "stream",
     "text": [
      "<class 'pandas.core.frame.DataFrame'>\n"
     ]
    },
    {
     "data": {
      "text/html": [
       "<div>\n",
       "<style scoped>\n",
       "    .dataframe tbody tr th:only-of-type {\n",
       "        vertical-align: middle;\n",
       "    }\n",
       "\n",
       "    .dataframe tbody tr th {\n",
       "        vertical-align: top;\n",
       "    }\n",
       "\n",
       "    .dataframe thead th {\n",
       "        text-align: right;\n",
       "    }\n",
       "</style>\n",
       "<table border=\"1\" class=\"dataframe\">\n",
       "  <thead>\n",
       "    <tr style=\"text-align: right;\">\n",
       "      <th></th>\n",
       "      <th>whether donated blood in 03/07</th>\n",
       "    </tr>\n",
       "  </thead>\n",
       "  <tbody>\n",
       "    <tr>\n",
       "      <th>495</th>\n",
       "      <td>0</td>\n",
       "    </tr>\n",
       "    <tr>\n",
       "      <th>262</th>\n",
       "      <td>0</td>\n",
       "    </tr>\n",
       "    <tr>\n",
       "      <th>157</th>\n",
       "      <td>0</td>\n",
       "    </tr>\n",
       "    <tr>\n",
       "      <th>150</th>\n",
       "      <td>1</td>\n",
       "    </tr>\n",
       "    <tr>\n",
       "      <th>287</th>\n",
       "      <td>0</td>\n",
       "    </tr>\n",
       "  </tbody>\n",
       "</table>\n",
       "</div>"
      ],
      "text/plain": [
       "     whether donated blood in 03/07\n",
       "495                               0\n",
       "262                               0\n",
       "157                               0\n",
       "150                               1\n",
       "287                               0"
      ]
     },
     "metadata": {},
     "output_type": "display_data"
    }
   ],
   "source": [
    "Y_train.reset_index(drop=True, inplace=True)\n",
    "K_means_ylabel_c1 = Y_train.ix[indexes_1]\n",
    "#K_means_ylabel_c1 = a.to_frame()\n",
    "print type(K_means_ylabel_c1)\n",
    "display(K_means_ylabel_c1.head())\n"
   ]
  },
  {
   "cell_type": "code",
   "execution_count": 106,
   "metadata": {},
   "outputs": [
    {
     "name": "stdout",
     "output_type": "stream",
     "text": [
      "<class 'pandas.core.frame.DataFrame'>\n"
     ]
    },
    {
     "data": {
      "text/html": [
       "<div>\n",
       "<style scoped>\n",
       "    .dataframe tbody tr th:only-of-type {\n",
       "        vertical-align: middle;\n",
       "    }\n",
       "\n",
       "    .dataframe tbody tr th {\n",
       "        vertical-align: top;\n",
       "    }\n",
       "\n",
       "    .dataframe thead th {\n",
       "        text-align: right;\n",
       "    }\n",
       "</style>\n",
       "<table border=\"1\" class=\"dataframe\">\n",
       "  <thead>\n",
       "    <tr style=\"text-align: right;\">\n",
       "      <th></th>\n",
       "      <th>whether donated blood in 03/07</th>\n",
       "    </tr>\n",
       "  </thead>\n",
       "  <tbody>\n",
       "    <tr>\n",
       "      <th>20</th>\n",
       "      <td>0</td>\n",
       "    </tr>\n",
       "    <tr>\n",
       "      <th>401</th>\n",
       "      <td>1</td>\n",
       "    </tr>\n",
       "    <tr>\n",
       "      <th>250</th>\n",
       "      <td>0</td>\n",
       "    </tr>\n",
       "    <tr>\n",
       "      <th>41</th>\n",
       "      <td>0</td>\n",
       "    </tr>\n",
       "    <tr>\n",
       "      <th>320</th>\n",
       "      <td>0</td>\n",
       "    </tr>\n",
       "  </tbody>\n",
       "</table>\n",
       "</div>"
      ],
      "text/plain": [
       "     whether donated blood in 03/07\n",
       "20                                0\n",
       "401                               1\n",
       "250                               0\n",
       "41                                0\n",
       "320                               0"
      ]
     },
     "metadata": {},
     "output_type": "display_data"
    }
   ],
   "source": [
    "K_means_ylabel_c2 = Y_train.ix[indexes_2]\n",
    "#K_means_ylabel_c2 = b.to_frame()\n",
    "print type(K_means_ylabel_c2)\n",
    "display(K_means_ylabel_c2.head())"
   ]
  },
  {
   "cell_type": "code",
   "execution_count": 107,
   "metadata": {},
   "outputs": [],
   "source": [
    "\n",
    "c1_label = K_means_ylabel_c1['whether donated blood in 03/07'].value_counts().idxmax()\n",
    "\n",
    "c2_label = K_means_ylabel_c2['whether donated blood in 03/07'].value_counts().idxmax()\n"
   ]
  },
  {
   "cell_type": "code",
   "execution_count": 108,
   "metadata": {},
   "outputs": [],
   "source": [
    "Y_train.reset_index(drop=True, inplace=True)\n"
   ]
  },
  {
   "cell_type": "code",
   "execution_count": 109,
   "metadata": {},
   "outputs": [],
   "source": [
    "import copy\n",
    "Y_pred=copy.deepcopy(Y_train)\n",
    "\n",
    "Y_pred.ix[indexes_cluster1] = c1_label\n",
    "Y_pred.ix[indexes_cluster2] = c2_label"
   ]
  },
  {
   "cell_type": "code",
   "execution_count": 110,
   "metadata": {},
   "outputs": [
    {
     "name": "stdout",
     "output_type": "stream",
     "text": [
      "Accuracy_score\n"
     ]
    },
    {
     "data": {
      "text/plain": [
       "0.7625418060200669"
      ]
     },
     "execution_count": 110,
     "metadata": {},
     "output_type": "execute_result"
    }
   ],
   "source": [
    "print (\"Accuracy_score\")\n",
    "accuracy_score(Y_train, Y_pred)"
   ]
  },
  {
   "cell_type": "code",
   "execution_count": 111,
   "metadata": {},
   "outputs": [
    {
     "name": "stdout",
     "output_type": "stream",
     "text": [
      "Confusion Matrix\n"
     ]
    },
    {
     "data": {
      "text/plain": [
       "array([[456,   0],\n",
       "       [142,   0]], dtype=int64)"
      ]
     },
     "execution_count": 111,
     "metadata": {},
     "output_type": "execute_result"
    }
   ],
   "source": [
    "print (\"Confusion Matrix\")\n",
    "confusion_matrix(Y_train, Y_pred)"
   ]
  },
  {
   "cell_type": "markdown",
   "metadata": {},
   "source": [
    "## Classifying test_data"
   ]
  },
  {
   "cell_type": "code",
   "execution_count": 112,
   "metadata": {},
   "outputs": [],
   "source": [
    "x_test =  blood_data_test.drop('whether donated blood in 03/07', axis=1)\n",
    "\n",
    "y_test1 = blood_data_test['whether donated blood in 03/07']\n",
    "\n",
    "y_test = y_test1.to_frame();"
   ]
  },
  {
   "cell_type": "code",
   "execution_count": 113,
   "metadata": {},
   "outputs": [
    {
     "data": {
      "text/html": [
       "<div>\n",
       "<style scoped>\n",
       "    .dataframe tbody tr th:only-of-type {\n",
       "        vertical-align: middle;\n",
       "    }\n",
       "\n",
       "    .dataframe tbody tr th {\n",
       "        vertical-align: top;\n",
       "    }\n",
       "\n",
       "    .dataframe thead th {\n",
       "        text-align: right;\n",
       "    }\n",
       "</style>\n",
       "<table border=\"1\" class=\"dataframe\">\n",
       "  <thead>\n",
       "    <tr style=\"text-align: right;\">\n",
       "      <th></th>\n",
       "      <th>Recency (months)</th>\n",
       "      <th>Frequency</th>\n",
       "      <th>Monetary (c.c. blood)</th>\n",
       "      <th>Time (months)</th>\n",
       "    </tr>\n",
       "  </thead>\n",
       "  <tbody>\n",
       "    <tr>\n",
       "      <th>373</th>\n",
       "      <td>9</td>\n",
       "      <td>4</td>\n",
       "      <td>1000</td>\n",
       "      <td>65</td>\n",
       "    </tr>\n",
       "    <tr>\n",
       "      <th>454</th>\n",
       "      <td>21</td>\n",
       "      <td>1</td>\n",
       "      <td>250</td>\n",
       "      <td>21</td>\n",
       "    </tr>\n",
       "    <tr>\n",
       "      <th>455</th>\n",
       "      <td>21</td>\n",
       "      <td>1</td>\n",
       "      <td>250</td>\n",
       "      <td>21</td>\n",
       "    </tr>\n",
       "    <tr>\n",
       "      <th>456</th>\n",
       "      <td>21</td>\n",
       "      <td>1</td>\n",
       "      <td>250</td>\n",
       "      <td>21</td>\n",
       "    </tr>\n",
       "    <tr>\n",
       "      <th>457</th>\n",
       "      <td>21</td>\n",
       "      <td>1</td>\n",
       "      <td>250</td>\n",
       "      <td>21</td>\n",
       "    </tr>\n",
       "  </tbody>\n",
       "</table>\n",
       "</div>"
      ],
      "text/plain": [
       "     Recency (months)  Frequency  Monetary (c.c. blood)  Time (months)\n",
       "373                 9          4                   1000             65\n",
       "454                21          1                    250             21\n",
       "455                21          1                    250             21\n",
       "456                21          1                    250             21\n",
       "457                21          1                    250             21"
      ]
     },
     "metadata": {},
     "output_type": "display_data"
    }
   ],
   "source": [
    "display(x_test.head())"
   ]
  },
  {
   "cell_type": "code",
   "execution_count": 114,
   "metadata": {},
   "outputs": [
    {
     "data": {
      "text/plain": [
       "array([[   90.2694576 ,  2883.54659898],\n",
       "       [  668.28342179,  3633.84752424],\n",
       "       [  668.28342179,  3633.84752424],\n",
       "       [  668.28342179,  3633.84752424],\n",
       "       [  668.28342179,  3633.84752424],\n",
       "       [  668.28342179,  3633.84752424],\n",
       "       [  668.28342179,  3633.84752424],\n",
       "       [  668.28342179,  3633.84752424],\n",
       "       [  668.28342179,  3633.84752424],\n",
       "       [  668.28342179,  3633.84752424],\n",
       "       [  668.28342179,  3633.84752424],\n",
       "       [  333.73454649,  2633.58682777],\n",
       "       [   85.04717534,  2883.66139378],\n",
       "       [   86.49349105,  2883.61047558],\n",
       "       [  420.35617306,  3383.55581686],\n",
       "       [  333.62256835,  2633.60299993],\n",
       "       [  169.25313006,  3133.69030746],\n",
       "       [  169.33309347,  3133.68244205],\n",
       "       [  668.28342179,  3633.84752424],\n",
       "       [  177.31169651,  3133.60680038],\n",
       "       [  418.38821741,  3383.79223953],\n",
       "       [  168.85822593,  3133.75429976],\n",
       "       [   90.01138531,  2883.55488265],\n",
       "       [  418.25211751,  3383.69165159],\n",
       "       [  834.51885073,  2133.7411953 ],\n",
       "       [  418.32769132,  3383.8175506 ],\n",
       "       [  170.07682945,  3133.58352984],\n",
       "       [ 2582.76767693,   384.87469904],\n",
       "       [ 1084.04903409,  1883.80733003],\n",
       "       [  169.37266741,  3133.61964861],\n",
       "       [  175.15931816,  3133.56933244],\n",
       "       [  418.89613397,  3383.57788206],\n",
       "       [  175.15931816,  3133.56933244],\n",
       "       [ 2082.76578053,   883.92333705],\n",
       "       [  168.78338152,  3133.7247533 ],\n",
       "       [  418.38803932,  3383.81478678],\n",
       "       [  418.38803932,  3383.81478678],\n",
       "       [ 1082.60036372,  1883.6073617 ],\n",
       "       [  169.86876848,  3133.59775982],\n",
       "       [  168.95281414,  3133.69732793],\n",
       "       [  418.889665  ,  3383.57602147],\n",
       "       [  418.40028971,  3383.71367897],\n",
       "       [  668.30853688,  3633.83211354],\n",
       "       [  672.97719164,  3634.18296587],\n",
       "       [10082.19585027,  7116.61168658],\n",
       "       [ 1831.89373848,  1134.32548534],\n",
       "       [ 1831.88970536,  1134.21797743],\n",
       "       [ 1831.88974604,  1134.15070842],\n",
       "       [ 2581.9020809 ,   384.72816538],\n",
       "       [  582.03030923,  2384.09222049],\n",
       "       [ 1331.88190405,  1633.96061273],\n",
       "       [   83.66948559,  2884.05823015],\n",
       "       [ 2832.13538409,   133.61686188],\n",
       "       [ 5082.17112344,  2116.54034546],\n",
       "       [ 1081.8818692 ,  1883.90623859],\n",
       "       [   83.14930155,  2884.00346541],\n",
       "       [  581.90613965,  2383.86819674],\n",
       "       [ 1582.08748255,  1383.60477389],\n",
       "       [ 2582.79101097,   384.73035109],\n",
       "       [ 2581.96962864,   383.90897638],\n",
       "       [  669.00495798,  3633.79000899],\n",
       "       [  583.63339493,  2383.60143144],\n",
       "       [  668.87821401,  3633.78670665],\n",
       "       [  174.17499222,  3133.67442431],\n",
       "       [  668.30853688,  3633.83211354],\n",
       "       [  668.30853688,  3633.83211354],\n",
       "       [  668.30853688,  3633.83211354],\n",
       "       [  668.30853688,  3633.83211354],\n",
       "       [  668.30853688,  3633.83211354],\n",
       "       [  668.30853688,  3633.83211354],\n",
       "       [  668.30853688,  3633.83211354],\n",
       "       [   87.09545403,  2883.61659558],\n",
       "       [  584.98522394,  2383.67499164],\n",
       "       [  170.05651447,  3133.63631895],\n",
       "       [  418.5585377 ,  3383.66554028],\n",
       "       [  172.61225525,  3133.57994333],\n",
       "       [  420.41391657,  3383.56564042],\n",
       "       [  173.99838425,  3133.58348995],\n",
       "       [  102.5287835 ,  2883.67380695],\n",
       "       [  179.79230521,  3133.68017924],\n",
       "       [  422.67256422,  3383.65889068],\n",
       "       [  668.87821401,  3633.78670665],\n",
       "       [  418.889665  ,  3383.57602147],\n",
       "       [  168.80359417,  3133.66205499],\n",
       "       [  168.75345305,  3133.80958077],\n",
       "       [  173.87192287,  3133.55455838],\n",
       "       [ 2332.10757548,   633.73812512],\n",
       "       [  583.53619986,  2383.55258869],\n",
       "       [ 2832.08107548,   134.74323177],\n",
       "       [   82.77748625,  2883.6824449 ],\n",
       "       [  418.14833947,  3383.77879977],\n",
       "       [  168.2722889 ,  3133.74200327],\n",
       "       [  418.91526879,  3383.57654203],\n",
       "       [  668.94009409,  3633.78808262],\n",
       "       [   83.06781115,  2883.66430989],\n",
       "       [  332.70712917,  2633.59705836],\n",
       "       [  668.28978867,  3633.91879786],\n",
       "       [  668.28978867,  3633.91879786],\n",
       "       [  668.28978867,  3633.91879786],\n",
       "       [  668.28978867,  3633.91879786],\n",
       "       [  668.28978867,  3633.91879786],\n",
       "       [  668.28978867,  3633.91879786],\n",
       "       [  418.15772715,  3383.80252921],\n",
       "       [  668.28978867,  3633.91879786],\n",
       "       [  582.38830325,  2383.5944996 ],\n",
       "       [  418.14185893,  3383.77693929],\n",
       "       [ 8582.23740667,  5616.64149586],\n",
       "       [  582.69934607,  2383.55612142],\n",
       "       [  668.33740633,  3633.95759874],\n",
       "       [  668.33740633,  3633.95759874],\n",
       "       [  668.33740633,  3633.95759874],\n",
       "       [  668.33740633,  3633.95759874],\n",
       "       [  668.33740633,  3633.95759874],\n",
       "       [  668.33740633,  3633.95759874],\n",
       "       [ 1331.92723204,  1633.76385363],\n",
       "       [  418.37575108,  3383.94391171],\n",
       "       [  831.9969283 ,  2134.15831021],\n",
       "       [ 2331.89765576,   634.65295625],\n",
       "       [ 1333.31844691,  1633.70993374],\n",
       "       [ 1082.16363631,  1883.58824934],\n",
       "       [ 4081.94066044,  1116.67852148],\n",
       "       [   83.01340829,  2884.00079393],\n",
       "       [10582.18646346,  7616.60927975],\n",
       "       [  831.87794311,  2133.89972444],\n",
       "       [ 2332.40641249,   633.63931693],\n",
       "       [ 1081.90425914,  1883.79747931],\n",
       "       [ 1331.89922279,  1634.11274574],\n",
       "       [ 3081.90736244,   120.45873438],\n",
       "       [  418.79640155,  3384.10348506],\n",
       "       [  418.25211751,  3383.69165159],\n",
       "       [ 1581.88969723,  1384.04091747],\n",
       "       [ 1831.98836864,  1133.70389046],\n",
       "       [  832.49012858,  2133.57590089],\n",
       "       [  582.00859982,  2384.0533832 ],\n",
       "       [  582.00859982,  2384.0533832 ],\n",
       "       [ 1331.88190405,  1633.96061273],\n",
       "       [ 4082.11449658,  1116.49649365],\n",
       "       [  332.11290673,  2634.00682721],\n",
       "       [ 2332.03622598,   633.66282786],\n",
       "       [  831.89717176,  2133.97795685],\n",
       "       [ 2582.06666931,   383.64301868],\n",
       "       [  581.98920083,  2384.0501515 ],\n",
       "       [ 2081.98642762,   883.72947442],\n",
       "       [ 2081.89647575,   884.08326292],\n",
       "       [  418.29287337,  3383.66124491],\n",
       "       [  332.28155212,  2634.10194069],\n",
       "       [ 1081.89230485,  1883.91032825],\n",
       "       [ 1581.88256005,  1384.03535076],\n",
       "       [ 1331.88184811,  1634.00730564],\n",
       "       [ 1581.88256005,  1384.03535076]])"
      ]
     },
     "metadata": {},
     "output_type": "display_data"
    },
    {
     "name": "stdout",
     "output_type": "stream",
     "text": [
      "150\n"
     ]
    }
   ],
   "source": [
    "dist_from_centers_test = k_means.transform(x_test)\n",
    "display(dist_from_centers_test)\n",
    "print len(dist_from_centers_test)"
   ]
  },
  {
   "cell_type": "code",
   "execution_count": 115,
   "metadata": {},
   "outputs": [
    {
     "data": {
      "text/html": [
       "<div>\n",
       "<style scoped>\n",
       "    .dataframe tbody tr th:only-of-type {\n",
       "        vertical-align: middle;\n",
       "    }\n",
       "\n",
       "    .dataframe tbody tr th {\n",
       "        vertical-align: top;\n",
       "    }\n",
       "\n",
       "    .dataframe thead th {\n",
       "        text-align: right;\n",
       "    }\n",
       "</style>\n",
       "<table border=\"1\" class=\"dataframe\">\n",
       "  <thead>\n",
       "    <tr style=\"text-align: right;\">\n",
       "      <th></th>\n",
       "      <th>Cluster1</th>\n",
       "      <th>Cluster2</th>\n",
       "    </tr>\n",
       "  </thead>\n",
       "  <tbody>\n",
       "    <tr>\n",
       "      <th>0</th>\n",
       "      <td>90.269458</td>\n",
       "      <td>2883.546599</td>\n",
       "    </tr>\n",
       "    <tr>\n",
       "      <th>1</th>\n",
       "      <td>668.283422</td>\n",
       "      <td>3633.847524</td>\n",
       "    </tr>\n",
       "    <tr>\n",
       "      <th>2</th>\n",
       "      <td>668.283422</td>\n",
       "      <td>3633.847524</td>\n",
       "    </tr>\n",
       "    <tr>\n",
       "      <th>3</th>\n",
       "      <td>668.283422</td>\n",
       "      <td>3633.847524</td>\n",
       "    </tr>\n",
       "    <tr>\n",
       "      <th>4</th>\n",
       "      <td>668.283422</td>\n",
       "      <td>3633.847524</td>\n",
       "    </tr>\n",
       "  </tbody>\n",
       "</table>\n",
       "</div>"
      ],
      "text/plain": [
       "     Cluster1     Cluster2\n",
       "0   90.269458  2883.546599\n",
       "1  668.283422  3633.847524\n",
       "2  668.283422  3633.847524\n",
       "3  668.283422  3633.847524\n",
       "4  668.283422  3633.847524"
      ]
     },
     "metadata": {},
     "output_type": "display_data"
    },
    {
     "name": "stdout",
     "output_type": "stream",
     "text": [
      "(150, 2)\n"
     ]
    }
   ],
   "source": [
    "dist_from_centers_df_test = pd.DataFrame(data=dist_from_centers_test,columns=['Cluster1','Cluster2'])\n",
    "display(dist_from_centers_df_test.head())\n",
    "print dist_from_centers_df_test.shape"
   ]
  },
  {
   "cell_type": "code",
   "execution_count": 116,
   "metadata": {},
   "outputs": [
    {
     "data": {
      "text/html": [
       "<div>\n",
       "<style scoped>\n",
       "    .dataframe tbody tr th:only-of-type {\n",
       "        vertical-align: middle;\n",
       "    }\n",
       "\n",
       "    .dataframe tbody tr th {\n",
       "        vertical-align: top;\n",
       "    }\n",
       "\n",
       "    .dataframe thead th {\n",
       "        text-align: right;\n",
       "    }\n",
       "</style>\n",
       "<table border=\"1\" class=\"dataframe\">\n",
       "  <thead>\n",
       "    <tr style=\"text-align: right;\">\n",
       "      <th></th>\n",
       "      <th>whether donated blood in 03/07</th>\n",
       "    </tr>\n",
       "  </thead>\n",
       "  <tbody>\n",
       "    <tr>\n",
       "      <th>0</th>\n",
       "      <td>Cluster1</td>\n",
       "    </tr>\n",
       "    <tr>\n",
       "      <th>1</th>\n",
       "      <td>Cluster1</td>\n",
       "    </tr>\n",
       "    <tr>\n",
       "      <th>2</th>\n",
       "      <td>Cluster1</td>\n",
       "    </tr>\n",
       "    <tr>\n",
       "      <th>3</th>\n",
       "      <td>Cluster1</td>\n",
       "    </tr>\n",
       "    <tr>\n",
       "      <th>4</th>\n",
       "      <td>Cluster1</td>\n",
       "    </tr>\n",
       "  </tbody>\n",
       "</table>\n",
       "</div>"
      ],
      "text/plain": [
       "  whether donated blood in 03/07\n",
       "0                       Cluster1\n",
       "1                       Cluster1\n",
       "2                       Cluster1\n",
       "3                       Cluster1\n",
       "4                       Cluster1"
      ]
     },
     "metadata": {},
     "output_type": "display_data"
    }
   ],
   "source": [
    "labels = dist_from_centers_df_test.apply(lambda x: x.argmin(), axis=1)\n",
    "header = ['whether donated blood in 03/07']\n",
    "labels_df = pd.DataFrame(labels,columns=header)\n",
    "\n",
    "\n",
    "display(labels_df.head())"
   ]
  },
  {
   "cell_type": "code",
   "execution_count": 117,
   "metadata": {},
   "outputs": [
    {
     "data": {
      "text/html": [
       "<div>\n",
       "<style scoped>\n",
       "    .dataframe tbody tr th:only-of-type {\n",
       "        vertical-align: middle;\n",
       "    }\n",
       "\n",
       "    .dataframe tbody tr th {\n",
       "        vertical-align: top;\n",
       "    }\n",
       "\n",
       "    .dataframe thead th {\n",
       "        text-align: right;\n",
       "    }\n",
       "</style>\n",
       "<table border=\"1\" class=\"dataframe\">\n",
       "  <thead>\n",
       "    <tr style=\"text-align: right;\">\n",
       "      <th></th>\n",
       "      <th>whether donated blood in 03/07</th>\n",
       "    </tr>\n",
       "  </thead>\n",
       "  <tbody>\n",
       "    <tr>\n",
       "      <th>0</th>\n",
       "      <td>0</td>\n",
       "    </tr>\n",
       "    <tr>\n",
       "      <th>1</th>\n",
       "      <td>0</td>\n",
       "    </tr>\n",
       "    <tr>\n",
       "      <th>2</th>\n",
       "      <td>0</td>\n",
       "    </tr>\n",
       "    <tr>\n",
       "      <th>3</th>\n",
       "      <td>0</td>\n",
       "    </tr>\n",
       "    <tr>\n",
       "      <th>4</th>\n",
       "      <td>0</td>\n",
       "    </tr>\n",
       "  </tbody>\n",
       "</table>\n",
       "</div>"
      ],
      "text/plain": [
       "   whether donated blood in 03/07\n",
       "0                               0\n",
       "1                               0\n",
       "2                               0\n",
       "3                               0\n",
       "4                               0"
      ]
     },
     "metadata": {},
     "output_type": "display_data"
    }
   ],
   "source": [
    "pred_labels_1 = labels_df['whether donated blood in 03/07'].replace({'Cluster1':c1_label,'Cluster2':c2_label})\n",
    "\n",
    "pred_labels = pred_labels_1.to_frame()\n",
    "display(pred_labels.head())"
   ]
  },
  {
   "cell_type": "code",
   "execution_count": 118,
   "metadata": {},
   "outputs": [
    {
     "name": "stdout",
     "output_type": "stream",
     "text": [
      "Accuracy_score\n"
     ]
    },
    {
     "data": {
      "text/plain": [
       "0.76"
      ]
     },
     "execution_count": 118,
     "metadata": {},
     "output_type": "execute_result"
    }
   ],
   "source": [
    "print (\"Accuracy_score\")\n",
    "accuracy_score(y_test,pred_labels)"
   ]
  },
  {
   "cell_type": "code",
   "execution_count": 119,
   "metadata": {},
   "outputs": [
    {
     "name": "stdout",
     "output_type": "stream",
     "text": [
      "Confusion Matrix\n"
     ]
    },
    {
     "data": {
      "text/plain": [
       "array([[114,   0],\n",
       "       [ 36,   0]], dtype=int64)"
      ]
     },
     "execution_count": 119,
     "metadata": {},
     "output_type": "execute_result"
    }
   ],
   "source": [
    "print (\"Confusion Matrix\")\n",
    "confusion_matrix(y_test, pred_labels)"
   ]
  },
  {
   "cell_type": "markdown",
   "metadata": {},
   "source": [
    "#### Please refer the report for the comparision study of the results you obtained by those methods."
   ]
  },
  {
   "cell_type": "code",
   "execution_count": null,
   "metadata": {},
   "outputs": [],
   "source": []
  }
 ],
 "metadata": {
  "kernelspec": {
   "display_name": "Python 2",
   "language": "python",
   "name": "python2"
  },
  "language_info": {
   "codemirror_mode": {
    "name": "ipython",
    "version": 2
   },
   "file_extension": ".py",
   "mimetype": "text/x-python",
   "name": "python",
   "nbconvert_exporter": "python",
   "pygments_lexer": "ipython2",
   "version": "2.7.13"
  }
 },
 "nbformat": 4,
 "nbformat_minor": 2
}
